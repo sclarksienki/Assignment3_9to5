{
    "metadata": {
        "kernelspec": {
            "name": "SQL",
            "display_name": "SQL",
            "language": "sql"
        },
        "language_info": {
            "name": "sql",
            "version": ""
        },
        "extensions": {
            "azuredatastudio": {
                "version": 1,
                "views": []
            }
        }
    },
    "nbformat_minor": 2,
    "nbformat": 4,
    "cells": [
        {
            "cell_type": "markdown",
            "source": [
                "# <span style=\"font-size:20pt;font-family:Montserrat, sans-serif;color:rgb(92, 148, 206);background-color:rgb(255, 255, 255);font-weight:700;vertical-align:baseline;white-space:pre-wrap;\">Graded Assignment 3: 9 to 5</span>\n",
                "\n",
                "<span style=\"font-size:10pt;font-family:&quot;Times New Roman&quot;;color:rgb(102, 102, 102);background-color:rgb(255, 255, 255);vertical-align:baseline;white-space:pre-wrap;\">Time to show off your SQL skills! For each question, copy the SQL query you used and make note of the answer.</span>\n",
                "\n",
                "## <span style=\"font-size:12pt;font-family:Montserrat, sans-serif;color:rgb(53, 74, 95);background-color:rgb(255, 255, 255);font-weight:700;vertical-align:baseline;white-space:pre-wrap;\">The Dataset</span>\n",
                "\n",
                "<span style=\"font-size:10pt;font-family:&quot;Times New Roman&quot;;color:rgb(102, 102, 102);background-color:rgb(255, 255, 255);vertical-align:baseline;white-space:pre-wrap;\">For this assignment, you will be using the Bureau of Labor Statistics (BLS) Current Employment Survey (CES) results which can be found on</span> [<span style=\"font-size:10pt;font-family:&quot;Times New Roman&quot;;color:rgb(17, 85, 204);background-color:rgb(255, 255, 255);vertical-align:baseline;white-space:pre-wrap;\">Kaggle</span>](https://www.kaggle.com/bls/employment)<span style=\"font-size:10pt;font-family:&quot;Times New Roman&quot;;color:rgb(102, 102, 102);background-color:rgb(255, 255, 255);vertical-align:baseline;white-space:pre-wrap;\">.</span>\n",
                "\n",
                "## <span style=\"font-size:12pt;font-family:Montserrat, sans-serif;color:rgb(53, 74, 95);background-color:rgb(255, 255, 255);font-weight:700;vertical-align:baseline;white-space:pre-wrap;\">Business Issue</span>\n",
                "\n",
                "<span style=\"font-size:10pt;font-family:&quot;Times New Roman&quot;;color:rgb(102, 102, 102);background-color:rgb(255, 255, 255);vertical-align:baseline;white-space:pre-wrap;\">You are working for the Bureau of Labor Statistics with the United States government and have been approached by your boss with an important meeting request. You have been asked by your supervisor to meet with Dolly Parton whose nonprofit is looking to shed light on the state of employment in the United States. As part of the 9 to 5 project, their research is focused on production and nonsupervisory employees and how those employees fare compared to all employees in the United States. While the data the BLS collects from the CES is publicly available, Dolly Parton and her colleagues need your assistance navigating the thousands of rows in each table in LaborStatisticsDB.</span>\n",
                "\n",
                "## <span style=\"font-size:12pt;font-family:Montserrat, sans-serif;color:rgb(53, 74, 95);background-color:rgb(255, 255, 255);font-weight:700;vertical-align:baseline;white-space:pre-wrap;\">About the Dataset</span>\n",
                "\n",
                "<span style=\"font-size:10pt;font-family:&quot;Times New Roman&quot;;color:rgb(102, 102, 102);background-color:rgb(255, 255, 255);vertical-align:baseline;white-space:pre-wrap;\">This dataset comes directly from the Bureau of Labor Statistics’ Current Employment Survey (CES). Here are some things you need to know:</span>\n",
                "\n",
                "1. <span style=\"font-size:10pt;background-color:rgb(255, 255, 255);vertical-align:baseline;white-space:pre-wrap;\">The industry table contains an NAICS code. This is different from the industry code. NAICS stands for North American Industry Classification System.</span>\n",
                "    \n",
                "2. <span style=\"font-size:10pt;background-color:rgb(255, 255, 255);vertical-align:baseline;white-space:pre-wrap;\">Series ID is composed of multiple different codes. CES stands for Current Employment Survey, the name of the survey which collected the data. The industry code as specified by the BLS and the data type code as specified in the datatype table.</span>\n",
                "    \n",
                "\n",
                "## <span style=\"font-size:12pt;font-family:Montserrat, sans-serif;color:rgb(53, 74, 95);background-color:rgb(255, 255, 255);font-weight:700;vertical-align:baseline;white-space:pre-wrap;\">Set Up</span>\n",
                "\n",
                "<span style=\"font-size:10pt;font-family:&quot;Times New Roman&quot;;color:rgb(102, 102, 102);background-color:rgb(255, 255, 255);vertical-align:baseline;white-space:pre-wrap;\">To connect to the database, use the same connection info used during the SQL lessons.&nbsp;</span> \n",
                "\n",
                "<span style=\"font-size:10pt;font-family:&quot;Times New Roman&quot;;color:rgb(102, 102, 102);background-color:rgb(255, 255, 255);vertical-align:baseline;white-space:pre-wrap;\">For the assignment, we will be using the LaborStatisticsDB database.</span>\n",
                "\n",
                "## <span style=\"font-size:12pt;font-family:Montserrat, sans-serif;color:rgb(53, 74, 95);background-color:rgb(255, 255, 255);font-weight:700;vertical-align:baseline;white-space:pre-wrap;\">Database Exploration</span>\n",
                "\n",
                "<span style=\"font-size:10pt;font-family:&quot;Times New Roman&quot;;color:rgb(102, 102, 102);background-color:rgb(255, 255, 255);vertical-align:baseline;white-space:pre-wrap;\">To start with, let’s get to know the database further.</span>\n",
                "\n",
                "1. <span style=\"background-color:rgb(255, 255, 255);color:rgb(102, 102, 102);font-family:&quot;Times New Roman&quot;;font-size:10pt;white-space:pre-wrap;\">Use this space to make note of each table in the database, the columns within each table, each column’s data type, and how the tables are connected. You can write this down or draw a diagram. Whatever method helps you get an understanding of what is going on with LaborStatisticsDB.</span>\n",
                "2. <span style=\"background-color:rgb(255, 255, 255);color:rgb(102, 102, 102);font-family:&quot;Times New Roman&quot;;font-size:10pt;white-space:pre-wrap;\">Tables:</span>\n",
                "1. <span style=\"background-color:rgb(255, 255, 255);color:rgb(102, 102, 102);font-family:&quot;Times New Roman&quot;;font-size:10pt;white-space:pre-wrap;\">annual_2016 (id, series_id, year, period, value, footnote_codes, original_file)</span>\n",
                "2. <span style=\"background-color:rgb(255, 255, 255);color:rgb(102, 102, 102);font-family:&quot;Times New Roman&quot;;font-size:10pt;white-space:pre-wrap;\">datatype (data_type_code, data_type_text)</span>\n",
                "3. <span style=\"background-color:rgb(255, 255, 255);color:rgb(102, 102, 102);font-family:&quot;Times New Roman&quot;;font-size:10pt;white-space:pre-wrap;\">footnote (footnote_code, footnote_text)</span>\n",
                "4. <span style=\"background-color:rgb(255, 255, 255);color:rgb(102, 102, 102);font-family:&quot;Times New Roman&quot;;font-size:10pt;white-space:pre-wrap;\">industry (id, industry_code, naics_code, publishing_status, industry_name, display_name, selectable, sort_sequence)</span>\n",
                "5. <span style=\"background-color:rgb(255, 255, 255);color:rgb(102, 102, 102);font-family:&quot;Times New Roman&quot;;font-size:10pt;white-space:pre-wrap;\">january_2017 (id, series_id, year, period, value, footnote_codes, original_file)</span>\n",
                "6. <span style=\"background-color:rgb(255, 255, 255);color:rgb(102, 102, 102);font-family:&quot;Times New Roman&quot;;font-size:10pt;white-space:pre-wrap;\">period (period_code, month_abbr, month)</span>\n",
                "7. <span style=\"background-color:rgb(255, 255, 255);color:rgb(102, 102, 102);font-family:&quot;Times New Roman&quot;;font-size:10pt;white-space:pre-wrap;\">seasonal (industry_code, seasonal_text)</span>\n",
                "8. <span style=\"background-color:rgb(255, 255, 255);color:rgb(102, 102, 102);font-family:&quot;Times New Roman&quot;;font-size:10pt;white-space:pre-wrap;\">series (series_id, supersector_code, industry_code, data_type_code, seasonal, series_title)</span>\n",
                "9. <span style=\"background-color:rgb(255, 255, 255);color:rgb(102, 102, 102);font-family:&quot;Times New Roman&quot;;font-size:10pt;white-space:pre-wrap;\">supersector (super_sector_code, supersector_name)</span>"
            ],
            "metadata": {
                "azdata_cell_guid": "28ea70c5-f0be-4197-b6c0-ade22886a708"
            },
            "attachments": {}
        },
        {
            "cell_type": "markdown",
            "source": [
                "2. <span style=\"background-color: rgb(255, 255, 255); color: rgb(102, 102, 102); font-family: Arvo, serif; font-size: 10pt; white-space: pre-wrap;\">What is the datatype for women employees? <b>ANSWER: 10</b></span>"
            ],
            "metadata": {
                "azdata_cell_guid": "01b111b7-baf1-4617-88bc-cd442826c9c9"
            },
            "attachments": {}
        },
        {
            "cell_type": "markdown",
            "source": [
                "[LaborStatisticsDB EDR](https://dbdesigner.page.link/fjEQ2mev9XJwCJ1o8)"
            ],
            "metadata": {
                "azdata_cell_guid": "b475fca9-c2c6-474f-a6bc-18c900bd80b5"
            },
            "attachments": {}
        },
        {
            "cell_type": "code",
            "source": [
                "SELECT TOP 1 data_type_code, data_type_text\n",
                "FROM LaborStatisticsDB.dbo.datatype\n",
                "WHERE data_type_text LIKE '%WOMEN%'"
            ],
            "metadata": {
                "azdata_cell_guid": "02fa547c-0bb7-4a40-81c2-f5c05154df04",
                "language": "sql",
                "tags": []
            },
            "outputs": [
                {
                    "output_type": "display_data",
                    "data": {
                        "text/html": "(1 row affected)"
                    },
                    "metadata": {}
                },
                {
                    "output_type": "display_data",
                    "data": {
                        "text/html": "Total execution time: 00:00:00.533"
                    },
                    "metadata": {}
                },
                {
                    "output_type": "execute_result",
                    "execution_count": 5,
                    "data": {
                        "application/vnd.dataresource+json": {
                            "schema": {
                                "fields": [
                                    {
                                        "name": "data_type_code"
                                    },
                                    {
                                        "name": "data_type_text"
                                    }
                                ]
                            },
                            "data": [
                                {
                                    "data_type_code": "10",
                                    "data_type_text": "WOMEN EMPLOYEES"
                                }
                            ]
                        },
                        "text/html": "<table><tr><th>data_type_code</th><th>data_type_text</th></tr><tr><td>10</td><td>WOMEN EMPLOYEES</td></tr></table>"
                    },
                    "metadata": {}
                }
            ],
            "execution_count": 5
        },
        {
            "cell_type": "markdown",
            "source": [
                "3. <span style=\"background-color: rgb(255, 255, 255); font-size: 10pt; white-space: pre-wrap; color: rgb(102, 102, 102); font-family: Arvo, serif;\">What is the series id for&nbsp; women employees in the commercial banking industry in the financial activities supersector? </span>   **ANSWER:** <span style=\"font-size: 13.3333px; white-space: pre-wrap;\"><b>CES5552211010/</b></span>**CEU5552211010**"
            ],
            "metadata": {
                "azdata_cell_guid": "325f85cc-9545-47b3-b975-3aab6278e4ea"
            },
            "attachments": {}
        },
        {
            "cell_type": "code",
            "source": [
                "-- SELECT TOP 1 industry_code, industry_name\n",
                "-- FROM LaborStatisticsDB.dbo.industry\n",
                "-- WHERE industry_name LIKE '%commercial banking%'\n",
                "\n",
                "-- SELECT TOP 1 supersector_code, supersector_name\n",
                "-- FROM LaborStatisticsDB.dbo.supersector\n",
                "-- WHERE supersector_name LIKE '%financial%'\n",
                "\n",
                "SELECT TOP 5 series_id, data_type_code, industry_code, supersector_code\n",
                "FROM LaborStatisticsDB.dbo.series\n",
                "WHERE data_type_code = 10 \n",
                "AND industry_code = 55522110 \n",
                "AND supersector_code = 55"
            ],
            "metadata": {
                "language": "sql",
                "azdata_cell_guid": "08584b36-a895-408b-a2d0-c82d8b03481c",
                "tags": []
            },
            "outputs": [
                {
                    "output_type": "display_data",
                    "data": {
                        "text/html": "(2 rows affected)"
                    },
                    "metadata": {}
                },
                {
                    "output_type": "display_data",
                    "data": {
                        "text/html": "Total execution time: 00:00:00.098"
                    },
                    "metadata": {}
                },
                {
                    "output_type": "execute_result",
                    "execution_count": 6,
                    "data": {
                        "application/vnd.dataresource+json": {
                            "schema": {
                                "fields": [
                                    {
                                        "name": "series_id"
                                    },
                                    {
                                        "name": "data_type_code"
                                    },
                                    {
                                        "name": "industry_code"
                                    },
                                    {
                                        "name": "supersector_code"
                                    }
                                ]
                            },
                            "data": [
                                {
                                    "series_id": "CES5552211010",
                                    "data_type_code": "10",
                                    "industry_code": "55522110",
                                    "supersector_code": "55"
                                },
                                {
                                    "series_id": "CEU5552211010",
                                    "data_type_code": "10",
                                    "industry_code": "55522110",
                                    "supersector_code": "55"
                                }
                            ]
                        },
                        "text/html": "<table><tr><th>series_id</th><th>data_type_code</th><th>industry_code</th><th>supersector_code</th></tr><tr><td>CES5552211010</td><td>10</td><td>55522110</td><td>55</td></tr><tr><td>CEU5552211010</td><td>10</td><td>55522110</td><td>55</td></tr></table>"
                    },
                    "metadata": {}
                }
            ],
            "execution_count": 6
        },
        {
            "cell_type": "markdown",
            "source": [
                "## <span style=\"font-size: 12pt; font-family: Montserrat, sans-serif; color: rgb(53, 74, 95); background-color: rgb(255, 255, 255); font-weight: 700; font-variant-numeric: normal; font-variant-east-asian: normal; vertical-align: baseline; white-space: pre-wrap;\">Join in on the Fun</span>\n",
                "\n",
                "<span style=\"font-size: 10pt; font-family: Arvo, serif; color: rgb(102, 102, 102); background-color: rgb(255, 255, 255); font-variant-numeric: normal; font-variant-east-asian: normal; vertical-align: baseline; white-space: pre-wrap;\">Time to start joining! You can choose the type of join you use, just make sure to make a&nbsp; note!</span>\n",
                "\n",
                "1. <span style=\"background-color: rgb(255, 255, 255); font-size: 10pt; white-space: pre-wrap; color: rgb(102, 102, 102); font-family: Arvo, serif;\">Join&nbsp; annual_2016 with series on series_id. We only want the data in the annual_2016 table to be included in the result.</span>"
            ],
            "metadata": {
                "azdata_cell_guid": "ec1dfc63-ad41-4349-8c26-1d326ace8c6c"
            },
            "attachments": {}
        },
        {
            "cell_type": "code",
            "source": [
                "SELECT TOP 10 *\n",
                "FROM LaborStatisticsDB.dbo.annual_2016 AS a\n",
                "LEFT JOIN LaborStatisticsDB.dbo.series AS s\n",
                "ON a.series_id = s.series_id"
            ],
            "metadata": {
                "azdata_cell_guid": "cf90f0b4-c482-4fbb-ac17-d2244881caab",
                "language": "sql",
                "tags": []
            },
            "outputs": [
                {
                    "output_type": "display_data",
                    "data": {
                        "text/html": "(10 rows affected)"
                    },
                    "metadata": {}
                },
                {
                    "output_type": "display_data",
                    "data": {
                        "text/html": "Total execution time: 00:00:00.300"
                    },
                    "metadata": {}
                },
                {
                    "output_type": "execute_result",
                    "execution_count": 7,
                    "data": {
                        "application/vnd.dataresource+json": {
                            "schema": {
                                "fields": [
                                    {
                                        "name": "id"
                                    },
                                    {
                                        "name": "series_id"
                                    },
                                    {
                                        "name": "year"
                                    },
                                    {
                                        "name": "period"
                                    },
                                    {
                                        "name": "value"
                                    },
                                    {
                                        "name": "footnote_codes"
                                    },
                                    {
                                        "name": "original_file"
                                    },
                                    {
                                        "name": "series_id"
                                    },
                                    {
                                        "name": "supersector_code"
                                    },
                                    {
                                        "name": "industry_code"
                                    },
                                    {
                                        "name": "data_type_code"
                                    },
                                    {
                                        "name": "seasonal"
                                    },
                                    {
                                        "name": "series_title"
                                    }
                                ]
                            },
                            "data": [
                                {
                                    "id": "0",
                                    "series_id": "CEU5500000007",
                                    "year": "2016",
                                    "period": "M13",
                                    "value": "36.9",
                                    "footnote_codes": "NULL",
                                    "original_file": "ce.data.55c.FinancialActivities.ProductionEmployeeHoursAndEarnings.csv",
                                    "supersector_code": "55",
                                    "industry_code": "55000000",
                                    "data_type_code": "7",
                                    "seasonal": "U",
                                    "series_title": "Average weekly hours of production and nonsupervisory employees"
                                },
                                {
                                    "id": "1",
                                    "series_id": "CEU5500000008",
                                    "year": "2016",
                                    "period": "M13",
                                    "value": "26.11",
                                    "footnote_codes": "NULL",
                                    "original_file": "ce.data.55c.FinancialActivities.ProductionEmployeeHoursAndEarnings.csv",
                                    "supersector_code": "55",
                                    "industry_code": "55000000",
                                    "data_type_code": "8",
                                    "seasonal": "U",
                                    "series_title": "Average hourly earnings of production and nonsupervisory employees"
                                },
                                {
                                    "id": "2",
                                    "series_id": "CEU5500000030",
                                    "year": "2016",
                                    "period": "M13",
                                    "value": "962.73",
                                    "footnote_codes": "NULL",
                                    "original_file": "ce.data.55c.FinancialActivities.ProductionEmployeeHoursAndEarnings.csv",
                                    "supersector_code": "55",
                                    "industry_code": "55000000",
                                    "data_type_code": "30",
                                    "seasonal": "U",
                                    "series_title": "Average weekly earnings of production and nonsupervisory employees"
                                },
                                {
                                    "id": "3",
                                    "series_id": "CEU5500000031",
                                    "year": "2016",
                                    "period": "M13",
                                    "value": "411.29",
                                    "footnote_codes": "NULL",
                                    "original_file": "ce.data.55c.FinancialActivities.ProductionEmployeeHoursAndEarnings.csv",
                                    "supersector_code": "55",
                                    "industry_code": "55000000",
                                    "data_type_code": "31",
                                    "seasonal": "U",
                                    "series_title": "Average weekly earnings of production and nonsupervisory employees"
                                },
                                {
                                    "id": "4",
                                    "series_id": "CEU5500000032",
                                    "year": "2016",
                                    "period": "M13",
                                    "value": "11.15",
                                    "footnote_codes": "NULL",
                                    "original_file": "ce.data.55c.FinancialActivities.ProductionEmployeeHoursAndEarnings.csv",
                                    "supersector_code": "55",
                                    "industry_code": "55000000",
                                    "data_type_code": "32",
                                    "seasonal": "U",
                                    "series_title": "Average hourly earnings of production and nonsupervisory employees"
                                },
                                {
                                    "id": "5",
                                    "series_id": "CEU5500000034",
                                    "year": "2016",
                                    "period": "M13",
                                    "value": "111.6",
                                    "footnote_codes": "NULL",
                                    "original_file": "ce.data.55c.FinancialActivities.ProductionEmployeeHoursAndEarnings.csv",
                                    "supersector_code": "55",
                                    "industry_code": "55000000",
                                    "data_type_code": "34",
                                    "seasonal": "U",
                                    "series_title": "Indexes of aggregate weekly hours of production and nonsupervisory employees"
                                },
                                {
                                    "id": "6",
                                    "series_id": "CEU5500000035",
                                    "year": "2016",
                                    "period": "M13",
                                    "value": "179.2",
                                    "footnote_codes": "NULL",
                                    "original_file": "ce.data.55c.FinancialActivities.ProductionEmployeeHoursAndEarnings.csv",
                                    "supersector_code": "55",
                                    "industry_code": "55000000",
                                    "data_type_code": "35",
                                    "seasonal": "U",
                                    "series_title": "Indexes of aggregate weekly payrolls of production and nonsupervisory employees"
                                },
                                {
                                    "id": "7",
                                    "series_id": "CEU5500000081",
                                    "year": "2016",
                                    "period": "M13",
                                    "value": "236997",
                                    "footnote_codes": "NULL",
                                    "original_file": "ce.data.55c.FinancialActivities.ProductionEmployeeHoursAndEarnings.csv",
                                    "supersector_code": "55",
                                    "industry_code": "55000000",
                                    "data_type_code": "81",
                                    "seasonal": "U",
                                    "series_title": "Aggregate weekly hours of production and nonsupervisory employees"
                                },
                                {
                                    "id": "8",
                                    "series_id": "CEU5500000082",
                                    "year": "2016",
                                    "period": "M13",
                                    "value": "6189003",
                                    "footnote_codes": "NULL",
                                    "original_file": "ce.data.55c.FinancialActivities.ProductionEmployeeHoursAndEarnings.csv",
                                    "supersector_code": "55",
                                    "industry_code": "55000000",
                                    "data_type_code": "82",
                                    "seasonal": "U",
                                    "series_title": "Aggregate weekly payrolls of production and nonsupervisory employees"
                                },
                                {
                                    "id": "9",
                                    "series_id": "CEU5552200007",
                                    "year": "2016",
                                    "period": "M13",
                                    "value": "37.3",
                                    "footnote_codes": "NULL",
                                    "original_file": "ce.data.55c.FinancialActivities.ProductionEmployeeHoursAndEarnings.csv",
                                    "supersector_code": "55",
                                    "industry_code": "55522000",
                                    "data_type_code": "7",
                                    "seasonal": "U",
                                    "series_title": "Average weekly hours of production and nonsupervisory employees"
                                }
                            ]
                        },
                        "text/html": "<table><tr><th>id</th><th>series_id</th><th>year</th><th>period</th><th>value</th><th>footnote_codes</th><th>original_file</th><th>series_id</th><th>supersector_code</th><th>industry_code</th><th>data_type_code</th><th>seasonal</th><th>series_title</th></tr><tr><td>0</td><td>CEU5500000007</td><td>2016</td><td>M13</td><td>36.9</td><td>NULL</td><td>ce.data.55c.FinancialActivities.ProductionEmployeeHoursAndEarnings.csv</td><td>CEU5500000007</td><td>55</td><td>55000000</td><td>7</td><td>U</td><td>Average weekly hours of production and nonsupervisory employees</td></tr><tr><td>1</td><td>CEU5500000008</td><td>2016</td><td>M13</td><td>26.11</td><td>NULL</td><td>ce.data.55c.FinancialActivities.ProductionEmployeeHoursAndEarnings.csv</td><td>CEU5500000008</td><td>55</td><td>55000000</td><td>8</td><td>U</td><td>Average hourly earnings of production and nonsupervisory employees</td></tr><tr><td>2</td><td>CEU5500000030</td><td>2016</td><td>M13</td><td>962.73</td><td>NULL</td><td>ce.data.55c.FinancialActivities.ProductionEmployeeHoursAndEarnings.csv</td><td>CEU5500000030</td><td>55</td><td>55000000</td><td>30</td><td>U</td><td>Average weekly earnings of production and nonsupervisory employees</td></tr><tr><td>3</td><td>CEU5500000031</td><td>2016</td><td>M13</td><td>411.29</td><td>NULL</td><td>ce.data.55c.FinancialActivities.ProductionEmployeeHoursAndEarnings.csv</td><td>CEU5500000031</td><td>55</td><td>55000000</td><td>31</td><td>U</td><td>Average weekly earnings of production and nonsupervisory employees</td></tr><tr><td>4</td><td>CEU5500000032</td><td>2016</td><td>M13</td><td>11.15</td><td>NULL</td><td>ce.data.55c.FinancialActivities.ProductionEmployeeHoursAndEarnings.csv</td><td>CEU5500000032</td><td>55</td><td>55000000</td><td>32</td><td>U</td><td>Average hourly earnings of production and nonsupervisory employees</td></tr><tr><td>5</td><td>CEU5500000034</td><td>2016</td><td>M13</td><td>111.6</td><td>NULL</td><td>ce.data.55c.FinancialActivities.ProductionEmployeeHoursAndEarnings.csv</td><td>CEU5500000034</td><td>55</td><td>55000000</td><td>34</td><td>U</td><td>Indexes of aggregate weekly hours of production and nonsupervisory employees</td></tr><tr><td>6</td><td>CEU5500000035</td><td>2016</td><td>M13</td><td>179.2</td><td>NULL</td><td>ce.data.55c.FinancialActivities.ProductionEmployeeHoursAndEarnings.csv</td><td>CEU5500000035</td><td>55</td><td>55000000</td><td>35</td><td>U</td><td>Indexes of aggregate weekly payrolls of production and nonsupervisory employees</td></tr><tr><td>7</td><td>CEU5500000081</td><td>2016</td><td>M13</td><td>236997</td><td>NULL</td><td>ce.data.55c.FinancialActivities.ProductionEmployeeHoursAndEarnings.csv</td><td>CEU5500000081</td><td>55</td><td>55000000</td><td>81</td><td>U</td><td>Aggregate weekly hours of production and nonsupervisory employees</td></tr><tr><td>8</td><td>CEU5500000082</td><td>2016</td><td>M13</td><td>6189003</td><td>NULL</td><td>ce.data.55c.FinancialActivities.ProductionEmployeeHoursAndEarnings.csv</td><td>CEU5500000082</td><td>55</td><td>55000000</td><td>82</td><td>U</td><td>Aggregate weekly payrolls of production and nonsupervisory employees</td></tr><tr><td>9</td><td>CEU5552200007</td><td>2016</td><td>M13</td><td>37.3</td><td>NULL</td><td>ce.data.55c.FinancialActivities.ProductionEmployeeHoursAndEarnings.csv</td><td>CEU5552200007</td><td>55</td><td>55522000</td><td>7</td><td>U</td><td>Average weekly hours of production and nonsupervisory employees</td></tr></table>"
                    },
                    "metadata": {}
                }
            ],
            "execution_count": 7
        },
        {
            "cell_type": "markdown",
            "source": [
                "2. <span style=\"background-color: rgb(255, 255, 255); font-size: 10pt; white-space: pre-wrap; color: rgb(102, 102, 102); font-family: Arvo, serif;\">Join series and datatype on data_type_code</span>"
            ],
            "metadata": {
                "azdata_cell_guid": "710b59ae-224b-4f9d-b1a4-4a6b89048bbb"
            },
            "attachments": {}
        },
        {
            "cell_type": "code",
            "source": [
                "SELECT TOP 10 *\n",
                "FROM LaborStatisticsDB.dbo.series AS s\n",
                "INNER JOIN LaborStatisticsDB.dbo.datatype AS d\n",
                "ON s.data_type_code = d.data_type_code"
            ],
            "metadata": {
                "azdata_cell_guid": "fca61371-c9b5-4823-a4b4-34c1279ece3e",
                "language": "sql",
                "tags": []
            },
            "outputs": [
                {
                    "output_type": "display_data",
                    "data": {
                        "text/html": "(10 rows affected)"
                    },
                    "metadata": {}
                },
                {
                    "output_type": "display_data",
                    "data": {
                        "text/html": "Total execution time: 00:00:00.096"
                    },
                    "metadata": {}
                },
                {
                    "output_type": "execute_result",
                    "execution_count": 8,
                    "data": {
                        "application/vnd.dataresource+json": {
                            "schema": {
                                "fields": [
                                    {
                                        "name": "series_id"
                                    },
                                    {
                                        "name": "supersector_code"
                                    },
                                    {
                                        "name": "industry_code"
                                    },
                                    {
                                        "name": "data_type_code"
                                    },
                                    {
                                        "name": "seasonal"
                                    },
                                    {
                                        "name": "series_title"
                                    },
                                    {
                                        "name": "data_type_code"
                                    },
                                    {
                                        "name": "data_type_text"
                                    }
                                ]
                            },
                            "data": [
                                {
                                    "series_id": "CES0000000001",
                                    "supersector_code": "0",
                                    "industry_code": "00000000",
                                    "data_type_code": "1",
                                    "seasonal": "S",
                                    "series_title": "All employees",
                                    "data_type_text": "ALL EMPLOYEES"
                                },
                                {
                                    "series_id": "CES0000000010",
                                    "supersector_code": "0",
                                    "industry_code": "00000000",
                                    "data_type_code": "10",
                                    "seasonal": "S",
                                    "series_title": "Women employees",
                                    "data_type_text": "WOMEN EMPLOYEES"
                                },
                                {
                                    "series_id": "CES0000000025",
                                    "supersector_code": "0",
                                    "industry_code": "00000000",
                                    "data_type_code": "25",
                                    "seasonal": "S",
                                    "series_title": "All employees",
                                    "data_type_text": "ALL EMPLOYEES"
                                },
                                {
                                    "series_id": "CES0000000026",
                                    "supersector_code": "0",
                                    "industry_code": "00000000",
                                    "data_type_code": "26",
                                    "seasonal": "S",
                                    "series_title": "All employees",
                                    "data_type_text": "ALL EMPLOYEES"
                                },
                                {
                                    "series_id": "CES0500000001",
                                    "supersector_code": "5",
                                    "industry_code": "05000000",
                                    "data_type_code": "1",
                                    "seasonal": "S",
                                    "series_title": "All employees",
                                    "data_type_text": "ALL EMPLOYEES"
                                },
                                {
                                    "series_id": "CES0500000002",
                                    "supersector_code": "5",
                                    "industry_code": "05000000",
                                    "data_type_code": "2",
                                    "seasonal": "S",
                                    "series_title": "Average weekly hours of all employees",
                                    "data_type_text": "AVERAGE WEEKLY HOURS OF ALL EMPLOYEES"
                                },
                                {
                                    "series_id": "CES0500000003",
                                    "supersector_code": "5",
                                    "industry_code": "05000000",
                                    "data_type_code": "3",
                                    "seasonal": "S",
                                    "series_title": "Average hourly earnings of all employees",
                                    "data_type_text": "AVERAGE HOURLY EARNINGS OF ALL EMPLOYEES"
                                },
                                {
                                    "series_id": "CES0500000006",
                                    "supersector_code": "5",
                                    "industry_code": "05000000",
                                    "data_type_code": "6",
                                    "seasonal": "S",
                                    "series_title": "Production and nonsupervisory employees",
                                    "data_type_text": "PRODUCTION AND NONSUPERVISORY EMPLOYEES"
                                },
                                {
                                    "series_id": "CES0500000007",
                                    "supersector_code": "5",
                                    "industry_code": "05000000",
                                    "data_type_code": "7",
                                    "seasonal": "S",
                                    "series_title": "Average weekly hours of production and nonsupervisory employees",
                                    "data_type_text": "AVERAGE WEEKLY HOURS OF PRODUCTION AND NONSUPERVISORY EMPLOYEES"
                                },
                                {
                                    "series_id": "CES0500000008",
                                    "supersector_code": "5",
                                    "industry_code": "05000000",
                                    "data_type_code": "8",
                                    "seasonal": "S",
                                    "series_title": "Average hourly earnings of production and nonsupervisory employees",
                                    "data_type_text": "AVERAGE HOURLY EARNINGS OF PRODUCTION AND NONSUPERVISORY EMPLOYEES"
                                }
                            ]
                        },
                        "text/html": "<table><tr><th>series_id</th><th>supersector_code</th><th>industry_code</th><th>data_type_code</th><th>seasonal</th><th>series_title</th><th>data_type_code</th><th>data_type_text</th></tr><tr><td>CES0000000001</td><td>0</td><td>00000000</td><td>1</td><td>S</td><td>All employees</td><td>1</td><td>ALL EMPLOYEES</td></tr><tr><td>CES0000000010</td><td>0</td><td>00000000</td><td>10</td><td>S</td><td>Women employees</td><td>10</td><td>WOMEN EMPLOYEES</td></tr><tr><td>CES0000000025</td><td>0</td><td>00000000</td><td>25</td><td>S</td><td>All employees</td><td>25</td><td>ALL EMPLOYEES</td></tr><tr><td>CES0000000026</td><td>0</td><td>00000000</td><td>26</td><td>S</td><td>All employees</td><td>26</td><td>ALL EMPLOYEES</td></tr><tr><td>CES0500000001</td><td>5</td><td>05000000</td><td>1</td><td>S</td><td>All employees</td><td>1</td><td>ALL EMPLOYEES</td></tr><tr><td>CES0500000002</td><td>5</td><td>05000000</td><td>2</td><td>S</td><td>Average weekly hours of all employees</td><td>2</td><td>AVERAGE WEEKLY HOURS OF ALL EMPLOYEES</td></tr><tr><td>CES0500000003</td><td>5</td><td>05000000</td><td>3</td><td>S</td><td>Average hourly earnings of all employees</td><td>3</td><td>AVERAGE HOURLY EARNINGS OF ALL EMPLOYEES</td></tr><tr><td>CES0500000006</td><td>5</td><td>05000000</td><td>6</td><td>S</td><td>Production and nonsupervisory employees</td><td>6</td><td>PRODUCTION AND NONSUPERVISORY EMPLOYEES</td></tr><tr><td>CES0500000007</td><td>5</td><td>05000000</td><td>7</td><td>S</td><td>Average weekly hours of production and nonsupervisory employees</td><td>7</td><td>AVERAGE WEEKLY HOURS OF PRODUCTION AND NONSUPERVISORY EMPLOYEES</td></tr><tr><td>CES0500000008</td><td>5</td><td>05000000</td><td>8</td><td>S</td><td>Average hourly earnings of production and nonsupervisory employees</td><td>8</td><td>AVERAGE HOURLY EARNINGS OF PRODUCTION AND NONSUPERVISORY EMPLOYEES</td></tr></table>"
                    },
                    "metadata": {}
                }
            ],
            "execution_count": 8
        },
        {
            "cell_type": "markdown",
            "source": [
                "3. <span style=\"background-color: rgb(255, 255, 255); font-size: 10pt; white-space: pre-wrap; color: rgb(102, 102, 102); font-family: Arvo, serif;\">Join series and industry on industry_code</span>"
            ],
            "metadata": {
                "azdata_cell_guid": "78ac8ba4-2a6a-426f-af30-6b56d9d09054"
            },
            "attachments": {}
        },
        {
            "cell_type": "code",
            "source": [
                "SELECT TOP 10 *\n",
                "FROM LaborStatisticsDB.dbo.series AS s\n",
                "INNER JOIN LaborStatisticsDB.dbo.industry AS i\n",
                "ON s.industry_code = i.industry_code"
            ],
            "metadata": {
                "azdata_cell_guid": "ac022766-e280-4d95-8362-1f2b18773662",
                "language": "sql"
            },
            "outputs": [
                {
                    "output_type": "display_data",
                    "data": {
                        "text/html": "(10 rows affected)"
                    },
                    "metadata": {}
                },
                {
                    "output_type": "display_data",
                    "data": {
                        "text/html": "Total execution time: 00:00:00.090"
                    },
                    "metadata": {}
                },
                {
                    "output_type": "execute_result",
                    "execution_count": 9,
                    "data": {
                        "application/vnd.dataresource+json": {
                            "schema": {
                                "fields": [
                                    {
                                        "name": "series_id"
                                    },
                                    {
                                        "name": "supersector_code"
                                    },
                                    {
                                        "name": "industry_code"
                                    },
                                    {
                                        "name": "data_type_code"
                                    },
                                    {
                                        "name": "seasonal"
                                    },
                                    {
                                        "name": "series_title"
                                    },
                                    {
                                        "name": "id"
                                    },
                                    {
                                        "name": "industry_code"
                                    },
                                    {
                                        "name": "naics_code"
                                    },
                                    {
                                        "name": "publishing_status"
                                    },
                                    {
                                        "name": "industry_name"
                                    },
                                    {
                                        "name": "display_level"
                                    },
                                    {
                                        "name": "selectable"
                                    },
                                    {
                                        "name": "sort_sequence"
                                    }
                                ]
                            },
                            "data": [
                                {
                                    "series_id": "CES0000000001",
                                    "supersector_code": "0",
                                    "industry_code": "0",
                                    "data_type_code": "1",
                                    "seasonal": "S",
                                    "series_title": "All employees",
                                    "id": "0",
                                    "naics_code": "-",
                                    "publishing_status": "B",
                                    "industry_name": "Total nonfarm",
                                    "display_level": "0",
                                    "selectable": "T",
                                    "sort_sequence": "1"
                                },
                                {
                                    "series_id": "CES0000000010",
                                    "supersector_code": "0",
                                    "industry_code": "0",
                                    "data_type_code": "10",
                                    "seasonal": "S",
                                    "series_title": "Women employees",
                                    "id": "0",
                                    "naics_code": "-",
                                    "publishing_status": "B",
                                    "industry_name": "Total nonfarm",
                                    "display_level": "0",
                                    "selectable": "T",
                                    "sort_sequence": "1"
                                },
                                {
                                    "series_id": "CES0000000025",
                                    "supersector_code": "0",
                                    "industry_code": "0",
                                    "data_type_code": "25",
                                    "seasonal": "S",
                                    "series_title": "All employees",
                                    "id": "0",
                                    "naics_code": "-",
                                    "publishing_status": "B",
                                    "industry_name": "Total nonfarm",
                                    "display_level": "0",
                                    "selectable": "T",
                                    "sort_sequence": "1"
                                },
                                {
                                    "series_id": "CES0000000026",
                                    "supersector_code": "0",
                                    "industry_code": "0",
                                    "data_type_code": "26",
                                    "seasonal": "S",
                                    "series_title": "All employees",
                                    "id": "0",
                                    "naics_code": "-",
                                    "publishing_status": "B",
                                    "industry_name": "Total nonfarm",
                                    "display_level": "0",
                                    "selectable": "T",
                                    "sort_sequence": "1"
                                },
                                {
                                    "series_id": "CES0500000001",
                                    "supersector_code": "5",
                                    "industry_code": "5000000",
                                    "data_type_code": "1",
                                    "seasonal": "S",
                                    "series_title": "All employees",
                                    "id": "1",
                                    "naics_code": "-",
                                    "publishing_status": "A",
                                    "industry_name": "Total private",
                                    "display_level": "1",
                                    "selectable": "T",
                                    "sort_sequence": "2"
                                },
                                {
                                    "series_id": "CES0500000002",
                                    "supersector_code": "5",
                                    "industry_code": "5000000",
                                    "data_type_code": "2",
                                    "seasonal": "S",
                                    "series_title": "Average weekly hours of all employees",
                                    "id": "1",
                                    "naics_code": "-",
                                    "publishing_status": "A",
                                    "industry_name": "Total private",
                                    "display_level": "1",
                                    "selectable": "T",
                                    "sort_sequence": "2"
                                },
                                {
                                    "series_id": "CES0500000003",
                                    "supersector_code": "5",
                                    "industry_code": "5000000",
                                    "data_type_code": "3",
                                    "seasonal": "S",
                                    "series_title": "Average hourly earnings of all employees",
                                    "id": "1",
                                    "naics_code": "-",
                                    "publishing_status": "A",
                                    "industry_name": "Total private",
                                    "display_level": "1",
                                    "selectable": "T",
                                    "sort_sequence": "2"
                                },
                                {
                                    "series_id": "CES0500000006",
                                    "supersector_code": "5",
                                    "industry_code": "5000000",
                                    "data_type_code": "6",
                                    "seasonal": "S",
                                    "series_title": "Production and nonsupervisory employees",
                                    "id": "1",
                                    "naics_code": "-",
                                    "publishing_status": "A",
                                    "industry_name": "Total private",
                                    "display_level": "1",
                                    "selectable": "T",
                                    "sort_sequence": "2"
                                },
                                {
                                    "series_id": "CES0500000007",
                                    "supersector_code": "5",
                                    "industry_code": "5000000",
                                    "data_type_code": "7",
                                    "seasonal": "S",
                                    "series_title": "Average weekly hours of production and nonsupervisory employees",
                                    "id": "1",
                                    "naics_code": "-",
                                    "publishing_status": "A",
                                    "industry_name": "Total private",
                                    "display_level": "1",
                                    "selectable": "T",
                                    "sort_sequence": "2"
                                },
                                {
                                    "series_id": "CES0500000008",
                                    "supersector_code": "5",
                                    "industry_code": "5000000",
                                    "data_type_code": "8",
                                    "seasonal": "S",
                                    "series_title": "Average hourly earnings of production and nonsupervisory employees",
                                    "id": "1",
                                    "naics_code": "-",
                                    "publishing_status": "A",
                                    "industry_name": "Total private",
                                    "display_level": "1",
                                    "selectable": "T",
                                    "sort_sequence": "2"
                                }
                            ]
                        },
                        "text/html": "<table><tr><th>series_id</th><th>supersector_code</th><th>industry_code</th><th>data_type_code</th><th>seasonal</th><th>series_title</th><th>id</th><th>industry_code</th><th>naics_code</th><th>publishing_status</th><th>industry_name</th><th>display_level</th><th>selectable</th><th>sort_sequence</th></tr><tr><td>CES0000000001</td><td>0</td><td>00000000</td><td>1</td><td>S</td><td>All employees</td><td>0</td><td>0</td><td>-</td><td>B</td><td>Total nonfarm</td><td>0</td><td>T</td><td>1</td></tr><tr><td>CES0000000010</td><td>0</td><td>00000000</td><td>10</td><td>S</td><td>Women employees</td><td>0</td><td>0</td><td>-</td><td>B</td><td>Total nonfarm</td><td>0</td><td>T</td><td>1</td></tr><tr><td>CES0000000025</td><td>0</td><td>00000000</td><td>25</td><td>S</td><td>All employees</td><td>0</td><td>0</td><td>-</td><td>B</td><td>Total nonfarm</td><td>0</td><td>T</td><td>1</td></tr><tr><td>CES0000000026</td><td>0</td><td>00000000</td><td>26</td><td>S</td><td>All employees</td><td>0</td><td>0</td><td>-</td><td>B</td><td>Total nonfarm</td><td>0</td><td>T</td><td>1</td></tr><tr><td>CES0500000001</td><td>5</td><td>05000000</td><td>1</td><td>S</td><td>All employees</td><td>1</td><td>5000000</td><td>-</td><td>A</td><td>Total private</td><td>1</td><td>T</td><td>2</td></tr><tr><td>CES0500000002</td><td>5</td><td>05000000</td><td>2</td><td>S</td><td>Average weekly hours of all employees</td><td>1</td><td>5000000</td><td>-</td><td>A</td><td>Total private</td><td>1</td><td>T</td><td>2</td></tr><tr><td>CES0500000003</td><td>5</td><td>05000000</td><td>3</td><td>S</td><td>Average hourly earnings of all employees</td><td>1</td><td>5000000</td><td>-</td><td>A</td><td>Total private</td><td>1</td><td>T</td><td>2</td></tr><tr><td>CES0500000006</td><td>5</td><td>05000000</td><td>6</td><td>S</td><td>Production and nonsupervisory employees</td><td>1</td><td>5000000</td><td>-</td><td>A</td><td>Total private</td><td>1</td><td>T</td><td>2</td></tr><tr><td>CES0500000007</td><td>5</td><td>05000000</td><td>7</td><td>S</td><td>Average weekly hours of production and nonsupervisory employees</td><td>1</td><td>5000000</td><td>-</td><td>A</td><td>Total private</td><td>1</td><td>T</td><td>2</td></tr><tr><td>CES0500000008</td><td>5</td><td>05000000</td><td>8</td><td>S</td><td>Average hourly earnings of production and nonsupervisory employees</td><td>1</td><td>5000000</td><td>-</td><td>A</td><td>Total private</td><td>1</td><td>T</td><td>2</td></tr></table>"
                    },
                    "metadata": {}
                }
            ],
            "execution_count": 9
        },
        {
            "cell_type": "markdown",
            "source": [
                "## <span style=\"font-size: 12pt; font-family: Montserrat, sans-serif; color: rgb(53, 74, 95); background-color: rgb(255, 255, 255); font-weight: 700; font-variant-numeric: normal; font-variant-east-asian: normal; vertical-align: baseline; white-space: pre-wrap;\">Aggregate Your Friends and Code some SQL</span>\n",
                "\n",
                "<span style=\"font-size: 10pt; font-family: Arvo, serif; color: rgb(102, 102, 102); background-color: rgb(255, 255, 255); font-variant-numeric: normal; font-variant-east-asian: normal; vertical-align: baseline; white-space: pre-wrap;\">Put together the following:</span>\n",
                "\n",
                "1. <span style=\"background-color: rgb(255, 255, 255); font-size: 10pt; white-space: pre-wrap; color: rgb(102, 102, 102); font-family: Arvo, serif;\">How many employees were reported in 2016 in all industries? Round to the nearest whole number.&nbsp; No chopping people into little bits, please. </span> **ANSWER:** <span style=\"font-size: 13.3333px; white-space: pre-wrap;\"><b>2340612</b></span>"
            ],
            "metadata": {
                "azdata_cell_guid": "f4290cc1-f824-4586-8850-59d926bf4460"
            },
            "attachments": {}
        },
        {
            "cell_type": "code",
            "source": [
                "--Exploring...\n",
                "-- USE LaborStatisticsDB\n",
                "\n",
                "-- SELECT series_id, COUNT(series_id) AS 'Series ID Total' FROM dbo.annual_2016\n",
                "-- GROUP BY series_id\n",
                "\n",
                "-- SELECT TOP 30 * FROM dbo.datatype\n",
                "\n",
                "-- SELECT TOP 15 * FROM dbo.series\n",
                "\n",
                "--CODE BELOW:\n",
                ""
            ],
            "metadata": {
                "language": "sql",
                "azdata_cell_guid": "e62c0011-4b17-4ec4-9360-8dba1e777b53",
                "tags": [
                    "hide_input"
                ]
            },
            "outputs": [
                {
                    "output_type": "display_data",
                    "data": {
                        "text/html": "Commands completed successfully."
                    },
                    "metadata": {}
                },
                {
                    "output_type": "display_data",
                    "data": {
                        "text/html": "Total execution time: 00:00:00.096"
                    },
                    "metadata": {}
                }
            ],
            "execution_count": 10
        },
        {
            "cell_type": "code",
            "source": [
                "-- SELECT ROUND(SUM(value),0) as 'Employess Reported in 2016'\n",
                "-- FROM LaborStatisticsDB.dbo.annual_2016 AS a\n",
                "-- LEFT JOIN LaborStatisticsDB.dbo.series AS s\n",
                "-- ON a.series_id = s.series_id\n",
                "-- WHERE series_title = 'All Employees'\n",
                "\n",
                "SELECT ROUND(SUM(value),0) AS 'Female Employess Reported in 2016'\n",
                "FROM LaborStatisticsDB.dbo.annual_2016 AS a\n",
                "INNER JOIN LaborStatisticsDB.dbo.series AS s\n",
                "ON a.series_id = s.series_id\n",
                "WHERE data_type_code = 1\n",
                "\n",
                "-- SELECT ROUND(SUM(value),0) as 'Employess Reported in 2016'\n",
                "-- FROM LaborStatisticsDB.dbo.annual_2016 AS a\n",
                "-- WHERE series_id IN (SELECT series_ID FROM LaborStatisticsDB.dbo.series WHERE series_title = 'All Employees')"
            ],
            "metadata": {
                "azdata_cell_guid": "25099068-a629-4eb5-afca-ed3748c40605",
                "language": "sql",
                "tags": []
            },
            "outputs": [
                {
                    "output_type": "display_data",
                    "data": {
                        "text/html": "(1 row affected)"
                    },
                    "metadata": {}
                },
                {
                    "output_type": "display_data",
                    "data": {
                        "text/html": "Total execution time: 00:00:00.207"
                    },
                    "metadata": {}
                },
                {
                    "output_type": "execute_result",
                    "execution_count": 11,
                    "data": {
                        "application/vnd.dataresource+json": {
                            "schema": {
                                "fields": [
                                    {
                                        "name": "Female Employess Reported in 2016"
                                    }
                                ]
                            },
                            "data": [
                                {
                                    "Female Employess Reported in 2016": "2340612"
                                }
                            ]
                        },
                        "text/html": "<table><tr><th>Female Employess Reported in 2016</th></tr><tr><td>2340612</td></tr></table>"
                    },
                    "metadata": {}
                }
            ],
            "execution_count": 11
        },
        {
            "cell_type": "markdown",
            "source": [
                "2. <span style=\"background-color: rgb(255, 255, 255); color: rgb(102, 102, 102); font-family: Arvo, serif;\"><span style=\"font-size: 10pt; white-space: pre-wrap;\">How many women employees were reported in 2016 in all industries? Round to the nearest whole number.&nbsp;</span><b style=\"\"><span style=\"font-size: 10pt; white-space: pre-wrap;\">ANSWER: </span></b></span> <span style=\"font-size: 13.3333px; white-space: pre-wrap;\"><b>1125490</b></span>"
            ],
            "metadata": {
                "azdata_cell_guid": "6358fab4-b933-4646-bef1-4be66dcd4317"
            },
            "attachments": {}
        },
        {
            "cell_type": "code",
            "source": [
                "-- SELECT ROUND(SUM(value),0) AS 'Female Employess Reported in 2016'\n",
                "-- FROM LaborStatisticsDB.dbo.annual_2016 AS a\n",
                "-- INNER JOIN LaborStatisticsDB.dbo.series AS s\n",
                "-- ON a.series_id = s.series_id\n",
                "-- WHERE series_title LIKE '%women%'\n",
                "\n",
                "SELECT ROUND(SUM(value),0) AS 'Female Employess Reported in 2016'\n",
                "FROM LaborStatisticsDB.dbo.annual_2016 AS a\n",
                "INNER JOIN LaborStatisticsDB.dbo.series AS s\n",
                "ON a.series_id = s.series_id\n",
                "WHERE data_type_code = 10\n",
                "\n",
                "-- SELECT ROUND(SUM(value),0) as 'Female Employess Reported in 2016'\n",
                "-- FROM LaborStatisticsDB.dbo.annual_2016 AS a\n",
                "-- WHERE series_id IN (SELECT series_ID FROM LaborStatisticsDB.dbo.series WHERE series_title LIKE '%women%')"
            ],
            "metadata": {
                "language": "sql",
                "azdata_cell_guid": "cf93ffcb-beb5-4150-b327-b5ca9be76b4e",
                "tags": []
            },
            "outputs": [
                {
                    "output_type": "display_data",
                    "data": {
                        "text/html": "(1 row affected)"
                    },
                    "metadata": {}
                },
                {
                    "output_type": "display_data",
                    "data": {
                        "text/html": "Total execution time: 00:00:00.106"
                    },
                    "metadata": {}
                },
                {
                    "output_type": "execute_result",
                    "execution_count": 12,
                    "data": {
                        "application/vnd.dataresource+json": {
                            "schema": {
                                "fields": [
                                    {
                                        "name": "Female Employess Reported in 2016"
                                    }
                                ]
                            },
                            "data": [
                                {
                                    "Female Employess Reported in 2016": "1125490"
                                }
                            ]
                        },
                        "text/html": "<table><tr><th>Female Employess Reported in 2016</th></tr><tr><td>1125490</td></tr></table>"
                    },
                    "metadata": {}
                }
            ],
            "execution_count": 12
        },
        {
            "cell_type": "markdown",
            "source": [
                "3. <span style=\"background-color: rgb(255, 255, 255); font-size: 10pt; white-space: pre-wrap; color: rgb(102, 102, 102); font-family: Arvo, serif;\">How many production/nonsupervisory employees were reported in 2016? Round to the nearest whole number.&nbsp;<b>ANSWER: </b></span> <span style=\"font-size: 13.3333px; white-space: pre-wrap;\"><b>1263650</b></span>"
            ],
            "metadata": {
                "azdata_cell_guid": "246ea683-2075-4337-878d-fbfdd49b2dd7"
            },
            "attachments": {}
        },
        {
            "cell_type": "code",
            "source": [
                "-- SELECT TOP 1 data_type_code, data_type_text\n",
                "-- FROM LaborStatisticsDB.dbo.datatype\n",
                "-- WHERE data_type_text LIKE '%production%'\n",
                "\n",
                "SELECT ROUND(SUM(value),0) as 'Production/Nonsupervisory Employees  Reported in 2016'\n",
                "FROM LaborStatisticsDB.dbo.annual_2016 AS a\n",
                "INNER JOIN LaborStatisticsDB.dbo.series AS s\n",
                "ON a.series_id = s.series_id\n",
                "WHERE data_type_code = 6\n",
                "\n",
                "-- SELECT ROUND(SUM(value),0) as 'Production/Nonsupervisory Employees  Reported in 2016'\n",
                "-- FROM LaborStatisticsDB.dbo.annual_2016 AS a\n",
                "-- WHERE series_id IN (SELECT series_ID FROM LaborStatisticsDB.dbo.series WHERE series_title LIKE '%production%')"
            ],
            "metadata": {
                "azdata_cell_guid": "110f2591-069b-4bbe-87c7-2bcf76c3d36f",
                "language": "sql"
            },
            "outputs": [
                {
                    "output_type": "display_data",
                    "data": {
                        "text/html": "(1 row affected)"
                    },
                    "metadata": {}
                },
                {
                    "output_type": "display_data",
                    "data": {
                        "text/html": "Total execution time: 00:00:00.111"
                    },
                    "metadata": {}
                },
                {
                    "output_type": "execute_result",
                    "execution_count": 13,
                    "data": {
                        "application/vnd.dataresource+json": {
                            "schema": {
                                "fields": [
                                    {
                                        "name": "Production/Nonsupervisory Employees  Reported in 2016"
                                    }
                                ]
                            },
                            "data": [
                                {
                                    "Production/Nonsupervisory Employees  Reported in 2016": "1263650"
                                }
                            ]
                        },
                        "text/html": "<table><tr><th>Production/Nonsupervisory Employees  Reported in 2016</th></tr><tr><td>1263650</td></tr></table>"
                    },
                    "metadata": {}
                }
            ],
            "execution_count": 13
        },
        {
            "cell_type": "markdown",
            "source": [
                "4. <span style=\"background-color: rgb(255, 255, 255); font-size: 10pt; white-space: pre-wrap; color: rgb(102, 102, 102); font-family: Arvo, serif;\">In January 2017, what is the average weekly hours worked by production and nonsupervisory employees across all industries? <b>ANSWER: </b></span> <span style=\"font-size: 13.3333px; white-space: pre-wrap;\"><b>36.06</b></span>"
            ],
            "metadata": {
                "azdata_cell_guid": "9caa7f57-e39d-4b7a-b705-25f8fe29d60b"
            },
            "attachments": {}
        },
        {
            "cell_type": "code",
            "source": [
                "SELECT ROUND(AVG(j.value),2) as 'Avg. Weekly Hours'\n",
                "FROM LaborStatisticsDB.dbo.january_2017 as j\n",
                "INNER JOIN LaborStatisticsDB.dbo.series as s\n",
                "ON j.series_id = s.series_id\n",
                "WHERE s.data_type_code=7\n",
                "--7 is AVERAGE WEEKLY HOURS OF PRODUCTION AND NONSUPERVISORY EMPLOYEES"
            ],
            "metadata": {
                "azdata_cell_guid": "9f07fa8a-4217-439a-a9cd-831240d4bc9e",
                "language": "sql",
                "tags": []
            },
            "outputs": [
                {
                    "output_type": "display_data",
                    "data": {
                        "text/html": "(1 row affected)"
                    },
                    "metadata": {}
                },
                {
                    "output_type": "display_data",
                    "data": {
                        "text/html": "Total execution time: 00:00:00.116"
                    },
                    "metadata": {}
                },
                {
                    "output_type": "execute_result",
                    "execution_count": 14,
                    "data": {
                        "application/vnd.dataresource+json": {
                            "schema": {
                                "fields": [
                                    {
                                        "name": "Avg. Weekly Hours"
                                    }
                                ]
                            },
                            "data": [
                                {
                                    "Avg. Weekly Hours": "36.06"
                                }
                            ]
                        },
                        "text/html": "<table><tr><th>Avg. Weekly Hours</th></tr><tr><td>36.06</td></tr></table>"
                    },
                    "metadata": {}
                }
            ],
            "execution_count": 14
        },
        {
            "cell_type": "markdown",
            "source": [
                "5. <span style=\"background-color: rgb(255, 255, 255); font-size: 10pt; white-space: pre-wrap; color: rgb(102, 102, 102); font-family: Arvo, serif;\">What is the total weekly payroll for production and nonsupervisory employees across all industries in January 2017? Round to the nearest penny, please. <b>ANSWER: </b></span>  $<span style=\"font-size: 13.3333px; white-space: pre-wrap;\"><b>1,838,753,220</b></span>"
            ],
            "metadata": {
                "azdata_cell_guid": "9c48ff2e-a6eb-4f02-8df2-988e219fbc00"
            },
            "attachments": {}
        },
        {
            "cell_type": "code",
            "source": [
                "SELECT ROUND(SUM(j.value), 2) as 'Total Weekly Payroll'\n",
                "FROM LaborStatisticsDB.dbo.january_2017 as j\n",
                "INNER JOIN LaborStatisticsDB.dbo.series as s\n",
                "ON j.series_id = s.series_id\n",
                "WHERE s.data_type_code=82 AND series_title LIKE '%production%'\n",
                "--82 is AVERAGE HOURLY EARNINGS OF PRODUCTION AND NONSUPERVISORY EMPLOYEES"
            ],
            "metadata": {
                "azdata_cell_guid": "c565641b-f1fa-4dbb-9320-24adfda97ca5",
                "language": "sql",
                "tags": []
            },
            "outputs": [
                {
                    "output_type": "display_data",
                    "data": {
                        "text/html": "(1 row affected)"
                    },
                    "metadata": {}
                },
                {
                    "output_type": "display_data",
                    "data": {
                        "text/html": "Total execution time: 00:00:00.130"
                    },
                    "metadata": {}
                },
                {
                    "output_type": "execute_result",
                    "execution_count": 15,
                    "data": {
                        "application/vnd.dataresource+json": {
                            "schema": {
                                "fields": [
                                    {
                                        "name": "Total Weekly Payroll"
                                    }
                                ]
                            },
                            "data": [
                                {
                                    "Total Weekly Payroll": "1838753220"
                                }
                            ]
                        },
                        "text/html": "<table><tr><th>Total Weekly Payroll</th></tr><tr><td>1838753220</td></tr></table>"
                    },
                    "metadata": {}
                }
            ],
            "execution_count": 15
        },
        {
            "cell_type": "markdown",
            "source": [
                "6. <span style=\"background-color: rgb(255, 255, 255); font-size: 10pt; white-space: pre-wrap; color: rgb(102, 102, 102); font-family: Arvo, serif;\">In January 2017, which industry was the average weekly hours worked by production and nonsupervisory employees the highest? Which industry was the lowest?</span>\n",
                "\n",
                "<span style=\"font-size: 13.3333px; white-space: pre-wrap;\"><b>ANSWER: Highest = Motor vehicle power train components, Lowest = Fitness and recreational sports centers</b></span>"
            ],
            "metadata": {
                "azdata_cell_guid": "862fd406-4fff-49bb-9d2b-232275a06405"
            },
            "attachments": {}
        },
        {
            "cell_type": "code",
            "source": [
                "USE LaborStatisticsDB\n",
                "SELECT s.industry_code, j.value as 'Avg. Weekly Hours'\n",
                "FROM dbo.january_2017 as j\n",
                "INNER JOIN dbo.series as s\n",
                "ON j.series_id = s.series_id\n",
                "WHERE data_type_code = 7\n",
                "--7 is AVERAGE WEEKLY HOURS OF PRODUCTION AND NONSUPERVISORY EMPLOYEES\n",
                "GROUP BY  s.industry_code, j.value\n",
                "ORDER BY j.value DESC"
            ],
            "metadata": {
                "azdata_cell_guid": "01e11050-5f2f-4d22-92e0-2b3024b80a5f",
                "language": "sql"
            },
            "outputs": [
                {
                    "output_type": "display_data",
                    "data": {
                        "text/html": "(1072 rows affected)"
                    },
                    "metadata": {}
                },
                {
                    "output_type": "display_data",
                    "data": {
                        "text/html": "Total execution time: 00:00:00.234"
                    },
                    "metadata": {}
                },
                {
                    "output_type": "execute_result",
                    "execution_count": 16,
                    "data": {
                        "application/vnd.dataresource+json": {
                            "schema": {
                                "fields": [
                                    {
                                        "name": "industry_code"
                                    },
                                    {
                                        "name": "Avg. Weekly Hours"
                                    }
                                ]
                            },
                            "data": [
                                {
                                    "industry_code": "31336350",
                                    "Avg. Weekly Hours": "49.8"
                                },
                                {
                                    "industry_code": "31336350",
                                    "Avg. Weekly Hours": "49.4"
                                },
                                {
                                    "industry_code": "10212319",
                                    "Avg. Weekly Hours": "47.4"
                                },
                                {
                                    "industry_code": "10212312",
                                    "Avg. Weekly Hours": "47.3"
                                },
                                {
                                    "industry_code": "10213000",
                                    "Avg. Weekly Hours": "47.3"
                                },
                                {
                                    "industry_code": "10212310",
                                    "Avg. Weekly Hours": "47.2"
                                },
                                {
                                    "industry_code": "10213000",
                                    "Avg. Weekly Hours": "47.1"
                                },
                                {
                                    "industry_code": "20237120",
                                    "Avg. Weekly Hours": "47.1"
                                },
                                {
                                    "industry_code": "31336370",
                                    "Avg. Weekly Hours": "46.8"
                                },
                                {
                                    "industry_code": "10213112",
                                    "Avg. Weekly Hours": "46.7"
                                },
                                {
                                    "industry_code": "10212100",
                                    "Avg. Weekly Hours": "46.6"
                                },
                                {
                                    "industry_code": "31336370",
                                    "Avg. Weekly Hours": "46.6"
                                },
                                {
                                    "industry_code": "10210000",
                                    "Avg. Weekly Hours": "46.3"
                                },
                                {
                                    "industry_code": "10212000",
                                    "Avg. Weekly Hours": "46.1"
                                },
                                {
                                    "industry_code": "10212000",
                                    "Avg. Weekly Hours": "45.9"
                                },
                                {
                                    "industry_code": "10000000",
                                    "Avg. Weekly Hours": "45.8"
                                },
                                {
                                    "industry_code": "10210000",
                                    "Avg. Weekly Hours": "45.8"
                                },
                                {
                                    "industry_code": "31327390",
                                    "Avg. Weekly Hours": "45.8"
                                },
                                {
                                    "industry_code": "31332400",
                                    "Avg. Weekly Hours": "45.7"
                                },
                                {
                                    "industry_code": "32324000",
                                    "Avg. Weekly Hours": "45.6"
                                },
                                {
                                    "industry_code": "10000000",
                                    "Avg. Weekly Hours": "45.5"
                                },
                                {
                                    "industry_code": "60562200",
                                    "Avg. Weekly Hours": "45.2"
                                },
                                {
                                    "industry_code": "20237120",
                                    "Avg. Weekly Hours": "45.1"
                                },
                                {
                                    "industry_code": "31336100",
                                    "Avg. Weekly Hours": "45.1"
                                },
                                {
                                    "industry_code": "32324000",
                                    "Avg. Weekly Hours": "45.1"
                                },
                                {
                                    "industry_code": "32325100",
                                    "Avg. Weekly Hours": "45.1"
                                },
                                {
                                    "industry_code": "60562200",
                                    "Avg. Weekly Hours": "45.1"
                                },
                                {
                                    "industry_code": "31336300",
                                    "Avg. Weekly Hours": "44.7"
                                },
                                {
                                    "industry_code": "43486000",
                                    "Avg. Weekly Hours": "44.7"
                                },
                                {
                                    "industry_code": "32325100",
                                    "Avg. Weekly Hours": "44.6"
                                },
                                {
                                    "industry_code": "20237130",
                                    "Avg. Weekly Hours": "44.5"
                                },
                                {
                                    "industry_code": "31336300",
                                    "Avg. Weekly Hours": "44.5"
                                },
                                {
                                    "industry_code": "32326200",
                                    "Avg. Weekly Hours": "44.5"
                                },
                                {
                                    "industry_code": "10211000",
                                    "Avg. Weekly Hours": "44.4"
                                },
                                {
                                    "industry_code": "20237100",
                                    "Avg. Weekly Hours": "44.3"
                                },
                                {
                                    "industry_code": "31332910",
                                    "Avg. Weekly Hours": "44.3"
                                },
                                {
                                    "industry_code": "20237900",
                                    "Avg. Weekly Hours": "44.2"
                                },
                                {
                                    "industry_code": "32326200",
                                    "Avg. Weekly Hours": "44.2"
                                },
                                {
                                    "industry_code": "10212312",
                                    "Avg. Weekly Hours": "44.1"
                                },
                                {
                                    "industry_code": "31327390",
                                    "Avg. Weekly Hours": "44.1"
                                },
                                {
                                    "industry_code": "31333600",
                                    "Avg. Weekly Hours": "44.1"
                                },
                                {
                                    "industry_code": "31339113",
                                    "Avg. Weekly Hours": "44.1"
                                },
                                {
                                    "industry_code": "32311410",
                                    "Avg. Weekly Hours": "44.1"
                                },
                                {
                                    "industry_code": "43484220",
                                    "Avg. Weekly Hours": "44.1"
                                },
                                {
                                    "industry_code": "20237000",
                                    "Avg. Weekly Hours": "44"
                                },
                                {
                                    "industry_code": "31327300",
                                    "Avg. Weekly Hours": "44"
                                },
                                {
                                    "industry_code": "31332910",
                                    "Avg. Weekly Hours": "44"
                                },
                                {
                                    "industry_code": "31333600",
                                    "Avg. Weekly Hours": "44"
                                },
                                {
                                    "industry_code": "31336000",
                                    "Avg. Weekly Hours": "44"
                                },
                                {
                                    "industry_code": "31336100",
                                    "Avg. Weekly Hours": "44"
                                },
                                {
                                    "industry_code": "31336390",
                                    "Avg. Weekly Hours": "44"
                                },
                                {
                                    "industry_code": "10212310",
                                    "Avg. Weekly Hours": "43.9"
                                },
                                {
                                    "industry_code": "20237300",
                                    "Avg. Weekly Hours": "43.9"
                                },
                                {
                                    "industry_code": "31321918",
                                    "Avg. Weekly Hours": "43.9"
                                },
                                {
                                    "industry_code": "31336001",
                                    "Avg. Weekly Hours": "43.9"
                                },
                                {
                                    "industry_code": "31336390",
                                    "Avg. Weekly Hours": "43.9"
                                },
                                {
                                    "industry_code": "32322100",
                                    "Avg. Weekly Hours": "43.9"
                                },
                                {
                                    "industry_code": "44221100",
                                    "Avg. Weekly Hours": "43.9"
                                },
                                {
                                    "industry_code": "31336001",
                                    "Avg. Weekly Hours": "43.8"
                                },
                                {
                                    "industry_code": "31336310",
                                    "Avg. Weekly Hours": "43.8"
                                },
                                {
                                    "industry_code": "32322211",
                                    "Avg. Weekly Hours": "43.8"
                                },
                                {
                                    "industry_code": "43486000",
                                    "Avg. Weekly Hours": "43.8"
                                },
                                {
                                    "industry_code": "44221112",
                                    "Avg. Weekly Hours": "43.8"
                                },
                                {
                                    "industry_code": "31336000",
                                    "Avg. Weekly Hours": "43.7"
                                },
                                {
                                    "industry_code": "44221120",
                                    "Avg. Weekly Hours": "43.7"
                                },
                                {
                                    "industry_code": "10212319",
                                    "Avg. Weekly Hours": "43.6"
                                },
                                {
                                    "industry_code": "31333514",
                                    "Avg. Weekly Hours": "43.6"
                                },
                                {
                                    "industry_code": "32322100",
                                    "Avg. Weekly Hours": "43.6"
                                },
                                {
                                    "industry_code": "44221120",
                                    "Avg. Weekly Hours": "43.6"
                                },
                                {
                                    "industry_code": "31333200",
                                    "Avg. Weekly Hours": "43.5"
                                },
                                {
                                    "industry_code": "31336310",
                                    "Avg. Weekly Hours": "43.5"
                                },
                                {
                                    "industry_code": "31336400",
                                    "Avg. Weekly Hours": "43.5"
                                },
                                {
                                    "industry_code": "32311410",
                                    "Avg. Weekly Hours": "43.5"
                                },
                                {
                                    "industry_code": "32311600",
                                    "Avg. Weekly Hours": "43.5"
                                },
                                {
                                    "industry_code": "31321918",
                                    "Avg. Weekly Hours": "43.4"
                                },
                                {
                                    "industry_code": "31333400",
                                    "Avg. Weekly Hours": "43.4"
                                },
                                {
                                    "industry_code": "31333514",
                                    "Avg. Weekly Hours": "43.4"
                                },
                                {
                                    "industry_code": "31335900",
                                    "Avg. Weekly Hours": "43.4"
                                },
                                {
                                    "industry_code": "31336400",
                                    "Avg. Weekly Hours": "43.4"
                                },
                                {
                                    "industry_code": "32311600",
                                    "Avg. Weekly Hours": "43.4"
                                },
                                {
                                    "industry_code": "32322210",
                                    "Avg. Weekly Hours": "43.4"
                                },
                                {
                                    "industry_code": "44221100",
                                    "Avg. Weekly Hours": "43.4"
                                },
                                {
                                    "industry_code": "44221110",
                                    "Avg. Weekly Hours": "43.4"
                                },
                                {
                                    "industry_code": "32322211",
                                    "Avg. Weekly Hours": "43.3"
                                },
                                {
                                    "industry_code": "43484230",
                                    "Avg. Weekly Hours": "43.3"
                                },
                                {
                                    "industry_code": "44220000",
                                    "Avg. Weekly Hours": "43.3"
                                },
                                {
                                    "industry_code": "43484230",
                                    "Avg. Weekly Hours": "43.2"
                                },
                                {
                                    "industry_code": "31332100",
                                    "Avg. Weekly Hours": "43.1"
                                },
                                {
                                    "industry_code": "31335900",
                                    "Avg. Weekly Hours": "43.1"
                                },
                                {
                                    "industry_code": "44221112",
                                    "Avg. Weekly Hours": "43.1"
                                },
                                {
                                    "industry_code": "31333400",
                                    "Avg. Weekly Hours": "43"
                                },
                                {
                                    "industry_code": "41423390",
                                    "Avg. Weekly Hours": "43"
                                },
                                {
                                    "industry_code": "41424700",
                                    "Avg. Weekly Hours": "43"
                                },
                                {
                                    "industry_code": "20237900",
                                    "Avg. Weekly Hours": "42.9"
                                },
                                {
                                    "industry_code": "31332100",
                                    "Avg. Weekly Hours": "42.9"
                                },
                                {
                                    "industry_code": "32322210",
                                    "Avg. Weekly Hours": "42.9"
                                },
                                {
                                    "industry_code": "43484122",
                                    "Avg. Weekly Hours": "42.9"
                                },
                                {
                                    "industry_code": "43484220",
                                    "Avg. Weekly Hours": "42.9"
                                },
                                {
                                    "industry_code": "44221110",
                                    "Avg. Weekly Hours": "42.9"
                                },
                                {
                                    "industry_code": "31321100",
                                    "Avg. Weekly Hours": "42.8"
                                },
                                {
                                    "industry_code": "31332720",
                                    "Avg. Weekly Hours": "42.8"
                                },
                                {
                                    "industry_code": "31333000",
                                    "Avg. Weekly Hours": "42.8"
                                },
                                {
                                    "industry_code": "31333500",
                                    "Avg. Weekly Hours": "42.8"
                                },
                                {
                                    "industry_code": "31333900",
                                    "Avg. Weekly Hours": "42.8"
                                },
                                {
                                    "industry_code": "31335000",
                                    "Avg. Weekly Hours": "42.8"
                                },
                                {
                                    "industry_code": "32311400",
                                    "Avg. Weekly Hours": "42.8"
                                },
                                {
                                    "industry_code": "32322000",
                                    "Avg. Weekly Hours": "42.8"
                                },
                                {
                                    "industry_code": "44220000",
                                    "Avg. Weekly Hours": "42.8"
                                },
                                {
                                    "industry_code": "20237130",
                                    "Avg. Weekly Hours": "42.7"
                                },
                                {
                                    "industry_code": "31331000",
                                    "Avg. Weekly Hours": "42.7"
                                },
                                {
                                    "industry_code": "31333000",
                                    "Avg. Weekly Hours": "42.7"
                                },
                                {
                                    "industry_code": "31333500",
                                    "Avg. Weekly Hours": "42.7"
                                },
                                {
                                    "industry_code": "31336411",
                                    "Avg. Weekly Hours": "42.7"
                                },
                                {
                                    "industry_code": "41423390",
                                    "Avg. Weekly Hours": "42.7"
                                },
                                {
                                    "industry_code": "43484122",
                                    "Avg. Weekly Hours": "42.7"
                                },
                                {
                                    "industry_code": "20236210",
                                    "Avg. Weekly Hours": "42.6"
                                },
                                {
                                    "industry_code": "31335300",
                                    "Avg. Weekly Hours": "42.6"
                                },
                                {
                                    "industry_code": "32326000",
                                    "Avg. Weekly Hours": "42.6"
                                },
                                {
                                    "industry_code": "41423810",
                                    "Avg. Weekly Hours": "42.6"
                                },
                                {
                                    "industry_code": "20238290",
                                    "Avg. Weekly Hours": "42.5"
                                },
                                {
                                    "industry_code": "31332900",
                                    "Avg. Weekly Hours": "42.5"
                                },
                                {
                                    "industry_code": "31335300",
                                    "Avg. Weekly Hours": "42.5"
                                },
                                {
                                    "industry_code": "32311400",
                                    "Avg. Weekly Hours": "42.5"
                                },
                                {
                                    "industry_code": "32311615",
                                    "Avg. Weekly Hours": "42.5"
                                },
                                {
                                    "industry_code": "32322000",
                                    "Avg. Weekly Hours": "42.5"
                                },
                                {
                                    "industry_code": "41424700",
                                    "Avg. Weekly Hours": "42.5"
                                },
                                {
                                    "industry_code": "20237110",
                                    "Avg. Weekly Hours": "42.4"
                                },
                                {
                                    "industry_code": "31327320",
                                    "Avg. Weekly Hours": "42.4"
                                },
                                {
                                    "industry_code": "31331000",
                                    "Avg. Weekly Hours": "42.4"
                                },
                                {
                                    "industry_code": "31332900",
                                    "Avg. Weekly Hours": "42.4"
                                },
                                {
                                    "industry_code": "31333100",
                                    "Avg. Weekly Hours": "42.4"
                                },
                                {
                                    "industry_code": "31333900",
                                    "Avg. Weekly Hours": "42.4"
                                },
                                {
                                    "industry_code": "32326000",
                                    "Avg. Weekly Hours": "42.4"
                                },
                                {
                                    "industry_code": "32326110",
                                    "Avg. Weekly Hours": "42.4"
                                },
                                {
                                    "industry_code": "43484120",
                                    "Avg. Weekly Hours": "42.4"
                                },
                                {
                                    "industry_code": "20237100",
                                    "Avg. Weekly Hours": "42.3"
                                },
                                {
                                    "industry_code": "31000000",
                                    "Avg. Weekly Hours": "42.3"
                                },
                                {
                                    "industry_code": "32322200",
                                    "Avg. Weekly Hours": "42.3"
                                },
                                {
                                    "industry_code": "43493110",
                                    "Avg. Weekly Hours": "42.3"
                                },
                                {
                                    "industry_code": "31327000",
                                    "Avg. Weekly Hours": "42.2"
                                },
                                {
                                    "industry_code": "31332812",
                                    "Avg. Weekly Hours": "42.2"
                                },
                                {
                                    "industry_code": "31336411",
                                    "Avg. Weekly Hours": "42.2"
                                },
                                {
                                    "industry_code": "31339100",
                                    "Avg. Weekly Hours": "42.2"
                                },
                                {
                                    "industry_code": "41423810",
                                    "Avg. Weekly Hours": "42.2"
                                },
                                {
                                    "industry_code": "60561910",
                                    "Avg. Weekly Hours": "42.2"
                                },
                                {
                                    "industry_code": "31000000",
                                    "Avg. Weekly Hours": "42.1"
                                },
                                {
                                    "industry_code": "31321000",
                                    "Avg. Weekly Hours": "42.1"
                                },
                                {
                                    "industry_code": "31321910",
                                    "Avg. Weekly Hours": "42.1"
                                },
                                {
                                    "industry_code": "31332000",
                                    "Avg. Weekly Hours": "42.1"
                                },
                                {
                                    "industry_code": "31332700",
                                    "Avg. Weekly Hours": "42.1"
                                },
                                {
                                    "industry_code": "31334500",
                                    "Avg. Weekly Hours": "42.1"
                                },
                                {
                                    "industry_code": "32326100",
                                    "Avg. Weekly Hours": "42.1"
                                },
                                {
                                    "industry_code": "41424480",
                                    "Avg. Weekly Hours": "42.1"
                                },
                                {
                                    "industry_code": "43493000",
                                    "Avg. Weekly Hours": "42.1"
                                },
                                {
                                    "industry_code": "10113300",
                                    "Avg. Weekly Hours": "42"
                                },
                                {
                                    "industry_code": "31321900",
                                    "Avg. Weekly Hours": "42"
                                },
                                {
                                    "industry_code": "31332000",
                                    "Avg. Weekly Hours": "42"
                                },
                                {
                                    "industry_code": "31339100",
                                    "Avg. Weekly Hours": "42"
                                },
                                {
                                    "industry_code": "32311420",
                                    "Avg. Weekly Hours": "42"
                                },
                                {
                                    "industry_code": "32325000",
                                    "Avg. Weekly Hours": "42"
                                },
                                {
                                    "industry_code": "32325200",
                                    "Avg. Weekly Hours": "42"
                                },
                                {
                                    "industry_code": "41424480",
                                    "Avg. Weekly Hours": "42"
                                },
                                {
                                    "industry_code": "43484120",
                                    "Avg. Weekly Hours": "42"
                                },
                                {
                                    "industry_code": "55532410",
                                    "Avg. Weekly Hours": "42"
                                },
                                {
                                    "industry_code": "10211000",
                                    "Avg. Weekly Hours": "41.9"
                                },
                                {
                                    "industry_code": "30000000",
                                    "Avg. Weekly Hours": "41.9"
                                },
                                {
                                    "industry_code": "31321200",
                                    "Avg. Weekly Hours": "41.9"
                                },
                                {
                                    "industry_code": "31332710",
                                    "Avg. Weekly Hours": "41.9"
                                },
                                {
                                    "industry_code": "31337110",
                                    "Avg. Weekly Hours": "41.9"
                                },
                                {
                                    "industry_code": "32311615",
                                    "Avg. Weekly Hours": "41.9"
                                },
                                {
                                    "industry_code": "32322200",
                                    "Avg. Weekly Hours": "41.9"
                                },
                                {
                                    "industry_code": "20237000",
                                    "Avg. Weekly Hours": "41.8"
                                },
                                {
                                    "industry_code": "31332710",
                                    "Avg. Weekly Hours": "41.8"
                                },
                                {
                                    "industry_code": "31332990",
                                    "Avg. Weekly Hours": "41.8"
                                },
                                {
                                    "industry_code": "32325000",
                                    "Avg. Weekly Hours": "41.8"
                                },
                                {
                                    "industry_code": "32326100",
                                    "Avg. Weekly Hours": "41.8"
                                },
                                {
                                    "industry_code": "32326110",
                                    "Avg. Weekly Hours": "41.8"
                                },
                                {
                                    "industry_code": "32326190",
                                    "Avg. Weekly Hours": "41.8"
                                },
                                {
                                    "industry_code": "41423310",
                                    "Avg. Weekly Hours": "41.8"
                                },
                                {
                                    "industry_code": "43484100",
                                    "Avg. Weekly Hours": "41.8"
                                },
                                {
                                    "industry_code": "60561910",
                                    "Avg. Weekly Hours": "41.8"
                                },
                                {
                                    "industry_code": "30000000",
                                    "Avg. Weekly Hours": "41.7"
                                },
                                {
                                    "industry_code": "31321920",
                                    "Avg. Weekly Hours": "41.7"
                                },
                                {
                                    "industry_code": "31332300",
                                    "Avg. Weekly Hours": "41.7"
                                },
                                {
                                    "industry_code": "31332310",
                                    "Avg. Weekly Hours": "41.7"
                                },
                                {
                                    "industry_code": "31332312",
                                    "Avg. Weekly Hours": "41.7"
                                },
                                {
                                    "industry_code": "31332320",
                                    "Avg. Weekly Hours": "41.7"
                                },
                                {
                                    "industry_code": "31332812",
                                    "Avg. Weekly Hours": "41.7"
                                },
                                {
                                    "industry_code": "31334500",
                                    "Avg. Weekly Hours": "41.7"
                                },
                                {
                                    "industry_code": "31321990",
                                    "Avg. Weekly Hours": "41.6"
                                },
                                {
                                    "industry_code": "31332320",
                                    "Avg. Weekly Hours": "41.6"
                                },
                                {
                                    "industry_code": "31332322",
                                    "Avg. Weekly Hours": "41.6"
                                },
                                {
                                    "industry_code": "31332990",
                                    "Avg. Weekly Hours": "41.6"
                                },
                                {
                                    "industry_code": "31334413",
                                    "Avg. Weekly Hours": "41.6"
                                },
                                {
                                    "industry_code": "43484000",
                                    "Avg. Weekly Hours": "41.6"
                                },
                                {
                                    "industry_code": "43484121",
                                    "Avg. Weekly Hours": "41.6"
                                },
                                {
                                    "industry_code": "31321000",
                                    "Avg. Weekly Hours": "41.5"
                                },
                                {
                                    "industry_code": "32311000",
                                    "Avg. Weekly Hours": "41.5"
                                },
                                {
                                    "industry_code": "44221200",
                                    "Avg. Weekly Hours": "41.5"
                                },
                                {
                                    "industry_code": "44221300",
                                    "Avg. Weekly Hours": "41.5"
                                },
                                {
                                    "industry_code": "31321910",
                                    "Avg. Weekly Hours": "41.4"
                                },
                                {
                                    "industry_code": "31331500",
                                    "Avg. Weekly Hours": "41.4"
                                },
                                {
                                    "industry_code": "31332300",
                                    "Avg. Weekly Hours": "41.4"
                                },
                                {
                                    "industry_code": "31334413",
                                    "Avg. Weekly Hours": "41.4"
                                },
                                {
                                    "industry_code": "32326190",
                                    "Avg. Weekly Hours": "41.4"
                                },
                                {
                                    "industry_code": "44221200",
                                    "Avg. Weekly Hours": "41.4"
                                },
                                {
                                    "industry_code": "31321200",
                                    "Avg. Weekly Hours": "41.3"
                                },
                                {
                                    "industry_code": "31321920",
                                    "Avg. Weekly Hours": "41.3"
                                },
                                {
                                    "industry_code": "31333300",
                                    "Avg. Weekly Hours": "41.3"
                                },
                                {
                                    "industry_code": "32000000",
                                    "Avg. Weekly Hours": "41.3"
                                },
                                {
                                    "industry_code": "32311000",
                                    "Avg. Weekly Hours": "41.3"
                                },
                                {
                                    "industry_code": "32311500",
                                    "Avg. Weekly Hours": "41.3"
                                },
                                {
                                    "industry_code": "41423300",
                                    "Avg. Weekly Hours": "41.3"
                                },
                                {
                                    "industry_code": "43484100",
                                    "Avg. Weekly Hours": "41.3"
                                },
                                {
                                    "industry_code": "60562000",
                                    "Avg. Weekly Hours": "41.3"
                                },
                                {
                                    "industry_code": "20236210",
                                    "Avg. Weekly Hours": "41.2"
                                },
                                {
                                    "industry_code": "31321911",
                                    "Avg. Weekly Hours": "41.2"
                                },
                                {
                                    "industry_code": "31333300",
                                    "Avg. Weekly Hours": "41.2"
                                },
                                {
                                    "industry_code": "41423930",
                                    "Avg. Weekly Hours": "41.2"
                                },
                                {
                                    "industry_code": "06000000",
                                    "Avg. Weekly Hours": "41.1"
                                },
                                {
                                    "industry_code": "20238290",
                                    "Avg. Weekly Hours": "41.1"
                                },
                                {
                                    "industry_code": "31332310",
                                    "Avg. Weekly Hours": "41.1"
                                },
                                {
                                    "industry_code": "31332322",
                                    "Avg. Weekly Hours": "41.1"
                                },
                                {
                                    "industry_code": "31332800",
                                    "Avg. Weekly Hours": "41.1"
                                },
                                {
                                    "industry_code": "31334000",
                                    "Avg. Weekly Hours": "41.1"
                                },
                                {
                                    "industry_code": "31336200",
                                    "Avg. Weekly Hours": "41.1"
                                },
                                {
                                    "industry_code": "32000000",
                                    "Avg. Weekly Hours": "41.1"
                                },
                                {
                                    "industry_code": "32311420",
                                    "Avg. Weekly Hours": "41.1"
                                },
                                {
                                    "industry_code": "32311500",
                                    "Avg. Weekly Hours": "41.1"
                                },
                                {
                                    "industry_code": "41423310",
                                    "Avg. Weekly Hours": "41.1"
                                },
                                {
                                    "industry_code": "55524120",
                                    "Avg. Weekly Hours": "41.1"
                                },
                                {
                                    "industry_code": "31321900",
                                    "Avg. Weekly Hours": "41"
                                },
                                {
                                    "industry_code": "31334000",
                                    "Avg. Weekly Hours": "41"
                                },
                                {
                                    "industry_code": "41423740",
                                    "Avg. Weekly Hours": "41"
                                },
                                {
                                    "industry_code": "43484000",
                                    "Avg. Weekly Hours": "41"
                                },
                                {
                                    "industry_code": "43484200",
                                    "Avg. Weekly Hours": "41"
                                },
                                {
                                    "industry_code": "50517100",
                                    "Avg. Weekly Hours": "41"
                                },
                                {
                                    "industry_code": "55532410",
                                    "Avg. Weekly Hours": "41"
                                },
                                {
                                    "industry_code": "20237300",
                                    "Avg. Weekly Hours": "40.9"
                                },
                                {
                                    "industry_code": "31337110",
                                    "Avg. Weekly Hours": "40.9"
                                },
                                {
                                    "industry_code": "32313000",
                                    "Avg. Weekly Hours": "40.9"
                                },
                                {
                                    "industry_code": "41423740",
                                    "Avg. Weekly Hours": "40.9"
                                },
                                {
                                    "industry_code": "60562000",
                                    "Avg. Weekly Hours": "40.9"
                                },
                                {
                                    "industry_code": "10113300",
                                    "Avg. Weekly Hours": "40.8"
                                },
                                {
                                    "industry_code": "32322220",
                                    "Avg. Weekly Hours": "40.8"
                                },
                                {
                                    "industry_code": "41425110",
                                    "Avg. Weekly Hours": "40.8"
                                },
                                {
                                    "industry_code": "43493110",
                                    "Avg. Weekly Hours": "40.8"
                                },
                                {
                                    "industry_code": "44221300",
                                    "Avg. Weekly Hours": "40.8"
                                },
                                {
                                    "industry_code": "31332312",
                                    "Avg. Weekly Hours": "40.7"
                                },
                                {
                                    "industry_code": "31332800",
                                    "Avg. Weekly Hours": "40.7"
                                },
                                {
                                    "industry_code": "41423610",
                                    "Avg. Weekly Hours": "40.7"
                                },
                                {
                                    "industry_code": "43493000",
                                    "Avg. Weekly Hours": "40.7"
                                },
                                {
                                    "industry_code": "20238340",
                                    "Avg. Weekly Hours": "40.6"
                                },
                                {
                                    "industry_code": "31327300",
                                    "Avg. Weekly Hours": "40.6"
                                },
                                {
                                    "industry_code": "31334400",
                                    "Avg. Weekly Hours": "40.6"
                                },
                                {
                                    "industry_code": "41423300",
                                    "Avg. Weekly Hours": "40.6"
                                },
                                {
                                    "industry_code": "41423610",
                                    "Avg. Weekly Hours": "40.6"
                                },
                                {
                                    "industry_code": "41423930",
                                    "Avg. Weekly Hours": "40.6"
                                },
                                {
                                    "industry_code": "06000000",
                                    "Avg. Weekly Hours": "40.5"
                                },
                                {
                                    "industry_code": "31327000",
                                    "Avg. Weekly Hours": "40.5"
                                },
                                {
                                    "industry_code": "31337000",
                                    "Avg. Weekly Hours": "40.5"
                                },
                                {
                                    "industry_code": "41423430",
                                    "Avg. Weekly Hours": "40.5"
                                },
                                {
                                    "industry_code": "55524120",
                                    "Avg. Weekly Hours": "40.5"
                                },
                                {
                                    "industry_code": "20238910",
                                    "Avg. Weekly Hours": "40.4"
                                },
                                {
                                    "industry_code": "31339000",
                                    "Avg. Weekly Hours": "40.4"
                                },
                                {
                                    "industry_code": "32325600",
                                    "Avg. Weekly Hours": "40.4"
                                },
                                {
                                    "industry_code": "32326150",
                                    "Avg. Weekly Hours": "40.4"
                                },
                                {
                                    "industry_code": "50517000",
                                    "Avg. Weekly Hours": "40.4"
                                },
                                {
                                    "industry_code": "31334400",
                                    "Avg. Weekly Hours": "40.3"
                                },
                                {
                                    "industry_code": "31336200",
                                    "Avg. Weekly Hours": "40.3"
                                },
                                {
                                    "industry_code": "32313000",
                                    "Avg. Weekly Hours": "40.3"
                                },
                                {
                                    "industry_code": "32322220",
                                    "Avg. Weekly Hours": "40.3"
                                },
                                {
                                    "industry_code": "41423420",
                                    "Avg. Weekly Hours": "40.3"
                                },
                                {
                                    "industry_code": "41423830",
                                    "Avg. Weekly Hours": "40.3"
                                },
                                {
                                    "industry_code": "43484110",
                                    "Avg. Weekly Hours": "40.3"
                                },
                                {
                                    "industry_code": "20238340",
                                    "Avg. Weekly Hours": "40.2"
                                },
                                {
                                    "industry_code": "31337100",
                                    "Avg. Weekly Hours": "40.2"
                                },
                                {
                                    "industry_code": "31339000",
                                    "Avg. Weekly Hours": "40.2"
                                },
                                {
                                    "industry_code": "32325600",
                                    "Avg. Weekly Hours": "40.2"
                                },
                                {
                                    "industry_code": "32326150",
                                    "Avg. Weekly Hours": "40.2"
                                },
                                {
                                    "industry_code": "41423830",
                                    "Avg. Weekly Hours": "40.2"
                                },
                                {
                                    "industry_code": "43484200",
                                    "Avg. Weekly Hours": "40.2"
                                },
                                {
                                    "industry_code": "50517000",
                                    "Avg. Weekly Hours": "40.2"
                                },
                                {
                                    "industry_code": "55522292",
                                    "Avg. Weekly Hours": "40.2"
                                },
                                {
                                    "industry_code": "55524100",
                                    "Avg. Weekly Hours": "40.2"
                                },
                                {
                                    "industry_code": "60562100",
                                    "Avg. Weekly Hours": "40.2"
                                },
                                {
                                    "industry_code": "60562900",
                                    "Avg. Weekly Hours": "40.2"
                                },
                                {
                                    "industry_code": "20236200",
                                    "Avg. Weekly Hours": "40.1"
                                },
                                {
                                    "industry_code": "20238110",
                                    "Avg. Weekly Hours": "40.1"
                                },
                                {
                                    "industry_code": "31321990",
                                    "Avg. Weekly Hours": "40.1"
                                },
                                {
                                    "industry_code": "31334200",
                                    "Avg. Weekly Hours": "40.1"
                                },
                                {
                                    "industry_code": "41424600",
                                    "Avg. Weekly Hours": "40.1"
                                },
                                {
                                    "industry_code": "20237110",
                                    "Avg. Weekly Hours": "40"
                                },
                                {
                                    "industry_code": "20238900",
                                    "Avg. Weekly Hours": "40"
                                },
                                {
                                    "industry_code": "31332813",
                                    "Avg. Weekly Hours": "40"
                                },
                                {
                                    "industry_code": "31334419",
                                    "Avg. Weekly Hours": "40"
                                },
                                {
                                    "industry_code": "41423500",
                                    "Avg. Weekly Hours": "40"
                                },
                                {
                                    "industry_code": "41423600",
                                    "Avg. Weekly Hours": "40"
                                },
                                {
                                    "industry_code": "41423800",
                                    "Avg. Weekly Hours": "40"
                                },
                                {
                                    "industry_code": "31337000",
                                    "Avg. Weekly Hours": "39.9"
                                },
                                {
                                    "industry_code": "41423420",
                                    "Avg. Weekly Hours": "39.9"
                                },
                                {
                                    "industry_code": "41423500",
                                    "Avg. Weekly Hours": "39.9"
                                },
                                {
                                    "industry_code": "41423700",
                                    "Avg. Weekly Hours": "39.9"
                                },
                                {
                                    "industry_code": "41423800",
                                    "Avg. Weekly Hours": "39.9"
                                },
                                {
                                    "industry_code": "41424410",
                                    "Avg. Weekly Hours": "39.9"
                                },
                                {
                                    "industry_code": "60561200",
                                    "Avg. Weekly Hours": "39.9"
                                },
                                {
                                    "industry_code": "31333111",
                                    "Avg. Weekly Hours": "39.8"
                                },
                                {
                                    "industry_code": "31334200",
                                    "Avg. Weekly Hours": "39.8"
                                },
                                {
                                    "industry_code": "41423400",
                                    "Avg. Weekly Hours": "39.8"
                                },
                                {
                                    "industry_code": "41423700",
                                    "Avg. Weekly Hours": "39.8"
                                },
                                {
                                    "industry_code": "41423710",
                                    "Avg. Weekly Hours": "39.8"
                                },
                                {
                                    "industry_code": "80811300",
                                    "Avg. Weekly Hours": "39.8"
                                },
                                {
                                    "industry_code": "20238120",
                                    "Avg. Weekly Hours": "39.7"
                                },
                                {
                                    "industry_code": "20238210",
                                    "Avg. Weekly Hours": "39.7"
                                },
                                {
                                    "industry_code": "31337100",
                                    "Avg. Weekly Hours": "39.7"
                                },
                                {
                                    "industry_code": "32325400",
                                    "Avg. Weekly Hours": "39.7"
                                },
                                {
                                    "industry_code": "41424600",
                                    "Avg. Weekly Hours": "39.7"
                                },
                                {
                                    "industry_code": "55524100",
                                    "Avg. Weekly Hours": "39.7"
                                },
                                {
                                    "industry_code": "60562100",
                                    "Avg. Weekly Hours": "39.7"
                                },
                                {
                                    "industry_code": "20238150",
                                    "Avg. Weekly Hours": "39.6"
                                },
                                {
                                    "industry_code": "31334419",
                                    "Avg. Weekly Hours": "39.6"
                                },
                                {
                                    "industry_code": "32325400",
                                    "Avg. Weekly Hours": "39.6"
                                },
                                {
                                    "industry_code": "41423000",
                                    "Avg. Weekly Hours": "39.6"
                                },
                                {
                                    "industry_code": "41423450",
                                    "Avg. Weekly Hours": "39.6"
                                },
                                {
                                    "industry_code": "41423600",
                                    "Avg. Weekly Hours": "39.6"
                                },
                                {
                                    "industry_code": "41423710",
                                    "Avg. Weekly Hours": "39.6"
                                },
                                {
                                    "industry_code": "41424410",
                                    "Avg. Weekly Hours": "39.6"
                                },
                                {
                                    "industry_code": "43488500",
                                    "Avg. Weekly Hours": "39.6"
                                },
                                {
                                    "industry_code": "31332813",
                                    "Avg. Weekly Hours": "39.5"
                                },
                                {
                                    "industry_code": "31333111",
                                    "Avg. Weekly Hours": "39.5"
                                },
                                {
                                    "industry_code": "31337121",
                                    "Avg. Weekly Hours": "39.5"
                                },
                                {
                                    "industry_code": "41424400",
                                    "Avg. Weekly Hours": "39.5"
                                },
                                {
                                    "industry_code": "55524110",
                                    "Avg. Weekly Hours": "39.5"
                                },
                                {
                                    "industry_code": "60541310",
                                    "Avg. Weekly Hours": "39.5"
                                },
                                {
                                    "industry_code": "60561200",
                                    "Avg. Weekly Hours": "39.5"
                                },
                                {
                                    "industry_code": "60562900",
                                    "Avg. Weekly Hours": "39.5"
                                },
                                {
                                    "industry_code": "20236220",
                                    "Avg. Weekly Hours": "39.4"
                                },
                                {
                                    "industry_code": "20238990",
                                    "Avg. Weekly Hours": "39.4"
                                },
                                {
                                    "industry_code": "31337121",
                                    "Avg. Weekly Hours": "39.4"
                                },
                                {
                                    "industry_code": "41423000",
                                    "Avg. Weekly Hours": "39.4"
                                },
                                {
                                    "industry_code": "41423430",
                                    "Avg. Weekly Hours": "39.4"
                                },
                                {
                                    "industry_code": "41425110",
                                    "Avg. Weekly Hours": "39.4"
                                },
                                {
                                    "industry_code": "43484110",
                                    "Avg. Weekly Hours": "39.4"
                                },
                                {
                                    "industry_code": "50518000",
                                    "Avg. Weekly Hours": "39.4"
                                },
                                {
                                    "industry_code": "60541370",
                                    "Avg. Weekly Hours": "39.4"
                                },
                                {
                                    "industry_code": "80811219",
                                    "Avg. Weekly Hours": "39.4"
                                },
                                {
                                    "industry_code": "20000000",
                                    "Avg. Weekly Hours": "39.3"
                                },
                                {
                                    "industry_code": "32323000",
                                    "Avg. Weekly Hours": "39.3"
                                },
                                {
                                    "industry_code": "41424400",
                                    "Avg. Weekly Hours": "39.3"
                                },
                                {
                                    "industry_code": "55523120",
                                    "Avg. Weekly Hours": "39.3"
                                },
                                {
                                    "industry_code": "60541380",
                                    "Avg. Weekly Hours": "39.3"
                                },
                                {
                                    "industry_code": "60541512",
                                    "Avg. Weekly Hours": "39.3"
                                },
                                {
                                    "industry_code": "80811219",
                                    "Avg. Weekly Hours": "39.3"
                                },
                                {
                                    "industry_code": "20236200",
                                    "Avg. Weekly Hours": "39.2"
                                },
                                {
                                    "industry_code": "20238200",
                                    "Avg. Weekly Hours": "39.2"
                                },
                                {
                                    "industry_code": "31321911",
                                    "Avg. Weekly Hours": "39.2"
                                },
                                {
                                    "industry_code": "41423690",
                                    "Avg. Weekly Hours": "39.2"
                                },
                                {
                                    "industry_code": "41423720",
                                    "Avg. Weekly Hours": "39.2"
                                },
                                {
                                    "industry_code": "41423820",
                                    "Avg. Weekly Hours": "39.2"
                                },
                                {
                                    "industry_code": "41424100",
                                    "Avg. Weekly Hours": "39.2"
                                },
                                {
                                    "industry_code": "80811300",
                                    "Avg. Weekly Hours": "39.2"
                                },
                                {
                                    "industry_code": "31337120",
                                    "Avg. Weekly Hours": "39.1"
                                },
                                {
                                    "industry_code": "32323000",
                                    "Avg. Weekly Hours": "39.1"
                                },
                                {
                                    "industry_code": "41423400",
                                    "Avg. Weekly Hours": "39.1"
                                },
                                {
                                    "industry_code": "41423840",
                                    "Avg. Weekly Hours": "39.1"
                                },
                                {
                                    "industry_code": "55522200",
                                    "Avg. Weekly Hours": "39.1"
                                },
                                {
                                    "industry_code": "55524110",
                                    "Avg. Weekly Hours": "39.1"
                                },
                                {
                                    "industry_code": "20238150",
                                    "Avg. Weekly Hours": "38.9"
                                },
                                {
                                    "industry_code": "20238210",
                                    "Avg. Weekly Hours": "38.9"
                                },
                                {
                                    "industry_code": "41420000",
                                    "Avg. Weekly Hours": "38.9"
                                },
                                {
                                    "industry_code": "41423450",
                                    "Avg. Weekly Hours": "38.9"
                                },
                                {
                                    "industry_code": "43488500",
                                    "Avg. Weekly Hours": "38.9"
                                },
                                {
                                    "industry_code": "55524000",
                                    "Avg. Weekly Hours": "38.9"
                                },
                                {
                                    "industry_code": "55532400",
                                    "Avg. Weekly Hours": "38.9"
                                },
                                {
                                    "industry_code": "60541370",
                                    "Avg. Weekly Hours": "38.9"
                                },
                                {
                                    "industry_code": "60541380",
                                    "Avg. Weekly Hours": "38.9"
                                },
                                {
                                    "industry_code": "20238120",
                                    "Avg. Weekly Hours": "38.8"
                                },
                                {
                                    "industry_code": "31339990",
                                    "Avg. Weekly Hours": "38.8"
                                },
                                {
                                    "industry_code": "41420000",
                                    "Avg. Weekly Hours": "38.8"
                                },
                                {
                                    "industry_code": "41423120",
                                    "Avg. Weekly Hours": "38.8"
                                },
                                {
                                    "industry_code": "41423690",
                                    "Avg. Weekly Hours": "38.8"
                                },
                                {
                                    "industry_code": "41423720",
                                    "Avg. Weekly Hours": "38.8"
                                },
                                {
                                    "industry_code": "41424100",
                                    "Avg. Weekly Hours": "38.8"
                                },
                                {
                                    "industry_code": "55523200",
                                    "Avg. Weekly Hours": "38.8"
                                },
                                {
                                    "industry_code": "60541310",
                                    "Avg. Weekly Hours": "38.8"
                                },
                                {
                                    "industry_code": "60541500",
                                    "Avg. Weekly Hours": "38.8"
                                },
                                {
                                    "industry_code": "60551114",
                                    "Avg. Weekly Hours": "38.8"
                                },
                                {
                                    "industry_code": "80811120",
                                    "Avg. Weekly Hours": "38.8"
                                },
                                {
                                    "industry_code": "20238000",
                                    "Avg. Weekly Hours": "38.7"
                                },
                                {
                                    "industry_code": "41423120",
                                    "Avg. Weekly Hours": "38.7"
                                },
                                {
                                    "industry_code": "41423490",
                                    "Avg. Weekly Hours": "38.7"
                                },
                                {
                                    "industry_code": "41423840",
                                    "Avg. Weekly Hours": "38.7"
                                },
                                {
                                    "industry_code": "43488400",
                                    "Avg. Weekly Hours": "38.7"
                                },
                                {
                                    "industry_code": "55522320",
                                    "Avg. Weekly Hours": "38.7"
                                },
                                {
                                    "industry_code": "55532291",
                                    "Avg. Weekly Hours": "38.7"
                                },
                                {
                                    "industry_code": "60541300",
                                    "Avg. Weekly Hours": "38.7"
                                },
                                {
                                    "industry_code": "60541712",
                                    "Avg. Weekly Hours": "38.7"
                                },
                                {
                                    "industry_code": "60550000",
                                    "Avg. Weekly Hours": "38.7"
                                },
                                {
                                    "industry_code": "20238200",
                                    "Avg. Weekly Hours": "38.6"
                                },
                                {
                                    "industry_code": "31337120",
                                    "Avg. Weekly Hours": "38.6"
                                },
                                {
                                    "industry_code": "41423490",
                                    "Avg. Weekly Hours": "38.6"
                                },
                                {
                                    "industry_code": "41423900",
                                    "Avg. Weekly Hours": "38.6"
                                },
                                {
                                    "industry_code": "41424000",
                                    "Avg. Weekly Hours": "38.6"
                                },
                                {
                                    "industry_code": "43000000",
                                    "Avg. Weekly Hours": "38.6"
                                },
                                {
                                    "industry_code": "50511200",
                                    "Avg. Weekly Hours": "38.6"
                                },
                                {
                                    "industry_code": "55522292",
                                    "Avg. Weekly Hours": "38.6"
                                },
                                {
                                    "industry_code": "55523920",
                                    "Avg. Weekly Hours": "38.6"
                                },
                                {
                                    "industry_code": "55532400",
                                    "Avg. Weekly Hours": "38.6"
                                },
                                {
                                    "industry_code": "60541300",
                                    "Avg. Weekly Hours": "38.6"
                                },
                                {
                                    "industry_code": "60541512",
                                    "Avg. Weekly Hours": "38.6"
                                },
                                {
                                    "industry_code": "20236000",
                                    "Avg. Weekly Hours": "38.5"
                                },
                                {
                                    "industry_code": "20236220",
                                    "Avg. Weekly Hours": "38.5"
                                },
                                {
                                    "industry_code": "31339900",
                                    "Avg. Weekly Hours": "38.5"
                                },
                                {
                                    "industry_code": "41423100",
                                    "Avg. Weekly Hours": "38.5"
                                },
                                {
                                    "industry_code": "41424910",
                                    "Avg. Weekly Hours": "38.5"
                                },
                                {
                                    "industry_code": "43488900",
                                    "Avg. Weekly Hours": "38.5"
                                },
                                {
                                    "industry_code": "55522000",
                                    "Avg. Weekly Hours": "38.5"
                                },
                                {
                                    "industry_code": "55524292",
                                    "Avg. Weekly Hours": "38.5"
                                },
                                {
                                    "industry_code": "60541340",
                                    "Avg. Weekly Hours": "38.5"
                                },
                                {
                                    "industry_code": "60541511",
                                    "Avg. Weekly Hours": "38.5"
                                },
                                {
                                    "industry_code": "60541710",
                                    "Avg. Weekly Hours": "38.5"
                                },
                                {
                                    "industry_code": "60551114",
                                    "Avg. Weekly Hours": "38.5"
                                },
                                {
                                    "industry_code": "80811198",
                                    "Avg. Weekly Hours": "38.5"
                                },
                                {
                                    "industry_code": "31339990",
                                    "Avg. Weekly Hours": "38.4"
                                },
                                {
                                    "industry_code": "41424000",
                                    "Avg. Weekly Hours": "38.4"
                                },
                                {
                                    "industry_code": "42441320",
                                    "Avg. Weekly Hours": "38.4"
                                },
                                {
                                    "industry_code": "43488900",
                                    "Avg. Weekly Hours": "38.4"
                                },
                                {
                                    "industry_code": "55522110",
                                    "Avg. Weekly Hours": "38.4"
                                },
                                {
                                    "industry_code": "55523000",
                                    "Avg. Weekly Hours": "38.4"
                                },
                                {
                                    "industry_code": "60541340",
                                    "Avg. Weekly Hours": "38.4"
                                },
                                {
                                    "industry_code": "60550000",
                                    "Avg. Weekly Hours": "38.4"
                                },
                                {
                                    "industry_code": "65621511",
                                    "Avg. Weekly Hours": "38.4"
                                },
                                {
                                    "industry_code": "32314000",
                                    "Avg. Weekly Hours": "38.3"
                                },
                                {
                                    "industry_code": "41423100",
                                    "Avg. Weekly Hours": "38.3"
                                },
                                {
                                    "industry_code": "55522100",
                                    "Avg. Weekly Hours": "38.3"
                                },
                                {
                                    "industry_code": "55522300",
                                    "Avg. Weekly Hours": "38.3"
                                },
                                {
                                    "industry_code": "60541712",
                                    "Avg. Weekly Hours": "38.3"
                                },
                                {
                                    "industry_code": "80811200",
                                    "Avg. Weekly Hours": "38.3"
                                },
                                {
                                    "industry_code": "20238220",
                                    "Avg. Weekly Hours": "38.2"
                                },
                                {
                                    "industry_code": "20238330",
                                    "Avg. Weekly Hours": "38.2"
                                },
                                {
                                    "industry_code": "31339950",
                                    "Avg. Weekly Hours": "38.2"
                                },
                                {
                                    "industry_code": "41423200",
                                    "Avg. Weekly Hours": "38.2"
                                },
                                {
                                    "industry_code": "43000000",
                                    "Avg. Weekly Hours": "38.2"
                                },
                                {
                                    "industry_code": "50518000",
                                    "Avg. Weekly Hours": "38.2"
                                },
                                {
                                    "industry_code": "55523120",
                                    "Avg. Weekly Hours": "38.2"
                                },
                                {
                                    "industry_code": "55524000",
                                    "Avg. Weekly Hours": "38.2"
                                },
                                {
                                    "industry_code": "55532291",
                                    "Avg. Weekly Hours": "38.2"
                                },
                                {
                                    "industry_code": "65621511",
                                    "Avg. Weekly Hours": "38.2"
                                },
                                {
                                    "industry_code": "80811200",
                                    "Avg. Weekly Hours": "38.2"
                                },
                                {
                                    "industry_code": "41423820",
                                    "Avg. Weekly Hours": "38.1"
                                },
                                {
                                    "industry_code": "55522200",
                                    "Avg. Weekly Hours": "38.1"
                                },
                                {
                                    "industry_code": "55524130",
                                    "Avg. Weekly Hours": "38.1"
                                },
                                {
                                    "industry_code": "60541500",
                                    "Avg. Weekly Hours": "38.1"
                                },
                                {
                                    "industry_code": "80811198",
                                    "Avg. Weekly Hours": "38.1"
                                },
                                {
                                    "industry_code": "20238190",
                                    "Avg. Weekly Hours": "38"
                                },
                                {
                                    "industry_code": "20238320",
                                    "Avg. Weekly Hours": "38"
                                },
                                {
                                    "industry_code": "31339900",
                                    "Avg. Weekly Hours": "38"
                                },
                                {
                                    "industry_code": "41423320",
                                    "Avg. Weekly Hours": "38"
                                },
                                {
                                    "industry_code": "41423900",
                                    "Avg. Weekly Hours": "38"
                                },
                                {
                                    "industry_code": "55522190",
                                    "Avg. Weekly Hours": "38"
                                },
                                {
                                    "industry_code": "55523900",
                                    "Avg. Weekly Hours": "38"
                                },
                                {
                                    "industry_code": "60541710",
                                    "Avg. Weekly Hours": "38"
                                },
                                {
                                    "industry_code": "20000000",
                                    "Avg. Weekly Hours": "37.9"
                                },
                                {
                                    "industry_code": "20238220",
                                    "Avg. Weekly Hours": "37.9"
                                },
                                {
                                    "industry_code": "55522291",
                                    "Avg. Weekly Hours": "37.9"
                                },
                                {
                                    "industry_code": "60541614",
                                    "Avg. Weekly Hours": "37.9"
                                },
                                {
                                    "industry_code": "32311800",
                                    "Avg. Weekly Hours": "37.8"
                                },
                                {
                                    "industry_code": "41424900",
                                    "Avg. Weekly Hours": "37.8"
                                },
                                {
                                    "industry_code": "42441110",
                                    "Avg. Weekly Hours": "37.8"
                                },
                                {
                                    "industry_code": "55522320",
                                    "Avg. Weekly Hours": "37.8"
                                },
                                {
                                    "industry_code": "55524290",
                                    "Avg. Weekly Hours": "37.8"
                                },
                                {
                                    "industry_code": "60541711",
                                    "Avg. Weekly Hours": "37.8"
                                },
                                {
                                    "industry_code": "20236000",
                                    "Avg. Weekly Hours": "37.7"
                                },
                                {
                                    "industry_code": "41424300",
                                    "Avg. Weekly Hours": "37.7"
                                },
                                {
                                    "industry_code": "41425000",
                                    "Avg. Weekly Hours": "37.7"
                                },
                                {
                                    "industry_code": "42441320",
                                    "Avg. Weekly Hours": "37.7"
                                },
                                {
                                    "industry_code": "65621500",
                                    "Avg. Weekly Hours": "37.7"
                                },
                                {
                                    "industry_code": "65621910",
                                    "Avg. Weekly Hours": "37.7"
                                },
                                {
                                    "industry_code": "20237200",
                                    "Avg. Weekly Hours": "37.6"
                                },
                                {
                                    "industry_code": "41423200",
                                    "Avg. Weekly Hours": "37.6"
                                },
                                {
                                    "industry_code": "41424910",
                                    "Avg. Weekly Hours": "37.6"
                                },
                                {
                                    "industry_code": "41425120",
                                    "Avg. Weekly Hours": "37.6"
                                },
                                {
                                    "industry_code": "50511200",
                                    "Avg. Weekly Hours": "37.6"
                                },
                                {
                                    "industry_code": "55000000",
                                    "Avg. Weekly Hours": "37.6"
                                },
                                {
                                    "industry_code": "55523200",
                                    "Avg. Weekly Hours": "37.6"
                                },
                                {
                                    "industry_code": "60541430",
                                    "Avg. Weekly Hours": "37.6"
                                },
                                {
                                    "industry_code": "60541511",
                                    "Avg. Weekly Hours": "37.6"
                                },
                                {
                                    "industry_code": "60541810",
                                    "Avg. Weekly Hours": "37.6"
                                },
                                {
                                    "industry_code": "80811110",
                                    "Avg. Weekly Hours": "37.6"
                                },
                                {
                                    "industry_code": "20237200",
                                    "Avg. Weekly Hours": "37.5"
                                },
                                {
                                    "industry_code": "20238190",
                                    "Avg. Weekly Hours": "37.5"
                                },
                                {
                                    "industry_code": "20238300",
                                    "Avg. Weekly Hours": "37.5"
                                },
                                {
                                    "industry_code": "42441100",
                                    "Avg. Weekly Hours": "37.5"
                                },
                                {
                                    "industry_code": "42441110",
                                    "Avg. Weekly Hours": "37.5"
                                },
                                {
                                    "industry_code": "55522000",
                                    "Avg. Weekly Hours": "37.5"
                                },
                                {
                                    "industry_code": "55522190",
                                    "Avg. Weekly Hours": "37.5"
                                },
                                {
                                    "industry_code": "55522291",
                                    "Avg. Weekly Hours": "37.5"
                                },
                                {
                                    "industry_code": "55523920",
                                    "Avg. Weekly Hours": "37.5"
                                },
                                {
                                    "industry_code": "60541190",
                                    "Avg. Weekly Hours": "37.5"
                                },
                                {
                                    "industry_code": "60551112",
                                    "Avg. Weekly Hours": "37.5"
                                },
                                {
                                    "industry_code": "65621910",
                                    "Avg. Weekly Hours": "37.5"
                                },
                                {
                                    "industry_code": "80811110",
                                    "Avg. Weekly Hours": "37.5"
                                },
                                {
                                    "industry_code": "80812330",
                                    "Avg. Weekly Hours": "37.5"
                                },
                                {
                                    "industry_code": "32329000",
                                    "Avg. Weekly Hours": "37.4"
                                },
                                {
                                    "industry_code": "41423910",
                                    "Avg. Weekly Hours": "37.4"
                                },
                                {
                                    "industry_code": "55522120",
                                    "Avg. Weekly Hours": "37.4"
                                },
                                {
                                    "industry_code": "60541614",
                                    "Avg. Weekly Hours": "37.4"
                                },
                                {
                                    "industry_code": "60541700",
                                    "Avg. Weekly Hours": "37.4"
                                },
                                {
                                    "industry_code": "65621500",
                                    "Avg. Weekly Hours": "37.4"
                                },
                                {
                                    "industry_code": "80811111",
                                    "Avg. Weekly Hours": "37.4"
                                },
                                {
                                    "industry_code": "20238100",
                                    "Avg. Weekly Hours": "37.3"
                                },
                                {
                                    "industry_code": "20238910",
                                    "Avg. Weekly Hours": "37.3"
                                },
                                {
                                    "industry_code": "31327320",
                                    "Avg. Weekly Hours": "37.3"
                                },
                                {
                                    "industry_code": "32314000",
                                    "Avg. Weekly Hours": "37.3"
                                },
                                {
                                    "industry_code": "41424300",
                                    "Avg. Weekly Hours": "37.3"
                                },
                                {
                                    "industry_code": "41424500",
                                    "Avg. Weekly Hours": "37.3"
                                },
                                {
                                    "industry_code": "42441100",
                                    "Avg. Weekly Hours": "37.3"
                                },
                                {
                                    "industry_code": "55524292",
                                    "Avg. Weekly Hours": "37.3"
                                },
                                {
                                    "industry_code": "55532300",
                                    "Avg. Weekly Hours": "37.3"
                                },
                                {
                                    "industry_code": "60541400",
                                    "Avg. Weekly Hours": "37.3"
                                },
                                {
                                    "industry_code": "60541430",
                                    "Avg. Weekly Hours": "37.3"
                                },
                                {
                                    "industry_code": "60541611",
                                    "Avg. Weekly Hours": "37.3"
                                },
                                {
                                    "industry_code": "20238000",
                                    "Avg. Weekly Hours": "37.2"
                                },
                                {
                                    "industry_code": "20238310",
                                    "Avg. Weekly Hours": "37.2"
                                },
                                {
                                    "industry_code": "41423110",
                                    "Avg. Weekly Hours": "37.2"
                                },
                                {
                                    "industry_code": "41424930",
                                    "Avg. Weekly Hours": "37.2"
                                },
                                {
                                    "industry_code": "41425000",
                                    "Avg. Weekly Hours": "37.2"
                                },
                                {
                                    "industry_code": "55522100",
                                    "Avg. Weekly Hours": "37.2"
                                },
                                {
                                    "industry_code": "55523000",
                                    "Avg. Weekly Hours": "37.2"
                                },
                                {
                                    "industry_code": "55524130",
                                    "Avg. Weekly Hours": "37.2"
                                },
                                {
                                    "industry_code": "32311300",
                                    "Avg. Weekly Hours": "37.1"
                                },
                                {
                                    "industry_code": "41423110",
                                    "Avg. Weekly Hours": "37.1"
                                },
                                {
                                    "industry_code": "41424200",
                                    "Avg. Weekly Hours": "37.1"
                                },
                                {
                                    "industry_code": "42441000",
                                    "Avg. Weekly Hours": "37.1"
                                },
                                {
                                    "industry_code": "50517911",
                                    "Avg. Weekly Hours": "37.1"
                                },
                                {
                                    "industry_code": "55522110",
                                    "Avg. Weekly Hours": "37.1"
                                },
                                {
                                    "industry_code": "55522300",
                                    "Avg. Weekly Hours": "37.1"
                                },
                                {
                                    "industry_code": "60541190",
                                    "Avg. Weekly Hours": "37.1"
                                },
                                {
                                    "industry_code": "60541610",
                                    "Avg. Weekly Hours": "37.1"
                                },
                                {
                                    "industry_code": "60541711",
                                    "Avg. Weekly Hours": "37.1"
                                },
                                {
                                    "industry_code": "60561620",
                                    "Avg. Weekly Hours": "37.1"
                                },
                                {
                                    "industry_code": "65621900",
                                    "Avg. Weekly Hours": "37.1"
                                },
                                {
                                    "industry_code": "80812330",
                                    "Avg. Weekly Hours": "37.1"
                                },
                                {
                                    "industry_code": "32329000",
                                    "Avg. Weekly Hours": "37"
                                },
                                {
                                    "industry_code": "41423320",
                                    "Avg. Weekly Hours": "37"
                                },
                                {
                                    "industry_code": "41424900",
                                    "Avg. Weekly Hours": "37"
                                },
                                {
                                    "industry_code": "41425120",
                                    "Avg. Weekly Hours": "37"
                                },
                                {
                                    "industry_code": "42441000",
                                    "Avg. Weekly Hours": "37"
                                },
                                {
                                    "industry_code": "42441300",
                                    "Avg. Weekly Hours": "37"
                                },
                                {
                                    "industry_code": "50511000",
                                    "Avg. Weekly Hours": "37"
                                },
                                {
                                    "industry_code": "55524200",
                                    "Avg. Weekly Hours": "37"
                                },
                                {
                                    "industry_code": "55524290",
                                    "Avg. Weekly Hours": "37"
                                },
                                {
                                    "industry_code": "60541320",
                                    "Avg. Weekly Hours": "37"
                                },
                                {
                                    "industry_code": "60541400",
                                    "Avg. Weekly Hours": "37"
                                },
                                {
                                    "industry_code": "60541600",
                                    "Avg. Weekly Hours": "37"
                                },
                                {
                                    "industry_code": "60561620",
                                    "Avg. Weekly Hours": "37"
                                },
                                {
                                    "industry_code": "20236100",
                                    "Avg. Weekly Hours": "36.9"
                                },
                                {
                                    "industry_code": "31339950",
                                    "Avg. Weekly Hours": "36.9"
                                },
                                {
                                    "industry_code": "41424800",
                                    "Avg. Weekly Hours": "36.9"
                                },
                                {
                                    "industry_code": "55000000",
                                    "Avg. Weekly Hours": "36.9"
                                },
                                {
                                    "industry_code": "55523930",
                                    "Avg. Weekly Hours": "36.9"
                                },
                                {
                                    "industry_code": "60541700",
                                    "Avg. Weekly Hours": "36.9"
                                },
                                {
                                    "industry_code": "65621900",
                                    "Avg. Weekly Hours": "36.9"
                                },
                                {
                                    "industry_code": "20236118",
                                    "Avg. Weekly Hours": "36.8"
                                },
                                {
                                    "industry_code": "20238900",
                                    "Avg. Weekly Hours": "36.8"
                                },
                                {
                                    "industry_code": "32311300",
                                    "Avg. Weekly Hours": "36.8"
                                },
                                {
                                    "industry_code": "55523900",
                                    "Avg. Weekly Hours": "36.8"
                                },
                                {
                                    "industry_code": "60540000",
                                    "Avg. Weekly Hours": "36.8"
                                },
                                {
                                    "industry_code": "60561100",
                                    "Avg. Weekly Hours": "36.8"
                                },
                                {
                                    "industry_code": "20238110",
                                    "Avg. Weekly Hours": "36.7"
                                },
                                {
                                    "industry_code": "42441300",
                                    "Avg. Weekly Hours": "36.7"
                                },
                                {
                                    "industry_code": "55522120",
                                    "Avg. Weekly Hours": "36.7"
                                },
                                {
                                    "industry_code": "55524210",
                                    "Avg. Weekly Hours": "36.7"
                                },
                                {
                                    "industry_code": "55531312",
                                    "Avg. Weekly Hours": "36.7"
                                },
                                {
                                    "industry_code": "60541320",
                                    "Avg. Weekly Hours": "36.7"
                                },
                                {
                                    "industry_code": "60551112",
                                    "Avg. Weekly Hours": "36.7"
                                },
                                {
                                    "industry_code": "80811000",
                                    "Avg. Weekly Hours": "36.7"
                                },
                                {
                                    "industry_code": "20238330",
                                    "Avg. Weekly Hours": "36.6"
                                },
                                {
                                    "industry_code": "32311800",
                                    "Avg. Weekly Hours": "36.6"
                                },
                                {
                                    "industry_code": "42443142",
                                    "Avg. Weekly Hours": "36.6"
                                },
                                {
                                    "industry_code": "60541611",
                                    "Avg. Weekly Hours": "36.6"
                                },
                                {
                                    "industry_code": "60541990",
                                    "Avg. Weekly Hours": "36.6"
                                },
                                {
                                    "industry_code": "60561730",
                                    "Avg. Weekly Hours": "36.6"
                                },
                                {
                                    "industry_code": "80811212",
                                    "Avg. Weekly Hours": "36.6"
                                },
                                {
                                    "industry_code": "20236115",
                                    "Avg. Weekly Hours": "36.5"
                                },
                                {
                                    "industry_code": "42454000",
                                    "Avg. Weekly Hours": "36.5"
                                },
                                {
                                    "industry_code": "50517911",
                                    "Avg. Weekly Hours": "36.5"
                                },
                                {
                                    "industry_code": "60541100",
                                    "Avg. Weekly Hours": "36.5"
                                },
                                {
                                    "industry_code": "60541800",
                                    "Avg. Weekly Hours": "36.5"
                                },
                                {
                                    "industry_code": "20236118",
                                    "Avg. Weekly Hours": "36.4"
                                },
                                {
                                    "industry_code": "43488000",
                                    "Avg. Weekly Hours": "36.4"
                                },
                                {
                                    "industry_code": "50000000",
                                    "Avg. Weekly Hours": "36.4"
                                },
                                {
                                    "industry_code": "50511120",
                                    "Avg. Weekly Hours": "36.4"
                                },
                                {
                                    "industry_code": "60540000",
                                    "Avg. Weekly Hours": "36.4"
                                },
                                {
                                    "industry_code": "60541110",
                                    "Avg. Weekly Hours": "36.4"
                                },
                                {
                                    "industry_code": "60541600",
                                    "Avg. Weekly Hours": "36.4"
                                },
                                {
                                    "industry_code": "60541610",
                                    "Avg. Weekly Hours": "36.4"
                                },
                                {
                                    "industry_code": "60561100",
                                    "Avg. Weekly Hours": "36.4"
                                },
                                {
                                    "industry_code": "65622100",
                                    "Avg. Weekly Hours": "36.4"
                                },
                                {
                                    "industry_code": "80811000",
                                    "Avg. Weekly Hours": "36.4"
                                },
                                {
                                    "industry_code": "80811212",
                                    "Avg. Weekly Hours": "36.4"
                                },
                                {
                                    "industry_code": "80813910",
                                    "Avg. Weekly Hours": "36.4"
                                },
                                {
                                    "industry_code": "20238310",
                                    "Avg. Weekly Hours": "36.3"
                                },
                                {
                                    "industry_code": "32311700",
                                    "Avg. Weekly Hours": "36.3"
                                },
                                {
                                    "industry_code": "50511000",
                                    "Avg. Weekly Hours": "36.3"
                                },
                                {
                                    "industry_code": "60541191",
                                    "Avg. Weekly Hours": "36.3"
                                },
                                {
                                    "industry_code": "65622100",
                                    "Avg. Weekly Hours": "36.3"
                                },
                                {
                                    "industry_code": "20236100",
                                    "Avg. Weekly Hours": "36.2"
                                },
                                {
                                    "industry_code": "20238170",
                                    "Avg. Weekly Hours": "36.2"
                                },
                                {
                                    "industry_code": "32315000",
                                    "Avg. Weekly Hours": "36.2"
                                },
                                {
                                    "industry_code": "41424200",
                                    "Avg. Weekly Hours": "36.2"
                                },
                                {
                                    "industry_code": "42441310",
                                    "Avg. Weekly Hours": "36.2"
                                },
                                {
                                    "industry_code": "42443000",
                                    "Avg. Weekly Hours": "36.2"
                                },
                                {
                                    "industry_code": "65622000",
                                    "Avg. Weekly Hours": "36.2"
                                },
                                {
                                    "industry_code": "80811100",
                                    "Avg. Weekly Hours": "36.2"
                                },
                                {
                                    "industry_code": "20238300",
                                    "Avg. Weekly Hours": "36.1"
                                },
                                {
                                    "industry_code": "20238990",
                                    "Avg. Weekly Hours": "36.1"
                                },
                                {
                                    "industry_code": "31339116",
                                    "Avg. Weekly Hours": "36.1"
                                },
                                {
                                    "industry_code": "32315000",
                                    "Avg. Weekly Hours": "36.1"
                                },
                                {
                                    "industry_code": "42443142",
                                    "Avg. Weekly Hours": "36.1"
                                },
                                {
                                    "industry_code": "43488000",
                                    "Avg. Weekly Hours": "36.1"
                                },
                                {
                                    "industry_code": "55524200",
                                    "Avg. Weekly Hours": "36.1"
                                },
                                {
                                    "industry_code": "55532490",
                                    "Avg. Weekly Hours": "36.1"
                                },
                                {
                                    "industry_code": "60541810",
                                    "Avg. Weekly Hours": "36.1"
                                },
                                {
                                    "industry_code": "60561710",
                                    "Avg. Weekly Hours": "36.1"
                                },
                                {
                                    "industry_code": "65621990",
                                    "Avg. Weekly Hours": "36.1"
                                },
                                {
                                    "industry_code": "65622000",
                                    "Avg. Weekly Hours": "36.1"
                                },
                                {
                                    "industry_code": "80813920",
                                    "Avg. Weekly Hours": "36.1"
                                },
                                {
                                    "industry_code": "20238160",
                                    "Avg. Weekly Hours": "36"
                                },
                                {
                                    "industry_code": "41424500",
                                    "Avg. Weekly Hours": "36"
                                },
                                {
                                    "industry_code": "41424800",
                                    "Avg. Weekly Hours": "36"
                                },
                                {
                                    "industry_code": "20238350",
                                    "Avg. Weekly Hours": "35.9"
                                },
                                {
                                    "industry_code": "42454000",
                                    "Avg. Weekly Hours": "35.9"
                                },
                                {
                                    "industry_code": "42454112",
                                    "Avg. Weekly Hours": "35.9"
                                },
                                {
                                    "industry_code": "50000000",
                                    "Avg. Weekly Hours": "35.9"
                                },
                                {
                                    "industry_code": "55532490",
                                    "Avg. Weekly Hours": "35.9"
                                },
                                {
                                    "industry_code": "60541820",
                                    "Avg. Weekly Hours": "35.9"
                                },
                                {
                                    "industry_code": "60561440",
                                    "Avg. Weekly Hours": "35.9"
                                },
                                {
                                    "industry_code": "65621512",
                                    "Avg. Weekly Hours": "35.9"
                                },
                                {
                                    "industry_code": "20238320",
                                    "Avg. Weekly Hours": "35.8"
                                },
                                {
                                    "industry_code": "31339116",
                                    "Avg. Weekly Hours": "35.8"
                                },
                                {
                                    "industry_code": "43492000",
                                    "Avg. Weekly Hours": "35.8"
                                },
                                {
                                    "industry_code": "55524210",
                                    "Avg. Weekly Hours": "35.8"
                                },
                                {
                                    "industry_code": "55531312",
                                    "Avg. Weekly Hours": "35.8"
                                },
                                {
                                    "industry_code": "60541211",
                                    "Avg. Weekly Hours": "35.8"
                                },
                                {
                                    "industry_code": "60541613",
                                    "Avg. Weekly Hours": "35.8"
                                },
                                {
                                    "industry_code": "60561710",
                                    "Avg. Weekly Hours": "35.8"
                                },
                                {
                                    "industry_code": "65621498",
                                    "Avg. Weekly Hours": "35.8"
                                },
                                {
                                    "industry_code": "65623220",
                                    "Avg. Weekly Hours": "35.8"
                                },
                                {
                                    "industry_code": "80811100",
                                    "Avg. Weekly Hours": "35.8"
                                },
                                {
                                    "industry_code": "20238140",
                                    "Avg. Weekly Hours": "35.7"
                                },
                                {
                                    "industry_code": "20238390",
                                    "Avg. Weekly Hours": "35.7"
                                },
                                {
                                    "industry_code": "42443000",
                                    "Avg. Weekly Hours": "35.7"
                                },
                                {
                                    "industry_code": "43492000",
                                    "Avg. Weekly Hours": "35.7"
                                },
                                {
                                    "industry_code": "55523930",
                                    "Avg. Weekly Hours": "35.7"
                                },
                                {
                                    "industry_code": "60541800",
                                    "Avg. Weekly Hours": "35.7"
                                },
                                {
                                    "industry_code": "42442210",
                                    "Avg. Weekly Hours": "35.6"
                                },
                                {
                                    "industry_code": "50511120",
                                    "Avg. Weekly Hours": "35.6"
                                },
                                {
                                    "industry_code": "55531300",
                                    "Avg. Weekly Hours": "35.6"
                                },
                                {
                                    "industry_code": "55532300",
                                    "Avg. Weekly Hours": "35.6"
                                },
                                {
                                    "industry_code": "60541100",
                                    "Avg. Weekly Hours": "35.6"
                                },
                                {
                                    "industry_code": "60561440",
                                    "Avg. Weekly Hours": "35.6"
                                },
                                {
                                    "industry_code": "42454112",
                                    "Avg. Weekly Hours": "35.5"
                                },
                                {
                                    "industry_code": "50511100",
                                    "Avg. Weekly Hours": "35.5"
                                },
                                {
                                    "industry_code": "60541110",
                                    "Avg. Weekly Hours": "35.5"
                                },
                                {
                                    "industry_code": "60541990",
                                    "Avg. Weekly Hours": "35.5"
                                },
                                {
                                    "industry_code": "60561510",
                                    "Avg. Weekly Hours": "35.5"
                                },
                                {
                                    "industry_code": "65621498",
                                    "Avg. Weekly Hours": "35.5"
                                },
                                {
                                    "industry_code": "20236115",
                                    "Avg. Weekly Hours": "35.4"
                                },
                                {
                                    "industry_code": "42441200",
                                    "Avg. Weekly Hours": "35.4"
                                },
                                {
                                    "industry_code": "20238100",
                                    "Avg. Weekly Hours": "35.3"
                                },
                                {
                                    "industry_code": "42442210",
                                    "Avg. Weekly Hours": "35.3"
                                },
                                {
                                    "industry_code": "42454100",
                                    "Avg. Weekly Hours": "35.3"
                                },
                                {
                                    "industry_code": "60000000",
                                    "Avg. Weekly Hours": "35.3"
                                },
                                {
                                    "industry_code": "42441120",
                                    "Avg. Weekly Hours": "35.2"
                                },
                                {
                                    "industry_code": "42442100",
                                    "Avg. Weekly Hours": "35.2"
                                },
                                {
                                    "industry_code": "50511100",
                                    "Avg. Weekly Hours": "35.2"
                                },
                                {
                                    "industry_code": "55531310",
                                    "Avg. Weekly Hours": "35.2"
                                },
                                {
                                    "industry_code": "60541211",
                                    "Avg. Weekly Hours": "35.2"
                                },
                                {
                                    "industry_code": "65621512",
                                    "Avg. Weekly Hours": "35.2"
                                },
                                {
                                    "industry_code": "42454113",
                                    "Avg. Weekly Hours": "35.1"
                                },
                                {
                                    "industry_code": "42441120",
                                    "Avg. Weekly Hours": "35"
                                },
                                {
                                    "industry_code": "42442100",
                                    "Avg. Weekly Hours": "35"
                                },
                                {
                                    "industry_code": "55531300",
                                    "Avg. Weekly Hours": "35"
                                },
                                {
                                    "industry_code": "65623200",
                                    "Avg. Weekly Hours": "35"
                                },
                                {
                                    "industry_code": "65623220",
                                    "Avg. Weekly Hours": "35"
                                },
                                {
                                    "industry_code": "80813910",
                                    "Avg. Weekly Hours": "35"
                                },
                                {
                                    "industry_code": "20238350",
                                    "Avg. Weekly Hours": "34.9"
                                },
                                {
                                    "industry_code": "42454113",
                                    "Avg. Weekly Hours": "34.9"
                                },
                                {
                                    "industry_code": "55532000",
                                    "Avg. Weekly Hours": "34.9"
                                },
                                {
                                    "industry_code": "60541214",
                                    "Avg. Weekly Hours": "34.8"
                                },
                                {
                                    "industry_code": "55531310",
                                    "Avg. Weekly Hours": "34.7"
                                },
                                {
                                    "industry_code": "55531311",
                                    "Avg. Weekly Hours": "34.7"
                                },
                                {
                                    "industry_code": "60541214",
                                    "Avg. Weekly Hours": "34.7"
                                },
                                {
                                    "industry_code": "80813920",
                                    "Avg. Weekly Hours": "34.7"
                                },
                                {
                                    "industry_code": "43485000",
                                    "Avg. Weekly Hours": "34.6"
                                },
                                {
                                    "industry_code": "55532000",
                                    "Avg. Weekly Hours": "34.6"
                                },
                                {
                                    "industry_code": "60541820",
                                    "Avg. Weekly Hours": "34.6"
                                },
                                {
                                    "industry_code": "20238390",
                                    "Avg. Weekly Hours": "34.5"
                                },
                                {
                                    "industry_code": "42441200",
                                    "Avg. Weekly Hours": "34.5"
                                },
                                {
                                    "industry_code": "50515000",
                                    "Avg. Weekly Hours": "34.5"
                                },
                                {
                                    "industry_code": "50519000",
                                    "Avg. Weekly Hours": "34.5"
                                },
                                {
                                    "industry_code": "60541613",
                                    "Avg. Weekly Hours": "34.5"
                                },
                                {
                                    "industry_code": "60561430",
                                    "Avg. Weekly Hours": "34.5"
                                },
                                {
                                    "industry_code": "65623210",
                                    "Avg. Weekly Hours": "34.5"
                                },
                                {
                                    "industry_code": "60561510",
                                    "Avg. Weekly Hours": "34.4"
                                },
                                {
                                    "industry_code": "60561600",
                                    "Avg. Weekly Hours": "34.4"
                                },
                                {
                                    "industry_code": "55531000",
                                    "Avg. Weekly Hours": "34.3"
                                },
                                {
                                    "industry_code": "55531110",
                                    "Avg. Weekly Hours": "34.3"
                                },
                                {
                                    "industry_code": "55531311",
                                    "Avg. Weekly Hours": "34.3"
                                },
                                {
                                    "industry_code": "60561430",
                                    "Avg. Weekly Hours": "34.3"
                                },
                                {
                                    "industry_code": "60561500",
                                    "Avg. Weekly Hours": "34.3"
                                },
                                {
                                    "industry_code": "60561600",
                                    "Avg. Weekly Hours": "34.3"
                                },
                                {
                                    "industry_code": "41424930",
                                    "Avg. Weekly Hours": "34.2"
                                },
                                {
                                    "industry_code": "55531200",
                                    "Avg. Weekly Hours": "34.2"
                                },
                                {
                                    "industry_code": "65623200",
                                    "Avg. Weekly Hours": "34.2"
                                },
                                {
                                    "industry_code": "70713200",
                                    "Avg. Weekly Hours": "34.2"
                                },
                                {
                                    "industry_code": "50515000",
                                    "Avg. Weekly Hours": "34.1"
                                },
                                {
                                    "industry_code": "60541200",
                                    "Avg. Weekly Hours": "34.1"
                                },
                                {
                                    "industry_code": "65621111",
                                    "Avg. Weekly Hours": "34.1"
                                },
                                {
                                    "industry_code": "32311700",
                                    "Avg. Weekly Hours": "34"
                                },
                                {
                                    "industry_code": "43485900",
                                    "Avg. Weekly Hours": "34"
                                },
                                {
                                    "industry_code": "43488100",
                                    "Avg. Weekly Hours": "34"
                                },
                                {
                                    "industry_code": "60541200",
                                    "Avg. Weekly Hours": "34"
                                },
                                {
                                    "industry_code": "60561610",
                                    "Avg. Weekly Hours": "34"
                                },
                                {
                                    "industry_code": "65621100",
                                    "Avg. Weekly Hours": "34"
                                },
                                {
                                    "industry_code": "70713200",
                                    "Avg. Weekly Hours": "34"
                                },
                                {
                                    "industry_code": "55531000",
                                    "Avg. Weekly Hours": "33.9"
                                },
                                {
                                    "industry_code": "55531110",
                                    "Avg. Weekly Hours": "33.9"
                                },
                                {
                                    "industry_code": "60561610",
                                    "Avg. Weekly Hours": "33.9"
                                },
                                {
                                    "industry_code": "65621111",
                                    "Avg. Weekly Hours": "33.9"
                                },
                                {
                                    "industry_code": "65623900",
                                    "Avg. Weekly Hours": "33.9"
                                },
                                {
                                    "industry_code": "43488100",
                                    "Avg. Weekly Hours": "33.8"
                                },
                                {
                                    "industry_code": "60560000",
                                    "Avg. Weekly Hours": "33.8"
                                },
                                {
                                    "industry_code": "60561300",
                                    "Avg. Weekly Hours": "33.8"
                                },
                                {
                                    "industry_code": "60561320",
                                    "Avg. Weekly Hours": "33.8"
                                },
                                {
                                    "industry_code": "60561330",
                                    "Avg. Weekly Hours": "33.8"
                                },
                                {
                                    "industry_code": "65621100",
                                    "Avg. Weekly Hours": "33.8"
                                },
                                {
                                    "industry_code": "42444200",
                                    "Avg. Weekly Hours": "33.7"
                                },
                                {
                                    "industry_code": "43485000",
                                    "Avg. Weekly Hours": "33.7"
                                },
                                {
                                    "industry_code": "50519000",
                                    "Avg. Weekly Hours": "33.7"
                                },
                                {
                                    "industry_code": "60561310",
                                    "Avg. Weekly Hours": "33.7"
                                },
                                {
                                    "industry_code": "60561400",
                                    "Avg. Weekly Hours": "33.7"
                                },
                                {
                                    "industry_code": "60561900",
                                    "Avg. Weekly Hours": "33.7"
                                },
                                {
                                    "industry_code": "65621490",
                                    "Avg. Weekly Hours": "33.7"
                                },
                                {
                                    "industry_code": "65623210",
                                    "Avg. Weekly Hours": "33.7"
                                },
                                {
                                    "industry_code": "05000000",
                                    "Avg. Weekly Hours": "33.6"
                                },
                                {
                                    "industry_code": "20238140",
                                    "Avg. Weekly Hours": "33.6"
                                },
                                {
                                    "industry_code": "40000000",
                                    "Avg. Weekly Hours": "33.6"
                                },
                                {
                                    "industry_code": "42443141",
                                    "Avg. Weekly Hours": "33.6"
                                },
                                {
                                    "industry_code": "55531200",
                                    "Avg. Weekly Hours": "33.6"
                                },
                                {
                                    "industry_code": "60561400",
                                    "Avg. Weekly Hours": "33.6"
                                },
                                {
                                    "industry_code": "60561500",
                                    "Avg. Weekly Hours": "33.6"
                                },
                                {
                                    "industry_code": "80813319",
                                    "Avg. Weekly Hours": "33.6"
                                },
                                {
                                    "industry_code": "05000000",
                                    "Avg. Weekly Hours": "33.5"
                                },
                                {
                                    "industry_code": "43485900",
                                    "Avg. Weekly Hours": "33.5"
                                },
                                {
                                    "industry_code": "60561000",
                                    "Avg. Weekly Hours": "33.5"
                                },
                                {
                                    "industry_code": "60561300",
                                    "Avg. Weekly Hours": "33.5"
                                },
                                {
                                    "industry_code": "60561320",
                                    "Avg. Weekly Hours": "33.5"
                                },
                                {
                                    "industry_code": "65620001",
                                    "Avg. Weekly Hours": "33.5"
                                },
                                {
                                    "industry_code": "65621490",
                                    "Avg. Weekly Hours": "33.5"
                                },
                                {
                                    "industry_code": "43481000",
                                    "Avg. Weekly Hours": "33.4"
                                },
                                {
                                    "industry_code": "50511110",
                                    "Avg. Weekly Hours": "33.4"
                                },
                                {
                                    "industry_code": "60561310",
                                    "Avg. Weekly Hours": "33.4"
                                },
                                {
                                    "industry_code": "65621400",
                                    "Avg. Weekly Hours": "33.4"
                                },
                                {
                                    "industry_code": "80811400",
                                    "Avg. Weekly Hours": "33.4"
                                },
                                {
                                    "industry_code": "40000000",
                                    "Avg. Weekly Hours": "33.3"
                                },
                                {
                                    "industry_code": "50511110",
                                    "Avg. Weekly Hours": "33.3"
                                },
                                {
                                    "industry_code": "60560000",
                                    "Avg. Weekly Hours": "33.3"
                                },
                                {
                                    "industry_code": "60561330",
                                    "Avg. Weekly Hours": "33.3"
                                },
                                {
                                    "industry_code": "65623900",
                                    "Avg. Weekly Hours": "33.3"
                                },
                                {
                                    "industry_code": "80813200",
                                    "Avg. Weekly Hours": "33.3"
                                },
                                {
                                    "industry_code": "80813900",
                                    "Avg. Weekly Hours": "33.3"
                                },
                                {
                                    "industry_code": "20238160",
                                    "Avg. Weekly Hours": "33.2"
                                },
                                {
                                    "industry_code": "60561420",
                                    "Avg. Weekly Hours": "33.2"
                                },
                                {
                                    "industry_code": "60561790",
                                    "Avg. Weekly Hours": "33.2"
                                },
                                {
                                    "industry_code": "65620001",
                                    "Avg. Weekly Hours": "33.2"
                                },
                                {
                                    "industry_code": "80812300",
                                    "Avg. Weekly Hours": "33.2"
                                },
                                {
                                    "industry_code": "80813300",
                                    "Avg. Weekly Hours": "33.2"
                                },
                                {
                                    "industry_code": "20238130",
                                    "Avg. Weekly Hours": "33.1"
                                },
                                {
                                    "industry_code": "65621400",
                                    "Avg. Weekly Hours": "33.1"
                                },
                                {
                                    "industry_code": "20238170",
                                    "Avg. Weekly Hours": "33"
                                },
                                {
                                    "industry_code": "42443141",
                                    "Avg. Weekly Hours": "33"
                                },
                                {
                                    "industry_code": "60561000",
                                    "Avg. Weekly Hours": "33"
                                },
                                {
                                    "industry_code": "65623000",
                                    "Avg. Weekly Hours": "33"
                                },
                                {
                                    "industry_code": "80813319",
                                    "Avg. Weekly Hours": "33"
                                },
                                {
                                    "industry_code": "65623100",
                                    "Avg. Weekly Hours": "32.9"
                                },
                                {
                                    "industry_code": "55531100",
                                    "Avg. Weekly Hours": "32.8"
                                },
                                {
                                    "industry_code": "80811400",
                                    "Avg. Weekly Hours": "32.8"
                                },
                                {
                                    "industry_code": "42446130",
                                    "Avg. Weekly Hours": "32.7"
                                },
                                {
                                    "industry_code": "55531100",
                                    "Avg. Weekly Hours": "32.7"
                                },
                                {
                                    "industry_code": "65621420",
                                    "Avg. Weekly Hours": "32.7"
                                },
                                {
                                    "industry_code": "65624200",
                                    "Avg. Weekly Hours": "32.7"
                                },
                                {
                                    "industry_code": "70713930",
                                    "Avg. Weekly Hours": "32.7"
                                },
                                {
                                    "industry_code": "80812300",
                                    "Avg. Weekly Hours": "32.7"
                                },
                                {
                                    "industry_code": "65620000",
                                    "Avg. Weekly Hours": "32.6"
                                },
                                {
                                    "industry_code": "80813200",
                                    "Avg. Weekly Hours": "32.6"
                                },
                                {
                                    "industry_code": "42446130",
                                    "Avg. Weekly Hours": "32.5"
                                },
                                {
                                    "industry_code": "80813211",
                                    "Avg. Weekly Hours": "32.5"
                                },
                                {
                                    "industry_code": "80813300",
                                    "Avg. Weekly Hours": "32.5"
                                },
                                {
                                    "industry_code": "80813900",
                                    "Avg. Weekly Hours": "32.5"
                                },
                                {
                                    "industry_code": "08000000",
                                    "Avg. Weekly Hours": "32.4"
                                },
                                {
                                    "industry_code": "42447190",
                                    "Avg. Weekly Hours": "32.4"
                                },
                                {
                                    "industry_code": "60561730",
                                    "Avg. Weekly Hours": "32.4"
                                },
                                {
                                    "industry_code": "65000000",
                                    "Avg. Weekly Hours": "32.4"
                                },
                                {
                                    "industry_code": "65620000",
                                    "Avg. Weekly Hours": "32.4"
                                },
                                {
                                    "industry_code": "65623311",
                                    "Avg. Weekly Hours": "32.4"
                                },
                                {
                                    "industry_code": "08000000",
                                    "Avg. Weekly Hours": "32.3"
                                },
                                {
                                    "industry_code": "42444200",
                                    "Avg. Weekly Hours": "32.3"
                                },
                                {
                                    "industry_code": "60561920",
                                    "Avg. Weekly Hours": "32.3"
                                },
                                {
                                    "industry_code": "65623000",
                                    "Avg. Weekly Hours": "32.3"
                                },
                                {
                                    "industry_code": "60561920",
                                    "Avg. Weekly Hours": "32.2"
                                },
                                {
                                    "industry_code": "65000000",
                                    "Avg. Weekly Hours": "32.2"
                                },
                                {
                                    "industry_code": "65621420",
                                    "Avg. Weekly Hours": "32.2"
                                },
                                {
                                    "industry_code": "65623100",
                                    "Avg. Weekly Hours": "32.1"
                                },
                                {
                                    "industry_code": "65624200",
                                    "Avg. Weekly Hours": "32.1"
                                },
                                {
                                    "industry_code": "42447190",
                                    "Avg. Weekly Hours": "32"
                                },
                                {
                                    "industry_code": "43481000",
                                    "Avg. Weekly Hours": "32"
                                },
                                {
                                    "industry_code": "60561790",
                                    "Avg. Weekly Hours": "32"
                                },
                                {
                                    "industry_code": "65623311",
                                    "Avg. Weekly Hours": "32"
                                },
                                {
                                    "industry_code": "20238130",
                                    "Avg. Weekly Hours": "31.9"
                                },
                                {
                                    "industry_code": "43488110",
                                    "Avg. Weekly Hours": "31.8"
                                },
                                {
                                    "industry_code": "65623300",
                                    "Avg. Weekly Hours": "31.8"
                                },
                                {
                                    "industry_code": "80813311",
                                    "Avg. Weekly Hours": "31.8"
                                },
                                {
                                    "industry_code": "43488110",
                                    "Avg. Weekly Hours": "31.7"
                                },
                                {
                                    "industry_code": "60541920",
                                    "Avg. Weekly Hours": "31.7"
                                },
                                {
                                    "industry_code": "60561990",
                                    "Avg. Weekly Hours": "31.7"
                                },
                                {
                                    "industry_code": "65621000",
                                    "Avg. Weekly Hours": "31.7"
                                },
                                {
                                    "industry_code": "80813990",
                                    "Avg. Weekly Hours": "31.7"
                                },
                                {
                                    "industry_code": "70713930",
                                    "Avg. Weekly Hours": "31.6"
                                },
                                {
                                    "industry_code": "60561740",
                                    "Avg. Weekly Hours": "31.5"
                                },
                                {
                                    "industry_code": "60561990",
                                    "Avg. Weekly Hours": "31.5"
                                },
                                {
                                    "industry_code": "50515110",
                                    "Avg. Weekly Hours": "31.4"
                                },
                                {
                                    "industry_code": "60561700",
                                    "Avg. Weekly Hours": "31.4"
                                },
                                {
                                    "industry_code": "65621000",
                                    "Avg. Weekly Hours": "31.4"
                                },
                                {
                                    "industry_code": "65623300",
                                    "Avg. Weekly Hours": "31.4"
                                },
                                {
                                    "industry_code": "42444000",
                                    "Avg. Weekly Hours": "31.3"
                                },
                                {
                                    "industry_code": "80811190",
                                    "Avg. Weekly Hours": "31.3"
                                },
                                {
                                    "industry_code": "80813211",
                                    "Avg. Weekly Hours": "31.3"
                                },
                                {
                                    "industry_code": "42444100",
                                    "Avg. Weekly Hours": "31.2"
                                },
                                {
                                    "industry_code": "42445220",
                                    "Avg. Weekly Hours": "31.2"
                                },
                                {
                                    "industry_code": "43488300",
                                    "Avg. Weekly Hours": "31.2"
                                },
                                {
                                    "industry_code": "50515110",
                                    "Avg. Weekly Hours": "31.2"
                                },
                                {
                                    "industry_code": "65623312",
                                    "Avg. Weekly Hours": "31.2"
                                },
                                {
                                    "industry_code": "80813311",
                                    "Avg. Weekly Hours": "31.2"
                                },
                                {
                                    "industry_code": "80813990",
                                    "Avg. Weekly Hours": "31.2"
                                },
                                {
                                    "industry_code": "42442000",
                                    "Avg. Weekly Hours": "31.1"
                                },
                                {
                                    "industry_code": "42445220",
                                    "Avg. Weekly Hours": "31.1"
                                },
                                {
                                    "industry_code": "60541890",
                                    "Avg. Weekly Hours": "31.1"
                                },
                                {
                                    "industry_code": "60541900",
                                    "Avg. Weekly Hours": "31.1"
                                },
                                {
                                    "industry_code": "42444000",
                                    "Avg. Weekly Hours": "31"
                                },
                                {
                                    "industry_code": "55531120",
                                    "Avg. Weekly Hours": "31"
                                },
                                {
                                    "industry_code": "60541890",
                                    "Avg. Weekly Hours": "31"
                                },
                                {
                                    "industry_code": "43484210",
                                    "Avg. Weekly Hours": "30.9"
                                },
                                {
                                    "industry_code": "43488300",
                                    "Avg. Weekly Hours": "30.9"
                                },
                                {
                                    "industry_code": "42444100",
                                    "Avg. Weekly Hours": "30.8"
                                },
                                {
                                    "industry_code": "43485400",
                                    "Avg. Weekly Hours": "30.8"
                                },
                                {
                                    "industry_code": "65623312",
                                    "Avg. Weekly Hours": "30.8"
                                },
                                {
                                    "industry_code": "80000000",
                                    "Avg. Weekly Hours": "30.8"
                                },
                                {
                                    "industry_code": "80813930",
                                    "Avg. Weekly Hours": "30.8"
                                },
                                {
                                    "industry_code": "60541920",
                                    "Avg. Weekly Hours": "30.7"
                                },
                                {
                                    "industry_code": "80000000",
                                    "Avg. Weekly Hours": "30.7"
                                },
                                {
                                    "industry_code": "60541900",
                                    "Avg. Weekly Hours": "30.6"
                                },
                                {
                                    "industry_code": "65624190",
                                    "Avg. Weekly Hours": "30.6"
                                },
                                {
                                    "industry_code": "80812320",
                                    "Avg. Weekly Hours": "30.6"
                                },
                                {
                                    "industry_code": "42447000",
                                    "Avg. Weekly Hours": "30.4"
                                },
                                {
                                    "industry_code": "55531120",
                                    "Avg. Weekly Hours": "30.4"
                                },
                                {
                                    "industry_code": "65624190",
                                    "Avg. Weekly Hours": "30.4"
                                },
                                {
                                    "industry_code": "42448300",
                                    "Avg. Weekly Hours": "30.3"
                                },
                                {
                                    "industry_code": "65621112",
                                    "Avg. Weekly Hours": "30.3"
                                },
                                {
                                    "industry_code": "42447110",
                                    "Avg. Weekly Hours": "30.2"
                                },
                                {
                                    "industry_code": "65624300",
                                    "Avg. Weekly Hours": "30.2"
                                },
                                {
                                    "industry_code": "65624400",
                                    "Avg. Weekly Hours": "30.2"
                                },
                                {
                                    "industry_code": "42444130",
                                    "Avg. Weekly Hours": "30.1"
                                },
                                {
                                    "industry_code": "42446120",
                                    "Avg. Weekly Hours": "30.1"
                                },
                                {
                                    "industry_code": "80813000",
                                    "Avg. Weekly Hours": "30.1"
                                },
                                {
                                    "industry_code": "42447000",
                                    "Avg. Weekly Hours": "30"
                                },
                                {
                                    "industry_code": "65624300",
                                    "Avg. Weekly Hours": "30"
                                },
                                {
                                    "industry_code": "65624400",
                                    "Avg. Weekly Hours": "30"
                                },
                                {
                                    "industry_code": "70721110",
                                    "Avg. Weekly Hours": "29.9"
                                },
                                {
                                    "industry_code": "80813000",
                                    "Avg. Weekly Hours": "29.9"
                                },
                                {
                                    "industry_code": "42000000",
                                    "Avg. Weekly Hours": "29.8"
                                },
                                {
                                    "industry_code": "42444130",
                                    "Avg. Weekly Hours": "29.8"
                                },
                                {
                                    "industry_code": "42446190",
                                    "Avg. Weekly Hours": "29.8"
                                },
                                {
                                    "industry_code": "65624110",
                                    "Avg. Weekly Hours": "29.8"
                                },
                                {
                                    "industry_code": "70721100",
                                    "Avg. Weekly Hours": "29.8"
                                },
                                {
                                    "industry_code": "80811190",
                                    "Avg. Weekly Hours": "29.8"
                                },
                                {
                                    "industry_code": "80812320",
                                    "Avg. Weekly Hours": "29.8"
                                },
                                {
                                    "industry_code": "42446190",
                                    "Avg. Weekly Hours": "29.7"
                                },
                                {
                                    "industry_code": "42447110",
                                    "Avg. Weekly Hours": "29.7"
                                },
                                {
                                    "industry_code": "42448300",
                                    "Avg. Weekly Hours": "29.7"
                                },
                                {
                                    "industry_code": "42453900",
                                    "Avg. Weekly Hours": "29.7"
                                },
                                {
                                    "industry_code": "42453910",
                                    "Avg. Weekly Hours": "29.7"
                                },
                                {
                                    "industry_code": "43484210",
                                    "Avg. Weekly Hours": "29.7"
                                },
                                {
                                    "industry_code": "65624110",
                                    "Avg. Weekly Hours": "29.7"
                                },
                                {
                                    "industry_code": "70721000",
                                    "Avg. Weekly Hours": "29.7"
                                },
                                {
                                    "industry_code": "42445120",
                                    "Avg. Weekly Hours": "29.6"
                                },
                                {
                                    "industry_code": "42446000",
                                    "Avg. Weekly Hours": "29.6"
                                },
                                {
                                    "industry_code": "42453210",
                                    "Avg. Weekly Hours": "29.6"
                                },
                                {
                                    "industry_code": "42000000",
                                    "Avg. Weekly Hours": "29.5"
                                },
                                {
                                    "industry_code": "42446110",
                                    "Avg. Weekly Hours": "29.5"
                                },
                                {
                                    "industry_code": "60561740",
                                    "Avg. Weekly Hours": "29.5"
                                },
                                {
                                    "industry_code": "42446000",
                                    "Avg. Weekly Hours": "29.4"
                                },
                                {
                                    "industry_code": "60561700",
                                    "Avg. Weekly Hours": "29.4"
                                },
                                {
                                    "industry_code": "42453910",
                                    "Avg. Weekly Hours": "29.3"
                                },
                                {
                                    "industry_code": "43485400",
                                    "Avg. Weekly Hours": "29.3"
                                },
                                {
                                    "industry_code": "65621320",
                                    "Avg. Weekly Hours": "29.3"
                                },
                                {
                                    "industry_code": "42453900",
                                    "Avg. Weekly Hours": "29.2"
                                },
                                {
                                    "industry_code": "42444110",
                                    "Avg. Weekly Hours": "29.1"
                                },
                                {
                                    "industry_code": "42452000",
                                    "Avg. Weekly Hours": "29.1"
                                },
                                {
                                    "industry_code": "65621112",
                                    "Avg. Weekly Hours": "29.1"
                                },
                                {
                                    "industry_code": "70721100",
                                    "Avg. Weekly Hours": "29.1"
                                },
                                {
                                    "industry_code": "70721110",
                                    "Avg. Weekly Hours": "29.1"
                                },
                                {
                                    "industry_code": "80812930",
                                    "Avg. Weekly Hours": "29.1"
                                },
                                {
                                    "industry_code": "42445120",
                                    "Avg. Weekly Hours": "29"
                                },
                                {
                                    "industry_code": "42453210",
                                    "Avg. Weekly Hours": "29"
                                },
                                {
                                    "industry_code": "60541940",
                                    "Avg. Weekly Hours": "29"
                                },
                                {
                                    "industry_code": "65624000",
                                    "Avg. Weekly Hours": "29"
                                },
                                {
                                    "industry_code": "70721000",
                                    "Avg. Weekly Hours": "29"
                                },
                                {
                                    "industry_code": "42446110",
                                    "Avg. Weekly Hours": "28.9"
                                },
                                {
                                    "industry_code": "60541940",
                                    "Avg. Weekly Hours": "28.9"
                                },
                                {
                                    "industry_code": "65621600",
                                    "Avg. Weekly Hours": "28.9"
                                },
                                {
                                    "industry_code": "42453300",
                                    "Avg. Weekly Hours": "28.8"
                                },
                                {
                                    "industry_code": "65624000",
                                    "Avg. Weekly Hours": "28.8"
                                },
                                {
                                    "industry_code": "80812200",
                                    "Avg. Weekly Hours": "28.8"
                                },
                                {
                                    "industry_code": "65621600",
                                    "Avg. Weekly Hours": "28.7"
                                },
                                {
                                    "industry_code": "70711200",
                                    "Avg. Weekly Hours": "28.7"
                                },
                                {
                                    "industry_code": "80812200",
                                    "Avg. Weekly Hours": "28.7"
                                },
                                {
                                    "industry_code": "42453300",
                                    "Avg. Weekly Hours": "28.6"
                                },
                                {
                                    "industry_code": "42444110",
                                    "Avg. Weekly Hours": "28.5"
                                },
                                {
                                    "industry_code": "42446120",
                                    "Avg. Weekly Hours": "28.5"
                                },
                                {
                                    "industry_code": "42452000",
                                    "Avg. Weekly Hours": "28.4"
                                },
                                {
                                    "industry_code": "65621340",
                                    "Avg. Weekly Hours": "28.4"
                                },
                                {
                                    "industry_code": "70711500",
                                    "Avg. Weekly Hours": "28.4"
                                },
                                {
                                    "industry_code": "60541910",
                                    "Avg. Weekly Hours": "28.3"
                                },
                                {
                                    "industry_code": "65621320",
                                    "Avg. Weekly Hours": "28.3"
                                },
                                {
                                    "industry_code": "65621390",
                                    "Avg. Weekly Hours": "28.3"
                                },
                                {
                                    "industry_code": "42445100",
                                    "Avg. Weekly Hours": "28.2"
                                },
                                {
                                    "industry_code": "42445000",
                                    "Avg. Weekly Hours": "28.1"
                                },
                                {
                                    "industry_code": "42445110",
                                    "Avg. Weekly Hours": "28.1"
                                },
                                {
                                    "industry_code": "65621300",
                                    "Avg. Weekly Hours": "28.1"
                                },
                                {
                                    "industry_code": "65621390",
                                    "Avg. Weekly Hours": "28.1"
                                },
                                {
                                    "industry_code": "65624100",
                                    "Avg. Weekly Hours": "28.1"
                                },
                                {
                                    "industry_code": "42453000",
                                    "Avg. Weekly Hours": "28"
                                },
                                {
                                    "industry_code": "65621493",
                                    "Avg. Weekly Hours": "28"
                                },
                                {
                                    "industry_code": "70722310",
                                    "Avg. Weekly Hours": "28"
                                },
                                {
                                    "industry_code": "80812930",
                                    "Avg. Weekly Hours": "28"
                                },
                                {
                                    "industry_code": "42445100",
                                    "Avg. Weekly Hours": "27.9"
                                },
                                {
                                    "industry_code": "42445200",
                                    "Avg. Weekly Hours": "27.9"
                                },
                                {
                                    "industry_code": "65621200",
                                    "Avg. Weekly Hours": "27.9"
                                },
                                {
                                    "industry_code": "65621493",
                                    "Avg. Weekly Hours": "27.9"
                                },
                                {
                                    "industry_code": "80811192",
                                    "Avg. Weekly Hours": "27.9"
                                },
                                {
                                    "industry_code": "42445000",
                                    "Avg. Weekly Hours": "27.8"
                                },
                                {
                                    "industry_code": "42445110",
                                    "Avg. Weekly Hours": "27.8"
                                },
                                {
                                    "industry_code": "65621340",
                                    "Avg. Weekly Hours": "27.8"
                                },
                                {
                                    "industry_code": "65624100",
                                    "Avg. Weekly Hours": "27.8"
                                },
                                {
                                    "industry_code": "70711500",
                                    "Avg. Weekly Hours": "27.8"
                                },
                                {
                                    "industry_code": "42442200",
                                    "Avg. Weekly Hours": "27.6"
                                },
                                {
                                    "industry_code": "42445200",
                                    "Avg. Weekly Hours": "27.6"
                                },
                                {
                                    "industry_code": "42453000",
                                    "Avg. Weekly Hours": "27.6"
                                },
                                {
                                    "industry_code": "60541910",
                                    "Avg. Weekly Hours": "27.6"
                                },
                                {
                                    "industry_code": "65621300",
                                    "Avg. Weekly Hours": "27.6"
                                },
                                {
                                    "industry_code": "42442200",
                                    "Avg. Weekly Hours": "27.4"
                                },
                                {
                                    "industry_code": "65621200",
                                    "Avg. Weekly Hours": "27.4"
                                },
                                {
                                    "industry_code": "65624120",
                                    "Avg. Weekly Hours": "27.4"
                                },
                                {
                                    "industry_code": "80812000",
                                    "Avg. Weekly Hours": "27.4"
                                },
                                {
                                    "industry_code": "60541720",
                                    "Avg. Weekly Hours": "27.3"
                                },
                                {
                                    "industry_code": "60561720",
                                    "Avg. Weekly Hours": "27.3"
                                },
                                {
                                    "industry_code": "70722310",
                                    "Avg. Weekly Hours": "27.3"
                                },
                                {
                                    "industry_code": "50512000",
                                    "Avg. Weekly Hours": "27.2"
                                },
                                {
                                    "industry_code": "60541720",
                                    "Avg. Weekly Hours": "27.2"
                                },
                                {
                                    "industry_code": "80812000",
                                    "Avg. Weekly Hours": "27.2"
                                },
                                {
                                    "industry_code": "60561720",
                                    "Avg. Weekly Hours": "27.1"
                                },
                                {
                                    "industry_code": "65621330",
                                    "Avg. Weekly Hours": "27"
                                },
                                {
                                    "industry_code": "65624120",
                                    "Avg. Weekly Hours": "27"
                                },
                                {
                                    "industry_code": "80812900",
                                    "Avg. Weekly Hours": "27"
                                },
                                {
                                    "industry_code": "42453100",
                                    "Avg. Weekly Hours": "26.9"
                                },
                                {
                                    "industry_code": "50512000",
                                    "Avg. Weekly Hours": "26.9"
                                },
                                {
                                    "industry_code": "80812900",
                                    "Avg. Weekly Hours": "26.9"
                                },
                                {
                                    "industry_code": "70721200",
                                    "Avg. Weekly Hours": "26.7"
                                },
                                {
                                    "industry_code": "70721200",
                                    "Avg. Weekly Hours": "26.6"
                                },
                                {
                                    "industry_code": "70722514",
                                    "Avg. Weekly Hours": "26.6"
                                },
                                {
                                    "industry_code": "42445300",
                                    "Avg. Weekly Hours": "26.5"
                                },
                                {
                                    "industry_code": "65621330",
                                    "Avg. Weekly Hours": "26.5"
                                },
                                {
                                    "industry_code": "70711200",
                                    "Avg. Weekly Hours": "26.5"
                                },
                                {
                                    "industry_code": "42445300",
                                    "Avg. Weekly Hours": "26.4"
                                },
                                {
                                    "industry_code": "80812310",
                                    "Avg. Weekly Hours": "26.4"
                                },
                                {
                                    "industry_code": "70712190",
                                    "Avg. Weekly Hours": "26.3"
                                },
                                {
                                    "industry_code": "80812910",
                                    "Avg. Weekly Hours": "26.3"
                                },
                                {
                                    "industry_code": "42451110",
                                    "Avg. Weekly Hours": "26.2"
                                },
                                {
                                    "industry_code": "42451120",
                                    "Avg. Weekly Hours": "26.2"
                                },
                                {
                                    "industry_code": "70711000",
                                    "Avg. Weekly Hours": "26.2"
                                },
                                {
                                    "industry_code": "70722514",
                                    "Avg. Weekly Hours": "26.2"
                                },
                                {
                                    "industry_code": "80812310",
                                    "Avg. Weekly Hours": "26.2"
                                },
                                {
                                    "industry_code": "42451100",
                                    "Avg. Weekly Hours": "26.1"
                                },
                                {
                                    "industry_code": "65621310",
                                    "Avg. Weekly Hours": "26.1"
                                },
                                {
                                    "industry_code": "65621310",
                                    "Avg. Weekly Hours": "26"
                                },
                                {
                                    "industry_code": "70712190",
                                    "Avg. Weekly Hours": "26"
                                },
                                {
                                    "industry_code": "80811192",
                                    "Avg. Weekly Hours": "25.8"
                                },
                                {
                                    "industry_code": "42451000",
                                    "Avg. Weekly Hours": "25.7"
                                },
                                {
                                    "industry_code": "42453200",
                                    "Avg. Weekly Hours": "25.7"
                                },
                                {
                                    "industry_code": "70722300",
                                    "Avg. Weekly Hours": "25.7"
                                },
                                {
                                    "industry_code": "42451100",
                                    "Avg. Weekly Hours": "25.6"
                                },
                                {
                                    "industry_code": "42451110",
                                    "Avg. Weekly Hours": "25.6"
                                },
                                {
                                    "industry_code": "80812110",
                                    "Avg. Weekly Hours": "25.5"
                                },
                                {
                                    "industry_code": "42453200",
                                    "Avg. Weekly Hours": "25.4"
                                },
                                {
                                    "industry_code": "70713910",
                                    "Avg. Weekly Hours": "25.4"
                                },
                                {
                                    "industry_code": "42451000",
                                    "Avg. Weekly Hours": "25.3"
                                },
                                {
                                    "industry_code": "42451120",
                                    "Avg. Weekly Hours": "25.3"
                                },
                                {
                                    "industry_code": "70711000",
                                    "Avg. Weekly Hours": "25.3"
                                },
                                {
                                    "industry_code": "70712000",
                                    "Avg. Weekly Hours": "25.3"
                                },
                                {
                                    "industry_code": "70720000",
                                    "Avg. Weekly Hours": "25.2"
                                },
                                {
                                    "industry_code": "80812910",
                                    "Avg. Weekly Hours": "25.2"
                                },
                                {
                                    "industry_code": "42453100",
                                    "Avg. Weekly Hours": "25.1"
                                },
                                {
                                    "industry_code": "80812110",
                                    "Avg. Weekly Hours": "25.1"
                                },
                                {
                                    "industry_code": "70711300",
                                    "Avg. Weekly Hours": "24.9"
                                },
                                {
                                    "industry_code": "80812100",
                                    "Avg. Weekly Hours": "24.9"
                                },
                                {
                                    "industry_code": "70000000",
                                    "Avg. Weekly Hours": "24.8"
                                },
                                {
                                    "industry_code": "70711100",
                                    "Avg. Weekly Hours": "24.7"
                                },
                                {
                                    "industry_code": "70712110",
                                    "Avg. Weekly Hours": "24.7"
                                },
                                {
                                    "industry_code": "70713910",
                                    "Avg. Weekly Hours": "24.7"
                                },
                                {
                                    "industry_code": "70722300",
                                    "Avg. Weekly Hours": "24.7"
                                },
                                {
                                    "industry_code": "70711100",
                                    "Avg. Weekly Hours": "24.6"
                                },
                                {
                                    "industry_code": "70720000",
                                    "Avg. Weekly Hours": "24.6"
                                },
                                {
                                    "industry_code": "70722511",
                                    "Avg. Weekly Hours": "24.6"
                                },
                                {
                                    "industry_code": "80812100",
                                    "Avg. Weekly Hours": "24.6"
                                },
                                {
                                    "industry_code": "70722513",
                                    "Avg. Weekly Hours": "24.5"
                                },
                                {
                                    "industry_code": "42442290",
                                    "Avg. Weekly Hours": "24.4"
                                },
                                {
                                    "industry_code": "70722000",
                                    "Avg. Weekly Hours": "24.4"
                                },
                                {
                                    "industry_code": "70722500",
                                    "Avg. Weekly Hours": "24.4"
                                },
                                {
                                    "industry_code": "42442290",
                                    "Avg. Weekly Hours": "24.3"
                                },
                                {
                                    "industry_code": "70000000",
                                    "Avg. Weekly Hours": "24.3"
                                },
                                {
                                    "industry_code": "70711300",
                                    "Avg. Weekly Hours": "24.2"
                                },
                                {
                                    "industry_code": "70722511",
                                    "Avg. Weekly Hours": "24"
                                },
                                {
                                    "industry_code": "42448200",
                                    "Avg. Weekly Hours": "23.9"
                                },
                                {
                                    "industry_code": "70722000",
                                    "Avg. Weekly Hours": "23.9"
                                },
                                {
                                    "industry_code": "42451200",
                                    "Avg. Weekly Hours": "23.8"
                                },
                                {
                                    "industry_code": "70722500",
                                    "Avg. Weekly Hours": "23.8"
                                },
                                {
                                    "industry_code": "70722513",
                                    "Avg. Weekly Hours": "23.8"
                                },
                                {
                                    "industry_code": "42453220",
                                    "Avg. Weekly Hours": "23.6"
                                },
                                {
                                    "industry_code": "42448200",
                                    "Avg. Weekly Hours": "23.3"
                                },
                                {
                                    "industry_code": "70710000",
                                    "Avg. Weekly Hours": "23"
                                },
                                {
                                    "industry_code": "80812190",
                                    "Avg. Weekly Hours": "23"
                                },
                                {
                                    "industry_code": "70710000",
                                    "Avg. Weekly Hours": "22.8"
                                },
                                {
                                    "industry_code": "70722515",
                                    "Avg. Weekly Hours": "22.8"
                                },
                                {
                                    "industry_code": "80812190",
                                    "Avg. Weekly Hours": "22.8"
                                },
                                {
                                    "industry_code": "42453220",
                                    "Avg. Weekly Hours": "22.4"
                                },
                                {
                                    "industry_code": "70722515",
                                    "Avg. Weekly Hours": "22.4"
                                },
                                {
                                    "industry_code": "70713000",
                                    "Avg. Weekly Hours": "22.1"
                                },
                                {
                                    "industry_code": "42448000",
                                    "Avg. Weekly Hours": "21.9"
                                },
                                {
                                    "industry_code": "42448150",
                                    "Avg. Weekly Hours": "21.7"
                                },
                                {
                                    "industry_code": "70713000",
                                    "Avg. Weekly Hours": "21.6"
                                },
                                {
                                    "industry_code": "70722400",
                                    "Avg. Weekly Hours": "21.4"
                                },
                                {
                                    "industry_code": "70722400",
                                    "Avg. Weekly Hours": "21.3"
                                },
                                {
                                    "industry_code": "70722330",
                                    "Avg. Weekly Hours": "20.9"
                                },
                                {
                                    "industry_code": "42448000",
                                    "Avg. Weekly Hours": "20.7"
                                },
                                {
                                    "industry_code": "42448150",
                                    "Avg. Weekly Hours": "20.7"
                                },
                                {
                                    "industry_code": "70713950",
                                    "Avg. Weekly Hours": "20.4"
                                },
                                {
                                    "industry_code": "42448100",
                                    "Avg. Weekly Hours": "20.3"
                                },
                                {
                                    "industry_code": "70713950",
                                    "Avg. Weekly Hours": "20"
                                },
                                {
                                    "industry_code": "42448140",
                                    "Avg. Weekly Hours": "19.8"
                                },
                                {
                                    "industry_code": "70713920",
                                    "Avg. Weekly Hours": "19.6"
                                },
                                {
                                    "industry_code": "42448120",
                                    "Avg. Weekly Hours": "19.5"
                                },
                                {
                                    "industry_code": "70722330",
                                    "Avg. Weekly Hours": "19.4"
                                },
                                {
                                    "industry_code": "70713920",
                                    "Avg. Weekly Hours": "19"
                                },
                                {
                                    "industry_code": "42448100",
                                    "Avg. Weekly Hours": "18.9"
                                },
                                {
                                    "industry_code": "80813400",
                                    "Avg. Weekly Hours": "18.5"
                                },
                                {
                                    "industry_code": "42448120",
                                    "Avg. Weekly Hours": "18.1"
                                },
                                {
                                    "industry_code": "80813400",
                                    "Avg. Weekly Hours": "18.1"
                                },
                                {
                                    "industry_code": "42448140",
                                    "Avg. Weekly Hours": "17.8"
                                },
                                {
                                    "industry_code": "70713940",
                                    "Avg. Weekly Hours": "17"
                                },
                                {
                                    "industry_code": "70713940",
                                    "Avg. Weekly Hours": "16.7"
                                }
                            ]
                        },
                        "text/html": "<table><tr><th>industry_code</th><th>Avg. Weekly Hours</th></tr><tr><td>31336350</td><td>49.8</td></tr><tr><td>31336350</td><td>49.4</td></tr><tr><td>10212319</td><td>47.4</td></tr><tr><td>10212312</td><td>47.3</td></tr><tr><td>10213000</td><td>47.3</td></tr><tr><td>10212310</td><td>47.2</td></tr><tr><td>10213000</td><td>47.1</td></tr><tr><td>20237120</td><td>47.1</td></tr><tr><td>31336370</td><td>46.8</td></tr><tr><td>10213112</td><td>46.7</td></tr><tr><td>10212100</td><td>46.6</td></tr><tr><td>31336370</td><td>46.6</td></tr><tr><td>10210000</td><td>46.3</td></tr><tr><td>10212000</td><td>46.1</td></tr><tr><td>10212000</td><td>45.9</td></tr><tr><td>10000000</td><td>45.8</td></tr><tr><td>10210000</td><td>45.8</td></tr><tr><td>31327390</td><td>45.8</td></tr><tr><td>31332400</td><td>45.7</td></tr><tr><td>32324000</td><td>45.6</td></tr><tr><td>10000000</td><td>45.5</td></tr><tr><td>60562200</td><td>45.2</td></tr><tr><td>20237120</td><td>45.1</td></tr><tr><td>31336100</td><td>45.1</td></tr><tr><td>32324000</td><td>45.1</td></tr><tr><td>32325100</td><td>45.1</td></tr><tr><td>60562200</td><td>45.1</td></tr><tr><td>31336300</td><td>44.7</td></tr><tr><td>43486000</td><td>44.7</td></tr><tr><td>32325100</td><td>44.6</td></tr><tr><td>20237130</td><td>44.5</td></tr><tr><td>31336300</td><td>44.5</td></tr><tr><td>32326200</td><td>44.5</td></tr><tr><td>10211000</td><td>44.4</td></tr><tr><td>20237100</td><td>44.3</td></tr><tr><td>31332910</td><td>44.3</td></tr><tr><td>20237900</td><td>44.2</td></tr><tr><td>32326200</td><td>44.2</td></tr><tr><td>10212312</td><td>44.1</td></tr><tr><td>31327390</td><td>44.1</td></tr><tr><td>31333600</td><td>44.1</td></tr><tr><td>31339113</td><td>44.1</td></tr><tr><td>32311410</td><td>44.1</td></tr><tr><td>43484220</td><td>44.1</td></tr><tr><td>20237000</td><td>44</td></tr><tr><td>31327300</td><td>44</td></tr><tr><td>31332910</td><td>44</td></tr><tr><td>31333600</td><td>44</td></tr><tr><td>31336000</td><td>44</td></tr><tr><td>31336100</td><td>44</td></tr><tr><td>31336390</td><td>44</td></tr><tr><td>10212310</td><td>43.9</td></tr><tr><td>20237300</td><td>43.9</td></tr><tr><td>31321918</td><td>43.9</td></tr><tr><td>31336001</td><td>43.9</td></tr><tr><td>31336390</td><td>43.9</td></tr><tr><td>32322100</td><td>43.9</td></tr><tr><td>44221100</td><td>43.9</td></tr><tr><td>31336001</td><td>43.8</td></tr><tr><td>31336310</td><td>43.8</td></tr><tr><td>32322211</td><td>43.8</td></tr><tr><td>43486000</td><td>43.8</td></tr><tr><td>44221112</td><td>43.8</td></tr><tr><td>31336000</td><td>43.7</td></tr><tr><td>44221120</td><td>43.7</td></tr><tr><td>10212319</td><td>43.6</td></tr><tr><td>31333514</td><td>43.6</td></tr><tr><td>32322100</td><td>43.6</td></tr><tr><td>44221120</td><td>43.6</td></tr><tr><td>31333200</td><td>43.5</td></tr><tr><td>31336310</td><td>43.5</td></tr><tr><td>31336400</td><td>43.5</td></tr><tr><td>32311410</td><td>43.5</td></tr><tr><td>32311600</td><td>43.5</td></tr><tr><td>31321918</td><td>43.4</td></tr><tr><td>31333400</td><td>43.4</td></tr><tr><td>31333514</td><td>43.4</td></tr><tr><td>31335900</td><td>43.4</td></tr><tr><td>31336400</td><td>43.4</td></tr><tr><td>32311600</td><td>43.4</td></tr><tr><td>32322210</td><td>43.4</td></tr><tr><td>44221100</td><td>43.4</td></tr><tr><td>44221110</td><td>43.4</td></tr><tr><td>32322211</td><td>43.3</td></tr><tr><td>43484230</td><td>43.3</td></tr><tr><td>44220000</td><td>43.3</td></tr><tr><td>43484230</td><td>43.2</td></tr><tr><td>31332100</td><td>43.1</td></tr><tr><td>31335900</td><td>43.1</td></tr><tr><td>44221112</td><td>43.1</td></tr><tr><td>31333400</td><td>43</td></tr><tr><td>41423390</td><td>43</td></tr><tr><td>41424700</td><td>43</td></tr><tr><td>20237900</td><td>42.9</td></tr><tr><td>31332100</td><td>42.9</td></tr><tr><td>32322210</td><td>42.9</td></tr><tr><td>43484122</td><td>42.9</td></tr><tr><td>43484220</td><td>42.9</td></tr><tr><td>44221110</td><td>42.9</td></tr><tr><td>31321100</td><td>42.8</td></tr><tr><td>31332720</td><td>42.8</td></tr><tr><td>31333000</td><td>42.8</td></tr><tr><td>31333500</td><td>42.8</td></tr><tr><td>31333900</td><td>42.8</td></tr><tr><td>31335000</td><td>42.8</td></tr><tr><td>32311400</td><td>42.8</td></tr><tr><td>32322000</td><td>42.8</td></tr><tr><td>44220000</td><td>42.8</td></tr><tr><td>20237130</td><td>42.7</td></tr><tr><td>31331000</td><td>42.7</td></tr><tr><td>31333000</td><td>42.7</td></tr><tr><td>31333500</td><td>42.7</td></tr><tr><td>31336411</td><td>42.7</td></tr><tr><td>41423390</td><td>42.7</td></tr><tr><td>43484122</td><td>42.7</td></tr><tr><td>20236210</td><td>42.6</td></tr><tr><td>31335300</td><td>42.6</td></tr><tr><td>32326000</td><td>42.6</td></tr><tr><td>41423810</td><td>42.6</td></tr><tr><td>20238290</td><td>42.5</td></tr><tr><td>31332900</td><td>42.5</td></tr><tr><td>31335300</td><td>42.5</td></tr><tr><td>32311400</td><td>42.5</td></tr><tr><td>32311615</td><td>42.5</td></tr><tr><td>32322000</td><td>42.5</td></tr><tr><td>41424700</td><td>42.5</td></tr><tr><td>20237110</td><td>42.4</td></tr><tr><td>31327320</td><td>42.4</td></tr><tr><td>31331000</td><td>42.4</td></tr><tr><td>31332900</td><td>42.4</td></tr><tr><td>31333100</td><td>42.4</td></tr><tr><td>31333900</td><td>42.4</td></tr><tr><td>32326000</td><td>42.4</td></tr><tr><td>32326110</td><td>42.4</td></tr><tr><td>43484120</td><td>42.4</td></tr><tr><td>20237100</td><td>42.3</td></tr><tr><td>31000000</td><td>42.3</td></tr><tr><td>32322200</td><td>42.3</td></tr><tr><td>43493110</td><td>42.3</td></tr><tr><td>31327000</td><td>42.2</td></tr><tr><td>31332812</td><td>42.2</td></tr><tr><td>31336411</td><td>42.2</td></tr><tr><td>31339100</td><td>42.2</td></tr><tr><td>41423810</td><td>42.2</td></tr><tr><td>60561910</td><td>42.2</td></tr><tr><td>31000000</td><td>42.1</td></tr><tr><td>31321000</td><td>42.1</td></tr><tr><td>31321910</td><td>42.1</td></tr><tr><td>31332000</td><td>42.1</td></tr><tr><td>31332700</td><td>42.1</td></tr><tr><td>31334500</td><td>42.1</td></tr><tr><td>32326100</td><td>42.1</td></tr><tr><td>41424480</td><td>42.1</td></tr><tr><td>43493000</td><td>42.1</td></tr><tr><td>10113300</td><td>42</td></tr><tr><td>31321900</td><td>42</td></tr><tr><td>31332000</td><td>42</td></tr><tr><td>31339100</td><td>42</td></tr><tr><td>32311420</td><td>42</td></tr><tr><td>32325000</td><td>42</td></tr><tr><td>32325200</td><td>42</td></tr><tr><td>41424480</td><td>42</td></tr><tr><td>43484120</td><td>42</td></tr><tr><td>55532410</td><td>42</td></tr><tr><td>10211000</td><td>41.9</td></tr><tr><td>30000000</td><td>41.9</td></tr><tr><td>31321200</td><td>41.9</td></tr><tr><td>31332710</td><td>41.9</td></tr><tr><td>31337110</td><td>41.9</td></tr><tr><td>32311615</td><td>41.9</td></tr><tr><td>32322200</td><td>41.9</td></tr><tr><td>20237000</td><td>41.8</td></tr><tr><td>31332710</td><td>41.8</td></tr><tr><td>31332990</td><td>41.8</td></tr><tr><td>32325000</td><td>41.8</td></tr><tr><td>32326100</td><td>41.8</td></tr><tr><td>32326110</td><td>41.8</td></tr><tr><td>32326190</td><td>41.8</td></tr><tr><td>41423310</td><td>41.8</td></tr><tr><td>43484100</td><td>41.8</td></tr><tr><td>60561910</td><td>41.8</td></tr><tr><td>30000000</td><td>41.7</td></tr><tr><td>31321920</td><td>41.7</td></tr><tr><td>31332300</td><td>41.7</td></tr><tr><td>31332310</td><td>41.7</td></tr><tr><td>31332312</td><td>41.7</td></tr><tr><td>31332320</td><td>41.7</td></tr><tr><td>31332812</td><td>41.7</td></tr><tr><td>31334500</td><td>41.7</td></tr><tr><td>31321990</td><td>41.6</td></tr><tr><td>31332320</td><td>41.6</td></tr><tr><td>31332322</td><td>41.6</td></tr><tr><td>31332990</td><td>41.6</td></tr><tr><td>31334413</td><td>41.6</td></tr><tr><td>43484000</td><td>41.6</td></tr><tr><td>43484121</td><td>41.6</td></tr><tr><td>31321000</td><td>41.5</td></tr><tr><td>32311000</td><td>41.5</td></tr><tr><td>44221200</td><td>41.5</td></tr><tr><td>44221300</td><td>41.5</td></tr><tr><td>31321910</td><td>41.4</td></tr><tr><td>31331500</td><td>41.4</td></tr><tr><td>31332300</td><td>41.4</td></tr><tr><td>31334413</td><td>41.4</td></tr><tr><td>32326190</td><td>41.4</td></tr><tr><td>44221200</td><td>41.4</td></tr><tr><td>31321200</td><td>41.3</td></tr><tr><td>31321920</td><td>41.3</td></tr><tr><td>31333300</td><td>41.3</td></tr><tr><td>32000000</td><td>41.3</td></tr><tr><td>32311000</td><td>41.3</td></tr><tr><td>32311500</td><td>41.3</td></tr><tr><td>41423300</td><td>41.3</td></tr><tr><td>43484100</td><td>41.3</td></tr><tr><td>60562000</td><td>41.3</td></tr><tr><td>20236210</td><td>41.2</td></tr><tr><td>31321911</td><td>41.2</td></tr><tr><td>31333300</td><td>41.2</td></tr><tr><td>41423930</td><td>41.2</td></tr><tr><td>06000000</td><td>41.1</td></tr><tr><td>20238290</td><td>41.1</td></tr><tr><td>31332310</td><td>41.1</td></tr><tr><td>31332322</td><td>41.1</td></tr><tr><td>31332800</td><td>41.1</td></tr><tr><td>31334000</td><td>41.1</td></tr><tr><td>31336200</td><td>41.1</td></tr><tr><td>32000000</td><td>41.1</td></tr><tr><td>32311420</td><td>41.1</td></tr><tr><td>32311500</td><td>41.1</td></tr><tr><td>41423310</td><td>41.1</td></tr><tr><td>55524120</td><td>41.1</td></tr><tr><td>31321900</td><td>41</td></tr><tr><td>31334000</td><td>41</td></tr><tr><td>41423740</td><td>41</td></tr><tr><td>43484000</td><td>41</td></tr><tr><td>43484200</td><td>41</td></tr><tr><td>50517100</td><td>41</td></tr><tr><td>55532410</td><td>41</td></tr><tr><td>20237300</td><td>40.9</td></tr><tr><td>31337110</td><td>40.9</td></tr><tr><td>32313000</td><td>40.9</td></tr><tr><td>41423740</td><td>40.9</td></tr><tr><td>60562000</td><td>40.9</td></tr><tr><td>10113300</td><td>40.8</td></tr><tr><td>32322220</td><td>40.8</td></tr><tr><td>41425110</td><td>40.8</td></tr><tr><td>43493110</td><td>40.8</td></tr><tr><td>44221300</td><td>40.8</td></tr><tr><td>31332312</td><td>40.7</td></tr><tr><td>31332800</td><td>40.7</td></tr><tr><td>41423610</td><td>40.7</td></tr><tr><td>43493000</td><td>40.7</td></tr><tr><td>20238340</td><td>40.6</td></tr><tr><td>31327300</td><td>40.6</td></tr><tr><td>31334400</td><td>40.6</td></tr><tr><td>41423300</td><td>40.6</td></tr><tr><td>41423610</td><td>40.6</td></tr><tr><td>41423930</td><td>40.6</td></tr><tr><td>06000000</td><td>40.5</td></tr><tr><td>31327000</td><td>40.5</td></tr><tr><td>31337000</td><td>40.5</td></tr><tr><td>41423430</td><td>40.5</td></tr><tr><td>55524120</td><td>40.5</td></tr><tr><td>20238910</td><td>40.4</td></tr><tr><td>31339000</td><td>40.4</td></tr><tr><td>32325600</td><td>40.4</td></tr><tr><td>32326150</td><td>40.4</td></tr><tr><td>50517000</td><td>40.4</td></tr><tr><td>31334400</td><td>40.3</td></tr><tr><td>31336200</td><td>40.3</td></tr><tr><td>32313000</td><td>40.3</td></tr><tr><td>32322220</td><td>40.3</td></tr><tr><td>41423420</td><td>40.3</td></tr><tr><td>41423830</td><td>40.3</td></tr><tr><td>43484110</td><td>40.3</td></tr><tr><td>20238340</td><td>40.2</td></tr><tr><td>31337100</td><td>40.2</td></tr><tr><td>31339000</td><td>40.2</td></tr><tr><td>32325600</td><td>40.2</td></tr><tr><td>32326150</td><td>40.2</td></tr><tr><td>41423830</td><td>40.2</td></tr><tr><td>43484200</td><td>40.2</td></tr><tr><td>50517000</td><td>40.2</td></tr><tr><td>55522292</td><td>40.2</td></tr><tr><td>55524100</td><td>40.2</td></tr><tr><td>60562100</td><td>40.2</td></tr><tr><td>60562900</td><td>40.2</td></tr><tr><td>20236200</td><td>40.1</td></tr><tr><td>20238110</td><td>40.1</td></tr><tr><td>31321990</td><td>40.1</td></tr><tr><td>31334200</td><td>40.1</td></tr><tr><td>41424600</td><td>40.1</td></tr><tr><td>20237110</td><td>40</td></tr><tr><td>20238900</td><td>40</td></tr><tr><td>31332813</td><td>40</td></tr><tr><td>31334419</td><td>40</td></tr><tr><td>41423500</td><td>40</td></tr><tr><td>41423600</td><td>40</td></tr><tr><td>41423800</td><td>40</td></tr><tr><td>31337000</td><td>39.9</td></tr><tr><td>41423420</td><td>39.9</td></tr><tr><td>41423500</td><td>39.9</td></tr><tr><td>41423700</td><td>39.9</td></tr><tr><td>41423800</td><td>39.9</td></tr><tr><td>41424410</td><td>39.9</td></tr><tr><td>60561200</td><td>39.9</td></tr><tr><td>31333111</td><td>39.8</td></tr><tr><td>31334200</td><td>39.8</td></tr><tr><td>41423400</td><td>39.8</td></tr><tr><td>41423700</td><td>39.8</td></tr><tr><td>41423710</td><td>39.8</td></tr><tr><td>80811300</td><td>39.8</td></tr><tr><td>20238120</td><td>39.7</td></tr><tr><td>20238210</td><td>39.7</td></tr><tr><td>31337100</td><td>39.7</td></tr><tr><td>32325400</td><td>39.7</td></tr><tr><td>41424600</td><td>39.7</td></tr><tr><td>55524100</td><td>39.7</td></tr><tr><td>60562100</td><td>39.7</td></tr><tr><td>20238150</td><td>39.6</td></tr><tr><td>31334419</td><td>39.6</td></tr><tr><td>32325400</td><td>39.6</td></tr><tr><td>41423000</td><td>39.6</td></tr><tr><td>41423450</td><td>39.6</td></tr><tr><td>41423600</td><td>39.6</td></tr><tr><td>41423710</td><td>39.6</td></tr><tr><td>41424410</td><td>39.6</td></tr><tr><td>43488500</td><td>39.6</td></tr><tr><td>31332813</td><td>39.5</td></tr><tr><td>31333111</td><td>39.5</td></tr><tr><td>31337121</td><td>39.5</td></tr><tr><td>41424400</td><td>39.5</td></tr><tr><td>55524110</td><td>39.5</td></tr><tr><td>60541310</td><td>39.5</td></tr><tr><td>60561200</td><td>39.5</td></tr><tr><td>60562900</td><td>39.5</td></tr><tr><td>20236220</td><td>39.4</td></tr><tr><td>20238990</td><td>39.4</td></tr><tr><td>31337121</td><td>39.4</td></tr><tr><td>41423000</td><td>39.4</td></tr><tr><td>41423430</td><td>39.4</td></tr><tr><td>41425110</td><td>39.4</td></tr><tr><td>43484110</td><td>39.4</td></tr><tr><td>50518000</td><td>39.4</td></tr><tr><td>60541370</td><td>39.4</td></tr><tr><td>80811219</td><td>39.4</td></tr><tr><td>20000000</td><td>39.3</td></tr><tr><td>32323000</td><td>39.3</td></tr><tr><td>41424400</td><td>39.3</td></tr><tr><td>55523120</td><td>39.3</td></tr><tr><td>60541380</td><td>39.3</td></tr><tr><td>60541512</td><td>39.3</td></tr><tr><td>80811219</td><td>39.3</td></tr><tr><td>20236200</td><td>39.2</td></tr><tr><td>20238200</td><td>39.2</td></tr><tr><td>31321911</td><td>39.2</td></tr><tr><td>41423690</td><td>39.2</td></tr><tr><td>41423720</td><td>39.2</td></tr><tr><td>41423820</td><td>39.2</td></tr><tr><td>41424100</td><td>39.2</td></tr><tr><td>80811300</td><td>39.2</td></tr><tr><td>31337120</td><td>39.1</td></tr><tr><td>32323000</td><td>39.1</td></tr><tr><td>41423400</td><td>39.1</td></tr><tr><td>41423840</td><td>39.1</td></tr><tr><td>55522200</td><td>39.1</td></tr><tr><td>55524110</td><td>39.1</td></tr><tr><td>20238150</td><td>38.9</td></tr><tr><td>20238210</td><td>38.9</td></tr><tr><td>41420000</td><td>38.9</td></tr><tr><td>41423450</td><td>38.9</td></tr><tr><td>43488500</td><td>38.9</td></tr><tr><td>55524000</td><td>38.9</td></tr><tr><td>55532400</td><td>38.9</td></tr><tr><td>60541370</td><td>38.9</td></tr><tr><td>60541380</td><td>38.9</td></tr><tr><td>20238120</td><td>38.8</td></tr><tr><td>31339990</td><td>38.8</td></tr><tr><td>41420000</td><td>38.8</td></tr><tr><td>41423120</td><td>38.8</td></tr><tr><td>41423690</td><td>38.8</td></tr><tr><td>41423720</td><td>38.8</td></tr><tr><td>41424100</td><td>38.8</td></tr><tr><td>55523200</td><td>38.8</td></tr><tr><td>60541310</td><td>38.8</td></tr><tr><td>60541500</td><td>38.8</td></tr><tr><td>60551114</td><td>38.8</td></tr><tr><td>80811120</td><td>38.8</td></tr><tr><td>20238000</td><td>38.7</td></tr><tr><td>41423120</td><td>38.7</td></tr><tr><td>41423490</td><td>38.7</td></tr><tr><td>41423840</td><td>38.7</td></tr><tr><td>43488400</td><td>38.7</td></tr><tr><td>55522320</td><td>38.7</td></tr><tr><td>55532291</td><td>38.7</td></tr><tr><td>60541300</td><td>38.7</td></tr><tr><td>60541712</td><td>38.7</td></tr><tr><td>60550000</td><td>38.7</td></tr><tr><td>20238200</td><td>38.6</td></tr><tr><td>31337120</td><td>38.6</td></tr><tr><td>41423490</td><td>38.6</td></tr><tr><td>41423900</td><td>38.6</td></tr><tr><td>41424000</td><td>38.6</td></tr><tr><td>43000000</td><td>38.6</td></tr><tr><td>50511200</td><td>38.6</td></tr><tr><td>55522292</td><td>38.6</td></tr><tr><td>55523920</td><td>38.6</td></tr><tr><td>55532400</td><td>38.6</td></tr><tr><td>60541300</td><td>38.6</td></tr><tr><td>60541512</td><td>38.6</td></tr><tr><td>20236000</td><td>38.5</td></tr><tr><td>20236220</td><td>38.5</td></tr><tr><td>31339900</td><td>38.5</td></tr><tr><td>41423100</td><td>38.5</td></tr><tr><td>41424910</td><td>38.5</td></tr><tr><td>43488900</td><td>38.5</td></tr><tr><td>55522000</td><td>38.5</td></tr><tr><td>55524292</td><td>38.5</td></tr><tr><td>60541340</td><td>38.5</td></tr><tr><td>60541511</td><td>38.5</td></tr><tr><td>60541710</td><td>38.5</td></tr><tr><td>60551114</td><td>38.5</td></tr><tr><td>80811198</td><td>38.5</td></tr><tr><td>31339990</td><td>38.4</td></tr><tr><td>41424000</td><td>38.4</td></tr><tr><td>42441320</td><td>38.4</td></tr><tr><td>43488900</td><td>38.4</td></tr><tr><td>55522110</td><td>38.4</td></tr><tr><td>55523000</td><td>38.4</td></tr><tr><td>60541340</td><td>38.4</td></tr><tr><td>60550000</td><td>38.4</td></tr><tr><td>65621511</td><td>38.4</td></tr><tr><td>32314000</td><td>38.3</td></tr><tr><td>41423100</td><td>38.3</td></tr><tr><td>55522100</td><td>38.3</td></tr><tr><td>55522300</td><td>38.3</td></tr><tr><td>60541712</td><td>38.3</td></tr><tr><td>80811200</td><td>38.3</td></tr><tr><td>20238220</td><td>38.2</td></tr><tr><td>20238330</td><td>38.2</td></tr><tr><td>31339950</td><td>38.2</td></tr><tr><td>41423200</td><td>38.2</td></tr><tr><td>43000000</td><td>38.2</td></tr><tr><td>50518000</td><td>38.2</td></tr><tr><td>55523120</td><td>38.2</td></tr><tr><td>55524000</td><td>38.2</td></tr><tr><td>55532291</td><td>38.2</td></tr><tr><td>65621511</td><td>38.2</td></tr><tr><td>80811200</td><td>38.2</td></tr><tr><td>41423820</td><td>38.1</td></tr><tr><td>55522200</td><td>38.1</td></tr><tr><td>55524130</td><td>38.1</td></tr><tr><td>60541500</td><td>38.1</td></tr><tr><td>80811198</td><td>38.1</td></tr><tr><td>20238190</td><td>38</td></tr><tr><td>20238320</td><td>38</td></tr><tr><td>31339900</td><td>38</td></tr><tr><td>41423320</td><td>38</td></tr><tr><td>41423900</td><td>38</td></tr><tr><td>55522190</td><td>38</td></tr><tr><td>55523900</td><td>38</td></tr><tr><td>60541710</td><td>38</td></tr><tr><td>20000000</td><td>37.9</td></tr><tr><td>20238220</td><td>37.9</td></tr><tr><td>55522291</td><td>37.9</td></tr><tr><td>60541614</td><td>37.9</td></tr><tr><td>32311800</td><td>37.8</td></tr><tr><td>41424900</td><td>37.8</td></tr><tr><td>42441110</td><td>37.8</td></tr><tr><td>55522320</td><td>37.8</td></tr><tr><td>55524290</td><td>37.8</td></tr><tr><td>60541711</td><td>37.8</td></tr><tr><td>20236000</td><td>37.7</td></tr><tr><td>41424300</td><td>37.7</td></tr><tr><td>41425000</td><td>37.7</td></tr><tr><td>42441320</td><td>37.7</td></tr><tr><td>65621500</td><td>37.7</td></tr><tr><td>65621910</td><td>37.7</td></tr><tr><td>20237200</td><td>37.6</td></tr><tr><td>41423200</td><td>37.6</td></tr><tr><td>41424910</td><td>37.6</td></tr><tr><td>41425120</td><td>37.6</td></tr><tr><td>50511200</td><td>37.6</td></tr><tr><td>55000000</td><td>37.6</td></tr><tr><td>55523200</td><td>37.6</td></tr><tr><td>60541430</td><td>37.6</td></tr><tr><td>60541511</td><td>37.6</td></tr><tr><td>60541810</td><td>37.6</td></tr><tr><td>80811110</td><td>37.6</td></tr><tr><td>20237200</td><td>37.5</td></tr><tr><td>20238190</td><td>37.5</td></tr><tr><td>20238300</td><td>37.5</td></tr><tr><td>42441100</td><td>37.5</td></tr><tr><td>42441110</td><td>37.5</td></tr><tr><td>55522000</td><td>37.5</td></tr><tr><td>55522190</td><td>37.5</td></tr><tr><td>55522291</td><td>37.5</td></tr><tr><td>55523920</td><td>37.5</td></tr><tr><td>60541190</td><td>37.5</td></tr><tr><td>60551112</td><td>37.5</td></tr><tr><td>65621910</td><td>37.5</td></tr><tr><td>80811110</td><td>37.5</td></tr><tr><td>80812330</td><td>37.5</td></tr><tr><td>32329000</td><td>37.4</td></tr><tr><td>41423910</td><td>37.4</td></tr><tr><td>55522120</td><td>37.4</td></tr><tr><td>60541614</td><td>37.4</td></tr><tr><td>60541700</td><td>37.4</td></tr><tr><td>65621500</td><td>37.4</td></tr><tr><td>80811111</td><td>37.4</td></tr><tr><td>20238100</td><td>37.3</td></tr><tr><td>20238910</td><td>37.3</td></tr><tr><td>31327320</td><td>37.3</td></tr><tr><td>32314000</td><td>37.3</td></tr><tr><td>41424300</td><td>37.3</td></tr><tr><td>41424500</td><td>37.3</td></tr><tr><td>42441100</td><td>37.3</td></tr><tr><td>55524292</td><td>37.3</td></tr><tr><td>55532300</td><td>37.3</td></tr><tr><td>60541400</td><td>37.3</td></tr><tr><td>60541430</td><td>37.3</td></tr><tr><td>60541611</td><td>37.3</td></tr><tr><td>20238000</td><td>37.2</td></tr><tr><td>20238310</td><td>37.2</td></tr><tr><td>41423110</td><td>37.2</td></tr><tr><td>41424930</td><td>37.2</td></tr><tr><td>41425000</td><td>37.2</td></tr><tr><td>55522100</td><td>37.2</td></tr><tr><td>55523000</td><td>37.2</td></tr><tr><td>55524130</td><td>37.2</td></tr><tr><td>32311300</td><td>37.1</td></tr><tr><td>41423110</td><td>37.1</td></tr><tr><td>41424200</td><td>37.1</td></tr><tr><td>42441000</td><td>37.1</td></tr><tr><td>50517911</td><td>37.1</td></tr><tr><td>55522110</td><td>37.1</td></tr><tr><td>55522300</td><td>37.1</td></tr><tr><td>60541190</td><td>37.1</td></tr><tr><td>60541610</td><td>37.1</td></tr><tr><td>60541711</td><td>37.1</td></tr><tr><td>60561620</td><td>37.1</td></tr><tr><td>65621900</td><td>37.1</td></tr><tr><td>80812330</td><td>37.1</td></tr><tr><td>32329000</td><td>37</td></tr><tr><td>41423320</td><td>37</td></tr><tr><td>41424900</td><td>37</td></tr><tr><td>41425120</td><td>37</td></tr><tr><td>42441000</td><td>37</td></tr><tr><td>42441300</td><td>37</td></tr><tr><td>50511000</td><td>37</td></tr><tr><td>55524200</td><td>37</td></tr><tr><td>55524290</td><td>37</td></tr><tr><td>60541320</td><td>37</td></tr><tr><td>60541400</td><td>37</td></tr><tr><td>60541600</td><td>37</td></tr><tr><td>60561620</td><td>37</td></tr><tr><td>20236100</td><td>36.9</td></tr><tr><td>31339950</td><td>36.9</td></tr><tr><td>41424800</td><td>36.9</td></tr><tr><td>55000000</td><td>36.9</td></tr><tr><td>55523930</td><td>36.9</td></tr><tr><td>60541700</td><td>36.9</td></tr><tr><td>65621900</td><td>36.9</td></tr><tr><td>20236118</td><td>36.8</td></tr><tr><td>20238900</td><td>36.8</td></tr><tr><td>32311300</td><td>36.8</td></tr><tr><td>55523900</td><td>36.8</td></tr><tr><td>60540000</td><td>36.8</td></tr><tr><td>60561100</td><td>36.8</td></tr><tr><td>20238110</td><td>36.7</td></tr><tr><td>42441300</td><td>36.7</td></tr><tr><td>55522120</td><td>36.7</td></tr><tr><td>55524210</td><td>36.7</td></tr><tr><td>55531312</td><td>36.7</td></tr><tr><td>60541320</td><td>36.7</td></tr><tr><td>60551112</td><td>36.7</td></tr><tr><td>80811000</td><td>36.7</td></tr><tr><td>20238330</td><td>36.6</td></tr><tr><td>32311800</td><td>36.6</td></tr><tr><td>42443142</td><td>36.6</td></tr><tr><td>60541611</td><td>36.6</td></tr><tr><td>60541990</td><td>36.6</td></tr><tr><td>60561730</td><td>36.6</td></tr><tr><td>80811212</td><td>36.6</td></tr><tr><td>20236115</td><td>36.5</td></tr><tr><td>42454000</td><td>36.5</td></tr><tr><td>50517911</td><td>36.5</td></tr><tr><td>60541100</td><td>36.5</td></tr><tr><td>60541800</td><td>36.5</td></tr><tr><td>20236118</td><td>36.4</td></tr><tr><td>43488000</td><td>36.4</td></tr><tr><td>50000000</td><td>36.4</td></tr><tr><td>50511120</td><td>36.4</td></tr><tr><td>60540000</td><td>36.4</td></tr><tr><td>60541110</td><td>36.4</td></tr><tr><td>60541600</td><td>36.4</td></tr><tr><td>60541610</td><td>36.4</td></tr><tr><td>60561100</td><td>36.4</td></tr><tr><td>65622100</td><td>36.4</td></tr><tr><td>80811000</td><td>36.4</td></tr><tr><td>80811212</td><td>36.4</td></tr><tr><td>80813910</td><td>36.4</td></tr><tr><td>20238310</td><td>36.3</td></tr><tr><td>32311700</td><td>36.3</td></tr><tr><td>50511000</td><td>36.3</td></tr><tr><td>60541191</td><td>36.3</td></tr><tr><td>65622100</td><td>36.3</td></tr><tr><td>20236100</td><td>36.2</td></tr><tr><td>20238170</td><td>36.2</td></tr><tr><td>32315000</td><td>36.2</td></tr><tr><td>41424200</td><td>36.2</td></tr><tr><td>42441310</td><td>36.2</td></tr><tr><td>42443000</td><td>36.2</td></tr><tr><td>65622000</td><td>36.2</td></tr><tr><td>80811100</td><td>36.2</td></tr><tr><td>20238300</td><td>36.1</td></tr><tr><td>20238990</td><td>36.1</td></tr><tr><td>31339116</td><td>36.1</td></tr><tr><td>32315000</td><td>36.1</td></tr><tr><td>42443142</td><td>36.1</td></tr><tr><td>43488000</td><td>36.1</td></tr><tr><td>55524200</td><td>36.1</td></tr><tr><td>55532490</td><td>36.1</td></tr><tr><td>60541810</td><td>36.1</td></tr><tr><td>60561710</td><td>36.1</td></tr><tr><td>65621990</td><td>36.1</td></tr><tr><td>65622000</td><td>36.1</td></tr><tr><td>80813920</td><td>36.1</td></tr><tr><td>20238160</td><td>36</td></tr><tr><td>41424500</td><td>36</td></tr><tr><td>41424800</td><td>36</td></tr><tr><td>20238350</td><td>35.9</td></tr><tr><td>42454000</td><td>35.9</td></tr><tr><td>42454112</td><td>35.9</td></tr><tr><td>50000000</td><td>35.9</td></tr><tr><td>55532490</td><td>35.9</td></tr><tr><td>60541820</td><td>35.9</td></tr><tr><td>60561440</td><td>35.9</td></tr><tr><td>65621512</td><td>35.9</td></tr><tr><td>20238320</td><td>35.8</td></tr><tr><td>31339116</td><td>35.8</td></tr><tr><td>43492000</td><td>35.8</td></tr><tr><td>55524210</td><td>35.8</td></tr><tr><td>55531312</td><td>35.8</td></tr><tr><td>60541211</td><td>35.8</td></tr><tr><td>60541613</td><td>35.8</td></tr><tr><td>60561710</td><td>35.8</td></tr><tr><td>65621498</td><td>35.8</td></tr><tr><td>65623220</td><td>35.8</td></tr><tr><td>80811100</td><td>35.8</td></tr><tr><td>20238140</td><td>35.7</td></tr><tr><td>20238390</td><td>35.7</td></tr><tr><td>42443000</td><td>35.7</td></tr><tr><td>43492000</td><td>35.7</td></tr><tr><td>55523930</td><td>35.7</td></tr><tr><td>60541800</td><td>35.7</td></tr><tr><td>42442210</td><td>35.6</td></tr><tr><td>50511120</td><td>35.6</td></tr><tr><td>55531300</td><td>35.6</td></tr><tr><td>55532300</td><td>35.6</td></tr><tr><td>60541100</td><td>35.6</td></tr><tr><td>60561440</td><td>35.6</td></tr><tr><td>42454112</td><td>35.5</td></tr><tr><td>50511100</td><td>35.5</td></tr><tr><td>60541110</td><td>35.5</td></tr><tr><td>60541990</td><td>35.5</td></tr><tr><td>60561510</td><td>35.5</td></tr><tr><td>65621498</td><td>35.5</td></tr><tr><td>20236115</td><td>35.4</td></tr><tr><td>42441200</td><td>35.4</td></tr><tr><td>20238100</td><td>35.3</td></tr><tr><td>42442210</td><td>35.3</td></tr><tr><td>42454100</td><td>35.3</td></tr><tr><td>60000000</td><td>35.3</td></tr><tr><td>42441120</td><td>35.2</td></tr><tr><td>42442100</td><td>35.2</td></tr><tr><td>50511100</td><td>35.2</td></tr><tr><td>55531310</td><td>35.2</td></tr><tr><td>60541211</td><td>35.2</td></tr><tr><td>65621512</td><td>35.2</td></tr><tr><td>42454113</td><td>35.1</td></tr><tr><td>42441120</td><td>35</td></tr><tr><td>42442100</td><td>35</td></tr><tr><td>55531300</td><td>35</td></tr><tr><td>65623200</td><td>35</td></tr><tr><td>65623220</td><td>35</td></tr><tr><td>80813910</td><td>35</td></tr><tr><td>20238350</td><td>34.9</td></tr><tr><td>42454113</td><td>34.9</td></tr><tr><td>55532000</td><td>34.9</td></tr><tr><td>60541214</td><td>34.8</td></tr><tr><td>55531310</td><td>34.7</td></tr><tr><td>55531311</td><td>34.7</td></tr><tr><td>60541214</td><td>34.7</td></tr><tr><td>80813920</td><td>34.7</td></tr><tr><td>43485000</td><td>34.6</td></tr><tr><td>55532000</td><td>34.6</td></tr><tr><td>60541820</td><td>34.6</td></tr><tr><td>20238390</td><td>34.5</td></tr><tr><td>42441200</td><td>34.5</td></tr><tr><td>50515000</td><td>34.5</td></tr><tr><td>50519000</td><td>34.5</td></tr><tr><td>60541613</td><td>34.5</td></tr><tr><td>60561430</td><td>34.5</td></tr><tr><td>65623210</td><td>34.5</td></tr><tr><td>60561510</td><td>34.4</td></tr><tr><td>60561600</td><td>34.4</td></tr><tr><td>55531000</td><td>34.3</td></tr><tr><td>55531110</td><td>34.3</td></tr><tr><td>55531311</td><td>34.3</td></tr><tr><td>60561430</td><td>34.3</td></tr><tr><td>60561500</td><td>34.3</td></tr><tr><td>60561600</td><td>34.3</td></tr><tr><td>41424930</td><td>34.2</td></tr><tr><td>55531200</td><td>34.2</td></tr><tr><td>65623200</td><td>34.2</td></tr><tr><td>70713200</td><td>34.2</td></tr><tr><td>50515000</td><td>34.1</td></tr><tr><td>60541200</td><td>34.1</td></tr><tr><td>65621111</td><td>34.1</td></tr><tr><td>32311700</td><td>34</td></tr><tr><td>43485900</td><td>34</td></tr><tr><td>43488100</td><td>34</td></tr><tr><td>60541200</td><td>34</td></tr><tr><td>60561610</td><td>34</td></tr><tr><td>65621100</td><td>34</td></tr><tr><td>70713200</td><td>34</td></tr><tr><td>55531000</td><td>33.9</td></tr><tr><td>55531110</td><td>33.9</td></tr><tr><td>60561610</td><td>33.9</td></tr><tr><td>65621111</td><td>33.9</td></tr><tr><td>65623900</td><td>33.9</td></tr><tr><td>43488100</td><td>33.8</td></tr><tr><td>60560000</td><td>33.8</td></tr><tr><td>60561300</td><td>33.8</td></tr><tr><td>60561320</td><td>33.8</td></tr><tr><td>60561330</td><td>33.8</td></tr><tr><td>65621100</td><td>33.8</td></tr><tr><td>42444200</td><td>33.7</td></tr><tr><td>43485000</td><td>33.7</td></tr><tr><td>50519000</td><td>33.7</td></tr><tr><td>60561310</td><td>33.7</td></tr><tr><td>60561400</td><td>33.7</td></tr><tr><td>60561900</td><td>33.7</td></tr><tr><td>65621490</td><td>33.7</td></tr><tr><td>65623210</td><td>33.7</td></tr><tr><td>05000000</td><td>33.6</td></tr><tr><td>20238140</td><td>33.6</td></tr><tr><td>40000000</td><td>33.6</td></tr><tr><td>42443141</td><td>33.6</td></tr><tr><td>55531200</td><td>33.6</td></tr><tr><td>60561400</td><td>33.6</td></tr><tr><td>60561500</td><td>33.6</td></tr><tr><td>80813319</td><td>33.6</td></tr><tr><td>05000000</td><td>33.5</td></tr><tr><td>43485900</td><td>33.5</td></tr><tr><td>60561000</td><td>33.5</td></tr><tr><td>60561300</td><td>33.5</td></tr><tr><td>60561320</td><td>33.5</td></tr><tr><td>65620001</td><td>33.5</td></tr><tr><td>65621490</td><td>33.5</td></tr><tr><td>43481000</td><td>33.4</td></tr><tr><td>50511110</td><td>33.4</td></tr><tr><td>60561310</td><td>33.4</td></tr><tr><td>65621400</td><td>33.4</td></tr><tr><td>80811400</td><td>33.4</td></tr><tr><td>40000000</td><td>33.3</td></tr><tr><td>50511110</td><td>33.3</td></tr><tr><td>60560000</td><td>33.3</td></tr><tr><td>60561330</td><td>33.3</td></tr><tr><td>65623900</td><td>33.3</td></tr><tr><td>80813200</td><td>33.3</td></tr><tr><td>80813900</td><td>33.3</td></tr><tr><td>20238160</td><td>33.2</td></tr><tr><td>60561420</td><td>33.2</td></tr><tr><td>60561790</td><td>33.2</td></tr><tr><td>65620001</td><td>33.2</td></tr><tr><td>80812300</td><td>33.2</td></tr><tr><td>80813300</td><td>33.2</td></tr><tr><td>20238130</td><td>33.1</td></tr><tr><td>65621400</td><td>33.1</td></tr><tr><td>20238170</td><td>33</td></tr><tr><td>42443141</td><td>33</td></tr><tr><td>60561000</td><td>33</td></tr><tr><td>65623000</td><td>33</td></tr><tr><td>80813319</td><td>33</td></tr><tr><td>65623100</td><td>32.9</td></tr><tr><td>55531100</td><td>32.8</td></tr><tr><td>80811400</td><td>32.8</td></tr><tr><td>42446130</td><td>32.7</td></tr><tr><td>55531100</td><td>32.7</td></tr><tr><td>65621420</td><td>32.7</td></tr><tr><td>65624200</td><td>32.7</td></tr><tr><td>70713930</td><td>32.7</td></tr><tr><td>80812300</td><td>32.7</td></tr><tr><td>65620000</td><td>32.6</td></tr><tr><td>80813200</td><td>32.6</td></tr><tr><td>42446130</td><td>32.5</td></tr><tr><td>80813211</td><td>32.5</td></tr><tr><td>80813300</td><td>32.5</td></tr><tr><td>80813900</td><td>32.5</td></tr><tr><td>08000000</td><td>32.4</td></tr><tr><td>42447190</td><td>32.4</td></tr><tr><td>60561730</td><td>32.4</td></tr><tr><td>65000000</td><td>32.4</td></tr><tr><td>65620000</td><td>32.4</td></tr><tr><td>65623311</td><td>32.4</td></tr><tr><td>08000000</td><td>32.3</td></tr><tr><td>42444200</td><td>32.3</td></tr><tr><td>60561920</td><td>32.3</td></tr><tr><td>65623000</td><td>32.3</td></tr><tr><td>60561920</td><td>32.2</td></tr><tr><td>65000000</td><td>32.2</td></tr><tr><td>65621420</td><td>32.2</td></tr><tr><td>65623100</td><td>32.1</td></tr><tr><td>65624200</td><td>32.1</td></tr><tr><td>42447190</td><td>32</td></tr><tr><td>43481000</td><td>32</td></tr><tr><td>60561790</td><td>32</td></tr><tr><td>65623311</td><td>32</td></tr><tr><td>20238130</td><td>31.9</td></tr><tr><td>43488110</td><td>31.8</td></tr><tr><td>65623300</td><td>31.8</td></tr><tr><td>80813311</td><td>31.8</td></tr><tr><td>43488110</td><td>31.7</td></tr><tr><td>60541920</td><td>31.7</td></tr><tr><td>60561990</td><td>31.7</td></tr><tr><td>65621000</td><td>31.7</td></tr><tr><td>80813990</td><td>31.7</td></tr><tr><td>70713930</td><td>31.6</td></tr><tr><td>60561740</td><td>31.5</td></tr><tr><td>60561990</td><td>31.5</td></tr><tr><td>50515110</td><td>31.4</td></tr><tr><td>60561700</td><td>31.4</td></tr><tr><td>65621000</td><td>31.4</td></tr><tr><td>65623300</td><td>31.4</td></tr><tr><td>42444000</td><td>31.3</td></tr><tr><td>80811190</td><td>31.3</td></tr><tr><td>80813211</td><td>31.3</td></tr><tr><td>42444100</td><td>31.2</td></tr><tr><td>42445220</td><td>31.2</td></tr><tr><td>43488300</td><td>31.2</td></tr><tr><td>50515110</td><td>31.2</td></tr><tr><td>65623312</td><td>31.2</td></tr><tr><td>80813311</td><td>31.2</td></tr><tr><td>80813990</td><td>31.2</td></tr><tr><td>42442000</td><td>31.1</td></tr><tr><td>42445220</td><td>31.1</td></tr><tr><td>60541890</td><td>31.1</td></tr><tr><td>60541900</td><td>31.1</td></tr><tr><td>42444000</td><td>31</td></tr><tr><td>55531120</td><td>31</td></tr><tr><td>60541890</td><td>31</td></tr><tr><td>43484210</td><td>30.9</td></tr><tr><td>43488300</td><td>30.9</td></tr><tr><td>42444100</td><td>30.8</td></tr><tr><td>43485400</td><td>30.8</td></tr><tr><td>65623312</td><td>30.8</td></tr><tr><td>80000000</td><td>30.8</td></tr><tr><td>80813930</td><td>30.8</td></tr><tr><td>60541920</td><td>30.7</td></tr><tr><td>80000000</td><td>30.7</td></tr><tr><td>60541900</td><td>30.6</td></tr><tr><td>65624190</td><td>30.6</td></tr><tr><td>80812320</td><td>30.6</td></tr><tr><td>42447000</td><td>30.4</td></tr><tr><td>55531120</td><td>30.4</td></tr><tr><td>65624190</td><td>30.4</td></tr><tr><td>42448300</td><td>30.3</td></tr><tr><td>65621112</td><td>30.3</td></tr><tr><td>42447110</td><td>30.2</td></tr><tr><td>65624300</td><td>30.2</td></tr><tr><td>65624400</td><td>30.2</td></tr><tr><td>42444130</td><td>30.1</td></tr><tr><td>42446120</td><td>30.1</td></tr><tr><td>80813000</td><td>30.1</td></tr><tr><td>42447000</td><td>30</td></tr><tr><td>65624300</td><td>30</td></tr><tr><td>65624400</td><td>30</td></tr><tr><td>70721110</td><td>29.9</td></tr><tr><td>80813000</td><td>29.9</td></tr><tr><td>42000000</td><td>29.8</td></tr><tr><td>42444130</td><td>29.8</td></tr><tr><td>42446190</td><td>29.8</td></tr><tr><td>65624110</td><td>29.8</td></tr><tr><td>70721100</td><td>29.8</td></tr><tr><td>80811190</td><td>29.8</td></tr><tr><td>80812320</td><td>29.8</td></tr><tr><td>42446190</td><td>29.7</td></tr><tr><td>42447110</td><td>29.7</td></tr><tr><td>42448300</td><td>29.7</td></tr><tr><td>42453900</td><td>29.7</td></tr><tr><td>42453910</td><td>29.7</td></tr><tr><td>43484210</td><td>29.7</td></tr><tr><td>65624110</td><td>29.7</td></tr><tr><td>70721000</td><td>29.7</td></tr><tr><td>42445120</td><td>29.6</td></tr><tr><td>42446000</td><td>29.6</td></tr><tr><td>42453210</td><td>29.6</td></tr><tr><td>42000000</td><td>29.5</td></tr><tr><td>42446110</td><td>29.5</td></tr><tr><td>60561740</td><td>29.5</td></tr><tr><td>42446000</td><td>29.4</td></tr><tr><td>60561700</td><td>29.4</td></tr><tr><td>42453910</td><td>29.3</td></tr><tr><td>43485400</td><td>29.3</td></tr><tr><td>65621320</td><td>29.3</td></tr><tr><td>42453900</td><td>29.2</td></tr><tr><td>42444110</td><td>29.1</td></tr><tr><td>42452000</td><td>29.1</td></tr><tr><td>65621112</td><td>29.1</td></tr><tr><td>70721100</td><td>29.1</td></tr><tr><td>70721110</td><td>29.1</td></tr><tr><td>80812930</td><td>29.1</td></tr><tr><td>42445120</td><td>29</td></tr><tr><td>42453210</td><td>29</td></tr><tr><td>60541940</td><td>29</td></tr><tr><td>65624000</td><td>29</td></tr><tr><td>70721000</td><td>29</td></tr><tr><td>42446110</td><td>28.9</td></tr><tr><td>60541940</td><td>28.9</td></tr><tr><td>65621600</td><td>28.9</td></tr><tr><td>42453300</td><td>28.8</td></tr><tr><td>65624000</td><td>28.8</td></tr><tr><td>80812200</td><td>28.8</td></tr><tr><td>65621600</td><td>28.7</td></tr><tr><td>70711200</td><td>28.7</td></tr><tr><td>80812200</td><td>28.7</td></tr><tr><td>42453300</td><td>28.6</td></tr><tr><td>42444110</td><td>28.5</td></tr><tr><td>42446120</td><td>28.5</td></tr><tr><td>42452000</td><td>28.4</td></tr><tr><td>65621340</td><td>28.4</td></tr><tr><td>70711500</td><td>28.4</td></tr><tr><td>60541910</td><td>28.3</td></tr><tr><td>65621320</td><td>28.3</td></tr><tr><td>65621390</td><td>28.3</td></tr><tr><td>42445100</td><td>28.2</td></tr><tr><td>42445000</td><td>28.1</td></tr><tr><td>42445110</td><td>28.1</td></tr><tr><td>65621300</td><td>28.1</td></tr><tr><td>65621390</td><td>28.1</td></tr><tr><td>65624100</td><td>28.1</td></tr><tr><td>42453000</td><td>28</td></tr><tr><td>65621493</td><td>28</td></tr><tr><td>70722310</td><td>28</td></tr><tr><td>80812930</td><td>28</td></tr><tr><td>42445100</td><td>27.9</td></tr><tr><td>42445200</td><td>27.9</td></tr><tr><td>65621200</td><td>27.9</td></tr><tr><td>65621493</td><td>27.9</td></tr><tr><td>80811192</td><td>27.9</td></tr><tr><td>42445000</td><td>27.8</td></tr><tr><td>42445110</td><td>27.8</td></tr><tr><td>65621340</td><td>27.8</td></tr><tr><td>65624100</td><td>27.8</td></tr><tr><td>70711500</td><td>27.8</td></tr><tr><td>42442200</td><td>27.6</td></tr><tr><td>42445200</td><td>27.6</td></tr><tr><td>42453000</td><td>27.6</td></tr><tr><td>60541910</td><td>27.6</td></tr><tr><td>65621300</td><td>27.6</td></tr><tr><td>42442200</td><td>27.4</td></tr><tr><td>65621200</td><td>27.4</td></tr><tr><td>65624120</td><td>27.4</td></tr><tr><td>80812000</td><td>27.4</td></tr><tr><td>60541720</td><td>27.3</td></tr><tr><td>60561720</td><td>27.3</td></tr><tr><td>70722310</td><td>27.3</td></tr><tr><td>50512000</td><td>27.2</td></tr><tr><td>60541720</td><td>27.2</td></tr><tr><td>80812000</td><td>27.2</td></tr><tr><td>60561720</td><td>27.1</td></tr><tr><td>65621330</td><td>27</td></tr><tr><td>65624120</td><td>27</td></tr><tr><td>80812900</td><td>27</td></tr><tr><td>42453100</td><td>26.9</td></tr><tr><td>50512000</td><td>26.9</td></tr><tr><td>80812900</td><td>26.9</td></tr><tr><td>70721200</td><td>26.7</td></tr><tr><td>70721200</td><td>26.6</td></tr><tr><td>70722514</td><td>26.6</td></tr><tr><td>42445300</td><td>26.5</td></tr><tr><td>65621330</td><td>26.5</td></tr><tr><td>70711200</td><td>26.5</td></tr><tr><td>42445300</td><td>26.4</td></tr><tr><td>80812310</td><td>26.4</td></tr><tr><td>70712190</td><td>26.3</td></tr><tr><td>80812910</td><td>26.3</td></tr><tr><td>42451110</td><td>26.2</td></tr><tr><td>42451120</td><td>26.2</td></tr><tr><td>70711000</td><td>26.2</td></tr><tr><td>70722514</td><td>26.2</td></tr><tr><td>80812310</td><td>26.2</td></tr><tr><td>42451100</td><td>26.1</td></tr><tr><td>65621310</td><td>26.1</td></tr><tr><td>65621310</td><td>26</td></tr><tr><td>70712190</td><td>26</td></tr><tr><td>80811192</td><td>25.8</td></tr><tr><td>42451000</td><td>25.7</td></tr><tr><td>42453200</td><td>25.7</td></tr><tr><td>70722300</td><td>25.7</td></tr><tr><td>42451100</td><td>25.6</td></tr><tr><td>42451110</td><td>25.6</td></tr><tr><td>80812110</td><td>25.5</td></tr><tr><td>42453200</td><td>25.4</td></tr><tr><td>70713910</td><td>25.4</td></tr><tr><td>42451000</td><td>25.3</td></tr><tr><td>42451120</td><td>25.3</td></tr><tr><td>70711000</td><td>25.3</td></tr><tr><td>70712000</td><td>25.3</td></tr><tr><td>70720000</td><td>25.2</td></tr><tr><td>80812910</td><td>25.2</td></tr><tr><td>42453100</td><td>25.1</td></tr><tr><td>80812110</td><td>25.1</td></tr><tr><td>70711300</td><td>24.9</td></tr><tr><td>80812100</td><td>24.9</td></tr><tr><td>70000000</td><td>24.8</td></tr><tr><td>70711100</td><td>24.7</td></tr><tr><td>70712110</td><td>24.7</td></tr><tr><td>70713910</td><td>24.7</td></tr><tr><td>70722300</td><td>24.7</td></tr><tr><td>70711100</td><td>24.6</td></tr><tr><td>70720000</td><td>24.6</td></tr><tr><td>70722511</td><td>24.6</td></tr><tr><td>80812100</td><td>24.6</td></tr><tr><td>70722513</td><td>24.5</td></tr><tr><td>42442290</td><td>24.4</td></tr><tr><td>70722000</td><td>24.4</td></tr><tr><td>70722500</td><td>24.4</td></tr><tr><td>42442290</td><td>24.3</td></tr><tr><td>70000000</td><td>24.3</td></tr><tr><td>70711300</td><td>24.2</td></tr><tr><td>70722511</td><td>24</td></tr><tr><td>42448200</td><td>23.9</td></tr><tr><td>70722000</td><td>23.9</td></tr><tr><td>42451200</td><td>23.8</td></tr><tr><td>70722500</td><td>23.8</td></tr><tr><td>70722513</td><td>23.8</td></tr><tr><td>42453220</td><td>23.6</td></tr><tr><td>42448200</td><td>23.3</td></tr><tr><td>70710000</td><td>23</td></tr><tr><td>80812190</td><td>23</td></tr><tr><td>70710000</td><td>22.8</td></tr><tr><td>70722515</td><td>22.8</td></tr><tr><td>80812190</td><td>22.8</td></tr><tr><td>42453220</td><td>22.4</td></tr><tr><td>70722515</td><td>22.4</td></tr><tr><td>70713000</td><td>22.1</td></tr><tr><td>42448000</td><td>21.9</td></tr><tr><td>42448150</td><td>21.7</td></tr><tr><td>70713000</td><td>21.6</td></tr><tr><td>70722400</td><td>21.4</td></tr><tr><td>70722400</td><td>21.3</td></tr><tr><td>70722330</td><td>20.9</td></tr><tr><td>42448000</td><td>20.7</td></tr><tr><td>42448150</td><td>20.7</td></tr><tr><td>70713950</td><td>20.4</td></tr><tr><td>42448100</td><td>20.3</td></tr><tr><td>70713950</td><td>20</td></tr><tr><td>42448140</td><td>19.8</td></tr><tr><td>70713920</td><td>19.6</td></tr><tr><td>42448120</td><td>19.5</td></tr><tr><td>70722330</td><td>19.4</td></tr><tr><td>70713920</td><td>19</td></tr><tr><td>42448100</td><td>18.9</td></tr><tr><td>80813400</td><td>18.5</td></tr><tr><td>42448120</td><td>18.1</td></tr><tr><td>80813400</td><td>18.1</td></tr><tr><td>42448140</td><td>17.8</td></tr><tr><td>70713940</td><td>17</td></tr><tr><td>70713940</td><td>16.7</td></tr></table>"
                    },
                    "metadata": {}
                }
            ],
            "execution_count": 16
        },
        {
            "cell_type": "code",
            "source": [
                "SELECT TOP 1 industry_code, industry_name\n",
                "FROM LaborStatisticsDB.dbo.industry\n",
                "WHERE industry_code = 31336350"
            ],
            "metadata": {
                "language": "sql",
                "azdata_cell_guid": "725a9541-cb19-45c5-bf2a-c6f22f08b764"
            },
            "outputs": [
                {
                    "output_type": "display_data",
                    "data": {
                        "text/html": "(1 row affected)"
                    },
                    "metadata": {}
                },
                {
                    "output_type": "display_data",
                    "data": {
                        "text/html": "Total execution time: 00:00:00.091"
                    },
                    "metadata": {}
                },
                {
                    "output_type": "execute_result",
                    "execution_count": 17,
                    "data": {
                        "application/vnd.dataresource+json": {
                            "schema": {
                                "fields": [
                                    {
                                        "name": "industry_code"
                                    },
                                    {
                                        "name": "industry_name"
                                    }
                                ]
                            },
                            "data": [
                                {
                                    "industry_code": "31336350",
                                    "industry_name": "Motor vehicle power train components"
                                }
                            ]
                        },
                        "text/html": "<table><tr><th>industry_code</th><th>industry_name</th></tr><tr><td>31336350</td><td>Motor vehicle power train components</td></tr></table>"
                    },
                    "metadata": {}
                }
            ],
            "execution_count": 17
        },
        {
            "cell_type": "code",
            "source": [
                "SELECT TOP 1 industry_code, industry_name\n",
                "FROM LaborStatisticsDB.dbo.industry\n",
                "WHERE industry_code = 70713940"
            ],
            "metadata": {
                "language": "sql",
                "azdata_cell_guid": "bb6d58f0-bb80-4f0d-9871-86dd75e35a80"
            },
            "outputs": [
                {
                    "output_type": "display_data",
                    "data": {
                        "text/html": "(1 row affected)"
                    },
                    "metadata": {}
                },
                {
                    "output_type": "display_data",
                    "data": {
                        "text/html": "Total execution time: 00:00:00.227"
                    },
                    "metadata": {}
                },
                {
                    "output_type": "execute_result",
                    "execution_count": 18,
                    "data": {
                        "application/vnd.dataresource+json": {
                            "schema": {
                                "fields": [
                                    {
                                        "name": "industry_code"
                                    },
                                    {
                                        "name": "industry_name"
                                    }
                                ]
                            },
                            "data": [
                                {
                                    "industry_code": "70713940",
                                    "industry_name": "Fitness and recreational sports centers"
                                }
                            ]
                        },
                        "text/html": "<table><tr><th>industry_code</th><th>industry_name</th></tr><tr><td>70713940</td><td>Fitness and recreational sports centers</td></tr></table>"
                    },
                    "metadata": {}
                }
            ],
            "execution_count": 18
        },
        {
            "cell_type": "markdown",
            "source": [
                "7. <span style=\"background-color: rgb(255, 255, 255); font-size: 10pt; white-space: pre-wrap; color: rgb(102, 102, 102); font-family: Arvo, serif;\">In January 2021, which industry was the total weekly payroll for production and nonsupervisory employees the highest? Which industry was the lowest?</span>\n",
                "\n",
                "<span style=\"font-size: 13.3333px; white-space: pre-wrap;\"><b>ANSWER with data type 82: Highest = Total Private, Lowest = Coin-operated laundries and drycleaners</b><br></span>"
            ],
            "metadata": {
                "azdata_cell_guid": "a53f4113-60c6-46d1-b9a3-34610c61d4f9"
            },
            "attachments": {}
        },
        {
            "cell_type": "code",
            "source": [
                "SELECT s.industry_code, j.value as 'Total Weekly Earrings'\n",
                "FROM LaborStatisticsDB.dbo.january_2017 as j\n",
                "INNER JOIN LaborStatisticsDB.dbo.series as s\n",
                "ON j.series_id = s.series_id\n",
                "WHERE s.data_type_code=82\n",
                "--82 is AGGREGATE WEEKLY PAYROLLS OF PRODUCTION AND NONSUPERVISORY EMPLOYEES\n",
                "GROUP BY s.industry_code, j.value\n",
                "ORDER BY j.value DESC"
            ],
            "metadata": {
                "azdata_cell_guid": "583695e6-7438-4e03-8970-1fe0c677a793",
                "language": "sql"
            },
            "outputs": [
                {
                    "output_type": "display_data",
                    "data": {
                        "text/html": "(1102 rows affected)"
                    },
                    "metadata": {}
                },
                {
                    "output_type": "display_data",
                    "data": {
                        "text/html": "Total execution time: 00:00:00.203"
                    },
                    "metadata": {}
                },
                {
                    "output_type": "execute_result",
                    "execution_count": 19,
                    "data": {
                        "application/vnd.dataresource+json": {
                            "schema": {
                                "fields": [
                                    {
                                        "name": "industry_code"
                                    },
                                    {
                                        "name": "Total Weekly Earrings"
                                    }
                                ]
                            },
                            "data": [
                                {
                                    "industry_code": "05000000",
                                    "Total Weekly Earrings": "74498171"
                                },
                                {
                                    "industry_code": "05000000",
                                    "Total Weekly Earrings": "73474302"
                                },
                                {
                                    "industry_code": "08000000",
                                    "Total Weekly Earrings": "60914722"
                                },
                                {
                                    "industry_code": "08000000",
                                    "Total Weekly Earrings": "60807771"
                                },
                                {
                                    "industry_code": "60000000",
                                    "Total Weekly Earrings": "15251268"
                                },
                                {
                                    "industry_code": "60000000",
                                    "Total Weekly Earrings": "15219807"
                                },
                                {
                                    "industry_code": "40000000",
                                    "Total Weekly Earrings": "14850661"
                                },
                                {
                                    "industry_code": "65000000",
                                    "Total Weekly Earrings": "14816074"
                                },
                                {
                                    "industry_code": "65000000",
                                    "Total Weekly Earrings": "14765156"
                                },
                                {
                                    "industry_code": "40000000",
                                    "Total Weekly Earrings": "14732108"
                                },
                                {
                                    "industry_code": "06000000",
                                    "Total Weekly Earrings": "13426820"
                                },
                                {
                                    "industry_code": "65620000",
                                    "Total Weekly Earrings": "12878462"
                                },
                                {
                                    "industry_code": "65620000",
                                    "Total Weekly Earrings": "12762526"
                                },
                                {
                                    "industry_code": "06000000",
                                    "Total Weekly Earrings": "12711945"
                                },
                                {
                                    "industry_code": "65620001",
                                    "Total Weekly Earrings": "11537267"
                                },
                                {
                                    "industry_code": "65620001",
                                    "Total Weekly Earrings": "11413008"
                                },
                                {
                                    "industry_code": "60540000",
                                    "Total Weekly Earrings": "8976687"
                                },
                                {
                                    "industry_code": "60540000",
                                    "Total Weekly Earrings": "8821026"
                                },
                                {
                                    "industry_code": "30000000",
                                    "Total Weekly Earrings": "7491723"
                                },
                                {
                                    "industry_code": "30000000",
                                    "Total Weekly Earrings": "7411960"
                                },
                                {
                                    "industry_code": "55000000",
                                    "Total Weekly Earrings": "6467426"
                                },
                                {
                                    "industry_code": "55000000",
                                    "Total Weekly Earrings": "6328968"
                                },
                                {
                                    "industry_code": "42000000",
                                    "Total Weekly Earrings": "6123554"
                                },
                                {
                                    "industry_code": "42000000",
                                    "Total Weekly Earrings": "6060100"
                                },
                                {
                                    "industry_code": "20000000",
                                    "Total Weekly Earrings": "5335274"
                                },
                                {
                                    "industry_code": "65622000",
                                    "Total Weekly Earrings": "5105336"
                                },
                                {
                                    "industry_code": "65622000",
                                    "Total Weekly Earrings": "5048432"
                                },
                                {
                                    "industry_code": "65621000",
                                    "Total Weekly Earrings": "4907269"
                                },
                                {
                                    "industry_code": "60560000",
                                    "Total Weekly Earrings": "4886085"
                                },
                                {
                                    "industry_code": "65621000",
                                    "Total Weekly Earrings": "4875906"
                                },
                                {
                                    "industry_code": "31000000",
                                    "Total Weekly Earrings": "4859716"
                                },
                                {
                                    "industry_code": "31000000",
                                    "Total Weekly Earrings": "4808368"
                                },
                                {
                                    "industry_code": "65622100",
                                    "Total Weekly Earrings": "4773547"
                                },
                                {
                                    "industry_code": "20000000",
                                    "Total Weekly Earrings": "4724156"
                                },
                                {
                                    "industry_code": "65622100",
                                    "Total Weekly Earrings": "4716914"
                                },
                                {
                                    "industry_code": "60560000",
                                    "Total Weekly Earrings": "4659531"
                                },
                                {
                                    "industry_code": "60561000",
                                    "Total Weekly Earrings": "4565569"
                                },
                                {
                                    "industry_code": "70000000",
                                    "Total Weekly Earrings": "4537173"
                                },
                                {
                                    "industry_code": "41420000",
                                    "Total Weekly Earrings": "4506110"
                                },
                                {
                                    "industry_code": "41420000",
                                    "Total Weekly Earrings": "4480134"
                                },
                                {
                                    "industry_code": "60561000",
                                    "Total Weekly Earrings": "4357866"
                                },
                                {
                                    "industry_code": "70000000",
                                    "Total Weekly Earrings": "4224098"
                                },
                                {
                                    "industry_code": "70720000",
                                    "Total Weekly Earrings": "3802356"
                                },
                                {
                                    "industry_code": "70720000",
                                    "Total Weekly Earrings": "3572648"
                                },
                                {
                                    "industry_code": "43000000",
                                    "Total Weekly Earrings": "3538683"
                                },
                                {
                                    "industry_code": "43000000",
                                    "Total Weekly Earrings": "3495553"
                                },
                                {
                                    "industry_code": "20238000",
                                    "Total Weekly Earrings": "3421902"
                                },
                                {
                                    "industry_code": "70722000",
                                    "Total Weekly Earrings": "3085429"
                                },
                                {
                                    "industry_code": "20238000",
                                    "Total Weekly Earrings": "3062211"
                                },
                                {
                                    "industry_code": "70722000",
                                    "Total Weekly Earrings": "2913295"
                                },
                                {
                                    "industry_code": "80000000",
                                    "Total Weekly Earrings": "2875314"
                                },
                                {
                                    "industry_code": "80000000",
                                    "Total Weekly Earrings": "2836698"
                                },
                                {
                                    "industry_code": "70722500",
                                    "Total Weekly Earrings": "2768855"
                                },
                                {
                                    "industry_code": "60541500",
                                    "Total Weekly Earrings": "2725031"
                                },
                                {
                                    "industry_code": "60541500",
                                    "Total Weekly Earrings": "2666568"
                                },
                                {
                                    "industry_code": "32000000",
                                    "Total Weekly Earrings": "2633628"
                                },
                                {
                                    "industry_code": "70722500",
                                    "Total Weekly Earrings": "2617225"
                                },
                                {
                                    "industry_code": "32000000",
                                    "Total Weekly Earrings": "2605069"
                                },
                                {
                                    "industry_code": "50000000",
                                    "Total Weekly Earrings": "2434992"
                                },
                                {
                                    "industry_code": "50000000",
                                    "Total Weekly Earrings": "2416443"
                                },
                                {
                                    "industry_code": "55524000",
                                    "Total Weekly Earrings": "2408490"
                                },
                                {
                                    "industry_code": "55524000",
                                    "Total Weekly Earrings": "2347328"
                                },
                                {
                                    "industry_code": "41423000",
                                    "Total Weekly Earrings": "2283094"
                                },
                                {
                                    "industry_code": "41423000",
                                    "Total Weekly Earrings": "2261006"
                                },
                                {
                                    "industry_code": "65621100",
                                    "Total Weekly Earrings": "2149121"
                                },
                                {
                                    "industry_code": "65621100",
                                    "Total Weekly Earrings": "2141331"
                                },
                                {
                                    "industry_code": "65621111",
                                    "Total Weekly Earrings": "2121845"
                                },
                                {
                                    "industry_code": "65621111",
                                    "Total Weekly Earrings": "2113086"
                                },
                                {
                                    "industry_code": "60561300",
                                    "Total Weekly Earrings": "2013846"
                                },
                                {
                                    "industry_code": "60561300",
                                    "Total Weekly Earrings": "1938059"
                                },
                                {
                                    "industry_code": "55522000",
                                    "Total Weekly Earrings": "1767137"
                                },
                                {
                                    "industry_code": "55522000",
                                    "Total Weekly Earrings": "1717912"
                                },
                                {
                                    "industry_code": "20238200",
                                    "Total Weekly Earrings": "1696080"
                                },
                                {
                                    "industry_code": "70722511",
                                    "Total Weekly Earrings": "1626780"
                                },
                                {
                                    "industry_code": "20238200",
                                    "Total Weekly Earrings": "1621266"
                                },
                                {
                                    "industry_code": "80813000",
                                    "Total Weekly Earrings": "1599916"
                                },
                                {
                                    "industry_code": "60561320",
                                    "Total Weekly Earrings": "1598939"
                                },
                                {
                                    "industry_code": "80813000",
                                    "Total Weekly Earrings": "1594855"
                                },
                                {
                                    "industry_code": "60550000",
                                    "Total Weekly Earrings": "1587677"
                                },
                                {
                                    "industry_code": "60550000",
                                    "Total Weekly Earrings": "1566036"
                                },
                                {
                                    "industry_code": "60561320",
                                    "Total Weekly Earrings": "1530782"
                                },
                                {
                                    "industry_code": "70722511",
                                    "Total Weekly Earrings": "1528888"
                                },
                                {
                                    "industry_code": "65623000",
                                    "Total Weekly Earrings": "1525889"
                                },
                                {
                                    "industry_code": "60551114",
                                    "Total Weekly Earrings": "1517287"
                                },
                                {
                                    "industry_code": "55524100",
                                    "Total Weekly Earrings": "1509979"
                                },
                                {
                                    "industry_code": "60551114",
                                    "Total Weekly Earrings": "1496334"
                                },
                                {
                                    "industry_code": "65623000",
                                    "Total Weekly Earrings": "1489277"
                                },
                                {
                                    "industry_code": "55524100",
                                    "Total Weekly Earrings": "1477799"
                                },
                                {
                                    "industry_code": "60541300",
                                    "Total Weekly Earrings": "1439445"
                                },
                                {
                                    "industry_code": "60541300",
                                    "Total Weekly Earrings": "1422967"
                                },
                                {
                                    "industry_code": "41424000",
                                    "Total Weekly Earrings": "1367413"
                                },
                                {
                                    "industry_code": "65624000",
                                    "Total Weekly Earrings": "1357629"
                                },
                                {
                                    "industry_code": "41424000",
                                    "Total Weekly Earrings": "1348136"
                                },
                                {
                                    "industry_code": "65624000",
                                    "Total Weekly Earrings": "1337022"
                                },
                                {
                                    "industry_code": "60541600",
                                    "Total Weekly Earrings": "1336594"
                                },
                                {
                                    "industry_code": "60541600",
                                    "Total Weekly Earrings": "1330587"
                                },
                                {
                                    "industry_code": "60541512",
                                    "Total Weekly Earrings": "1309441"
                                },
                                {
                                    "industry_code": "60541512",
                                    "Total Weekly Earrings": "1274481"
                                },
                                {
                                    "industry_code": "31336000",
                                    "Total Weekly Earrings": "1257764"
                                },
                                {
                                    "industry_code": "31336000",
                                    "Total Weekly Earrings": "1242685"
                                },
                                {
                                    "industry_code": "60541511",
                                    "Total Weekly Earrings": "1198283"
                                },
                                {
                                    "industry_code": "42441000",
                                    "Total Weekly Earrings": "1180297"
                                },
                                {
                                    "industry_code": "60541511",
                                    "Total Weekly Earrings": "1173494"
                                },
                                {
                                    "industry_code": "42441000",
                                    "Total Weekly Earrings": "1163420"
                                },
                                {
                                    "industry_code": "43484000",
                                    "Total Weekly Earrings": "1131821"
                                },
                                {
                                    "industry_code": "60541100",
                                    "Total Weekly Earrings": "1093898"
                                },
                                {
                                    "industry_code": "43484000",
                                    "Total Weekly Earrings": "1092427"
                                },
                                {
                                    "industry_code": "55523000",
                                    "Total Weekly Earrings": "1087325"
                                },
                                {
                                    "industry_code": "60541610",
                                    "Total Weekly Earrings": "1066602"
                                },
                                {
                                    "industry_code": "42452000",
                                    "Total Weekly Earrings": "1065807"
                                },
                                {
                                    "industry_code": "60541100",
                                    "Total Weekly Earrings": "1058862"
                                },
                                {
                                    "industry_code": "60541610",
                                    "Total Weekly Earrings": "1053691"
                                },
                                {
                                    "industry_code": "60541340",
                                    "Total Weekly Earrings": "1051499"
                                },
                                {
                                    "industry_code": "42452000",
                                    "Total Weekly Earrings": "1049973"
                                },
                                {
                                    "industry_code": "55523000",
                                    "Total Weekly Earrings": "1044224"
                                },
                                {
                                    "industry_code": "60541340",
                                    "Total Weekly Earrings": "1042223"
                                },
                                {
                                    "industry_code": "60541110",
                                    "Total Weekly Earrings": "1038464"
                                },
                                {
                                    "industry_code": "20236000",
                                    "Total Weekly Earrings": "1008035"
                                },
                                {
                                    "industry_code": "55522100",
                                    "Total Weekly Earrings": "1004069"
                                },
                                {
                                    "industry_code": "60541110",
                                    "Total Weekly Earrings": "1004009"
                                },
                                {
                                    "industry_code": "42445000",
                                    "Total Weekly Earrings": "974710"
                                },
                                {
                                    "industry_code": "55522100",
                                    "Total Weekly Earrings": "971796"
                                },
                                {
                                    "industry_code": "70722513",
                                    "Total Weekly Earrings": "969748"
                                },
                                {
                                    "industry_code": "42445000",
                                    "Total Weekly Earrings": "963315"
                                },
                                {
                                    "industry_code": "20236000",
                                    "Total Weekly Earrings": "940800"
                                },
                                {
                                    "industry_code": "70722513",
                                    "Total Weekly Earrings": "922041"
                                },
                                {
                                    "industry_code": "20237000",
                                    "Total Weekly Earrings": "908374"
                                },
                                {
                                    "industry_code": "55524200",
                                    "Total Weekly Earrings": "894878"
                                },
                                {
                                    "industry_code": "41425000",
                                    "Total Weekly Earrings": "873578"
                                },
                                {
                                    "industry_code": "55524200",
                                    "Total Weekly Earrings": "872398"
                                },
                                {
                                    "industry_code": "31332000",
                                    "Total Weekly Earrings": "871298"
                                },
                                {
                                    "industry_code": "42445100",
                                    "Total Weekly Earrings": "868430"
                                },
                                {
                                    "industry_code": "31332000",
                                    "Total Weekly Earrings": "867242"
                                },
                                {
                                    "industry_code": "55531000",
                                    "Total Weekly Earrings": "865620"
                                },
                                {
                                    "industry_code": "55531000",
                                    "Total Weekly Earrings": "862987"
                                },
                                {
                                    "industry_code": "42445100",
                                    "Total Weekly Earrings": "861224"
                                },
                                {
                                    "industry_code": "41425000",
                                    "Total Weekly Earrings": "855291"
                                },
                                {
                                    "industry_code": "41425120",
                                    "Total Weekly Earrings": "851551"
                                },
                                {
                                    "industry_code": "32311000",
                                    "Total Weekly Earrings": "851406"
                                },
                                {
                                    "industry_code": "60561700",
                                    "Total Weekly Earrings": "846000"
                                },
                                {
                                    "industry_code": "32311000",
                                    "Total Weekly Earrings": "842201"
                                },
                                {
                                    "industry_code": "42441100",
                                    "Total Weekly Earrings": "839595"
                                },
                                {
                                    "industry_code": "65624100",
                                    "Total Weekly Earrings": "838886"
                                },
                                {
                                    "industry_code": "41425120",
                                    "Total Weekly Earrings": "831319"
                                },
                                {
                                    "industry_code": "42441100",
                                    "Total Weekly Earrings": "831131"
                                },
                                {
                                    "industry_code": "65624100",
                                    "Total Weekly Earrings": "828771"
                                },
                                {
                                    "industry_code": "42445110",
                                    "Total Weekly Earrings": "821282"
                                },
                                {
                                    "industry_code": "42445110",
                                    "Total Weekly Earrings": "817408"
                                },
                                {
                                    "industry_code": "65623100",
                                    "Total Weekly Earrings": "811522"
                                },
                                {
                                    "industry_code": "43484100",
                                    "Total Weekly Earrings": "796953"
                                },
                                {
                                    "industry_code": "65623100",
                                    "Total Weekly Earrings": "791482"
                                },
                                {
                                    "industry_code": "20238220",
                                    "Total Weekly Earrings": "788207"
                                },
                                {
                                    "industry_code": "20238210",
                                    "Total Weekly Earrings": "783194"
                                },
                                {
                                    "industry_code": "55524110",
                                    "Total Weekly Earrings": "782455"
                                },
                                {
                                    "industry_code": "43484100",
                                    "Total Weekly Earrings": "776540"
                                },
                                {
                                    "industry_code": "60541700",
                                    "Total Weekly Earrings": "776034"
                                },
                                {
                                    "industry_code": "55522110",
                                    "Total Weekly Earrings": "771223"
                                },
                                {
                                    "industry_code": "60541700",
                                    "Total Weekly Earrings": "765240"
                                },
                                {
                                    "industry_code": "55524110",
                                    "Total Weekly Earrings": "760905"
                                },
                                {
                                    "industry_code": "20238220",
                                    "Total Weekly Earrings": "758484"
                                },
                                {
                                    "industry_code": "42441110",
                                    "Total Weekly Earrings": "751027"
                                },
                                {
                                    "industry_code": "50517000",
                                    "Total Weekly Earrings": "750420"
                                },
                                {
                                    "industry_code": "42441110",
                                    "Total Weekly Earrings": "748568"
                                },
                                {
                                    "industry_code": "50517000",
                                    "Total Weekly Earrings": "744537"
                                },
                                {
                                    "industry_code": "70710000",
                                    "Total Weekly Earrings": "744245"
                                },
                                {
                                    "industry_code": "55522110",
                                    "Total Weekly Earrings": "740634"
                                },
                                {
                                    "industry_code": "20238210",
                                    "Total Weekly Earrings": "739019"
                                },
                                {
                                    "industry_code": "60541710",
                                    "Total Weekly Earrings": "737556"
                                },
                                {
                                    "industry_code": "80811000",
                                    "Total Weekly Earrings": "736018"
                                },
                                {
                                    "industry_code": "50511000",
                                    "Total Weekly Earrings": "730389"
                                },
                                {
                                    "industry_code": "60541710",
                                    "Total Weekly Earrings": "727615"
                                },
                                {
                                    "industry_code": "80811000",
                                    "Total Weekly Earrings": "724522"
                                },
                                {
                                    "industry_code": "20237000",
                                    "Total Weekly Earrings": "720804"
                                },
                                {
                                    "industry_code": "50511000",
                                    "Total Weekly Earrings": "720223"
                                },
                                {
                                    "industry_code": "60561700",
                                    "Total Weekly Earrings": "716319"
                                },
                                {
                                    "industry_code": "70721000",
                                    "Total Weekly Earrings": "707884"
                                },
                                {
                                    "industry_code": "31336001",
                                    "Total Weekly Earrings": "697350"
                                },
                                {
                                    "industry_code": "44220000",
                                    "Total Weekly Earrings": "696860"
                                },
                                {
                                    "industry_code": "55524120",
                                    "Total Weekly Earrings": "692782"
                                },
                                {
                                    "industry_code": "31336001",
                                    "Total Weekly Earrings": "690224"
                                },
                                {
                                    "industry_code": "70721100",
                                    "Total Weekly Earrings": "689345"
                                },
                                {
                                    "industry_code": "55524120",
                                    "Total Weekly Earrings": "683445"
                                },
                                {
                                    "industry_code": "44220000",
                                    "Total Weekly Earrings": "683302"
                                },
                                {
                                    "industry_code": "60541200",
                                    "Total Weekly Earrings": "670319"
                                },
                                {
                                    "industry_code": "65621600",
                                    "Total Weekly Earrings": "670050"
                                },
                                {
                                    "industry_code": "65621600",
                                    "Total Weekly Earrings": "665073"
                                },
                                {
                                    "industry_code": "70710000",
                                    "Total Weekly Earrings": "664157"
                                },
                                {
                                    "industry_code": "70721000",
                                    "Total Weekly Earrings": "658963"
                                },
                                {
                                    "industry_code": "70721100",
                                    "Total Weekly Earrings": "648661"
                                },
                                {
                                    "industry_code": "65621400",
                                    "Total Weekly Earrings": "647041"
                                },
                                {
                                    "industry_code": "31333000",
                                    "Total Weekly Earrings": "643672"
                                },
                                {
                                    "industry_code": "65621400",
                                    "Total Weekly Earrings": "642745"
                                },
                                {
                                    "industry_code": "31333000",
                                    "Total Weekly Earrings": "641540"
                                },
                                {
                                    "industry_code": "20238100",
                                    "Total Weekly Earrings": "639493"
                                },
                                {
                                    "industry_code": "60541200",
                                    "Total Weekly Earrings": "620966"
                                },
                                {
                                    "industry_code": "43484120",
                                    "Total Weekly Earrings": "620364"
                                },
                                {
                                    "industry_code": "43484120",
                                    "Total Weekly Earrings": "607910"
                                },
                                {
                                    "industry_code": "31334000",
                                    "Total Weekly Earrings": "602122"
                                },
                                {
                                    "industry_code": "31334000",
                                    "Total Weekly Earrings": "601411"
                                },
                                {
                                    "industry_code": "41423400",
                                    "Total Weekly Earrings": "601298"
                                },
                                {
                                    "industry_code": "55524210",
                                    "Total Weekly Earrings": "599011"
                                },
                                {
                                    "industry_code": "60541611",
                                    "Total Weekly Earrings": "597207"
                                },
                                {
                                    "industry_code": "10000000",
                                    "Total Weekly Earrings": "594171"
                                },
                                {
                                    "industry_code": "41423400",
                                    "Total Weekly Earrings": "587319"
                                },
                                {
                                    "industry_code": "10000000",
                                    "Total Weekly Earrings": "586954"
                                },
                                {
                                    "industry_code": "60541611",
                                    "Total Weekly Earrings": "585449"
                                },
                                {
                                    "industry_code": "20236200",
                                    "Total Weekly Earrings": "583063"
                                },
                                {
                                    "industry_code": "55524210",
                                    "Total Weekly Earrings": "583035"
                                },
                                {
                                    "industry_code": "20238300",
                                    "Total Weekly Earrings": "575394"
                                },
                                {
                                    "industry_code": "70721110",
                                    "Total Weekly Earrings": "570342"
                                },
                                {
                                    "industry_code": "43493000",
                                    "Total Weekly Earrings": "569765"
                                },
                                {
                                    "industry_code": "65621200",
                                    "Total Weekly Earrings": "565093"
                                },
                                {
                                    "industry_code": "60541712",
                                    "Total Weekly Earrings": "562058"
                                },
                                {
                                    "industry_code": "65624120",
                                    "Total Weekly Earrings": "560699"
                                },
                                {
                                    "industry_code": "55523200",
                                    "Total Weekly Earrings": "560047"
                                },
                                {
                                    "industry_code": "10210000",
                                    "Total Weekly Earrings": "557736"
                                },
                                {
                                    "industry_code": "60541712",
                                    "Total Weekly Earrings": "556164"
                                },
                                {
                                    "industry_code": "65621200",
                                    "Total Weekly Earrings": "555914"
                                },
                                {
                                    "industry_code": "50517100",
                                    "Total Weekly Earrings": "555733"
                                },
                                {
                                    "industry_code": "50517100",
                                    "Total Weekly Earrings": "555690"
                                },
                                {
                                    "industry_code": "10210000",
                                    "Total Weekly Earrings": "555106"
                                },
                                {
                                    "industry_code": "65624120",
                                    "Total Weekly Earrings": "553079"
                                },
                                {
                                    "industry_code": "43493000",
                                    "Total Weekly Earrings": "549582"
                                },
                                {
                                    "industry_code": "20238100",
                                    "Total Weekly Earrings": "546395"
                                },
                                {
                                    "industry_code": "20236200",
                                    "Total Weekly Earrings": "544044"
                                },
                                {
                                    "industry_code": "55523200",
                                    "Total Weekly Earrings": "536728"
                                },
                                {
                                    "industry_code": "80812000",
                                    "Total Weekly Earrings": "533579"
                                },
                                {
                                    "industry_code": "70721110",
                                    "Total Weekly Earrings": "533503"
                                },
                                {
                                    "industry_code": "44221100",
                                    "Total Weekly Earrings": "529815"
                                },
                                {
                                    "industry_code": "42444000",
                                    "Total Weekly Earrings": "528273"
                                },
                                {
                                    "industry_code": "55523900",
                                    "Total Weekly Earrings": "526887"
                                },
                                {
                                    "industry_code": "41423800",
                                    "Total Weekly Earrings": "520254"
                                },
                                {
                                    "industry_code": "65621490",
                                    "Total Weekly Earrings": "520244"
                                },
                                {
                                    "industry_code": "41423800",
                                    "Total Weekly Earrings": "519552"
                                },
                                {
                                    "industry_code": "80812000",
                                    "Total Weekly Earrings": "518632"
                                },
                                {
                                    "industry_code": "44221100",
                                    "Total Weekly Earrings": "517250"
                                },
                                {
                                    "industry_code": "65621490",
                                    "Total Weekly Earrings": "516438"
                                },
                                {
                                    "industry_code": "55522200",
                                    "Total Weekly Earrings": "516071"
                                },
                                {
                                    "industry_code": "20238300",
                                    "Total Weekly Earrings": "509759"
                                },
                                {
                                    "industry_code": "55523900",
                                    "Total Weekly Earrings": "509013"
                                },
                                {
                                    "industry_code": "41424400",
                                    "Total Weekly Earrings": "507919"
                                },
                                {
                                    "industry_code": "41424400",
                                    "Total Weekly Earrings": "501728"
                                },
                                {
                                    "industry_code": "55522200",
                                    "Total Weekly Earrings": "499427"
                                },
                                {
                                    "industry_code": "20238900",
                                    "Total Weekly Earrings": "497659"
                                },
                                {
                                    "industry_code": "32325000",
                                    "Total Weekly Earrings": "497645"
                                },
                                {
                                    "industry_code": "32325000",
                                    "Total Weekly Earrings": "496838"
                                },
                                {
                                    "industry_code": "42444000",
                                    "Total Weekly Earrings": "495272"
                                },
                                {
                                    "industry_code": "43493110",
                                    "Total Weekly Earrings": "494541"
                                },
                                {
                                    "industry_code": "80811100",
                                    "Total Weekly Earrings": "488759"
                                },
                                {
                                    "industry_code": "50511200",
                                    "Total Weekly Earrings": "487381"
                                },
                                {
                                    "industry_code": "80811100",
                                    "Total Weekly Earrings": "481888"
                                },
                                {
                                    "industry_code": "43493110",
                                    "Total Weekly Earrings": "476586"
                                },
                                {
                                    "industry_code": "50511200",
                                    "Total Weekly Earrings": "475453"
                                },
                                {
                                    "industry_code": "20237100",
                                    "Total Weekly Earrings": "466432"
                                },
                                {
                                    "industry_code": "60561600",
                                    "Total Weekly Earrings": "462019"
                                },
                                {
                                    "industry_code": "65621300",
                                    "Total Weekly Earrings": "460338"
                                },
                                {
                                    "industry_code": "42444100",
                                    "Total Weekly Earrings": "459914"
                                },
                                {
                                    "industry_code": "60561600",
                                    "Total Weekly Earrings": "459021"
                                },
                                {
                                    "industry_code": "65621300",
                                    "Total Weekly Earrings": "455305"
                                },
                                {
                                    "industry_code": "70713000",
                                    "Total Weekly Earrings": "453902"
                                },
                                {
                                    "industry_code": "60561400",
                                    "Total Weekly Earrings": "453728"
                                },
                                {
                                    "industry_code": "60561400",
                                    "Total Weekly Earrings": "451224"
                                },
                                {
                                    "industry_code": "43481000",
                                    "Total Weekly Earrings": "449396"
                                },
                                {
                                    "industry_code": "42444100",
                                    "Total Weekly Earrings": "436660"
                                },
                                {
                                    "industry_code": "20236220",
                                    "Total Weekly Earrings": "436283"
                                },
                                {
                                    "industry_code": "60541900",
                                    "Total Weekly Earrings": "436027"
                                },
                                {
                                    "industry_code": "42446000",
                                    "Total Weekly Earrings": "435033"
                                },
                                {
                                    "industry_code": "42446000",
                                    "Total Weekly Earrings": "428907"
                                },
                                {
                                    "industry_code": "60541900",
                                    "Total Weekly Earrings": "428145"
                                },
                                {
                                    "industry_code": "43481000",
                                    "Total Weekly Earrings": "427332"
                                },
                                {
                                    "industry_code": "31336400",
                                    "Total Weekly Earrings": "426769"
                                },
                                {
                                    "industry_code": "20236100",
                                    "Total Weekly Earrings": "425750"
                                },
                                {
                                    "industry_code": "43488000",
                                    "Total Weekly Earrings": "425484"
                                },
                                {
                                    "industry_code": "43488000",
                                    "Total Weekly Earrings": "424694"
                                },
                                {
                                    "industry_code": "31336400",
                                    "Total Weekly Earrings": "424229"
                                },
                                {
                                    "industry_code": "55531300",
                                    "Total Weekly Earrings": "411336"
                                },
                                {
                                    "industry_code": "60541800",
                                    "Total Weekly Earrings": "406865"
                                },
                                {
                                    "industry_code": "55531300",
                                    "Total Weekly Earrings": "406456"
                                },
                                {
                                    "industry_code": "43484121",
                                    "Total Weekly Earrings": "403642"
                                },
                                {
                                    "industry_code": "20236220",
                                    "Total Weekly Earrings": "403030"
                                },
                                {
                                    "industry_code": "20237100",
                                    "Total Weekly Earrings": "402344"
                                },
                                {
                                    "industry_code": "60561100",
                                    "Total Weekly Earrings": "401035"
                                },
                                {
                                    "industry_code": "43484121",
                                    "Total Weekly Earrings": "400111"
                                },
                                {
                                    "industry_code": "60541800",
                                    "Total Weekly Earrings": "399991"
                                },
                                {
                                    "industry_code": "20236100",
                                    "Total Weekly Earrings": "397406"
                                },
                                {
                                    "industry_code": "70713000",
                                    "Total Weekly Earrings": "396357"
                                },
                                {
                                    "industry_code": "31336300",
                                    "Total Weekly Earrings": "394760"
                                },
                                {
                                    "industry_code": "32326000",
                                    "Total Weekly Earrings": "393534"
                                },
                                {
                                    "industry_code": "31336300",
                                    "Total Weekly Earrings": "392748"
                                },
                                {
                                    "industry_code": "60561100",
                                    "Total Weekly Earrings": "392279"
                                },
                                {
                                    "industry_code": "32326000",
                                    "Total Weekly Earrings": "390078"
                                },
                                {
                                    "industry_code": "20238900",
                                    "Total Weekly Earrings": "387358"
                                },
                                {
                                    "industry_code": "60561730",
                                    "Total Weekly Earrings": "385452"
                                },
                                {
                                    "industry_code": "65623300",
                                    "Total Weekly Earrings": "371056"
                                },
                                {
                                    "industry_code": "60561610",
                                    "Total Weekly Earrings": "366974"
                                },
                                {
                                    "industry_code": "60561610",
                                    "Total Weekly Earrings": "365906"
                                },
                                {
                                    "industry_code": "65623300",
                                    "Total Weekly Earrings": "364351"
                                },
                                {
                                    "industry_code": "43492000",
                                    "Total Weekly Earrings": "356116"
                                },
                                {
                                    "industry_code": "42443000",
                                    "Total Weekly Earrings": "350391"
                                },
                                {
                                    "industry_code": "42454000",
                                    "Total Weekly Earrings": "348894"
                                },
                                {
                                    "industry_code": "43492000",
                                    "Total Weekly Earrings": "346432"
                                },
                                {
                                    "industry_code": "55531310",
                                    "Total Weekly Earrings": "340939"
                                },
                                {
                                    "industry_code": "55531310",
                                    "Total Weekly Earrings": "336343"
                                },
                                {
                                    "industry_code": "42454000",
                                    "Total Weekly Earrings": "336186"
                                },
                                {
                                    "industry_code": "42443000",
                                    "Total Weekly Earrings": "336054"
                                },
                                {
                                    "industry_code": "42448000",
                                    "Total Weekly Earrings": "335828"
                                },
                                {
                                    "industry_code": "43484200",
                                    "Total Weekly Earrings": "335678"
                                },
                                {
                                    "industry_code": "60561720",
                                    "Total Weekly Earrings": "334238"
                                },
                                {
                                    "industry_code": "60561720",
                                    "Total Weekly Earrings": "328338"
                                },
                                {
                                    "industry_code": "42448000",
                                    "Total Weekly Earrings": "326539"
                                },
                                {
                                    "industry_code": "60541211",
                                    "Total Weekly Earrings": "325940"
                                },
                                {
                                    "industry_code": "42443142",
                                    "Total Weekly Earrings": "325389"
                                },
                                {
                                    "industry_code": "60541211",
                                    "Total Weekly Earrings": "319988"
                                },
                                {
                                    "industry_code": "65624400",
                                    "Total Weekly Earrings": "317805"
                                },
                                {
                                    "industry_code": "43484200",
                                    "Total Weekly Earrings": "315068"
                                },
                                {
                                    "industry_code": "32326100",
                                    "Total Weekly Earrings": "314917"
                                },
                                {
                                    "industry_code": "42446110",
                                    "Total Weekly Earrings": "314064"
                                },
                                {
                                    "industry_code": "65624400",
                                    "Total Weekly Earrings": "314012"
                                },
                                {
                                    "industry_code": "60562000",
                                    "Total Weekly Earrings": "313622"
                                },
                                {
                                    "industry_code": "42443142",
                                    "Total Weekly Earrings": "312609"
                                },
                                {
                                    "industry_code": "32326100",
                                    "Total Weekly Earrings": "311359"
                                },
                                {
                                    "industry_code": "80813900",
                                    "Total Weekly Earrings": "310511"
                                },
                                {
                                    "industry_code": "80813900",
                                    "Total Weekly Earrings": "310189"
                                },
                                {
                                    "industry_code": "55523120",
                                    "Total Weekly Earrings": "309096"
                                },
                                {
                                    "industry_code": "42446110",
                                    "Total Weekly Earrings": "307795"
                                },
                                {
                                    "industry_code": "50518000",
                                    "Total Weekly Earrings": "307402"
                                },
                                {
                                    "industry_code": "44221120",
                                    "Total Weekly Earrings": "306619"
                                },
                                {
                                    "industry_code": "44221120",
                                    "Total Weekly Earrings": "306611"
                                },
                                {
                                    "industry_code": "55532000",
                                    "Total Weekly Earrings": "306172"
                                },
                                {
                                    "industry_code": "60562000",
                                    "Total Weekly Earrings": "304694"
                                },
                                {
                                    "industry_code": "20237300",
                                    "Total Weekly Earrings": "303179"
                                },
                                {
                                    "industry_code": "55523120",
                                    "Total Weekly Earrings": "300715"
                                },
                                {
                                    "industry_code": "55524290",
                                    "Total Weekly Earrings": "296613"
                                },
                                {
                                    "industry_code": "50518000",
                                    "Total Weekly Earrings": "294663"
                                },
                                {
                                    "industry_code": "55532000",
                                    "Total Weekly Earrings": "293971"
                                },
                                {
                                    "industry_code": "31339000",
                                    "Total Weekly Earrings": "291131"
                                },
                                {
                                    "industry_code": "31331000",
                                    "Total Weekly Earrings": "290789"
                                },
                                {
                                    "industry_code": "55531100",
                                    "Total Weekly Earrings": "290168"
                                },
                                {
                                    "industry_code": "31331000",
                                    "Total Weekly Earrings": "289452"
                                },
                                {
                                    "industry_code": "55524290",
                                    "Total Weekly Earrings": "289426"
                                },
                                {
                                    "industry_code": "31339000",
                                    "Total Weekly Earrings": "289173"
                                },
                                {
                                    "industry_code": "55531100",
                                    "Total Weekly Earrings": "288038"
                                },
                                {
                                    "industry_code": "31334500",
                                    "Total Weekly Earrings": "280562"
                                },
                                {
                                    "industry_code": "31334500",
                                    "Total Weekly Earrings": "279104"
                                },
                                {
                                    "industry_code": "32311600",
                                    "Total Weekly Earrings": "276666"
                                },
                                {
                                    "industry_code": "32311600",
                                    "Total Weekly Earrings": "275307"
                                },
                                {
                                    "industry_code": "42447000",
                                    "Total Weekly Earrings": "275200"
                                },
                                {
                                    "industry_code": "60561730",
                                    "Total Weekly Earrings": "274173"
                                },
                                {
                                    "industry_code": "41423600",
                                    "Total Weekly Earrings": "270768"
                                },
                                {
                                    "industry_code": "65623200",
                                    "Total Weekly Earrings": "270638"
                                },
                                {
                                    "industry_code": "42447000",
                                    "Total Weekly Earrings": "268811"
                                },
                                {
                                    "industry_code": "42441300",
                                    "Total Weekly Earrings": "267475"
                                },
                                {
                                    "industry_code": "20238910",
                                    "Total Weekly Earrings": "267086"
                                },
                                {
                                    "industry_code": "31327000",
                                    "Total Weekly Earrings": "266337"
                                },
                                {
                                    "industry_code": "41423600",
                                    "Total Weekly Earrings": "266329"
                                },
                                {
                                    "industry_code": "65623200",
                                    "Total Weekly Earrings": "265442"
                                },
                                {
                                    "industry_code": "42441300",
                                    "Total Weekly Earrings": "262553"
                                },
                                {
                                    "industry_code": "41423830",
                                    "Total Weekly Earrings": "260094"
                                },
                                {
                                    "industry_code": "32322000",
                                    "Total Weekly Earrings": "258218"
                                },
                                {
                                    "industry_code": "41423830",
                                    "Total Weekly Earrings": "257924"
                                },
                                {
                                    "industry_code": "32322000",
                                    "Total Weekly Earrings": "257305"
                                },
                                {
                                    "industry_code": "42453000",
                                    "Total Weekly Earrings": "255849"
                                },
                                {
                                    "industry_code": "41423430",
                                    "Total Weekly Earrings": "254373"
                                },
                                {
                                    "industry_code": "42444110",
                                    "Total Weekly Earrings": "253515"
                                },
                                {
                                    "industry_code": "43485000",
                                    "Total Weekly Earrings": "252636"
                                },
                                {
                                    "industry_code": "43485000",
                                    "Total Weekly Earrings": "251686"
                                },
                                {
                                    "industry_code": "80812100",
                                    "Total Weekly Earrings": "251406"
                                },
                                {
                                    "industry_code": "50519000",
                                    "Total Weekly Earrings": "249841"
                                },
                                {
                                    "industry_code": "10213000",
                                    "Total Weekly Earrings": "248739"
                                },
                                {
                                    "industry_code": "55522292",
                                    "Total Weekly Earrings": "248400"
                                },
                                {
                                    "industry_code": "10213000",
                                    "Total Weekly Earrings": "247719"
                                },
                                {
                                    "industry_code": "55522300",
                                    "Total Weekly Earrings": "246637"
                                },
                                {
                                    "industry_code": "42453000",
                                    "Total Weekly Earrings": "246137"
                                },
                                {
                                    "industry_code": "41423430",
                                    "Total Weekly Earrings": "245403"
                                },
                                {
                                    "industry_code": "50511100",
                                    "Total Weekly Earrings": "244401"
                                },
                                {
                                    "industry_code": "50511100",
                                    "Total Weekly Earrings": "243550"
                                },
                                {
                                    "industry_code": "50519000",
                                    "Total Weekly Earrings": "243333"
                                },
                                {
                                    "industry_code": "60561420",
                                    "Total Weekly Earrings": "241255"
                                },
                                {
                                    "industry_code": "60561420",
                                    "Total Weekly Earrings": "240609"
                                },
                                {
                                    "industry_code": "31327000",
                                    "Total Weekly Earrings": "240239"
                                },
                                {
                                    "industry_code": "80812100",
                                    "Total Weekly Earrings": "239837"
                                },
                                {
                                    "industry_code": "42447110",
                                    "Total Weekly Earrings": "237470"
                                },
                                {
                                    "industry_code": "55522300",
                                    "Total Weekly Earrings": "236531"
                                },
                                {
                                    "industry_code": "42444110",
                                    "Total Weekly Earrings": "235508"
                                },
                                {
                                    "industry_code": "55522292",
                                    "Total Weekly Earrings": "234640"
                                },
                                {
                                    "industry_code": "42454100",
                                    "Total Weekly Earrings": "233893"
                                },
                                {
                                    "industry_code": "65621340",
                                    "Total Weekly Earrings": "231701"
                                },
                                {
                                    "industry_code": "42454100",
                                    "Total Weekly Earrings": "231105"
                                },
                                {
                                    "industry_code": "42447110",
                                    "Total Weekly Earrings": "230819"
                                },
                                {
                                    "industry_code": "70711000",
                                    "Total Weekly Earrings": "230514"
                                },
                                {
                                    "industry_code": "20238990",
                                    "Total Weekly Earrings": "230496"
                                },
                                {
                                    "industry_code": "31332700",
                                    "Total Weekly Earrings": "229805"
                                },
                                {
                                    "industry_code": "31332700",
                                    "Total Weekly Earrings": "229635"
                                },
                                {
                                    "industry_code": "65621340",
                                    "Total Weekly Earrings": "228851"
                                },
                                {
                                    "industry_code": "55531311",
                                    "Total Weekly Earrings": "228519"
                                },
                                {
                                    "industry_code": "55523920",
                                    "Total Weekly Earrings": "228421"
                                },
                                {
                                    "industry_code": "55531311",
                                    "Total Weekly Earrings": "227293"
                                },
                                {
                                    "industry_code": "80811110",
                                    "Total Weekly Earrings": "227210"
                                },
                                {
                                    "industry_code": "80811110",
                                    "Total Weekly Earrings": "225265"
                                },
                                {
                                    "industry_code": "31321000",
                                    "Total Weekly Earrings": "225099"
                                },
                                {
                                    "industry_code": "32323000",
                                    "Total Weekly Earrings": "224193"
                                },
                                {
                                    "industry_code": "32323000",
                                    "Total Weekly Earrings": "222694"
                                },
                                {
                                    "industry_code": "42442000",
                                    "Total Weekly Earrings": "221926"
                                },
                                {
                                    "industry_code": "42442000",
                                    "Total Weekly Earrings": "221872"
                                },
                                {
                                    "industry_code": "55523920",
                                    "Total Weekly Earrings": "221354"
                                },
                                {
                                    "industry_code": "42448100",
                                    "Total Weekly Earrings": "220415"
                                },
                                {
                                    "industry_code": "60561310",
                                    "Total Weekly Earrings": "220288"
                                },
                                {
                                    "industry_code": "31321000",
                                    "Total Weekly Earrings": "218691"
                                },
                                {
                                    "industry_code": "44221110",
                                    "Total Weekly Earrings": "218104"
                                },
                                {
                                    "industry_code": "31336100",
                                    "Total Weekly Earrings": "217870"
                                },
                                {
                                    "industry_code": "65623311",
                                    "Total Weekly Earrings": "217249"
                                },
                                {
                                    "industry_code": "60561310",
                                    "Total Weekly Earrings": "215790"
                                },
                                {
                                    "industry_code": "41423100",
                                    "Total Weekly Earrings": "214984"
                                },
                                {
                                    "industry_code": "20238910",
                                    "Total Weekly Earrings": "214669"
                                },
                                {
                                    "industry_code": "31335000",
                                    "Total Weekly Earrings": "214169"
                                },
                                {
                                    "industry_code": "31335000",
                                    "Total Weekly Earrings": "213955"
                                },
                                {
                                    "industry_code": "41423100",
                                    "Total Weekly Earrings": "213682"
                                },
                                {
                                    "industry_code": "65623311",
                                    "Total Weekly Earrings": "213379"
                                },
                                {
                                    "industry_code": "70711000",
                                    "Total Weekly Earrings": "212295"
                                },
                                {
                                    "industry_code": "65621500",
                                    "Total Weekly Earrings": "212280"
                                },
                                {
                                    "industry_code": "65621500",
                                    "Total Weekly Earrings": "211907"
                                },
                                {
                                    "industry_code": "31332300",
                                    "Total Weekly Earrings": "211594"
                                },
                                {
                                    "industry_code": "44221110",
                                    "Total Weekly Earrings": "210490"
                                },
                                {
                                    "industry_code": "42448100",
                                    "Total Weekly Earrings": "210456"
                                },
                                {
                                    "industry_code": "20238310",
                                    "Total Weekly Earrings": "210346"
                                },
                                {
                                    "industry_code": "31336100",
                                    "Total Weekly Earrings": "210235"
                                },
                                {
                                    "industry_code": "43484122",
                                    "Total Weekly Earrings": "209983"
                                },
                                {
                                    "industry_code": "50515000",
                                    "Total Weekly Earrings": "207287"
                                },
                                {
                                    "industry_code": "43484122",
                                    "Total Weekly Earrings": "207163"
                                },
                                {
                                    "industry_code": "31332300",
                                    "Total Weekly Earrings": "206948"
                                },
                                {
                                    "industry_code": "70722300",
                                    "Total Weekly Earrings": "205543"
                                },
                                {
                                    "industry_code": "50515000",
                                    "Total Weekly Earrings": "205159"
                                },
                                {
                                    "industry_code": "20236115",
                                    "Total Weekly Earrings": "204229"
                                },
                                {
                                    "industry_code": "50512000",
                                    "Total Weekly Earrings": "203386"
                                },
                                {
                                    "industry_code": "31337000",
                                    "Total Weekly Earrings": "203115"
                                },
                                {
                                    "industry_code": "20237300",
                                    "Total Weekly Earrings": "202170"
                                },
                                {
                                    "industry_code": "55523930",
                                    "Total Weekly Earrings": "198865"
                                },
                                {
                                    "industry_code": "31337000",
                                    "Total Weekly Earrings": "198838"
                                },
                                {
                                    "industry_code": "60561330",
                                    "Total Weekly Earrings": "198114"
                                },
                                {
                                    "industry_code": "80812110",
                                    "Total Weekly Earrings": "198029"
                                },
                                {
                                    "industry_code": "60541810",
                                    "Total Weekly Earrings": "197842"
                                },
                                {
                                    "industry_code": "80811111",
                                    "Total Weekly Earrings": "196221"
                                },
                                {
                                    "industry_code": "80811111",
                                    "Total Weekly Earrings": "195396"
                                },
                                {
                                    "industry_code": "65621900",
                                    "Total Weekly Earrings": "195218"
                                },
                                {
                                    "industry_code": "20238310",
                                    "Total Weekly Earrings": "195147"
                                },
                                {
                                    "industry_code": "65621900",
                                    "Total Weekly Earrings": "194585"
                                },
                                {
                                    "industry_code": "65624190",
                                    "Total Weekly Earrings": "194363"
                                },
                                {
                                    "industry_code": "42451000",
                                    "Total Weekly Earrings": "194349"
                                },
                                {
                                    "industry_code": "42451000",
                                    "Total Weekly Earrings": "192560"
                                },
                                {
                                    "industry_code": "65624190",
                                    "Total Weekly Earrings": "192351"
                                },
                                {
                                    "industry_code": "55523930",
                                    "Total Weekly Earrings": "192094"
                                },
                                {
                                    "industry_code": "60541613",
                                    "Total Weekly Earrings": "191302"
                                },
                                {
                                    "industry_code": "60561330",
                                    "Total Weekly Earrings": "191292"
                                },
                                {
                                    "industry_code": "20236115",
                                    "Total Weekly Earrings": "190324"
                                },
                                {
                                    "industry_code": "60541810",
                                    "Total Weekly Earrings": "190071"
                                },
                                {
                                    "industry_code": "50512000",
                                    "Total Weekly Earrings": "189933"
                                },
                                {
                                    "industry_code": "41424410",
                                    "Total Weekly Earrings": "189836"
                                },
                                {
                                    "industry_code": "70722300",
                                    "Total Weekly Earrings": "189268"
                                },
                                {
                                    "industry_code": "31334400",
                                    "Total Weekly Earrings": "188316"
                                },
                                {
                                    "industry_code": "31334400",
                                    "Total Weekly Earrings": "188086"
                                },
                                {
                                    "industry_code": "80812110",
                                    "Total Weekly Earrings": "187988"
                                },
                                {
                                    "industry_code": "41424410",
                                    "Total Weekly Earrings": "186787"
                                },
                                {
                                    "industry_code": "41423700",
                                    "Total Weekly Earrings": "186141"
                                },
                                {
                                    "industry_code": "31336411",
                                    "Total Weekly Earrings": "185333"
                                },
                                {
                                    "industry_code": "41423700",
                                    "Total Weekly Earrings": "185307"
                                },
                                {
                                    "industry_code": "20238110",
                                    "Total Weekly Earrings": "184987"
                                },
                                {
                                    "industry_code": "31332710",
                                    "Total Weekly Earrings": "183361"
                                },
                                {
                                    "industry_code": "80811120",
                                    "Total Weekly Earrings": "183248"
                                },
                                {
                                    "industry_code": "31332710",
                                    "Total Weekly Earrings": "182748"
                                },
                                {
                                    "industry_code": "10213112",
                                    "Total Weekly Earrings": "182423"
                                },
                                {
                                    "industry_code": "20236118",
                                    "Total Weekly Earrings": "182278"
                                },
                                {
                                    "industry_code": "31336411",
                                    "Total Weekly Earrings": "182229"
                                },
                                {
                                    "industry_code": "60541613",
                                    "Total Weekly Earrings": "182042"
                                },
                                {
                                    "industry_code": "80811120",
                                    "Total Weekly Earrings": "182018"
                                },
                                {
                                    "industry_code": "10213112",
                                    "Total Weekly Earrings": "180612"
                                },
                                {
                                    "industry_code": "43484110",
                                    "Total Weekly Earrings": "179293"
                                },
                                {
                                    "industry_code": "41424900",
                                    "Total Weekly Earrings": "179141"
                                },
                                {
                                    "industry_code": "41423450",
                                    "Total Weekly Earrings": "177816"
                                },
                                {
                                    "industry_code": "42441310",
                                    "Total Weekly Earrings": "177235"
                                },
                                {
                                    "industry_code": "60541940",
                                    "Total Weekly Earrings": "177035"
                                },
                                {
                                    "industry_code": "60541940",
                                    "Total Weekly Earrings": "176858"
                                },
                                {
                                    "industry_code": "55531110",
                                    "Total Weekly Earrings": "175663"
                                },
                                {
                                    "industry_code": "42441310",
                                    "Total Weekly Earrings": "175575"
                                },
                                {
                                    "industry_code": "55531110",
                                    "Total Weekly Earrings": "175180"
                                },
                                {
                                    "industry_code": "60541711",
                                    "Total Weekly Earrings": "174547"
                                },
                                {
                                    "industry_code": "60541310",
                                    "Total Weekly Earrings": "174045"
                                },
                                {
                                    "industry_code": "43484220",
                                    "Total Weekly Earrings": "173736"
                                },
                                {
                                    "industry_code": "41423900",
                                    "Total Weekly Earrings": "173278"
                                },
                                {
                                    "industry_code": "41423450",
                                    "Total Weekly Earrings": "172433"
                                },
                                {
                                    "industry_code": "20238990",
                                    "Total Weekly Earrings": "172241"
                                },
                                {
                                    "industry_code": "60541711",
                                    "Total Weekly Earrings": "171465"
                                },
                                {
                                    "industry_code": "42451100",
                                    "Total Weekly Earrings": "171322"
                                },
                                {
                                    "industry_code": "60541310",
                                    "Total Weekly Earrings": "171178"
                                },
                                {
                                    "industry_code": "10212000",
                                    "Total Weekly Earrings": "171094"
                                },
                                {
                                    "industry_code": "41423900",
                                    "Total Weekly Earrings": "170675"
                                },
                                {
                                    "industry_code": "42451100",
                                    "Total Weekly Earrings": "170574"
                                },
                                {
                                    "industry_code": "31332900",
                                    "Total Weekly Earrings": "170270"
                                },
                                {
                                    "industry_code": "43484110",
                                    "Total Weekly Earrings": "170166"
                                },
                                {
                                    "industry_code": "31332900",
                                    "Total Weekly Earrings": "169629"
                                },
                                {
                                    "industry_code": "60561900",
                                    "Total Weekly Earrings": "169153"
                                },
                                {
                                    "industry_code": "41424900",
                                    "Total Weekly Earrings": "168889"
                                },
                                {
                                    "industry_code": "20237130",
                                    "Total Weekly Earrings": "168379"
                                },
                                {
                                    "industry_code": "20236118",
                                    "Total Weekly Earrings": "167862"
                                },
                                {
                                    "industry_code": "55531200",
                                    "Total Weekly Earrings": "165883"
                                },
                                {
                                    "industry_code": "10212000",
                                    "Total Weekly Earrings": "165871"
                                },
                                {
                                    "industry_code": "55531200",
                                    "Total Weekly Earrings": "165834"
                                },
                                {
                                    "industry_code": "32326190",
                                    "Total Weekly Earrings": "165225"
                                },
                                {
                                    "industry_code": "32322200",
                                    "Total Weekly Earrings": "164904"
                                },
                                {
                                    "industry_code": "60541990",
                                    "Total Weekly Earrings": "164820"
                                },
                                {
                                    "industry_code": "60561900",
                                    "Total Weekly Earrings": "164625"
                                },
                                {
                                    "industry_code": "42454112",
                                    "Total Weekly Earrings": "164120"
                                },
                                {
                                    "industry_code": "31339100",
                                    "Total Weekly Earrings": "163933"
                                },
                                {
                                    "industry_code": "32322200",
                                    "Total Weekly Earrings": "163749"
                                },
                                {
                                    "industry_code": "55524292",
                                    "Total Weekly Earrings": "162870"
                                },
                                {
                                    "industry_code": "32326190",
                                    "Total Weekly Earrings": "162636"
                                },
                                {
                                    "industry_code": "41423300",
                                    "Total Weekly Earrings": "162442"
                                },
                                {
                                    "industry_code": "31339100",
                                    "Total Weekly Earrings": "162256"
                                },
                                {
                                    "industry_code": "42454112",
                                    "Total Weekly Earrings": "161867"
                                },
                                {
                                    "industry_code": "55522190",
                                    "Total Weekly Earrings": "160959"
                                },
                                {
                                    "industry_code": "65623210",
                                    "Total Weekly Earrings": "160550"
                                },
                                {
                                    "industry_code": "32325400",
                                    "Total Weekly Earrings": "160223"
                                },
                                {
                                    "industry_code": "60541990",
                                    "Total Weekly Earrings": "159939"
                                },
                                {
                                    "industry_code": "43484220",
                                    "Total Weekly Earrings": "159056"
                                },
                                {
                                    "industry_code": "55522190",
                                    "Total Weekly Earrings": "158344"
                                },
                                {
                                    "industry_code": "32325400",
                                    "Total Weekly Earrings": "157960"
                                },
                                {
                                    "industry_code": "41424200",
                                    "Total Weekly Earrings": "157885"
                                },
                                {
                                    "industry_code": "70722310",
                                    "Total Weekly Earrings": "157752"
                                },
                                {
                                    "industry_code": "41423300",
                                    "Total Weekly Earrings": "157651"
                                },
                                {
                                    "industry_code": "65621511",
                                    "Total Weekly Earrings": "156922"
                                },
                                {
                                    "industry_code": "65621511",
                                    "Total Weekly Earrings": "156866"
                                },
                                {
                                    "industry_code": "65623210",
                                    "Total Weekly Earrings": "156804"
                                },
                                {
                                    "industry_code": "55524292",
                                    "Total Weekly Earrings": "156594"
                                },
                                {
                                    "industry_code": "70722515",
                                    "Total Weekly Earrings": "155273"
                                },
                                {
                                    "industry_code": "65623312",
                                    "Total Weekly Earrings": "154420"
                                },
                                {
                                    "industry_code": "41424200",
                                    "Total Weekly Earrings": "152985"
                                },
                                {
                                    "industry_code": "20237110",
                                    "Total Weekly Earrings": "151850"
                                },
                                {
                                    "industry_code": "65623312",
                                    "Total Weekly Earrings": "151535"
                                },
                                {
                                    "industry_code": "20237120",
                                    "Total Weekly Earrings": "150758"
                                },
                                {
                                    "industry_code": "20238110",
                                    "Total Weekly Earrings": "150059"
                                },
                                {
                                    "industry_code": "20237130",
                                    "Total Weekly Earrings": "148959"
                                },
                                {
                                    "industry_code": "20236210",
                                    "Total Weekly Earrings": "148229"
                                },
                                {
                                    "industry_code": "31333900",
                                    "Total Weekly Earrings": "147909"
                                },
                                {
                                    "industry_code": "70722310",
                                    "Total Weekly Earrings": "147906"
                                },
                                {
                                    "industry_code": "80811300",
                                    "Total Weekly Earrings": "147170"
                                },
                                {
                                    "industry_code": "31333900",
                                    "Total Weekly Earrings": "146719"
                                },
                                {
                                    "industry_code": "43488500",
                                    "Total Weekly Earrings": "145083"
                                },
                                {
                                    "industry_code": "70722515",
                                    "Total Weekly Earrings": "144133"
                                },
                                {
                                    "industry_code": "43488500",
                                    "Total Weekly Earrings": "143317"
                                },
                                {
                                    "industry_code": "80811300",
                                    "Total Weekly Earrings": "142753"
                                },
                                {
                                    "industry_code": "65621498",
                                    "Total Weekly Earrings": "140530"
                                },
                                {
                                    "industry_code": "20236210",
                                    "Total Weekly Earrings": "140389"
                                },
                                {
                                    "industry_code": "65621498",
                                    "Total Weekly Earrings": "140029"
                                },
                                {
                                    "industry_code": "10211000",
                                    "Total Weekly Earrings": "139845"
                                },
                                {
                                    "industry_code": "32311800",
                                    "Total Weekly Earrings": "137762"
                                },
                                {
                                    "industry_code": "41423690",
                                    "Total Weekly Earrings": "137563"
                                },
                                {
                                    "industry_code": "20238320",
                                    "Total Weekly Earrings": "136991"
                                },
                                {
                                    "industry_code": "41423690",
                                    "Total Weekly Earrings": "136501"
                                },
                                {
                                    "industry_code": "44221112",
                                    "Total Weekly Earrings": "136450"
                                },
                                {
                                    "industry_code": "80813200",
                                    "Total Weekly Earrings": "135195"
                                },
                                {
                                    "industry_code": "32324000",
                                    "Total Weekly Earrings": "134957"
                                },
                                {
                                    "industry_code": "41423610",
                                    "Total Weekly Earrings": "132947"
                                },
                                {
                                    "industry_code": "60561500",
                                    "Total Weekly Earrings": "132816"
                                },
                                {
                                    "industry_code": "32311800",
                                    "Total Weekly Earrings": "132794"
                                },
                                {
                                    "industry_code": "31327300",
                                    "Total Weekly Earrings": "132719"
                                },
                                {
                                    "industry_code": "60561500",
                                    "Total Weekly Earrings": "132427"
                                },
                                {
                                    "industry_code": "44221112",
                                    "Total Weekly Earrings": "132396"
                                },
                                {
                                    "industry_code": "80813200",
                                    "Total Weekly Earrings": "132379"
                                },
                                {
                                    "industry_code": "10211000",
                                    "Total Weekly Earrings": "132327"
                                },
                                {
                                    "industry_code": "41423610",
                                    "Total Weekly Earrings": "131732"
                                },
                                {
                                    "industry_code": "70713940",
                                    "Total Weekly Earrings": "131683"
                                },
                                {
                                    "industry_code": "32324000",
                                    "Total Weekly Earrings": "131056"
                                },
                                {
                                    "industry_code": "20237110",
                                    "Total Weekly Earrings": "130337"
                                },
                                {
                                    "industry_code": "41424800",
                                    "Total Weekly Earrings": "130063"
                                },
                                {
                                    "industry_code": "31337100",
                                    "Total Weekly Earrings": "128165"
                                },
                                {
                                    "industry_code": "20238290",
                                    "Total Weekly Earrings": "127588"
                                },
                                {
                                    "industry_code": "65621420",
                                    "Total Weekly Earrings": "127554"
                                },
                                {
                                    "industry_code": "31339900",
                                    "Total Weekly Earrings": "126867"
                                },
                                {
                                    "industry_code": "60541214",
                                    "Total Weekly Earrings": "126756"
                                },
                                {
                                    "industry_code": "60541214",
                                    "Total Weekly Earrings": "126170"
                                },
                                {
                                    "industry_code": "42442100",
                                    "Total Weekly Earrings": "126008"
                                },
                                {
                                    "industry_code": "65621420",
                                    "Total Weekly Earrings": "125593"
                                },
                                {
                                    "industry_code": "42442100",
                                    "Total Weekly Earrings": "125517"
                                },
                                {
                                    "industry_code": "44221200",
                                    "Total Weekly Earrings": "125492"
                                },
                                {
                                    "industry_code": "31337100",
                                    "Total Weekly Earrings": "125454"
                                },
                                {
                                    "industry_code": "41424800",
                                    "Total Weekly Earrings": "125271"
                                },
                                {
                                    "industry_code": "31339900",
                                    "Total Weekly Earrings": "124993"
                                },
                                {
                                    "industry_code": "44221200",
                                    "Total Weekly Earrings": "124962"
                                },
                                {
                                    "industry_code": "70713940",
                                    "Total Weekly Earrings": "123152"
                                },
                                {
                                    "industry_code": "31333500",
                                    "Total Weekly Earrings": "123096"
                                },
                                {
                                    "industry_code": "20237120",
                                    "Total Weekly Earrings": "122887"
                                },
                                {
                                    "industry_code": "31333500",
                                    "Total Weekly Earrings": "122599"
                                },
                                {
                                    "industry_code": "65624300",
                                    "Total Weekly Earrings": "122513"
                                },
                                {
                                    "industry_code": "65624300",
                                    "Total Weekly Earrings": "122122"
                                },
                                {
                                    "industry_code": "20238290",
                                    "Total Weekly Earrings": "122106"
                                },
                                {
                                    "industry_code": "20238160",
                                    "Total Weekly Earrings": "121889"
                                },
                                {
                                    "industry_code": "31333100",
                                    "Total Weekly Earrings": "121359"
                                },
                                {
                                    "industry_code": "31333100",
                                    "Total Weekly Earrings": "121325"
                                },
                                {
                                    "industry_code": "32329000",
                                    "Total Weekly Earrings": "121182"
                                },
                                {
                                    "industry_code": "55522320",
                                    "Total Weekly Earrings": "121140"
                                },
                                {
                                    "industry_code": "32325100",
                                    "Total Weekly Earrings": "120494"
                                },
                                {
                                    "industry_code": "70713910",
                                    "Total Weekly Earrings": "119932"
                                },
                                {
                                    "industry_code": "60541380",
                                    "Total Weekly Earrings": "119926"
                                },
                                {
                                    "industry_code": "31321900",
                                    "Total Weekly Earrings": "119332"
                                },
                                {
                                    "industry_code": "32311615",
                                    "Total Weekly Earrings": "118459"
                                },
                                {
                                    "industry_code": "55522320",
                                    "Total Weekly Earrings": "118224"
                                },
                                {
                                    "industry_code": "60541380",
                                    "Total Weekly Earrings": "118224"
                                },
                                {
                                    "industry_code": "32325100",
                                    "Total Weekly Earrings": "117949"
                                },
                                {
                                    "industry_code": "31334413",
                                    "Total Weekly Earrings": "117798"
                                },
                                {
                                    "industry_code": "43484230",
                                    "Total Weekly Earrings": "117671"
                                },
                                {
                                    "industry_code": "20237900",
                                    "Total Weekly Earrings": "117641"
                                },
                                {
                                    "industry_code": "60562100",
                                    "Total Weekly Earrings": "117499"
                                },
                                {
                                    "industry_code": "31334413",
                                    "Total Weekly Earrings": "117352"
                                },
                                {
                                    "industry_code": "80813300",
                                    "Total Weekly Earrings": "116855"
                                },
                                {
                                    "industry_code": "31332320",
                                    "Total Weekly Earrings": "116825"
                                },
                                {
                                    "industry_code": "31332990",
                                    "Total Weekly Earrings": "116563"
                                },
                                {
                                    "industry_code": "80813300",
                                    "Total Weekly Earrings": "116393"
                                },
                                {
                                    "industry_code": "31332990",
                                    "Total Weekly Earrings": "116319"
                                },
                                {
                                    "industry_code": "43484230",
                                    "Total Weekly Earrings": "116298"
                                },
                                {
                                    "industry_code": "32311615",
                                    "Total Weekly Earrings": "115837"
                                },
                                {
                                    "industry_code": "31321900",
                                    "Total Weekly Earrings": "115709"
                                },
                                {
                                    "industry_code": "60562100",
                                    "Total Weekly Earrings": "114950"
                                },
                                {
                                    "industry_code": "32329000",
                                    "Total Weekly Earrings": "114560"
                                },
                                {
                                    "industry_code": "31332320",
                                    "Total Weekly Earrings": "113855"
                                },
                                {
                                    "industry_code": "55532400",
                                    "Total Weekly Earrings": "113348"
                                },
                                {
                                    "industry_code": "20238320",
                                    "Total Weekly Earrings": "112958"
                                },
                                {
                                    "industry_code": "80812300",
                                    "Total Weekly Earrings": "112769"
                                },
                                {
                                    "industry_code": "55531312",
                                    "Total Weekly Earrings": "112528"
                                },
                                {
                                    "industry_code": "55532400",
                                    "Total Weekly Earrings": "112000"
                                },
                                {
                                    "industry_code": "80812300",
                                    "Total Weekly Earrings": "111678"
                                },
                                {
                                    "industry_code": "31327300",
                                    "Total Weekly Earrings": "110460"
                                },
                                {
                                    "industry_code": "65623220",
                                    "Total Weekly Earrings": "109770"
                                },
                                {
                                    "industry_code": "55531312",
                                    "Total Weekly Earrings": "109556"
                                },
                                {
                                    "industry_code": "42453900",
                                    "Total Weekly Earrings": "108431"
                                },
                                {
                                    "industry_code": "65623220",
                                    "Total Weekly Earrings": "108224"
                                },
                                {
                                    "industry_code": "60541400",
                                    "Total Weekly Earrings": "108063"
                                },
                                {
                                    "industry_code": "20238140",
                                    "Total Weekly Earrings": "107421"
                                },
                                {
                                    "industry_code": "80812900",
                                    "Total Weekly Earrings": "107328"
                                },
                                {
                                    "industry_code": "60541400",
                                    "Total Weekly Earrings": "106683"
                                },
                                {
                                    "industry_code": "80812900",
                                    "Total Weekly Earrings": "105322"
                                },
                                {
                                    "industry_code": "41423120",
                                    "Total Weekly Earrings": "103523"
                                },
                                {
                                    "industry_code": "43488100",
                                    "Total Weekly Earrings": "103412"
                                },
                                {
                                    "industry_code": "41424600",
                                    "Total Weekly Earrings": "103164"
                                },
                                {
                                    "industry_code": "43488100",
                                    "Total Weekly Earrings": "103061"
                                },
                                {
                                    "industry_code": "41423120",
                                    "Total Weekly Earrings": "102982"
                                },
                                {
                                    "industry_code": "65621910",
                                    "Total Weekly Earrings": "102209"
                                },
                                {
                                    "industry_code": "60562900",
                                    "Total Weekly Earrings": "101706"
                                },
                                {
                                    "industry_code": "20237900",
                                    "Total Weekly Earrings": "101458"
                                },
                                {
                                    "industry_code": "41424600",
                                    "Total Weekly Earrings": "101258"
                                },
                                {
                                    "industry_code": "65621493",
                                    "Total Weekly Earrings": "101179"
                                },
                                {
                                    "industry_code": "65621910",
                                    "Total Weekly Earrings": "101112"
                                },
                                {
                                    "industry_code": "42453900",
                                    "Total Weekly Earrings": "100942"
                                },
                                {
                                    "industry_code": "65621493",
                                    "Total Weekly Earrings": "100788"
                                },
                                {
                                    "industry_code": "32311400",
                                    "Total Weekly Earrings": "99988"
                                },
                                {
                                    "industry_code": "60541614",
                                    "Total Weekly Earrings": "99719"
                                },
                                {
                                    "industry_code": "60541614",
                                    "Total Weekly Earrings": "99277"
                                },
                                {
                                    "industry_code": "70722400",
                                    "Total Weekly Earrings": "98904"
                                },
                                {
                                    "industry_code": "43485400",
                                    "Total Weekly Earrings": "97903"
                                },
                                {
                                    "industry_code": "20238160",
                                    "Total Weekly Earrings": "97531"
                                },
                                {
                                    "industry_code": "31336390",
                                    "Total Weekly Earrings": "96840"
                                },
                                {
                                    "industry_code": "60562900",
                                    "Total Weekly Earrings": "96604"
                                },
                                {
                                    "industry_code": "32311500",
                                    "Total Weekly Earrings": "96211"
                                },
                                {
                                    "industry_code": "42442200",
                                    "Total Weekly Earrings": "96205"
                                },
                                {
                                    "industry_code": "80813930",
                                    "Total Weekly Earrings": "96162"
                                },
                                {
                                    "industry_code": "31336390",
                                    "Total Weekly Earrings": "96123"
                                },
                                {
                                    "industry_code": "42442200",
                                    "Total Weekly Earrings": "95932"
                                },
                                {
                                    "industry_code": "43485400",
                                    "Total Weekly Earrings": "95412"
                                },
                                {
                                    "industry_code": "32311500",
                                    "Total Weekly Earrings": "95254"
                                },
                                {
                                    "industry_code": "70722400",
                                    "Total Weekly Earrings": "94998"
                                },
                                {
                                    "industry_code": "42451110",
                                    "Total Weekly Earrings": "94955"
                                },
                                {
                                    "industry_code": "60561990",
                                    "Total Weekly Earrings": "94725"
                                },
                                {
                                    "industry_code": "60561200",
                                    "Total Weekly Earrings": "94655"
                                },
                                {
                                    "industry_code": "50511110",
                                    "Total Weekly Earrings": "94596"
                                },
                                {
                                    "industry_code": "32311400",
                                    "Total Weekly Earrings": "94550"
                                },
                                {
                                    "industry_code": "31332310",
                                    "Total Weekly Earrings": "94376"
                                },
                                {
                                    "industry_code": "60561620",
                                    "Total Weekly Earrings": "94209"
                                },
                                {
                                    "industry_code": "60561200",
                                    "Total Weekly Earrings": "93980"
                                },
                                {
                                    "industry_code": "50511110",
                                    "Total Weekly Earrings": "93871"
                                },
                                {
                                    "industry_code": "42451110",
                                    "Total Weekly Earrings": "93685"
                                },
                                {
                                    "industry_code": "60561620",
                                    "Total Weekly Earrings": "93576"
                                },
                                {
                                    "industry_code": "65621990",
                                    "Total Weekly Earrings": "93526"
                                },
                                {
                                    "industry_code": "80813930",
                                    "Total Weekly Earrings": "93343"
                                },
                                {
                                    "industry_code": "32322100",
                                    "Total Weekly Earrings": "93285"
                                },
                                {
                                    "industry_code": "60562200",
                                    "Total Weekly Earrings": "93257"
                                },
                                {
                                    "industry_code": "65621990",
                                    "Total Weekly Earrings": "93248"
                                },
                                {
                                    "industry_code": "60562200",
                                    "Total Weekly Earrings": "93247"
                                },
                                {
                                    "industry_code": "32322100",
                                    "Total Weekly Earrings": "93147"
                                },
                                {
                                    "industry_code": "41424300",
                                    "Total Weekly Earrings": "92971"
                                },
                                {
                                    "industry_code": "31332310",
                                    "Total Weekly Earrings": "92966"
                                },
                                {
                                    "industry_code": "80813319",
                                    "Total Weekly Earrings": "92944"
                                },
                                {
                                    "industry_code": "80813319",
                                    "Total Weekly Earrings": "92902"
                                },
                                {
                                    "industry_code": "80813400",
                                    "Total Weekly Earrings": "92807"
                                },
                                {
                                    "industry_code": "41424300",
                                    "Total Weekly Earrings": "92446"
                                },
                                {
                                    "industry_code": "41423490",
                                    "Total Weekly Earrings": "91557"
                                },
                                {
                                    "industry_code": "60561990",
                                    "Total Weekly Earrings": "91499"
                                },
                                {
                                    "industry_code": "42448140",
                                    "Total Weekly Earrings": "90149"
                                },
                                {
                                    "industry_code": "32322210",
                                    "Total Weekly Earrings": "90001"
                                },
                                {
                                    "industry_code": "42441320",
                                    "Total Weekly Earrings": "89612"
                                },
                                {
                                    "industry_code": "20238140",
                                    "Total Weekly Earrings": "89477"
                                },
                                {
                                    "industry_code": "32322210",
                                    "Total Weekly Earrings": "89439"
                                },
                                {
                                    "industry_code": "41423490",
                                    "Total Weekly Earrings": "89258"
                                },
                                {
                                    "industry_code": "80813400",
                                    "Total Weekly Earrings": "89132"
                                },
                                {
                                    "industry_code": "80813211",
                                    "Total Weekly Earrings": "88340"
                                },
                                {
                                    "industry_code": "31336200",
                                    "Total Weekly Earrings": "88156"
                                },
                                {
                                    "industry_code": "41423500",
                                    "Total Weekly Earrings": "88013"
                                },
                                {
                                    "industry_code": "41423500",
                                    "Total Weekly Earrings": "87584"
                                },
                                {
                                    "industry_code": "42441320",
                                    "Total Weekly Earrings": "86992"
                                },
                                {
                                    "industry_code": "31336200",
                                    "Total Weekly Earrings": "85617"
                                },
                                {
                                    "industry_code": "80813211",
                                    "Total Weekly Earrings": "85559"
                                },
                                {
                                    "industry_code": "80813910",
                                    "Total Weekly Earrings": "85401"
                                },
                                {
                                    "industry_code": "65624110",
                                    "Total Weekly Earrings": "85339"
                                },
                                {
                                    "industry_code": "20238120",
                                    "Total Weekly Earrings": "85182"
                                },
                                {
                                    "industry_code": "20238350",
                                    "Total Weekly Earrings": "84966"
                                },
                                {
                                    "industry_code": "42448140",
                                    "Total Weekly Earrings": "84914"
                                },
                                {
                                    "industry_code": "43488300",
                                    "Total Weekly Earrings": "84818"
                                },
                                {
                                    "industry_code": "65624110",
                                    "Total Weekly Earrings": "84668"
                                },
                                {
                                    "industry_code": "43488300",
                                    "Total Weekly Earrings": "84159"
                                },
                                {
                                    "industry_code": "70713910",
                                    "Total Weekly Earrings": "83770"
                                },
                                {
                                    "industry_code": "42441120",
                                    "Total Weekly Earrings": "83023"
                                },
                                {
                                    "industry_code": "80813910",
                                    "Total Weekly Earrings": "82870"
                                },
                                {
                                    "industry_code": "42441120",
                                    "Total Weekly Earrings": "82356"
                                },
                                {
                                    "industry_code": "65621390",
                                    "Total Weekly Earrings": "82071"
                                },
                                {
                                    "industry_code": "65621390",
                                    "Total Weekly Earrings": "81887"
                                },
                                {
                                    "industry_code": "55531120",
                                    "Total Weekly Earrings": "81524"
                                },
                                {
                                    "industry_code": "41423310",
                                    "Total Weekly Earrings": "80446"
                                },
                                {
                                    "industry_code": "55531120",
                                    "Total Weekly Earrings": "80411"
                                },
                                {
                                    "industry_code": "50511120",
                                    "Total Weekly Earrings": "80309"
                                },
                                {
                                    "industry_code": "41424100",
                                    "Total Weekly Earrings": "79707"
                                },
                                {
                                    "industry_code": "41423110",
                                    "Total Weekly Earrings": "79583"
                                },
                                {
                                    "industry_code": "41423310",
                                    "Total Weekly Earrings": "79406"
                                },
                                {
                                    "industry_code": "41424700",
                                    "Total Weekly Earrings": "79400"
                                },
                                {
                                    "industry_code": "41424100",
                                    "Total Weekly Earrings": "79264"
                                },
                                {
                                    "industry_code": "80811190",
                                    "Total Weekly Earrings": "79203"
                                },
                                {
                                    "industry_code": "50511120",
                                    "Total Weekly Earrings": "79181"
                                },
                                {
                                    "industry_code": "20238350",
                                    "Total Weekly Earrings": "79152"
                                },
                                {
                                    "industry_code": "41423110",
                                    "Total Weekly Earrings": "79140"
                                },
                                {
                                    "industry_code": "42453200",
                                    "Total Weekly Earrings": "78836"
                                },
                                {
                                    "industry_code": "42441200",
                                    "Total Weekly Earrings": "78617"
                                },
                                {
                                    "industry_code": "20238120",
                                    "Total Weekly Earrings": "78376"
                                },
                                {
                                    "industry_code": "41424700",
                                    "Total Weekly Earrings": "78328"
                                },
                                {
                                    "industry_code": "41423420",
                                    "Total Weekly Earrings": "78059"
                                },
                                {
                                    "industry_code": "32326200",
                                    "Total Weekly Earrings": "77923"
                                },
                                {
                                    "industry_code": "32326200",
                                    "Total Weekly Earrings": "77649"
                                },
                                {
                                    "industry_code": "42453200",
                                    "Total Weekly Earrings": "77534"
                                },
                                {
                                    "industry_code": "31332800",
                                    "Total Weekly Earrings": "77435"
                                },
                                {
                                    "industry_code": "31335900",
                                    "Total Weekly Earrings": "77181"
                                },
                                {
                                    "industry_code": "41423810",
                                    "Total Weekly Earrings": "76749"
                                },
                                {
                                    "industry_code": "31335900",
                                    "Total Weekly Earrings": "76438"
                                },
                                {
                                    "industry_code": "41423420",
                                    "Total Weekly Earrings": "76434"
                                },
                                {
                                    "industry_code": "31332800",
                                    "Total Weekly Earrings": "76134"
                                },
                                {
                                    "industry_code": "65624200",
                                    "Total Weekly Earrings": "75982"
                                },
                                {
                                    "industry_code": "41423810",
                                    "Total Weekly Earrings": "75488"
                                },
                                {
                                    "industry_code": "31336350",
                                    "Total Weekly Earrings": "74920"
                                },
                                {
                                    "industry_code": "31336350",
                                    "Total Weekly Earrings": "74701"
                                },
                                {
                                    "industry_code": "31331500",
                                    "Total Weekly Earrings": "74678"
                                },
                                {
                                    "industry_code": "31333400",
                                    "Total Weekly Earrings": "74531"
                                },
                                {
                                    "industry_code": "31335300",
                                    "Total Weekly Earrings": "74205"
                                },
                                {
                                    "industry_code": "65624200",
                                    "Total Weekly Earrings": "74115"
                                },
                                {
                                    "industry_code": "65623900",
                                    "Total Weekly Earrings": "74098"
                                },
                                {
                                    "industry_code": "31331500",
                                    "Total Weekly Earrings": "74074"
                                },
                                {
                                    "industry_code": "31335300",
                                    "Total Weekly Earrings": "74032"
                                },
                                {
                                    "industry_code": "80811190",
                                    "Total Weekly Earrings": "73976"
                                },
                                {
                                    "industry_code": "60561440",
                                    "Total Weekly Earrings": "73223"
                                },
                                {
                                    "industry_code": "65623900",
                                    "Total Weekly Earrings": "73191"
                                },
                                {
                                    "industry_code": "60561440",
                                    "Total Weekly Earrings": "72782"
                                },
                                {
                                    "industry_code": "41423720",
                                    "Total Weekly Earrings": "72712"
                                },
                                {
                                    "industry_code": "70711200",
                                    "Total Weekly Earrings": "72677"
                                },
                                {
                                    "industry_code": "31333400",
                                    "Total Weekly Earrings": "72651"
                                },
                                {
                                    "industry_code": "60551112",
                                    "Total Weekly Earrings": "72512"
                                },
                                {
                                    "industry_code": "42444200",
                                    "Total Weekly Earrings": "72228"
                                },
                                {
                                    "industry_code": "60541910",
                                    "Total Weekly Earrings": "72084"
                                },
                                {
                                    "industry_code": "41423720",
                                    "Total Weekly Earrings": "71977"
                                },
                                {
                                    "industry_code": "41423200",
                                    "Total Weekly Earrings": "71912"
                                },
                                {
                                    "industry_code": "41423200",
                                    "Total Weekly Earrings": "71722"
                                },
                                {
                                    "industry_code": "43486000",
                                    "Total Weekly Earrings": "71548"
                                },
                                {
                                    "industry_code": "31327320",
                                    "Total Weekly Earrings": "71460"
                                },
                                {
                                    "industry_code": "80813990",
                                    "Total Weekly Earrings": "71268"
                                },
                                {
                                    "industry_code": "55522120",
                                    "Total Weekly Earrings": "71041"
                                },
                                {
                                    "industry_code": "43486000",
                                    "Total Weekly Earrings": "70774"
                                },
                                {
                                    "industry_code": "42454113",
                                    "Total Weekly Earrings": "70497"
                                },
                                {
                                    "industry_code": "60551112",
                                    "Total Weekly Earrings": "70076"
                                },
                                {
                                    "industry_code": "55522120",
                                    "Total Weekly Earrings": "70026"
                                },
                                {
                                    "industry_code": "42454113",
                                    "Total Weekly Earrings": "69715"
                                },
                                {
                                    "industry_code": "42441200",
                                    "Total Weekly Earrings": "69050"
                                },
                                {
                                    "industry_code": "41423820",
                                    "Total Weekly Earrings": "68831"
                                },
                                {
                                    "industry_code": "60541910",
                                    "Total Weekly Earrings": "68826"
                                },
                                {
                                    "industry_code": "31332100",
                                    "Total Weekly Earrings": "68458"
                                },
                                {
                                    "industry_code": "31332100",
                                    "Total Weekly Earrings": "68455"
                                },
                                {
                                    "industry_code": "80813990",
                                    "Total Weekly Earrings": "68358"
                                },
                                {
                                    "industry_code": "60561710",
                                    "Total Weekly Earrings": "68357"
                                },
                                {
                                    "industry_code": "70711100",
                                    "Total Weekly Earrings": "68326"
                                },
                                {
                                    "industry_code": "60541370",
                                    "Total Weekly Earrings": "67812"
                                },
                                {
                                    "industry_code": "80811200",
                                    "Total Weekly Earrings": "67507"
                                },
                                {
                                    "industry_code": "32325200",
                                    "Total Weekly Earrings": "67392"
                                },
                                {
                                    "industry_code": "41424910",
                                    "Total Weekly Earrings": "67237"
                                },
                                {
                                    "industry_code": "32325200",
                                    "Total Weekly Earrings": "67184"
                                },
                                {
                                    "industry_code": "80811200",
                                    "Total Weekly Earrings": "67151"
                                },
                                {
                                    "industry_code": "31339990",
                                    "Total Weekly Earrings": "66389"
                                },
                                {
                                    "industry_code": "31339990",
                                    "Total Weekly Earrings": "66040"
                                },
                                {
                                    "industry_code": "31336370",
                                    "Total Weekly Earrings": "65958"
                                },
                                {
                                    "industry_code": "55532410",
                                    "Total Weekly Earrings": "65947"
                                },
                                {
                                    "industry_code": "55532410",
                                    "Total Weekly Earrings": "65643"
                                },
                                {
                                    "industry_code": "41423820",
                                    "Total Weekly Earrings": "65585"
                                },
                                {
                                    "industry_code": "42445200",
                                    "Total Weekly Earrings": "65409"
                                },
                                {
                                    "industry_code": "60541370",
                                    "Total Weekly Earrings": "64918"
                                },
                                {
                                    "industry_code": "31337110",
                                    "Total Weekly Earrings": "64737"
                                },
                                {
                                    "industry_code": "31337120",
                                    "Total Weekly Earrings": "64413"
                                },
                                {
                                    "industry_code": "31336370",
                                    "Total Weekly Earrings": "64134"
                                },
                                {
                                    "industry_code": "31333200",
                                    "Total Weekly Earrings": "63359"
                                },
                                {
                                    "industry_code": "70711200",
                                    "Total Weekly Earrings": "63326"
                                },
                                {
                                    "industry_code": "31337120",
                                    "Total Weekly Earrings": "63211"
                                },
                                {
                                    "industry_code": "80812200",
                                    "Total Weekly Earrings": "63203"
                                },
                                {
                                    "industry_code": "31332400",
                                    "Total Weekly Earrings": "63119"
                                },
                                {
                                    "industry_code": "80813920",
                                    "Total Weekly Earrings": "63114"
                                },
                                {
                                    "industry_code": "31333200",
                                    "Total Weekly Earrings": "63107"
                                },
                                {
                                    "industry_code": "31332400",
                                    "Total Weekly Earrings": "62964"
                                },
                                {
                                    "industry_code": "70711100",
                                    "Total Weekly Earrings": "62849"
                                },
                                {
                                    "industry_code": "60561710",
                                    "Total Weekly Earrings": "62801"
                                },
                                {
                                    "industry_code": "80812200",
                                    "Total Weekly Earrings": "62413"
                                },
                                {
                                    "industry_code": "42445200",
                                    "Total Weekly Earrings": "62273"
                                },
                                {
                                    "industry_code": "31332322",
                                    "Total Weekly Earrings": "62178"
                                },
                                {
                                    "industry_code": "31337110",
                                    "Total Weekly Earrings": "62163"
                                },
                                {
                                    "industry_code": "31327390",
                                    "Total Weekly Earrings": "62065"
                                },
                                {
                                    "industry_code": "41424910",
                                    "Total Weekly Earrings": "61663"
                                },
                                {
                                    "industry_code": "31332322",
                                    "Total Weekly Earrings": "61623"
                                },
                                {
                                    "industry_code": "80812330",
                                    "Total Weekly Earrings": "61555"
                                },
                                {
                                    "industry_code": "80813920",
                                    "Total Weekly Earrings": "61397"
                                },
                                {
                                    "industry_code": "80812330",
                                    "Total Weekly Earrings": "61386"
                                },
                                {
                                    "industry_code": "70711300",
                                    "Total Weekly Earrings": "60961"
                                },
                                {
                                    "industry_code": "50515110",
                                    "Total Weekly Earrings": "60751"
                                },
                                {
                                    "industry_code": "10212100",
                                    "Total Weekly Earrings": "60667"
                                },
                                {
                                    "industry_code": "50515110",
                                    "Total Weekly Earrings": "60605"
                                },
                                {
                                    "industry_code": "41423840",
                                    "Total Weekly Earrings": "60299"
                                },
                                {
                                    "industry_code": "70713200",
                                    "Total Weekly Earrings": "60138"
                                },
                                {
                                    "industry_code": "42448200",
                                    "Total Weekly Earrings": "60070"
                                },
                                {
                                    "industry_code": "31333300",
                                    "Total Weekly Earrings": "60064"
                                },
                                {
                                    "industry_code": "31333300",
                                    "Total Weekly Earrings": "59905"
                                },
                                {
                                    "industry_code": "42448200",
                                    "Total Weekly Earrings": "59660"
                                },
                                {
                                    "industry_code": "10212100",
                                    "Total Weekly Earrings": "59656"
                                },
                                {
                                    "industry_code": "41423840",
                                    "Total Weekly Earrings": "59604"
                                },
                                {
                                    "industry_code": "70713200",
                                    "Total Weekly Earrings": "59338"
                                },
                                {
                                    "industry_code": "42448120",
                                    "Total Weekly Earrings": "59240"
                                },
                                {
                                    "industry_code": "65621320",
                                    "Total Weekly Earrings": "59202"
                                },
                                {
                                    "industry_code": "70711300",
                                    "Total Weekly Earrings": "58751"
                                },
                                {
                                    "industry_code": "41424480",
                                    "Total Weekly Earrings": "58489"
                                },
                                {
                                    "industry_code": "70712000",
                                    "Total Weekly Earrings": "58405"
                                },
                                {
                                    "industry_code": "41424480",
                                    "Total Weekly Earrings": "58345"
                                },
                                {
                                    "industry_code": "41423740",
                                    "Total Weekly Earrings": "58252"
                                },
                                {
                                    "industry_code": "41423740",
                                    "Total Weekly Earrings": "58234"
                                },
                                {
                                    "industry_code": "42444200",
                                    "Total Weekly Earrings": "57987"
                                },
                                {
                                    "industry_code": "31321100",
                                    "Total Weekly Earrings": "57857"
                                },
                                {
                                    "industry_code": "41423930",
                                    "Total Weekly Earrings": "57797"
                                },
                                {
                                    "industry_code": "31321100",
                                    "Total Weekly Earrings": "57110"
                                },
                                {
                                    "industry_code": "41423930",
                                    "Total Weekly Earrings": "57055"
                                },
                                {
                                    "industry_code": "65621320",
                                    "Total Weekly Earrings": "56865"
                                },
                                {
                                    "industry_code": "32313000",
                                    "Total Weekly Earrings": "56048"
                                },
                                {
                                    "industry_code": "42448120",
                                    "Total Weekly Earrings": "55965"
                                },
                                {
                                    "industry_code": "42448300",
                                    "Total Weekly Earrings": "55857"
                                },
                                {
                                    "industry_code": "31327390",
                                    "Total Weekly Earrings": "55761"
                                },
                                {
                                    "industry_code": "65621512",
                                    "Total Weekly Earrings": "55311"
                                },
                                {
                                    "industry_code": "32313000",
                                    "Total Weekly Earrings": "55291"
                                },
                                {
                                    "industry_code": "32322211",
                                    "Total Weekly Earrings": "55252"
                                },
                                {
                                    "industry_code": "41423710",
                                    "Total Weekly Earrings": "55054"
                                },
                                {
                                    "industry_code": "60541190",
                                    "Total Weekly Earrings": "54883"
                                },
                                {
                                    "industry_code": "31332312",
                                    "Total Weekly Earrings": "54850"
                                },
                                {
                                    "industry_code": "31336310",
                                    "Total Weekly Earrings": "54850"
                                },
                                {
                                    "industry_code": "60541890",
                                    "Total Weekly Earrings": "54838"
                                },
                                {
                                    "industry_code": "31327320",
                                    "Total Weekly Earrings": "54810"
                                },
                                {
                                    "industry_code": "31336310",
                                    "Total Weekly Earrings": "54753"
                                },
                                {
                                    "industry_code": "32322211",
                                    "Total Weekly Earrings": "54492"
                                },
                                {
                                    "industry_code": "31333600",
                                    "Total Weekly Earrings": "54436"
                                },
                                {
                                    "industry_code": "65621512",
                                    "Total Weekly Earrings": "54408"
                                },
                                {
                                    "industry_code": "41423710",
                                    "Total Weekly Earrings": "54365"
                                },
                                {
                                    "industry_code": "32326110",
                                    "Total Weekly Earrings": "54211"
                                },
                                {
                                    "industry_code": "60541190",
                                    "Total Weekly Earrings": "54199"
                                },
                                {
                                    "industry_code": "42448300",
                                    "Total Weekly Earrings": "54140"
                                },
                                {
                                    "industry_code": "70712000",
                                    "Total Weekly Earrings": "53890"
                                },
                                {
                                    "industry_code": "42453300",
                                    "Total Weekly Earrings": "53794"
                                },
                                {
                                    "industry_code": "31333600",
                                    "Total Weekly Earrings": "53790"
                                },
                                {
                                    "industry_code": "31321910",
                                    "Total Weekly Earrings": "53782"
                                },
                                {
                                    "industry_code": "70722330",
                                    "Total Weekly Earrings": "53670"
                                },
                                {
                                    "industry_code": "60541890",
                                    "Total Weekly Earrings": "53664"
                                },
                                {
                                    "industry_code": "31332312",
                                    "Total Weekly Earrings": "53395"
                                },
                                {
                                    "industry_code": "32326110",
                                    "Total Weekly Earrings": "53390"
                                },
                                {
                                    "industry_code": "43488400",
                                    "Total Weekly Earrings": "53268"
                                },
                                {
                                    "industry_code": "42442290",
                                    "Total Weekly Earrings": "53226"
                                },
                                {
                                    "industry_code": "31332910",
                                    "Total Weekly Earrings": "53117"
                                },
                                {
                                    "industry_code": "80812190",
                                    "Total Weekly Earrings": "53114"
                                },
                                {
                                    "industry_code": "42453300",
                                    "Total Weekly Earrings": "53063"
                                },
                                {
                                    "industry_code": "31332910",
                                    "Total Weekly Earrings": "53003"
                                },
                                {
                                    "industry_code": "31321910",
                                    "Total Weekly Earrings": "52592"
                                },
                                {
                                    "industry_code": "42442290",
                                    "Total Weekly Earrings": "52494"
                                },
                                {
                                    "industry_code": "43488400",
                                    "Total Weekly Earrings": "52446"
                                },
                                {
                                    "industry_code": "80812190",
                                    "Total Weekly Earrings": "52327"
                                },
                                {
                                    "industry_code": "60561510",
                                    "Total Weekly Earrings": "52187"
                                },
                                {
                                    "industry_code": "60561510",
                                    "Total Weekly Earrings": "51070"
                                },
                                {
                                    "industry_code": "32311410",
                                    "Total Weekly Earrings": "50935"
                                },
                                {
                                    "industry_code": "60541430",
                                    "Total Weekly Earrings": "50776"
                                },
                                {
                                    "industry_code": "32311410",
                                    "Total Weekly Earrings": "50577"
                                },
                                {
                                    "industry_code": "42444130",
                                    "Total Weekly Earrings": "50385"
                                },
                                {
                                    "industry_code": "60541430",
                                    "Total Weekly Earrings": "50247"
                                },
                                {
                                    "industry_code": "42451120",
                                    "Total Weekly Earrings": "50161"
                                },
                                {
                                    "industry_code": "32311420",
                                    "Total Weekly Earrings": "50125"
                                },
                                {
                                    "industry_code": "42451120",
                                    "Total Weekly Earrings": "49296"
                                },
                                {
                                    "industry_code": "42444130",
                                    "Total Weekly Earrings": "48986"
                                },
                                {
                                    "industry_code": "55532490",
                                    "Total Weekly Earrings": "48693"
                                },
                                {
                                    "industry_code": "60541820",
                                    "Total Weekly Earrings": "48609"
                                },
                                {
                                    "industry_code": "80812930",
                                    "Total Weekly Earrings": "48432"
                                },
                                {
                                    "industry_code": "65621310",
                                    "Total Weekly Earrings": "48185"
                                },
                                {
                                    "industry_code": "55522291",
                                    "Total Weekly Earrings": "47850"
                                },
                                {
                                    "industry_code": "65621310",
                                    "Total Weekly Earrings": "47845"
                                },
                                {
                                    "industry_code": "55522291",
                                    "Total Weekly Earrings": "47730"
                                },
                                {
                                    "industry_code": "32314000",
                                    "Total Weekly Earrings": "47716"
                                },
                                {
                                    "industry_code": "31339113",
                                    "Total Weekly Earrings": "47596"
                                },
                                {
                                    "industry_code": "80812930",
                                    "Total Weekly Earrings": "47559"
                                },
                                {
                                    "industry_code": "31339113",
                                    "Total Weekly Earrings": "47541"
                                },
                                {
                                    "industry_code": "42446120",
                                    "Total Weekly Earrings": "47497"
                                },
                                {
                                    "industry_code": "31321200",
                                    "Total Weekly Earrings": "47462"
                                },
                                {
                                    "industry_code": "32315000",
                                    "Total Weekly Earrings": "47135"
                                },
                                {
                                    "industry_code": "42446120",
                                    "Total Weekly Earrings": "47107"
                                },
                                {
                                    "industry_code": "32315000",
                                    "Total Weekly Earrings": "47057"
                                },
                                {
                                    "industry_code": "20238130",
                                    "Total Weekly Earrings": "46986"
                                },
                                {
                                    "industry_code": "60541820",
                                    "Total Weekly Earrings": "46879"
                                },
                                {
                                    "industry_code": "20238330",
                                    "Total Weekly Earrings": "46604"
                                },
                                {
                                    "industry_code": "31332720",
                                    "Total Weekly Earrings": "46490"
                                },
                                {
                                    "industry_code": "32314000",
                                    "Total Weekly Earrings": "46476"
                                },
                                {
                                    "industry_code": "31332720",
                                    "Total Weekly Earrings": "46384"
                                },
                                {
                                    "industry_code": "31333514",
                                    "Total Weekly Earrings": "46358"
                                },
                                {
                                    "industry_code": "20238390",
                                    "Total Weekly Earrings": "46298"
                                },
                                {
                                    "industry_code": "32325600",
                                    "Total Weekly Earrings": "46192"
                                },
                                {
                                    "industry_code": "31333514",
                                    "Total Weekly Earrings": "46162"
                                },
                                {
                                    "industry_code": "55532490",
                                    "Total Weekly Earrings": "46109"
                                },
                                {
                                    "industry_code": "31321200",
                                    "Total Weekly Earrings": "45868"
                                },
                                {
                                    "industry_code": "42453210",
                                    "Total Weekly Earrings": "45506"
                                },
                                {
                                    "industry_code": "32325600",
                                    "Total Weekly Earrings": "45326"
                                },
                                {
                                    "industry_code": "80811192",
                                    "Total Weekly Earrings": "44884"
                                },
                                {
                                    "industry_code": "43485900",
                                    "Total Weekly Earrings": "44450"
                                },
                                {
                                    "industry_code": "43484210",
                                    "Total Weekly Earrings": "44313"
                                },
                                {
                                    "industry_code": "42453210",
                                    "Total Weekly Earrings": "44223"
                                },
                                {
                                    "industry_code": "20238150",
                                    "Total Weekly Earrings": "43947"
                                },
                                {
                                    "industry_code": "32311420",
                                    "Total Weekly Earrings": "43892"
                                },
                                {
                                    "industry_code": "42445120",
                                    "Total Weekly Earrings": "43878"
                                },
                                {
                                    "industry_code": "20238150",
                                    "Total Weekly Earrings": "43606"
                                },
                                {
                                    "industry_code": "42442210",
                                    "Total Weekly Earrings": "43527"
                                },
                                {
                                    "industry_code": "31334419",
                                    "Total Weekly Earrings": "43523"
                                },
                                {
                                    "industry_code": "43485900",
                                    "Total Weekly Earrings": "43462"
                                },
                                {
                                    "industry_code": "31334419",
                                    "Total Weekly Earrings": "43445"
                                },
                                {
                                    "industry_code": "41423390",
                                    "Total Weekly Earrings": "43363"
                                },
                                {
                                    "industry_code": "41423390",
                                    "Total Weekly Earrings": "43347"
                                },
                                {
                                    "industry_code": "20238340",
                                    "Total Weekly Earrings": "43083"
                                },
                                {
                                    "industry_code": "31332812",
                                    "Total Weekly Earrings": "42968"
                                },
                                {
                                    "industry_code": "42442210",
                                    "Total Weekly Earrings": "42924"
                                },
                                {
                                    "industry_code": "42445120",
                                    "Total Weekly Earrings": "42598"
                                },
                                {
                                    "industry_code": "80811219",
                                    "Total Weekly Earrings": "42187"
                                },
                                {
                                    "industry_code": "31332812",
                                    "Total Weekly Earrings": "41985"
                                },
                                {
                                    "industry_code": "60561920",
                                    "Total Weekly Earrings": "41922"
                                },
                                {
                                    "industry_code": "80811219",
                                    "Total Weekly Earrings": "41790"
                                },
                                {
                                    "industry_code": "41424500",
                                    "Total Weekly Earrings": "41567"
                                },
                                {
                                    "industry_code": "44221300",
                                    "Total Weekly Earrings": "41432"
                                },
                                {
                                    "industry_code": "20238390",
                                    "Total Weekly Earrings": "41225"
                                },
                                {
                                    "industry_code": "70722330",
                                    "Total Weekly Earrings": "41212"
                                },
                                {
                                    "industry_code": "80812320",
                                    "Total Weekly Earrings": "41207"
                                },
                                {
                                    "industry_code": "20238130",
                                    "Total Weekly Earrings": "40978"
                                },
                                {
                                    "industry_code": "42445300",
                                    "Total Weekly Earrings": "40708"
                                },
                                {
                                    "industry_code": "60541720",
                                    "Total Weekly Earrings": "40597"
                                },
                                {
                                    "industry_code": "42446190",
                                    "Total Weekly Earrings": "40570"
                                },
                                {
                                    "industry_code": "20238340",
                                    "Total Weekly Earrings": "40538"
                                },
                                {
                                    "industry_code": "80811192",
                                    "Total Weekly Earrings": "40511"
                                },
                                {
                                    "industry_code": "42446190",
                                    "Total Weekly Earrings": "40503"
                                },
                                {
                                    "industry_code": "44221300",
                                    "Total Weekly Earrings": "40442"
                                },
                                {
                                    "industry_code": "60561920",
                                    "Total Weekly Earrings": "40428"
                                },
                                {
                                    "industry_code": "42445300",
                                    "Total Weekly Earrings": "40384"
                                },
                                {
                                    "industry_code": "20238330",
                                    "Total Weekly Earrings": "40281"
                                },
                                {
                                    "industry_code": "60541720",
                                    "Total Weekly Earrings": "39980"
                                },
                                {
                                    "industry_code": "80812320",
                                    "Total Weekly Earrings": "39925"
                                },
                                {
                                    "industry_code": "43484210",
                                    "Total Weekly Earrings": "39863"
                                },
                                {
                                    "industry_code": "60561790",
                                    "Total Weekly Earrings": "39644"
                                },
                                {
                                    "industry_code": "43488900",
                                    "Total Weekly Earrings": "39601"
                                },
                                {
                                    "industry_code": "42453910",
                                    "Total Weekly Earrings": "39571"
                                },
                                {
                                    "industry_code": "43488900",
                                    "Total Weekly Earrings": "39119"
                                },
                                {
                                    "industry_code": "32311300",
                                    "Total Weekly Earrings": "38865"
                                },
                                {
                                    "industry_code": "65621330",
                                    "Total Weekly Earrings": "38858"
                                },
                                {
                                    "industry_code": "65621330",
                                    "Total Weekly Earrings": "38586"
                                },
                                {
                                    "industry_code": "50517911",
                                    "Total Weekly Earrings": "38497"
                                },
                                {
                                    "industry_code": "42447190",
                                    "Total Weekly Earrings": "38489"
                                },
                                {
                                    "industry_code": "32311300",
                                    "Total Weekly Earrings": "38342"
                                },
                                {
                                    "industry_code": "41424500",
                                    "Total Weekly Earrings": "38307"
                                },
                                {
                                    "industry_code": "42447190",
                                    "Total Weekly Earrings": "38029"
                                },
                                {
                                    "industry_code": "41423320",
                                    "Total Weekly Earrings": "37990"
                                },
                                {
                                    "industry_code": "50517911",
                                    "Total Weekly Earrings": "37814"
                                },
                                {
                                    "industry_code": "42453910",
                                    "Total Weekly Earrings": "37641"
                                },
                                {
                                    "industry_code": "60561430",
                                    "Total Weekly Earrings": "36462"
                                },
                                {
                                    "industry_code": "60561430",
                                    "Total Weekly Earrings": "36056"
                                },
                                {
                                    "industry_code": "70712110",
                                    "Total Weekly Earrings": "35682"
                                },
                                {
                                    "industry_code": "42453220",
                                    "Total Weekly Earrings": "35331"
                                },
                                {
                                    "industry_code": "60561790",
                                    "Total Weekly Earrings": "35252"
                                },
                                {
                                    "industry_code": "10113300",
                                    "Total Weekly Earrings": "35154"
                                },
                                {
                                    "industry_code": "55524130",
                                    "Total Weekly Earrings": "35107"
                                },
                                {
                                    "industry_code": "43488110",
                                    "Total Weekly Earrings": "35098"
                                },
                                {
                                    "industry_code": "43488110",
                                    "Total Weekly Earrings": "35097"
                                },
                                {
                                    "industry_code": "41423320",
                                    "Total Weekly Earrings": "35070"
                                },
                                {
                                    "industry_code": "70712110",
                                    "Total Weekly Earrings": "34710"
                                },
                                {
                                    "industry_code": "31334200",
                                    "Total Weekly Earrings": "34623"
                                },
                                {
                                    "industry_code": "31332813",
                                    "Total Weekly Earrings": "34594"
                                },
                                {
                                    "industry_code": "32326150",
                                    "Total Weekly Earrings": "34445"
                                },
                                {
                                    "industry_code": "31334200",
                                    "Total Weekly Earrings": "34417"
                                },
                                {
                                    "industry_code": "32326150",
                                    "Total Weekly Earrings": "34222"
                                },
                                {
                                    "industry_code": "31332813",
                                    "Total Weekly Earrings": "34105"
                                },
                                {
                                    "industry_code": "60541191",
                                    "Total Weekly Earrings": "33778"
                                },
                                {
                                    "industry_code": "60541191",
                                    "Total Weekly Earrings": "33694"
                                },
                                {
                                    "industry_code": "55524130",
                                    "Total Weekly Earrings": "33519"
                                },
                                {
                                    "industry_code": "80811198",
                                    "Total Weekly Earrings": "33451"
                                },
                                {
                                    "industry_code": "42446130",
                                    "Total Weekly Earrings": "33385"
                                },
                                {
                                    "industry_code": "42446130",
                                    "Total Weekly Earrings": "33198"
                                },
                                {
                                    "industry_code": "80811198",
                                    "Total Weekly Earrings": "33115"
                                },
                                {
                                    "industry_code": "31337121",
                                    "Total Weekly Earrings": "33068"
                                },
                                {
                                    "industry_code": "80811400",
                                    "Total Weekly Earrings": "33039"
                                },
                                {
                                    "industry_code": "31337121",
                                    "Total Weekly Earrings": "33028"
                                },
                                {
                                    "industry_code": "31339950",
                                    "Total Weekly Earrings": "32986"
                                },
                                {
                                    "industry_code": "60561910",
                                    "Total Weekly Earrings": "32871"
                                },
                                {
                                    "industry_code": "60561910",
                                    "Total Weekly Earrings": "32790"
                                },
                                {
                                    "industry_code": "80812910",
                                    "Total Weekly Earrings": "32767"
                                },
                                {
                                    "industry_code": "31321990",
                                    "Total Weekly Earrings": "32711"
                                },
                                {
                                    "industry_code": "10113300",
                                    "Total Weekly Earrings": "32658"
                                },
                                {
                                    "industry_code": "10212310",
                                    "Total Weekly Earrings": "32512"
                                },
                                {
                                    "industry_code": "32322220",
                                    "Total Weekly Earrings": "32487"
                                },
                                {
                                    "industry_code": "32322220",
                                    "Total Weekly Earrings": "32467"
                                },
                                {
                                    "industry_code": "31321920",
                                    "Total Weekly Earrings": "32406"
                                },
                                {
                                    "industry_code": "31321920",
                                    "Total Weekly Earrings": "32295"
                                },
                                {
                                    "industry_code": "42453220",
                                    "Total Weekly Earrings": "32171"
                                },
                                {
                                    "industry_code": "41423910",
                                    "Total Weekly Earrings": "31768"
                                },
                                {
                                    "industry_code": "31339950",
                                    "Total Weekly Earrings": "31389"
                                },
                                {
                                    "industry_code": "80811400",
                                    "Total Weekly Earrings": "31373"
                                },
                                {
                                    "industry_code": "41423910",
                                    "Total Weekly Earrings": "31371"
                                },
                                {
                                    "industry_code": "20238190",
                                    "Total Weekly Earrings": "31271"
                                },
                                {
                                    "industry_code": "80812910",
                                    "Total Weekly Earrings": "31004"
                                },
                                {
                                    "industry_code": "20238190",
                                    "Total Weekly Earrings": "30821"
                                },
                                {
                                    "industry_code": "31321990",
                                    "Total Weekly Earrings": "30777"
                                },
                                {
                                    "industry_code": "31333111",
                                    "Total Weekly Earrings": "29362"
                                },
                                {
                                    "industry_code": "70711500",
                                    "Total Weekly Earrings": "29306"
                                },
                                {
                                    "industry_code": "65621112",
                                    "Total Weekly Earrings": "29089"
                                },
                                {
                                    "industry_code": "31333111",
                                    "Total Weekly Earrings": "28965"
                                },
                                {
                                    "industry_code": "70722514",
                                    "Total Weekly Earrings": "28765"
                                },
                                {
                                    "industry_code": "65621112",
                                    "Total Weekly Earrings": "28539"
                                },
                                {
                                    "industry_code": "70722514",
                                    "Total Weekly Earrings": "27827"
                                },
                                {
                                    "industry_code": "70711500",
                                    "Total Weekly Earrings": "27777"
                                },
                                {
                                    "industry_code": "31321918",
                                    "Total Weekly Earrings": "27743"
                                },
                                {
                                    "industry_code": "31321918",
                                    "Total Weekly Earrings": "27143"
                                },
                                {
                                    "industry_code": "31321911",
                                    "Total Weekly Earrings": "26937"
                                },
                                {
                                    "industry_code": "10212310",
                                    "Total Weekly Earrings": "26187"
                                },
                                {
                                    "industry_code": "60541320",
                                    "Total Weekly Earrings": "26007"
                                },
                                {
                                    "industry_code": "31321911",
                                    "Total Weekly Earrings": "25492"
                                },
                                {
                                    "industry_code": "42443141",
                                    "Total Weekly Earrings": "25474"
                                },
                                {
                                    "industry_code": "80811212",
                                    "Total Weekly Earrings": "25289"
                                },
                                {
                                    "industry_code": "42443141",
                                    "Total Weekly Earrings": "25221"
                                },
                                {
                                    "industry_code": "80811212",
                                    "Total Weekly Earrings": "24901"
                                },
                                {
                                    "industry_code": "42451200",
                                    "Total Weekly Earrings": "24083"
                                },
                                {
                                    "industry_code": "80813311",
                                    "Total Weekly Earrings": "23871"
                                },
                                {
                                    "industry_code": "80813311",
                                    "Total Weekly Earrings": "23839"
                                },
                                {
                                    "industry_code": "60541320",
                                    "Total Weekly Earrings": "23066"
                                },
                                {
                                    "industry_code": "42445220",
                                    "Total Weekly Earrings": "22978"
                                },
                                {
                                    "industry_code": "42445220",
                                    "Total Weekly Earrings": "22834"
                                },
                                {
                                    "industry_code": "42451200",
                                    "Total Weekly Earrings": "22603"
                                },
                                {
                                    "industry_code": "41425110",
                                    "Total Weekly Earrings": "22550"
                                },
                                {
                                    "industry_code": "60541920",
                                    "Total Weekly Earrings": "22545"
                                },
                                {
                                    "industry_code": "70712190",
                                    "Total Weekly Earrings": "22276"
                                },
                                {
                                    "industry_code": "41425110",
                                    "Total Weekly Earrings": "21901"
                                },
                                {
                                    "industry_code": "31339116",
                                    "Total Weekly Earrings": "21848"
                                },
                                {
                                    "industry_code": "41424930",
                                    "Total Weekly Earrings": "21665"
                                },
                                {
                                    "industry_code": "60541920",
                                    "Total Weekly Earrings": "21611"
                                },
                                {
                                    "industry_code": "31339116",
                                    "Total Weekly Earrings": "21393"
                                },
                                {
                                    "industry_code": "70713920",
                                    "Total Weekly Earrings": "19641"
                                },
                                {
                                    "industry_code": "70721200",
                                    "Total Weekly Earrings": "19300"
                                },
                                {
                                    "industry_code": "55532291",
                                    "Total Weekly Earrings": "19219"
                                },
                                {
                                    "industry_code": "55532300",
                                    "Total Weekly Earrings": "19211"
                                },
                                {
                                    "industry_code": "70712190",
                                    "Total Weekly Earrings": "19211"
                                },
                                {
                                    "industry_code": "55532291",
                                    "Total Weekly Earrings": "18941"
                                },
                                {
                                    "industry_code": "20238170",
                                    "Total Weekly Earrings": "18613"
                                },
                                {
                                    "industry_code": "60561740",
                                    "Total Weekly Earrings": "18321"
                                },
                                {
                                    "industry_code": "41424930",
                                    "Total Weekly Earrings": "18120"
                                },
                                {
                                    "industry_code": "10212312",
                                    "Total Weekly Earrings": "16676"
                                },
                                {
                                    "industry_code": "55532300",
                                    "Total Weekly Earrings": "16388"
                                },
                                {
                                    "industry_code": "60561740",
                                    "Total Weekly Earrings": "16302"
                                },
                                {
                                    "industry_code": "42453100",
                                    "Total Weekly Earrings": "16218"
                                },
                                {
                                    "industry_code": "20238170",
                                    "Total Weekly Earrings": "15509"
                                },
                                {
                                    "industry_code": "20237200",
                                    "Total Weekly Earrings": "15446"
                                },
                                {
                                    "industry_code": "10212319",
                                    "Total Weekly Earrings": "15373"
                                },
                                {
                                    "industry_code": "20237200",
                                    "Total Weekly Earrings": "15362"
                                },
                                {
                                    "industry_code": "70713950",
                                    "Total Weekly Earrings": "14549"
                                },
                                {
                                    "industry_code": "70713930",
                                    "Total Weekly Earrings": "14400"
                                },
                                {
                                    "industry_code": "32311700",
                                    "Total Weekly Earrings": "14293"
                                },
                                {
                                    "industry_code": "42453100",
                                    "Total Weekly Earrings": "14152"
                                },
                                {
                                    "industry_code": "70713950",
                                    "Total Weekly Earrings": "13526"
                                },
                                {
                                    "industry_code": "10212312",
                                    "Total Weekly Earrings": "13472"
                                },
                                {
                                    "industry_code": "10212319",
                                    "Total Weekly Earrings": "12674"
                                },
                                {
                                    "industry_code": "42448150",
                                    "Total Weekly Earrings": "12324"
                                },
                                {
                                    "industry_code": "42448150",
                                    "Total Weekly Earrings": "12034"
                                },
                                {
                                    "industry_code": "32311700",
                                    "Total Weekly Earrings": "11908"
                                },
                                {
                                    "industry_code": "70721200",
                                    "Total Weekly Earrings": "11598"
                                },
                                {
                                    "industry_code": "70713930",
                                    "Total Weekly Earrings": "11560"
                                },
                                {
                                    "industry_code": "70713920",
                                    "Total Weekly Earrings": "10564"
                                },
                                {
                                    "industry_code": "80812310",
                                    "Total Weekly Earrings": "10145"
                                },
                                {
                                    "industry_code": "80812310",
                                    "Total Weekly Earrings": "10079"
                                }
                            ]
                        },
                        "text/html": "<table><tr><th>industry_code</th><th>Total Weekly Earrings</th></tr><tr><td>05000000</td><td>74498171</td></tr><tr><td>05000000</td><td>73474302</td></tr><tr><td>08000000</td><td>60914722</td></tr><tr><td>08000000</td><td>60807771</td></tr><tr><td>60000000</td><td>15251268</td></tr><tr><td>60000000</td><td>15219807</td></tr><tr><td>40000000</td><td>14850661</td></tr><tr><td>65000000</td><td>14816074</td></tr><tr><td>65000000</td><td>14765156</td></tr><tr><td>40000000</td><td>14732108</td></tr><tr><td>06000000</td><td>13426820</td></tr><tr><td>65620000</td><td>12878462</td></tr><tr><td>65620000</td><td>12762526</td></tr><tr><td>06000000</td><td>12711945</td></tr><tr><td>65620001</td><td>11537267</td></tr><tr><td>65620001</td><td>11413008</td></tr><tr><td>60540000</td><td>8976687</td></tr><tr><td>60540000</td><td>8821026</td></tr><tr><td>30000000</td><td>7491723</td></tr><tr><td>30000000</td><td>7411960</td></tr><tr><td>55000000</td><td>6467426</td></tr><tr><td>55000000</td><td>6328968</td></tr><tr><td>42000000</td><td>6123554</td></tr><tr><td>42000000</td><td>6060100</td></tr><tr><td>20000000</td><td>5335274</td></tr><tr><td>65622000</td><td>5105336</td></tr><tr><td>65622000</td><td>5048432</td></tr><tr><td>65621000</td><td>4907269</td></tr><tr><td>60560000</td><td>4886085</td></tr><tr><td>65621000</td><td>4875906</td></tr><tr><td>31000000</td><td>4859716</td></tr><tr><td>31000000</td><td>4808368</td></tr><tr><td>65622100</td><td>4773547</td></tr><tr><td>20000000</td><td>4724156</td></tr><tr><td>65622100</td><td>4716914</td></tr><tr><td>60560000</td><td>4659531</td></tr><tr><td>60561000</td><td>4565569</td></tr><tr><td>70000000</td><td>4537173</td></tr><tr><td>41420000</td><td>4506110</td></tr><tr><td>41420000</td><td>4480134</td></tr><tr><td>60561000</td><td>4357866</td></tr><tr><td>70000000</td><td>4224098</td></tr><tr><td>70720000</td><td>3802356</td></tr><tr><td>70720000</td><td>3572648</td></tr><tr><td>43000000</td><td>3538683</td></tr><tr><td>43000000</td><td>3495553</td></tr><tr><td>20238000</td><td>3421902</td></tr><tr><td>70722000</td><td>3085429</td></tr><tr><td>20238000</td><td>3062211</td></tr><tr><td>70722000</td><td>2913295</td></tr><tr><td>80000000</td><td>2875314</td></tr><tr><td>80000000</td><td>2836698</td></tr><tr><td>70722500</td><td>2768855</td></tr><tr><td>60541500</td><td>2725031</td></tr><tr><td>60541500</td><td>2666568</td></tr><tr><td>32000000</td><td>2633628</td></tr><tr><td>70722500</td><td>2617225</td></tr><tr><td>32000000</td><td>2605069</td></tr><tr><td>50000000</td><td>2434992</td></tr><tr><td>50000000</td><td>2416443</td></tr><tr><td>55524000</td><td>2408490</td></tr><tr><td>55524000</td><td>2347328</td></tr><tr><td>41423000</td><td>2283094</td></tr><tr><td>41423000</td><td>2261006</td></tr><tr><td>65621100</td><td>2149121</td></tr><tr><td>65621100</td><td>2141331</td></tr><tr><td>65621111</td><td>2121845</td></tr><tr><td>65621111</td><td>2113086</td></tr><tr><td>60561300</td><td>2013846</td></tr><tr><td>60561300</td><td>1938059</td></tr><tr><td>55522000</td><td>1767137</td></tr><tr><td>55522000</td><td>1717912</td></tr><tr><td>20238200</td><td>1696080</td></tr><tr><td>70722511</td><td>1626780</td></tr><tr><td>20238200</td><td>1621266</td></tr><tr><td>80813000</td><td>1599916</td></tr><tr><td>60561320</td><td>1598939</td></tr><tr><td>80813000</td><td>1594855</td></tr><tr><td>60550000</td><td>1587677</td></tr><tr><td>60550000</td><td>1566036</td></tr><tr><td>60561320</td><td>1530782</td></tr><tr><td>70722511</td><td>1528888</td></tr><tr><td>65623000</td><td>1525889</td></tr><tr><td>60551114</td><td>1517287</td></tr><tr><td>55524100</td><td>1509979</td></tr><tr><td>60551114</td><td>1496334</td></tr><tr><td>65623000</td><td>1489277</td></tr><tr><td>55524100</td><td>1477799</td></tr><tr><td>60541300</td><td>1439445</td></tr><tr><td>60541300</td><td>1422967</td></tr><tr><td>41424000</td><td>1367413</td></tr><tr><td>65624000</td><td>1357629</td></tr><tr><td>41424000</td><td>1348136</td></tr><tr><td>65624000</td><td>1337022</td></tr><tr><td>60541600</td><td>1336594</td></tr><tr><td>60541600</td><td>1330587</td></tr><tr><td>60541512</td><td>1309441</td></tr><tr><td>60541512</td><td>1274481</td></tr><tr><td>31336000</td><td>1257764</td></tr><tr><td>31336000</td><td>1242685</td></tr><tr><td>60541511</td><td>1198283</td></tr><tr><td>42441000</td><td>1180297</td></tr><tr><td>60541511</td><td>1173494</td></tr><tr><td>42441000</td><td>1163420</td></tr><tr><td>43484000</td><td>1131821</td></tr><tr><td>60541100</td><td>1093898</td></tr><tr><td>43484000</td><td>1092427</td></tr><tr><td>55523000</td><td>1087325</td></tr><tr><td>60541610</td><td>1066602</td></tr><tr><td>42452000</td><td>1065807</td></tr><tr><td>60541100</td><td>1058862</td></tr><tr><td>60541610</td><td>1053691</td></tr><tr><td>60541340</td><td>1051499</td></tr><tr><td>42452000</td><td>1049973</td></tr><tr><td>55523000</td><td>1044224</td></tr><tr><td>60541340</td><td>1042223</td></tr><tr><td>60541110</td><td>1038464</td></tr><tr><td>20236000</td><td>1008035</td></tr><tr><td>55522100</td><td>1004069</td></tr><tr><td>60541110</td><td>1004009</td></tr><tr><td>42445000</td><td>974710</td></tr><tr><td>55522100</td><td>971796</td></tr><tr><td>70722513</td><td>969748</td></tr><tr><td>42445000</td><td>963315</td></tr><tr><td>20236000</td><td>940800</td></tr><tr><td>70722513</td><td>922041</td></tr><tr><td>20237000</td><td>908374</td></tr><tr><td>55524200</td><td>894878</td></tr><tr><td>41425000</td><td>873578</td></tr><tr><td>55524200</td><td>872398</td></tr><tr><td>31332000</td><td>871298</td></tr><tr><td>42445100</td><td>868430</td></tr><tr><td>31332000</td><td>867242</td></tr><tr><td>55531000</td><td>865620</td></tr><tr><td>55531000</td><td>862987</td></tr><tr><td>42445100</td><td>861224</td></tr><tr><td>41425000</td><td>855291</td></tr><tr><td>41425120</td><td>851551</td></tr><tr><td>32311000</td><td>851406</td></tr><tr><td>60561700</td><td>846000</td></tr><tr><td>32311000</td><td>842201</td></tr><tr><td>42441100</td><td>839595</td></tr><tr><td>65624100</td><td>838886</td></tr><tr><td>41425120</td><td>831319</td></tr><tr><td>42441100</td><td>831131</td></tr><tr><td>65624100</td><td>828771</td></tr><tr><td>42445110</td><td>821282</td></tr><tr><td>42445110</td><td>817408</td></tr><tr><td>65623100</td><td>811522</td></tr><tr><td>43484100</td><td>796953</td></tr><tr><td>65623100</td><td>791482</td></tr><tr><td>20238220</td><td>788207</td></tr><tr><td>20238210</td><td>783194</td></tr><tr><td>55524110</td><td>782455</td></tr><tr><td>43484100</td><td>776540</td></tr><tr><td>60541700</td><td>776034</td></tr><tr><td>55522110</td><td>771223</td></tr><tr><td>60541700</td><td>765240</td></tr><tr><td>55524110</td><td>760905</td></tr><tr><td>20238220</td><td>758484</td></tr><tr><td>42441110</td><td>751027</td></tr><tr><td>50517000</td><td>750420</td></tr><tr><td>42441110</td><td>748568</td></tr><tr><td>50517000</td><td>744537</td></tr><tr><td>70710000</td><td>744245</td></tr><tr><td>55522110</td><td>740634</td></tr><tr><td>20238210</td><td>739019</td></tr><tr><td>60541710</td><td>737556</td></tr><tr><td>80811000</td><td>736018</td></tr><tr><td>50511000</td><td>730389</td></tr><tr><td>60541710</td><td>727615</td></tr><tr><td>80811000</td><td>724522</td></tr><tr><td>20237000</td><td>720804</td></tr><tr><td>50511000</td><td>720223</td></tr><tr><td>60561700</td><td>716319</td></tr><tr><td>70721000</td><td>707884</td></tr><tr><td>31336001</td><td>697350</td></tr><tr><td>44220000</td><td>696860</td></tr><tr><td>55524120</td><td>692782</td></tr><tr><td>31336001</td><td>690224</td></tr><tr><td>70721100</td><td>689345</td></tr><tr><td>55524120</td><td>683445</td></tr><tr><td>44220000</td><td>683302</td></tr><tr><td>60541200</td><td>670319</td></tr><tr><td>65621600</td><td>670050</td></tr><tr><td>65621600</td><td>665073</td></tr><tr><td>70710000</td><td>664157</td></tr><tr><td>70721000</td><td>658963</td></tr><tr><td>70721100</td><td>648661</td></tr><tr><td>65621400</td><td>647041</td></tr><tr><td>31333000</td><td>643672</td></tr><tr><td>65621400</td><td>642745</td></tr><tr><td>31333000</td><td>641540</td></tr><tr><td>20238100</td><td>639493</td></tr><tr><td>60541200</td><td>620966</td></tr><tr><td>43484120</td><td>620364</td></tr><tr><td>43484120</td><td>607910</td></tr><tr><td>31334000</td><td>602122</td></tr><tr><td>31334000</td><td>601411</td></tr><tr><td>41423400</td><td>601298</td></tr><tr><td>55524210</td><td>599011</td></tr><tr><td>60541611</td><td>597207</td></tr><tr><td>10000000</td><td>594171</td></tr><tr><td>41423400</td><td>587319</td></tr><tr><td>10000000</td><td>586954</td></tr><tr><td>60541611</td><td>585449</td></tr><tr><td>20236200</td><td>583063</td></tr><tr><td>55524210</td><td>583035</td></tr><tr><td>20238300</td><td>575394</td></tr><tr><td>70721110</td><td>570342</td></tr><tr><td>43493000</td><td>569765</td></tr><tr><td>65621200</td><td>565093</td></tr><tr><td>60541712</td><td>562058</td></tr><tr><td>65624120</td><td>560699</td></tr><tr><td>55523200</td><td>560047</td></tr><tr><td>10210000</td><td>557736</td></tr><tr><td>60541712</td><td>556164</td></tr><tr><td>65621200</td><td>555914</td></tr><tr><td>50517100</td><td>555733</td></tr><tr><td>50517100</td><td>555690</td></tr><tr><td>10210000</td><td>555106</td></tr><tr><td>65624120</td><td>553079</td></tr><tr><td>43493000</td><td>549582</td></tr><tr><td>20238100</td><td>546395</td></tr><tr><td>20236200</td><td>544044</td></tr><tr><td>55523200</td><td>536728</td></tr><tr><td>80812000</td><td>533579</td></tr><tr><td>70721110</td><td>533503</td></tr><tr><td>44221100</td><td>529815</td></tr><tr><td>42444000</td><td>528273</td></tr><tr><td>55523900</td><td>526887</td></tr><tr><td>41423800</td><td>520254</td></tr><tr><td>65621490</td><td>520244</td></tr><tr><td>41423800</td><td>519552</td></tr><tr><td>80812000</td><td>518632</td></tr><tr><td>44221100</td><td>517250</td></tr><tr><td>65621490</td><td>516438</td></tr><tr><td>55522200</td><td>516071</td></tr><tr><td>20238300</td><td>509759</td></tr><tr><td>55523900</td><td>509013</td></tr><tr><td>41424400</td><td>507919</td></tr><tr><td>41424400</td><td>501728</td></tr><tr><td>55522200</td><td>499427</td></tr><tr><td>20238900</td><td>497659</td></tr><tr><td>32325000</td><td>497645</td></tr><tr><td>32325000</td><td>496838</td></tr><tr><td>42444000</td><td>495272</td></tr><tr><td>43493110</td><td>494541</td></tr><tr><td>80811100</td><td>488759</td></tr><tr><td>50511200</td><td>487381</td></tr><tr><td>80811100</td><td>481888</td></tr><tr><td>43493110</td><td>476586</td></tr><tr><td>50511200</td><td>475453</td></tr><tr><td>20237100</td><td>466432</td></tr><tr><td>60561600</td><td>462019</td></tr><tr><td>65621300</td><td>460338</td></tr><tr><td>42444100</td><td>459914</td></tr><tr><td>60561600</td><td>459021</td></tr><tr><td>65621300</td><td>455305</td></tr><tr><td>70713000</td><td>453902</td></tr><tr><td>60561400</td><td>453728</td></tr><tr><td>60561400</td><td>451224</td></tr><tr><td>43481000</td><td>449396</td></tr><tr><td>42444100</td><td>436660</td></tr><tr><td>20236220</td><td>436283</td></tr><tr><td>60541900</td><td>436027</td></tr><tr><td>42446000</td><td>435033</td></tr><tr><td>42446000</td><td>428907</td></tr><tr><td>60541900</td><td>428145</td></tr><tr><td>43481000</td><td>427332</td></tr><tr><td>31336400</td><td>426769</td></tr><tr><td>20236100</td><td>425750</td></tr><tr><td>43488000</td><td>425484</td></tr><tr><td>43488000</td><td>424694</td></tr><tr><td>31336400</td><td>424229</td></tr><tr><td>55531300</td><td>411336</td></tr><tr><td>60541800</td><td>406865</td></tr><tr><td>55531300</td><td>406456</td></tr><tr><td>43484121</td><td>403642</td></tr><tr><td>20236220</td><td>403030</td></tr><tr><td>20237100</td><td>402344</td></tr><tr><td>60561100</td><td>401035</td></tr><tr><td>43484121</td><td>400111</td></tr><tr><td>60541800</td><td>399991</td></tr><tr><td>20236100</td><td>397406</td></tr><tr><td>70713000</td><td>396357</td></tr><tr><td>31336300</td><td>394760</td></tr><tr><td>32326000</td><td>393534</td></tr><tr><td>31336300</td><td>392748</td></tr><tr><td>60561100</td><td>392279</td></tr><tr><td>32326000</td><td>390078</td></tr><tr><td>20238900</td><td>387358</td></tr><tr><td>60561730</td><td>385452</td></tr><tr><td>65623300</td><td>371056</td></tr><tr><td>60561610</td><td>366974</td></tr><tr><td>60561610</td><td>365906</td></tr><tr><td>65623300</td><td>364351</td></tr><tr><td>43492000</td><td>356116</td></tr><tr><td>42443000</td><td>350391</td></tr><tr><td>42454000</td><td>348894</td></tr><tr><td>43492000</td><td>346432</td></tr><tr><td>55531310</td><td>340939</td></tr><tr><td>55531310</td><td>336343</td></tr><tr><td>42454000</td><td>336186</td></tr><tr><td>42443000</td><td>336054</td></tr><tr><td>42448000</td><td>335828</td></tr><tr><td>43484200</td><td>335678</td></tr><tr><td>60561720</td><td>334238</td></tr><tr><td>60561720</td><td>328338</td></tr><tr><td>42448000</td><td>326539</td></tr><tr><td>60541211</td><td>325940</td></tr><tr><td>42443142</td><td>325389</td></tr><tr><td>60541211</td><td>319988</td></tr><tr><td>65624400</td><td>317805</td></tr><tr><td>43484200</td><td>315068</td></tr><tr><td>32326100</td><td>314917</td></tr><tr><td>42446110</td><td>314064</td></tr><tr><td>65624400</td><td>314012</td></tr><tr><td>60562000</td><td>313622</td></tr><tr><td>42443142</td><td>312609</td></tr><tr><td>32326100</td><td>311359</td></tr><tr><td>80813900</td><td>310511</td></tr><tr><td>80813900</td><td>310189</td></tr><tr><td>55523120</td><td>309096</td></tr><tr><td>42446110</td><td>307795</td></tr><tr><td>50518000</td><td>307402</td></tr><tr><td>44221120</td><td>306619</td></tr><tr><td>44221120</td><td>306611</td></tr><tr><td>55532000</td><td>306172</td></tr><tr><td>60562000</td><td>304694</td></tr><tr><td>20237300</td><td>303179</td></tr><tr><td>55523120</td><td>300715</td></tr><tr><td>55524290</td><td>296613</td></tr><tr><td>50518000</td><td>294663</td></tr><tr><td>55532000</td><td>293971</td></tr><tr><td>31339000</td><td>291131</td></tr><tr><td>31331000</td><td>290789</td></tr><tr><td>55531100</td><td>290168</td></tr><tr><td>31331000</td><td>289452</td></tr><tr><td>55524290</td><td>289426</td></tr><tr><td>31339000</td><td>289173</td></tr><tr><td>55531100</td><td>288038</td></tr><tr><td>31334500</td><td>280562</td></tr><tr><td>31334500</td><td>279104</td></tr><tr><td>32311600</td><td>276666</td></tr><tr><td>32311600</td><td>275307</td></tr><tr><td>42447000</td><td>275200</td></tr><tr><td>60561730</td><td>274173</td></tr><tr><td>41423600</td><td>270768</td></tr><tr><td>65623200</td><td>270638</td></tr><tr><td>42447000</td><td>268811</td></tr><tr><td>42441300</td><td>267475</td></tr><tr><td>20238910</td><td>267086</td></tr><tr><td>31327000</td><td>266337</td></tr><tr><td>41423600</td><td>266329</td></tr><tr><td>65623200</td><td>265442</td></tr><tr><td>42441300</td><td>262553</td></tr><tr><td>41423830</td><td>260094</td></tr><tr><td>32322000</td><td>258218</td></tr><tr><td>41423830</td><td>257924</td></tr><tr><td>32322000</td><td>257305</td></tr><tr><td>42453000</td><td>255849</td></tr><tr><td>41423430</td><td>254373</td></tr><tr><td>42444110</td><td>253515</td></tr><tr><td>43485000</td><td>252636</td></tr><tr><td>43485000</td><td>251686</td></tr><tr><td>80812100</td><td>251406</td></tr><tr><td>50519000</td><td>249841</td></tr><tr><td>10213000</td><td>248739</td></tr><tr><td>55522292</td><td>248400</td></tr><tr><td>10213000</td><td>247719</td></tr><tr><td>55522300</td><td>246637</td></tr><tr><td>42453000</td><td>246137</td></tr><tr><td>41423430</td><td>245403</td></tr><tr><td>50511100</td><td>244401</td></tr><tr><td>50511100</td><td>243550</td></tr><tr><td>50519000</td><td>243333</td></tr><tr><td>60561420</td><td>241255</td></tr><tr><td>60561420</td><td>240609</td></tr><tr><td>31327000</td><td>240239</td></tr><tr><td>80812100</td><td>239837</td></tr><tr><td>42447110</td><td>237470</td></tr><tr><td>55522300</td><td>236531</td></tr><tr><td>42444110</td><td>235508</td></tr><tr><td>55522292</td><td>234640</td></tr><tr><td>42454100</td><td>233893</td></tr><tr><td>65621340</td><td>231701</td></tr><tr><td>42454100</td><td>231105</td></tr><tr><td>42447110</td><td>230819</td></tr><tr><td>70711000</td><td>230514</td></tr><tr><td>20238990</td><td>230496</td></tr><tr><td>31332700</td><td>229805</td></tr><tr><td>31332700</td><td>229635</td></tr><tr><td>65621340</td><td>228851</td></tr><tr><td>55531311</td><td>228519</td></tr><tr><td>55523920</td><td>228421</td></tr><tr><td>55531311</td><td>227293</td></tr><tr><td>80811110</td><td>227210</td></tr><tr><td>80811110</td><td>225265</td></tr><tr><td>31321000</td><td>225099</td></tr><tr><td>32323000</td><td>224193</td></tr><tr><td>32323000</td><td>222694</td></tr><tr><td>42442000</td><td>221926</td></tr><tr><td>42442000</td><td>221872</td></tr><tr><td>55523920</td><td>221354</td></tr><tr><td>42448100</td><td>220415</td></tr><tr><td>60561310</td><td>220288</td></tr><tr><td>31321000</td><td>218691</td></tr><tr><td>44221110</td><td>218104</td></tr><tr><td>31336100</td><td>217870</td></tr><tr><td>65623311</td><td>217249</td></tr><tr><td>60561310</td><td>215790</td></tr><tr><td>41423100</td><td>214984</td></tr><tr><td>20238910</td><td>214669</td></tr><tr><td>31335000</td><td>214169</td></tr><tr><td>31335000</td><td>213955</td></tr><tr><td>41423100</td><td>213682</td></tr><tr><td>65623311</td><td>213379</td></tr><tr><td>70711000</td><td>212295</td></tr><tr><td>65621500</td><td>212280</td></tr><tr><td>65621500</td><td>211907</td></tr><tr><td>31332300</td><td>211594</td></tr><tr><td>44221110</td><td>210490</td></tr><tr><td>42448100</td><td>210456</td></tr><tr><td>20238310</td><td>210346</td></tr><tr><td>31336100</td><td>210235</td></tr><tr><td>43484122</td><td>209983</td></tr><tr><td>50515000</td><td>207287</td></tr><tr><td>43484122</td><td>207163</td></tr><tr><td>31332300</td><td>206948</td></tr><tr><td>70722300</td><td>205543</td></tr><tr><td>50515000</td><td>205159</td></tr><tr><td>20236115</td><td>204229</td></tr><tr><td>50512000</td><td>203386</td></tr><tr><td>31337000</td><td>203115</td></tr><tr><td>20237300</td><td>202170</td></tr><tr><td>55523930</td><td>198865</td></tr><tr><td>31337000</td><td>198838</td></tr><tr><td>60561330</td><td>198114</td></tr><tr><td>80812110</td><td>198029</td></tr><tr><td>60541810</td><td>197842</td></tr><tr><td>80811111</td><td>196221</td></tr><tr><td>80811111</td><td>195396</td></tr><tr><td>65621900</td><td>195218</td></tr><tr><td>20238310</td><td>195147</td></tr><tr><td>65621900</td><td>194585</td></tr><tr><td>65624190</td><td>194363</td></tr><tr><td>42451000</td><td>194349</td></tr><tr><td>42451000</td><td>192560</td></tr><tr><td>65624190</td><td>192351</td></tr><tr><td>55523930</td><td>192094</td></tr><tr><td>60541613</td><td>191302</td></tr><tr><td>60561330</td><td>191292</td></tr><tr><td>20236115</td><td>190324</td></tr><tr><td>60541810</td><td>190071</td></tr><tr><td>50512000</td><td>189933</td></tr><tr><td>41424410</td><td>189836</td></tr><tr><td>70722300</td><td>189268</td></tr><tr><td>31334400</td><td>188316</td></tr><tr><td>31334400</td><td>188086</td></tr><tr><td>80812110</td><td>187988</td></tr><tr><td>41424410</td><td>186787</td></tr><tr><td>41423700</td><td>186141</td></tr><tr><td>31336411</td><td>185333</td></tr><tr><td>41423700</td><td>185307</td></tr><tr><td>20238110</td><td>184987</td></tr><tr><td>31332710</td><td>183361</td></tr><tr><td>80811120</td><td>183248</td></tr><tr><td>31332710</td><td>182748</td></tr><tr><td>10213112</td><td>182423</td></tr><tr><td>20236118</td><td>182278</td></tr><tr><td>31336411</td><td>182229</td></tr><tr><td>60541613</td><td>182042</td></tr><tr><td>80811120</td><td>182018</td></tr><tr><td>10213112</td><td>180612</td></tr><tr><td>43484110</td><td>179293</td></tr><tr><td>41424900</td><td>179141</td></tr><tr><td>41423450</td><td>177816</td></tr><tr><td>42441310</td><td>177235</td></tr><tr><td>60541940</td><td>177035</td></tr><tr><td>60541940</td><td>176858</td></tr><tr><td>55531110</td><td>175663</td></tr><tr><td>42441310</td><td>175575</td></tr><tr><td>55531110</td><td>175180</td></tr><tr><td>60541711</td><td>174547</td></tr><tr><td>60541310</td><td>174045</td></tr><tr><td>43484220</td><td>173736</td></tr><tr><td>41423900</td><td>173278</td></tr><tr><td>41423450</td><td>172433</td></tr><tr><td>20238990</td><td>172241</td></tr><tr><td>60541711</td><td>171465</td></tr><tr><td>42451100</td><td>171322</td></tr><tr><td>60541310</td><td>171178</td></tr><tr><td>10212000</td><td>171094</td></tr><tr><td>41423900</td><td>170675</td></tr><tr><td>42451100</td><td>170574</td></tr><tr><td>31332900</td><td>170270</td></tr><tr><td>43484110</td><td>170166</td></tr><tr><td>31332900</td><td>169629</td></tr><tr><td>60561900</td><td>169153</td></tr><tr><td>41424900</td><td>168889</td></tr><tr><td>20237130</td><td>168379</td></tr><tr><td>20236118</td><td>167862</td></tr><tr><td>55531200</td><td>165883</td></tr><tr><td>10212000</td><td>165871</td></tr><tr><td>55531200</td><td>165834</td></tr><tr><td>32326190</td><td>165225</td></tr><tr><td>32322200</td><td>164904</td></tr><tr><td>60541990</td><td>164820</td></tr><tr><td>60561900</td><td>164625</td></tr><tr><td>42454112</td><td>164120</td></tr><tr><td>31339100</td><td>163933</td></tr><tr><td>32322200</td><td>163749</td></tr><tr><td>55524292</td><td>162870</td></tr><tr><td>32326190</td><td>162636</td></tr><tr><td>41423300</td><td>162442</td></tr><tr><td>31339100</td><td>162256</td></tr><tr><td>42454112</td><td>161867</td></tr><tr><td>55522190</td><td>160959</td></tr><tr><td>65623210</td><td>160550</td></tr><tr><td>32325400</td><td>160223</td></tr><tr><td>60541990</td><td>159939</td></tr><tr><td>43484220</td><td>159056</td></tr><tr><td>55522190</td><td>158344</td></tr><tr><td>32325400</td><td>157960</td></tr><tr><td>41424200</td><td>157885</td></tr><tr><td>70722310</td><td>157752</td></tr><tr><td>41423300</td><td>157651</td></tr><tr><td>65621511</td><td>156922</td></tr><tr><td>65621511</td><td>156866</td></tr><tr><td>65623210</td><td>156804</td></tr><tr><td>55524292</td><td>156594</td></tr><tr><td>70722515</td><td>155273</td></tr><tr><td>65623312</td><td>154420</td></tr><tr><td>41424200</td><td>152985</td></tr><tr><td>20237110</td><td>151850</td></tr><tr><td>65623312</td><td>151535</td></tr><tr><td>20237120</td><td>150758</td></tr><tr><td>20238110</td><td>150059</td></tr><tr><td>20237130</td><td>148959</td></tr><tr><td>20236210</td><td>148229</td></tr><tr><td>31333900</td><td>147909</td></tr><tr><td>70722310</td><td>147906</td></tr><tr><td>80811300</td><td>147170</td></tr><tr><td>31333900</td><td>146719</td></tr><tr><td>43488500</td><td>145083</td></tr><tr><td>70722515</td><td>144133</td></tr><tr><td>43488500</td><td>143317</td></tr><tr><td>80811300</td><td>142753</td></tr><tr><td>65621498</td><td>140530</td></tr><tr><td>20236210</td><td>140389</td></tr><tr><td>65621498</td><td>140029</td></tr><tr><td>10211000</td><td>139845</td></tr><tr><td>32311800</td><td>137762</td></tr><tr><td>41423690</td><td>137563</td></tr><tr><td>20238320</td><td>136991</td></tr><tr><td>41423690</td><td>136501</td></tr><tr><td>44221112</td><td>136450</td></tr><tr><td>80813200</td><td>135195</td></tr><tr><td>32324000</td><td>134957</td></tr><tr><td>41423610</td><td>132947</td></tr><tr><td>60561500</td><td>132816</td></tr><tr><td>32311800</td><td>132794</td></tr><tr><td>31327300</td><td>132719</td></tr><tr><td>60561500</td><td>132427</td></tr><tr><td>44221112</td><td>132396</td></tr><tr><td>80813200</td><td>132379</td></tr><tr><td>10211000</td><td>132327</td></tr><tr><td>41423610</td><td>131732</td></tr><tr><td>70713940</td><td>131683</td></tr><tr><td>32324000</td><td>131056</td></tr><tr><td>20237110</td><td>130337</td></tr><tr><td>41424800</td><td>130063</td></tr><tr><td>31337100</td><td>128165</td></tr><tr><td>20238290</td><td>127588</td></tr><tr><td>65621420</td><td>127554</td></tr><tr><td>31339900</td><td>126867</td></tr><tr><td>60541214</td><td>126756</td></tr><tr><td>60541214</td><td>126170</td></tr><tr><td>42442100</td><td>126008</td></tr><tr><td>65621420</td><td>125593</td></tr><tr><td>42442100</td><td>125517</td></tr><tr><td>44221200</td><td>125492</td></tr><tr><td>31337100</td><td>125454</td></tr><tr><td>41424800</td><td>125271</td></tr><tr><td>31339900</td><td>124993</td></tr><tr><td>44221200</td><td>124962</td></tr><tr><td>70713940</td><td>123152</td></tr><tr><td>31333500</td><td>123096</td></tr><tr><td>20237120</td><td>122887</td></tr><tr><td>31333500</td><td>122599</td></tr><tr><td>65624300</td><td>122513</td></tr><tr><td>65624300</td><td>122122</td></tr><tr><td>20238290</td><td>122106</td></tr><tr><td>20238160</td><td>121889</td></tr><tr><td>31333100</td><td>121359</td></tr><tr><td>31333100</td><td>121325</td></tr><tr><td>32329000</td><td>121182</td></tr><tr><td>55522320</td><td>121140</td></tr><tr><td>32325100</td><td>120494</td></tr><tr><td>70713910</td><td>119932</td></tr><tr><td>60541380</td><td>119926</td></tr><tr><td>31321900</td><td>119332</td></tr><tr><td>32311615</td><td>118459</td></tr><tr><td>55522320</td><td>118224</td></tr><tr><td>60541380</td><td>118224</td></tr><tr><td>32325100</td><td>117949</td></tr><tr><td>31334413</td><td>117798</td></tr><tr><td>43484230</td><td>117671</td></tr><tr><td>20237900</td><td>117641</td></tr><tr><td>60562100</td><td>117499</td></tr><tr><td>31334413</td><td>117352</td></tr><tr><td>80813300</td><td>116855</td></tr><tr><td>31332320</td><td>116825</td></tr><tr><td>31332990</td><td>116563</td></tr><tr><td>80813300</td><td>116393</td></tr><tr><td>31332990</td><td>116319</td></tr><tr><td>43484230</td><td>116298</td></tr><tr><td>32311615</td><td>115837</td></tr><tr><td>31321900</td><td>115709</td></tr><tr><td>60562100</td><td>114950</td></tr><tr><td>32329000</td><td>114560</td></tr><tr><td>31332320</td><td>113855</td></tr><tr><td>55532400</td><td>113348</td></tr><tr><td>20238320</td><td>112958</td></tr><tr><td>80812300</td><td>112769</td></tr><tr><td>55531312</td><td>112528</td></tr><tr><td>55532400</td><td>112000</td></tr><tr><td>80812300</td><td>111678</td></tr><tr><td>31327300</td><td>110460</td></tr><tr><td>65623220</td><td>109770</td></tr><tr><td>55531312</td><td>109556</td></tr><tr><td>42453900</td><td>108431</td></tr><tr><td>65623220</td><td>108224</td></tr><tr><td>60541400</td><td>108063</td></tr><tr><td>20238140</td><td>107421</td></tr><tr><td>80812900</td><td>107328</td></tr><tr><td>60541400</td><td>106683</td></tr><tr><td>80812900</td><td>105322</td></tr><tr><td>41423120</td><td>103523</td></tr><tr><td>43488100</td><td>103412</td></tr><tr><td>41424600</td><td>103164</td></tr><tr><td>43488100</td><td>103061</td></tr><tr><td>41423120</td><td>102982</td></tr><tr><td>65621910</td><td>102209</td></tr><tr><td>60562900</td><td>101706</td></tr><tr><td>20237900</td><td>101458</td></tr><tr><td>41424600</td><td>101258</td></tr><tr><td>65621493</td><td>101179</td></tr><tr><td>65621910</td><td>101112</td></tr><tr><td>42453900</td><td>100942</td></tr><tr><td>65621493</td><td>100788</td></tr><tr><td>32311400</td><td>99988</td></tr><tr><td>60541614</td><td>99719</td></tr><tr><td>60541614</td><td>99277</td></tr><tr><td>70722400</td><td>98904</td></tr><tr><td>43485400</td><td>97903</td></tr><tr><td>20238160</td><td>97531</td></tr><tr><td>31336390</td><td>96840</td></tr><tr><td>60562900</td><td>96604</td></tr><tr><td>32311500</td><td>96211</td></tr><tr><td>42442200</td><td>96205</td></tr><tr><td>80813930</td><td>96162</td></tr><tr><td>31336390</td><td>96123</td></tr><tr><td>42442200</td><td>95932</td></tr><tr><td>43485400</td><td>95412</td></tr><tr><td>32311500</td><td>95254</td></tr><tr><td>70722400</td><td>94998</td></tr><tr><td>42451110</td><td>94955</td></tr><tr><td>60561990</td><td>94725</td></tr><tr><td>60561200</td><td>94655</td></tr><tr><td>50511110</td><td>94596</td></tr><tr><td>32311400</td><td>94550</td></tr><tr><td>31332310</td><td>94376</td></tr><tr><td>60561620</td><td>94209</td></tr><tr><td>60561200</td><td>93980</td></tr><tr><td>50511110</td><td>93871</td></tr><tr><td>42451110</td><td>93685</td></tr><tr><td>60561620</td><td>93576</td></tr><tr><td>65621990</td><td>93526</td></tr><tr><td>80813930</td><td>93343</td></tr><tr><td>32322100</td><td>93285</td></tr><tr><td>60562200</td><td>93257</td></tr><tr><td>65621990</td><td>93248</td></tr><tr><td>60562200</td><td>93247</td></tr><tr><td>32322100</td><td>93147</td></tr><tr><td>41424300</td><td>92971</td></tr><tr><td>31332310</td><td>92966</td></tr><tr><td>80813319</td><td>92944</td></tr><tr><td>80813319</td><td>92902</td></tr><tr><td>80813400</td><td>92807</td></tr><tr><td>41424300</td><td>92446</td></tr><tr><td>41423490</td><td>91557</td></tr><tr><td>60561990</td><td>91499</td></tr><tr><td>42448140</td><td>90149</td></tr><tr><td>32322210</td><td>90001</td></tr><tr><td>42441320</td><td>89612</td></tr><tr><td>20238140</td><td>89477</td></tr><tr><td>32322210</td><td>89439</td></tr><tr><td>41423490</td><td>89258</td></tr><tr><td>80813400</td><td>89132</td></tr><tr><td>80813211</td><td>88340</td></tr><tr><td>31336200</td><td>88156</td></tr><tr><td>41423500</td><td>88013</td></tr><tr><td>41423500</td><td>87584</td></tr><tr><td>42441320</td><td>86992</td></tr><tr><td>31336200</td><td>85617</td></tr><tr><td>80813211</td><td>85559</td></tr><tr><td>80813910</td><td>85401</td></tr><tr><td>65624110</td><td>85339</td></tr><tr><td>20238120</td><td>85182</td></tr><tr><td>20238350</td><td>84966</td></tr><tr><td>42448140</td><td>84914</td></tr><tr><td>43488300</td><td>84818</td></tr><tr><td>65624110</td><td>84668</td></tr><tr><td>43488300</td><td>84159</td></tr><tr><td>70713910</td><td>83770</td></tr><tr><td>42441120</td><td>83023</td></tr><tr><td>80813910</td><td>82870</td></tr><tr><td>42441120</td><td>82356</td></tr><tr><td>65621390</td><td>82071</td></tr><tr><td>65621390</td><td>81887</td></tr><tr><td>55531120</td><td>81524</td></tr><tr><td>41423310</td><td>80446</td></tr><tr><td>55531120</td><td>80411</td></tr><tr><td>50511120</td><td>80309</td></tr><tr><td>41424100</td><td>79707</td></tr><tr><td>41423110</td><td>79583</td></tr><tr><td>41423310</td><td>79406</td></tr><tr><td>41424700</td><td>79400</td></tr><tr><td>41424100</td><td>79264</td></tr><tr><td>80811190</td><td>79203</td></tr><tr><td>50511120</td><td>79181</td></tr><tr><td>20238350</td><td>79152</td></tr><tr><td>41423110</td><td>79140</td></tr><tr><td>42453200</td><td>78836</td></tr><tr><td>42441200</td><td>78617</td></tr><tr><td>20238120</td><td>78376</td></tr><tr><td>41424700</td><td>78328</td></tr><tr><td>41423420</td><td>78059</td></tr><tr><td>32326200</td><td>77923</td></tr><tr><td>32326200</td><td>77649</td></tr><tr><td>42453200</td><td>77534</td></tr><tr><td>31332800</td><td>77435</td></tr><tr><td>31335900</td><td>77181</td></tr><tr><td>41423810</td><td>76749</td></tr><tr><td>31335900</td><td>76438</td></tr><tr><td>41423420</td><td>76434</td></tr><tr><td>31332800</td><td>76134</td></tr><tr><td>65624200</td><td>75982</td></tr><tr><td>41423810</td><td>75488</td></tr><tr><td>31336350</td><td>74920</td></tr><tr><td>31336350</td><td>74701</td></tr><tr><td>31331500</td><td>74678</td></tr><tr><td>31333400</td><td>74531</td></tr><tr><td>31335300</td><td>74205</td></tr><tr><td>65624200</td><td>74115</td></tr><tr><td>65623900</td><td>74098</td></tr><tr><td>31331500</td><td>74074</td></tr><tr><td>31335300</td><td>74032</td></tr><tr><td>80811190</td><td>73976</td></tr><tr><td>60561440</td><td>73223</td></tr><tr><td>65623900</td><td>73191</td></tr><tr><td>60561440</td><td>72782</td></tr><tr><td>41423720</td><td>72712</td></tr><tr><td>70711200</td><td>72677</td></tr><tr><td>31333400</td><td>72651</td></tr><tr><td>60551112</td><td>72512</td></tr><tr><td>42444200</td><td>72228</td></tr><tr><td>60541910</td><td>72084</td></tr><tr><td>41423720</td><td>71977</td></tr><tr><td>41423200</td><td>71912</td></tr><tr><td>41423200</td><td>71722</td></tr><tr><td>43486000</td><td>71548</td></tr><tr><td>31327320</td><td>71460</td></tr><tr><td>80813990</td><td>71268</td></tr><tr><td>55522120</td><td>71041</td></tr><tr><td>43486000</td><td>70774</td></tr><tr><td>42454113</td><td>70497</td></tr><tr><td>60551112</td><td>70076</td></tr><tr><td>55522120</td><td>70026</td></tr><tr><td>42454113</td><td>69715</td></tr><tr><td>42441200</td><td>69050</td></tr><tr><td>41423820</td><td>68831</td></tr><tr><td>60541910</td><td>68826</td></tr><tr><td>31332100</td><td>68458</td></tr><tr><td>31332100</td><td>68455</td></tr><tr><td>80813990</td><td>68358</td></tr><tr><td>60561710</td><td>68357</td></tr><tr><td>70711100</td><td>68326</td></tr><tr><td>60541370</td><td>67812</td></tr><tr><td>80811200</td><td>67507</td></tr><tr><td>32325200</td><td>67392</td></tr><tr><td>41424910</td><td>67237</td></tr><tr><td>32325200</td><td>67184</td></tr><tr><td>80811200</td><td>67151</td></tr><tr><td>31339990</td><td>66389</td></tr><tr><td>31339990</td><td>66040</td></tr><tr><td>31336370</td><td>65958</td></tr><tr><td>55532410</td><td>65947</td></tr><tr><td>55532410</td><td>65643</td></tr><tr><td>41423820</td><td>65585</td></tr><tr><td>42445200</td><td>65409</td></tr><tr><td>60541370</td><td>64918</td></tr><tr><td>31337110</td><td>64737</td></tr><tr><td>31337120</td><td>64413</td></tr><tr><td>31336370</td><td>64134</td></tr><tr><td>31333200</td><td>63359</td></tr><tr><td>70711200</td><td>63326</td></tr><tr><td>31337120</td><td>63211</td></tr><tr><td>80812200</td><td>63203</td></tr><tr><td>31332400</td><td>63119</td></tr><tr><td>80813920</td><td>63114</td></tr><tr><td>31333200</td><td>63107</td></tr><tr><td>31332400</td><td>62964</td></tr><tr><td>70711100</td><td>62849</td></tr><tr><td>60561710</td><td>62801</td></tr><tr><td>80812200</td><td>62413</td></tr><tr><td>42445200</td><td>62273</td></tr><tr><td>31332322</td><td>62178</td></tr><tr><td>31337110</td><td>62163</td></tr><tr><td>31327390</td><td>62065</td></tr><tr><td>41424910</td><td>61663</td></tr><tr><td>31332322</td><td>61623</td></tr><tr><td>80812330</td><td>61555</td></tr><tr><td>80813920</td><td>61397</td></tr><tr><td>80812330</td><td>61386</td></tr><tr><td>70711300</td><td>60961</td></tr><tr><td>50515110</td><td>60751</td></tr><tr><td>10212100</td><td>60667</td></tr><tr><td>50515110</td><td>60605</td></tr><tr><td>41423840</td><td>60299</td></tr><tr><td>70713200</td><td>60138</td></tr><tr><td>42448200</td><td>60070</td></tr><tr><td>31333300</td><td>60064</td></tr><tr><td>31333300</td><td>59905</td></tr><tr><td>42448200</td><td>59660</td></tr><tr><td>10212100</td><td>59656</td></tr><tr><td>41423840</td><td>59604</td></tr><tr><td>70713200</td><td>59338</td></tr><tr><td>42448120</td><td>59240</td></tr><tr><td>65621320</td><td>59202</td></tr><tr><td>70711300</td><td>58751</td></tr><tr><td>41424480</td><td>58489</td></tr><tr><td>70712000</td><td>58405</td></tr><tr><td>41424480</td><td>58345</td></tr><tr><td>41423740</td><td>58252</td></tr><tr><td>41423740</td><td>58234</td></tr><tr><td>42444200</td><td>57987</td></tr><tr><td>31321100</td><td>57857</td></tr><tr><td>41423930</td><td>57797</td></tr><tr><td>31321100</td><td>57110</td></tr><tr><td>41423930</td><td>57055</td></tr><tr><td>65621320</td><td>56865</td></tr><tr><td>32313000</td><td>56048</td></tr><tr><td>42448120</td><td>55965</td></tr><tr><td>42448300</td><td>55857</td></tr><tr><td>31327390</td><td>55761</td></tr><tr><td>65621512</td><td>55311</td></tr><tr><td>32313000</td><td>55291</td></tr><tr><td>32322211</td><td>55252</td></tr><tr><td>41423710</td><td>55054</td></tr><tr><td>60541190</td><td>54883</td></tr><tr><td>31332312</td><td>54850</td></tr><tr><td>31336310</td><td>54850</td></tr><tr><td>60541890</td><td>54838</td></tr><tr><td>31327320</td><td>54810</td></tr><tr><td>31336310</td><td>54753</td></tr><tr><td>32322211</td><td>54492</td></tr><tr><td>31333600</td><td>54436</td></tr><tr><td>65621512</td><td>54408</td></tr><tr><td>41423710</td><td>54365</td></tr><tr><td>32326110</td><td>54211</td></tr><tr><td>60541190</td><td>54199</td></tr><tr><td>42448300</td><td>54140</td></tr><tr><td>70712000</td><td>53890</td></tr><tr><td>42453300</td><td>53794</td></tr><tr><td>31333600</td><td>53790</td></tr><tr><td>31321910</td><td>53782</td></tr><tr><td>70722330</td><td>53670</td></tr><tr><td>60541890</td><td>53664</td></tr><tr><td>31332312</td><td>53395</td></tr><tr><td>32326110</td><td>53390</td></tr><tr><td>43488400</td><td>53268</td></tr><tr><td>42442290</td><td>53226</td></tr><tr><td>31332910</td><td>53117</td></tr><tr><td>80812190</td><td>53114</td></tr><tr><td>42453300</td><td>53063</td></tr><tr><td>31332910</td><td>53003</td></tr><tr><td>31321910</td><td>52592</td></tr><tr><td>42442290</td><td>52494</td></tr><tr><td>43488400</td><td>52446</td></tr><tr><td>80812190</td><td>52327</td></tr><tr><td>60561510</td><td>52187</td></tr><tr><td>60561510</td><td>51070</td></tr><tr><td>32311410</td><td>50935</td></tr><tr><td>60541430</td><td>50776</td></tr><tr><td>32311410</td><td>50577</td></tr><tr><td>42444130</td><td>50385</td></tr><tr><td>60541430</td><td>50247</td></tr><tr><td>42451120</td><td>50161</td></tr><tr><td>32311420</td><td>50125</td></tr><tr><td>42451120</td><td>49296</td></tr><tr><td>42444130</td><td>48986</td></tr><tr><td>55532490</td><td>48693</td></tr><tr><td>60541820</td><td>48609</td></tr><tr><td>80812930</td><td>48432</td></tr><tr><td>65621310</td><td>48185</td></tr><tr><td>55522291</td><td>47850</td></tr><tr><td>65621310</td><td>47845</td></tr><tr><td>55522291</td><td>47730</td></tr><tr><td>32314000</td><td>47716</td></tr><tr><td>31339113</td><td>47596</td></tr><tr><td>80812930</td><td>47559</td></tr><tr><td>31339113</td><td>47541</td></tr><tr><td>42446120</td><td>47497</td></tr><tr><td>31321200</td><td>47462</td></tr><tr><td>32315000</td><td>47135</td></tr><tr><td>42446120</td><td>47107</td></tr><tr><td>32315000</td><td>47057</td></tr><tr><td>20238130</td><td>46986</td></tr><tr><td>60541820</td><td>46879</td></tr><tr><td>20238330</td><td>46604</td></tr><tr><td>31332720</td><td>46490</td></tr><tr><td>32314000</td><td>46476</td></tr><tr><td>31332720</td><td>46384</td></tr><tr><td>31333514</td><td>46358</td></tr><tr><td>20238390</td><td>46298</td></tr><tr><td>32325600</td><td>46192</td></tr><tr><td>31333514</td><td>46162</td></tr><tr><td>55532490</td><td>46109</td></tr><tr><td>31321200</td><td>45868</td></tr><tr><td>42453210</td><td>45506</td></tr><tr><td>32325600</td><td>45326</td></tr><tr><td>80811192</td><td>44884</td></tr><tr><td>43485900</td><td>44450</td></tr><tr><td>43484210</td><td>44313</td></tr><tr><td>42453210</td><td>44223</td></tr><tr><td>20238150</td><td>43947</td></tr><tr><td>32311420</td><td>43892</td></tr><tr><td>42445120</td><td>43878</td></tr><tr><td>20238150</td><td>43606</td></tr><tr><td>42442210</td><td>43527</td></tr><tr><td>31334419</td><td>43523</td></tr><tr><td>43485900</td><td>43462</td></tr><tr><td>31334419</td><td>43445</td></tr><tr><td>41423390</td><td>43363</td></tr><tr><td>41423390</td><td>43347</td></tr><tr><td>20238340</td><td>43083</td></tr><tr><td>31332812</td><td>42968</td></tr><tr><td>42442210</td><td>42924</td></tr><tr><td>42445120</td><td>42598</td></tr><tr><td>80811219</td><td>42187</td></tr><tr><td>31332812</td><td>41985</td></tr><tr><td>60561920</td><td>41922</td></tr><tr><td>80811219</td><td>41790</td></tr><tr><td>41424500</td><td>41567</td></tr><tr><td>44221300</td><td>41432</td></tr><tr><td>20238390</td><td>41225</td></tr><tr><td>70722330</td><td>41212</td></tr><tr><td>80812320</td><td>41207</td></tr><tr><td>20238130</td><td>40978</td></tr><tr><td>42445300</td><td>40708</td></tr><tr><td>60541720</td><td>40597</td></tr><tr><td>42446190</td><td>40570</td></tr><tr><td>20238340</td><td>40538</td></tr><tr><td>80811192</td><td>40511</td></tr><tr><td>42446190</td><td>40503</td></tr><tr><td>44221300</td><td>40442</td></tr><tr><td>60561920</td><td>40428</td></tr><tr><td>42445300</td><td>40384</td></tr><tr><td>20238330</td><td>40281</td></tr><tr><td>60541720</td><td>39980</td></tr><tr><td>80812320</td><td>39925</td></tr><tr><td>43484210</td><td>39863</td></tr><tr><td>60561790</td><td>39644</td></tr><tr><td>43488900</td><td>39601</td></tr><tr><td>42453910</td><td>39571</td></tr><tr><td>43488900</td><td>39119</td></tr><tr><td>32311300</td><td>38865</td></tr><tr><td>65621330</td><td>38858</td></tr><tr><td>65621330</td><td>38586</td></tr><tr><td>50517911</td><td>38497</td></tr><tr><td>42447190</td><td>38489</td></tr><tr><td>32311300</td><td>38342</td></tr><tr><td>41424500</td><td>38307</td></tr><tr><td>42447190</td><td>38029</td></tr><tr><td>41423320</td><td>37990</td></tr><tr><td>50517911</td><td>37814</td></tr><tr><td>42453910</td><td>37641</td></tr><tr><td>60561430</td><td>36462</td></tr><tr><td>60561430</td><td>36056</td></tr><tr><td>70712110</td><td>35682</td></tr><tr><td>42453220</td><td>35331</td></tr><tr><td>60561790</td><td>35252</td></tr><tr><td>10113300</td><td>35154</td></tr><tr><td>55524130</td><td>35107</td></tr><tr><td>43488110</td><td>35098</td></tr><tr><td>43488110</td><td>35097</td></tr><tr><td>41423320</td><td>35070</td></tr><tr><td>70712110</td><td>34710</td></tr><tr><td>31334200</td><td>34623</td></tr><tr><td>31332813</td><td>34594</td></tr><tr><td>32326150</td><td>34445</td></tr><tr><td>31334200</td><td>34417</td></tr><tr><td>32326150</td><td>34222</td></tr><tr><td>31332813</td><td>34105</td></tr><tr><td>60541191</td><td>33778</td></tr><tr><td>60541191</td><td>33694</td></tr><tr><td>55524130</td><td>33519</td></tr><tr><td>80811198</td><td>33451</td></tr><tr><td>42446130</td><td>33385</td></tr><tr><td>42446130</td><td>33198</td></tr><tr><td>80811198</td><td>33115</td></tr><tr><td>31337121</td><td>33068</td></tr><tr><td>80811400</td><td>33039</td></tr><tr><td>31337121</td><td>33028</td></tr><tr><td>31339950</td><td>32986</td></tr><tr><td>60561910</td><td>32871</td></tr><tr><td>60561910</td><td>32790</td></tr><tr><td>80812910</td><td>32767</td></tr><tr><td>31321990</td><td>32711</td></tr><tr><td>10113300</td><td>32658</td></tr><tr><td>10212310</td><td>32512</td></tr><tr><td>32322220</td><td>32487</td></tr><tr><td>32322220</td><td>32467</td></tr><tr><td>31321920</td><td>32406</td></tr><tr><td>31321920</td><td>32295</td></tr><tr><td>42453220</td><td>32171</td></tr><tr><td>41423910</td><td>31768</td></tr><tr><td>31339950</td><td>31389</td></tr><tr><td>80811400</td><td>31373</td></tr><tr><td>41423910</td><td>31371</td></tr><tr><td>20238190</td><td>31271</td></tr><tr><td>80812910</td><td>31004</td></tr><tr><td>20238190</td><td>30821</td></tr><tr><td>31321990</td><td>30777</td></tr><tr><td>31333111</td><td>29362</td></tr><tr><td>70711500</td><td>29306</td></tr><tr><td>65621112</td><td>29089</td></tr><tr><td>31333111</td><td>28965</td></tr><tr><td>70722514</td><td>28765</td></tr><tr><td>65621112</td><td>28539</td></tr><tr><td>70722514</td><td>27827</td></tr><tr><td>70711500</td><td>27777</td></tr><tr><td>31321918</td><td>27743</td></tr><tr><td>31321918</td><td>27143</td></tr><tr><td>31321911</td><td>26937</td></tr><tr><td>10212310</td><td>26187</td></tr><tr><td>60541320</td><td>26007</td></tr><tr><td>31321911</td><td>25492</td></tr><tr><td>42443141</td><td>25474</td></tr><tr><td>80811212</td><td>25289</td></tr><tr><td>42443141</td><td>25221</td></tr><tr><td>80811212</td><td>24901</td></tr><tr><td>42451200</td><td>24083</td></tr><tr><td>80813311</td><td>23871</td></tr><tr><td>80813311</td><td>23839</td></tr><tr><td>60541320</td><td>23066</td></tr><tr><td>42445220</td><td>22978</td></tr><tr><td>42445220</td><td>22834</td></tr><tr><td>42451200</td><td>22603</td></tr><tr><td>41425110</td><td>22550</td></tr><tr><td>60541920</td><td>22545</td></tr><tr><td>70712190</td><td>22276</td></tr><tr><td>41425110</td><td>21901</td></tr><tr><td>31339116</td><td>21848</td></tr><tr><td>41424930</td><td>21665</td></tr><tr><td>60541920</td><td>21611</td></tr><tr><td>31339116</td><td>21393</td></tr><tr><td>70713920</td><td>19641</td></tr><tr><td>70721200</td><td>19300</td></tr><tr><td>55532291</td><td>19219</td></tr><tr><td>55532300</td><td>19211</td></tr><tr><td>70712190</td><td>19211</td></tr><tr><td>55532291</td><td>18941</td></tr><tr><td>20238170</td><td>18613</td></tr><tr><td>60561740</td><td>18321</td></tr><tr><td>41424930</td><td>18120</td></tr><tr><td>10212312</td><td>16676</td></tr><tr><td>55532300</td><td>16388</td></tr><tr><td>60561740</td><td>16302</td></tr><tr><td>42453100</td><td>16218</td></tr><tr><td>20238170</td><td>15509</td></tr><tr><td>20237200</td><td>15446</td></tr><tr><td>10212319</td><td>15373</td></tr><tr><td>20237200</td><td>15362</td></tr><tr><td>70713950</td><td>14549</td></tr><tr><td>70713930</td><td>14400</td></tr><tr><td>32311700</td><td>14293</td></tr><tr><td>42453100</td><td>14152</td></tr><tr><td>70713950</td><td>13526</td></tr><tr><td>10212312</td><td>13472</td></tr><tr><td>10212319</td><td>12674</td></tr><tr><td>42448150</td><td>12324</td></tr><tr><td>42448150</td><td>12034</td></tr><tr><td>32311700</td><td>11908</td></tr><tr><td>70721200</td><td>11598</td></tr><tr><td>70713930</td><td>11560</td></tr><tr><td>70713920</td><td>10564</td></tr><tr><td>80812310</td><td>10145</td></tr><tr><td>80812310</td><td>10079</td></tr></table>"
                    },
                    "metadata": {}
                }
            ],
            "execution_count": 19
        },
        {
            "cell_type": "code",
            "source": [
                "SELECT TOP 1 industry_code, industry_name\n",
                "FROM LaborStatisticsDB.dbo.industry\n",
                "WHERE industry_code = 05000000"
            ],
            "metadata": {
                "language": "sql",
                "azdata_cell_guid": "7a4cb6ad-b190-4f28-8cb6-3cc614020a5b"
            },
            "outputs": [
                {
                    "output_type": "display_data",
                    "data": {
                        "text/html": "(1 row affected)"
                    },
                    "metadata": {}
                },
                {
                    "output_type": "display_data",
                    "data": {
                        "text/html": "Total execution time: 00:00:00.096"
                    },
                    "metadata": {}
                },
                {
                    "output_type": "execute_result",
                    "execution_count": 20,
                    "data": {
                        "application/vnd.dataresource+json": {
                            "schema": {
                                "fields": [
                                    {
                                        "name": "industry_code"
                                    },
                                    {
                                        "name": "industry_name"
                                    }
                                ]
                            },
                            "data": [
                                {
                                    "industry_code": "5000000",
                                    "industry_name": "Total private"
                                }
                            ]
                        },
                        "text/html": "<table><tr><th>industry_code</th><th>industry_name</th></tr><tr><td>5000000</td><td>Total private</td></tr></table>"
                    },
                    "metadata": {}
                }
            ],
            "execution_count": 20
        },
        {
            "cell_type": "code",
            "source": [
                "SELECT TOP 1 industry_code, industry_name\n",
                "FROM LaborStatisticsDB.dbo.industry\n",
                "WHERE industry_code = 80812310"
            ],
            "metadata": {
                "language": "sql",
                "azdata_cell_guid": "eb24b471-f36a-4392-b952-6734f27688d8"
            },
            "outputs": [
                {
                    "output_type": "display_data",
                    "data": {
                        "text/html": "(1 row affected)"
                    },
                    "metadata": {}
                },
                {
                    "output_type": "display_data",
                    "data": {
                        "text/html": "Total execution time: 00:00:00.100"
                    },
                    "metadata": {}
                },
                {
                    "output_type": "execute_result",
                    "execution_count": 21,
                    "data": {
                        "application/vnd.dataresource+json": {
                            "schema": {
                                "fields": [
                                    {
                                        "name": "industry_code"
                                    },
                                    {
                                        "name": "industry_name"
                                    }
                                ]
                            },
                            "data": [
                                {
                                    "industry_code": "80812310",
                                    "industry_name": "Coin-operated laundries and drycleaners"
                                }
                            ]
                        },
                        "text/html": "<table><tr><th>industry_code</th><th>industry_name</th></tr><tr><td>80812310</td><td>Coin-operated laundries and drycleaners</td></tr></table>"
                    },
                    "metadata": {}
                }
            ],
            "execution_count": 21
        },
        {
            "cell_type": "markdown",
            "source": [
                "## <span style=\"font-size: 12pt; font-family: Montserrat, sans-serif; color: rgb(53, 74, 95); background-color: rgb(255, 255, 255); font-weight: 700; font-variant-numeric: normal; font-variant-east-asian: normal; vertical-align: baseline; white-space: pre-wrap;\">Subqueries, Unions, Derived Tables, Oh My!</span>\n",
                "\n",
                "1. <span style=\"background-color: rgb(255, 255, 255); font-size: 10pt; white-space: pre-wrap; color: rgb(102, 102, 102); font-family: Arvo, serif;\">Write a query that returns the series_id, industry_code, industry_name, and value from the january_2017 table but only if that value is greater than the average value for annual_2016 of data_type_code 82.</span>"
            ],
            "metadata": {
                "azdata_cell_guid": "e98ec195-5399-4718-83ef-54fb954662a5"
            },
            "attachments": {}
        },
        {
            "cell_type": "code",
            "source": [
                "-- Another option with union I decided not to use but wanted to save:\n",
                "--SELECT id, a.series_id, a.value\n",
                "-- FROM  LaborStatisticsDB.dbo.annual_2016 AS a\n",
                "-- GROUP BY id, a.series_id, a.value\n",
                "-- HAVING value > AVG(value)\n",
                "-- UNION \n",
                "-- SELECT id, i.industry_code, i.industry_name\n",
                "-- FROM LaborStatisticsDB.dbo.industry AS i\n",
                "-- WHERE id IN (SELECT id FROM LaborStatisticsDB.dbo.datatype WHERE data_type_code = 82)\n",
                "\n",
                "-- Another option with  I decided not to use but wanted to save:\n",
                "\n",
                "-- SELECT j.series_id, j.value, i.industry_code, i.industry_name \n",
                "-- FROM  LaborStatisticsDB.dbo.january_2017 AS j\n",
                "-- LEFT JOIN LaborStatisticsDB.dbo.industry AS i\n",
                "-- ON j.id = i.id\n",
                "-- WHERE j.value > \n",
                "--     (SELECT AVG(value) FROM LaborStatisticsDB.dbo.annual_2016 WHERE series_id IN \n",
                "--         (SELECT series_id FROM LaborStatisticsDB.dbo.series WHERE data_type_code IN \n",
                "--             (SELECT data_type_code FROM LaborStatisticsDB.dbo.datatype WHERE data_type_code = 82)))\n",
                "\n",
                "--Best option:\n",
                "SELECT j.series_id,i.industry_code,i.industry_name, j.value\n",
                "FROM LaborStatisticsDB.dbo.january_2017 AS j\n",
                "INNER JOIN LaborStatisticsDB.dbo.series AS s\n",
                "ON j.series_id = s.series_id\n",
                "INNER join LaborStatisticsDB.dbo.industry i\n",
                "ON s.industry_code = i.industry_code\n",
                "WHERE  j.value > (select avg(a.value) FROM  LaborStatisticsDB.dbo.annual_2016 a\n",
                "                  INNER JOIN LaborStatisticsDB.dbo.series AS sa\n",
                "                  ON  a.series_id = sa.series_id\n",
                "                  WHERE sa.data_type_code = 82);\n",
                ""
            ],
            "metadata": {
                "azdata_cell_guid": "7c85f70b-528f-4cbd-bd8e-a6efab1c18df",
                "language": "sql",
                "tags": []
            },
            "outputs": [
                {
                    "output_type": "display_data",
                    "data": {
                        "text/html": "(754 rows affected)"
                    },
                    "metadata": {}
                },
                {
                    "output_type": "display_data",
                    "data": {
                        "text/html": "Total execution time: 00:00:00.290"
                    },
                    "metadata": {}
                },
                {
                    "output_type": "execute_result",
                    "execution_count": 22,
                    "data": {
                        "application/vnd.dataresource+json": {
                            "schema": {
                                "fields": [
                                    {
                                        "name": "series_id"
                                    },
                                    {
                                        "name": "industry_code"
                                    },
                                    {
                                        "name": "industry_name"
                                    },
                                    {
                                        "name": "value"
                                    }
                                ]
                            },
                            "data": [
                                {
                                    "series_id": "CES0500000056",
                                    "industry_code": "5000000",
                                    "industry_name": "Total private",
                                    "value": "4239112"
                                },
                                {
                                    "series_id": "CES0500000056",
                                    "industry_code": "5000000",
                                    "industry_name": "Total private",
                                    "value": "4239112"
                                },
                                {
                                    "series_id": "CES0500000057",
                                    "industry_code": "5000000",
                                    "industry_name": "Total private",
                                    "value": "110301694"
                                },
                                {
                                    "series_id": "CES0500000057",
                                    "industry_code": "5000000",
                                    "industry_name": "Total private",
                                    "value": "110301694"
                                },
                                {
                                    "series_id": "CES0500000081",
                                    "industry_code": "5000000",
                                    "industry_name": "Total private",
                                    "value": "3412651"
                                },
                                {
                                    "series_id": "CES0500000081",
                                    "industry_code": "5000000",
                                    "industry_name": "Total private",
                                    "value": "3412651"
                                },
                                {
                                    "series_id": "CES0500000082",
                                    "industry_code": "5000000",
                                    "industry_name": "Total private",
                                    "value": "74498171"
                                },
                                {
                                    "series_id": "CES0500000082",
                                    "industry_code": "5000000",
                                    "industry_name": "Total private",
                                    "value": "74498171"
                                },
                                {
                                    "series_id": "CES0600000057",
                                    "industry_code": "6000000",
                                    "industry_name": "Goods-producing",
                                    "value": "21779094"
                                },
                                {
                                    "series_id": "CES0600000057",
                                    "industry_code": "6000000",
                                    "industry_name": "Goods-producing",
                                    "value": "21779094"
                                },
                                {
                                    "series_id": "CES0600000082",
                                    "industry_code": "6000000",
                                    "industry_name": "Goods-producing",
                                    "value": "13426820"
                                },
                                {
                                    "series_id": "CES0600000082",
                                    "industry_code": "6000000",
                                    "industry_name": "Goods-producing",
                                    "value": "13426820"
                                },
                                {
                                    "series_id": "CES0800000056",
                                    "industry_code": "8000000",
                                    "industry_name": "Private service-providing",
                                    "value": "3432382"
                                },
                                {
                                    "series_id": "CES0800000056",
                                    "industry_code": "8000000",
                                    "industry_name": "Private service-providing",
                                    "value": "3432382"
                                },
                                {
                                    "series_id": "CES0800000057",
                                    "industry_code": "8000000",
                                    "industry_name": "Private service-providing",
                                    "value": "88280865"
                                },
                                {
                                    "series_id": "CES0800000057",
                                    "industry_code": "8000000",
                                    "industry_name": "Private service-providing",
                                    "value": "88280865"
                                },
                                {
                                    "series_id": "CES0800000081",
                                    "industry_code": "8000000",
                                    "industry_name": "Private service-providing",
                                    "value": "2818821"
                                },
                                {
                                    "series_id": "CES0800000081",
                                    "industry_code": "8000000",
                                    "industry_name": "Private service-providing",
                                    "value": "2818821"
                                },
                                {
                                    "series_id": "CES0800000082",
                                    "industry_code": "8000000",
                                    "industry_name": "Private service-providing",
                                    "value": "60914722"
                                },
                                {
                                    "series_id": "CES0800000082",
                                    "industry_code": "8000000",
                                    "industry_name": "Private service-providing",
                                    "value": "60914722"
                                },
                                {
                                    "series_id": "CES1000000057",
                                    "industry_code": "10000000",
                                    "industry_name": "Mining and logging",
                                    "value": "966707"
                                },
                                {
                                    "series_id": "CES1000000057",
                                    "industry_code": "10000000",
                                    "industry_name": "Mining and logging",
                                    "value": "966707"
                                },
                                {
                                    "series_id": "CES1021000057",
                                    "industry_code": "10210000",
                                    "industry_name": "Mining",
                                    "value": "927250"
                                },
                                {
                                    "series_id": "CES1021000057",
                                    "industry_code": "10210000",
                                    "industry_name": "Mining",
                                    "value": "927250"
                                },
                                {
                                    "series_id": "CES2000000057",
                                    "industry_code": "20000000",
                                    "industry_name": "Construction",
                                    "value": "7555007"
                                },
                                {
                                    "series_id": "CES2000000057",
                                    "industry_code": "20000000",
                                    "industry_name": "Construction",
                                    "value": "7555007"
                                },
                                {
                                    "series_id": "CES2000000082",
                                    "industry_code": "20000000",
                                    "industry_name": "Construction",
                                    "value": "5335274"
                                },
                                {
                                    "series_id": "CES2000000082",
                                    "industry_code": "20000000",
                                    "industry_name": "Construction",
                                    "value": "5335274"
                                },
                                {
                                    "series_id": "CES2023600057",
                                    "industry_code": "20236000",
                                    "industry_name": "Construction of buildings",
                                    "value": "1765016"
                                },
                                {
                                    "series_id": "CES2023600057",
                                    "industry_code": "20236000",
                                    "industry_name": "Construction of buildings",
                                    "value": "1765016"
                                },
                                {
                                    "series_id": "CES2023600082",
                                    "industry_code": "20236000",
                                    "industry_name": "Construction of buildings",
                                    "value": "1008035"
                                },
                                {
                                    "series_id": "CES2023600082",
                                    "industry_code": "20236000",
                                    "industry_name": "Construction of buildings",
                                    "value": "1008035"
                                },
                                {
                                    "series_id": "CES2023620057",
                                    "industry_code": "20236200",
                                    "industry_name": "Nonresidential building",
                                    "value": "990555"
                                },
                                {
                                    "series_id": "CES2023620057",
                                    "industry_code": "20236200",
                                    "industry_name": "Nonresidential building",
                                    "value": "990555"
                                },
                                {
                                    "series_id": "CES2023700057",
                                    "industry_code": "20237000",
                                    "industry_name": "Heavy and civil engineering construction",
                                    "value": "1221764"
                                },
                                {
                                    "series_id": "CES2023700057",
                                    "industry_code": "20237000",
                                    "industry_name": "Heavy and civil engineering construction",
                                    "value": "1221764"
                                },
                                {
                                    "series_id": "CES2023700082",
                                    "industry_code": "20237000",
                                    "industry_name": "Heavy and civil engineering construction",
                                    "value": "908374"
                                },
                                {
                                    "series_id": "CES2023700082",
                                    "industry_code": "20237000",
                                    "industry_name": "Heavy and civil engineering construction",
                                    "value": "908374"
                                },
                                {
                                    "series_id": "CES2023800057",
                                    "industry_code": "20238000",
                                    "industry_name": "Specialty trade contractors",
                                    "value": "4595075"
                                },
                                {
                                    "series_id": "CES2023800057",
                                    "industry_code": "20238000",
                                    "industry_name": "Specialty trade contractors",
                                    "value": "4595075"
                                },
                                {
                                    "series_id": "CES2023800082",
                                    "industry_code": "20238000",
                                    "industry_name": "Specialty trade contractors",
                                    "value": "3421902"
                                },
                                {
                                    "series_id": "CES2023800082",
                                    "industry_code": "20238000",
                                    "industry_name": "Specialty trade contractors",
                                    "value": "3421902"
                                },
                                {
                                    "series_id": "CES2023810057",
                                    "industry_code": "20238100",
                                    "industry_name": "Building foundation and exterior contractors",
                                    "value": "833625"
                                },
                                {
                                    "series_id": "CES2023810057",
                                    "industry_code": "20238100",
                                    "industry_name": "Building foundation and exterior contractors",
                                    "value": "833625"
                                },
                                {
                                    "series_id": "CES2023820057",
                                    "industry_code": "20238200",
                                    "industry_name": "Building equipment contractors",
                                    "value": "2326342"
                                },
                                {
                                    "series_id": "CES2023820057",
                                    "industry_code": "20238200",
                                    "industry_name": "Building equipment contractors",
                                    "value": "2326342"
                                },
                                {
                                    "series_id": "CES2023820082",
                                    "industry_code": "20238200",
                                    "industry_name": "Building equipment contractors",
                                    "value": "1696080"
                                },
                                {
                                    "series_id": "CES2023820082",
                                    "industry_code": "20238200",
                                    "industry_name": "Building equipment contractors",
                                    "value": "1696080"
                                },
                                {
                                    "series_id": "CES2023821057",
                                    "industry_code": "20238210",
                                    "industry_name": "Electrical contractors",
                                    "value": "1039534"
                                },
                                {
                                    "series_id": "CES2023821057",
                                    "industry_code": "20238210",
                                    "industry_name": "Electrical contractors",
                                    "value": "1039534"
                                },
                                {
                                    "series_id": "CES2023822057",
                                    "industry_code": "20238220",
                                    "industry_name": "Plumbing and HVAC contractors",
                                    "value": "1115270"
                                },
                                {
                                    "series_id": "CES2023822057",
                                    "industry_code": "20238220",
                                    "industry_name": "Plumbing and HVAC contractors",
                                    "value": "1115270"
                                },
                                {
                                    "series_id": "CES3000000057",
                                    "industry_code": "30000000",
                                    "industry_name": "Manufacturing",
                                    "value": "13282613"
                                },
                                {
                                    "series_id": "CES3000000057",
                                    "industry_code": "30000000",
                                    "industry_name": "Manufacturing",
                                    "value": "13282613"
                                },
                                {
                                    "series_id": "CES3000000082",
                                    "industry_code": "30000000",
                                    "industry_name": "Manufacturing",
                                    "value": "7491723"
                                },
                                {
                                    "series_id": "CES3000000082",
                                    "industry_code": "30000000",
                                    "industry_name": "Manufacturing",
                                    "value": "7491723"
                                },
                                {
                                    "series_id": "CES3100000057",
                                    "industry_code": "31000000",
                                    "industry_name": "Durable goods",
                                    "value": "8769944"
                                },
                                {
                                    "series_id": "CES3100000057",
                                    "industry_code": "31000000",
                                    "industry_name": "Durable goods",
                                    "value": "8769944"
                                },
                                {
                                    "series_id": "CES3100000082",
                                    "industry_code": "31000000",
                                    "industry_name": "Durable goods",
                                    "value": "4859716"
                                },
                                {
                                    "series_id": "CES3100000082",
                                    "industry_code": "31000000",
                                    "industry_name": "Durable goods",
                                    "value": "4859716"
                                },
                                {
                                    "series_id": "CES3133200057",
                                    "industry_code": "31332000",
                                    "industry_name": "Fabricated metal products",
                                    "value": "1421283"
                                },
                                {
                                    "series_id": "CES3133200057",
                                    "industry_code": "31332000",
                                    "industry_name": "Fabricated metal products",
                                    "value": "1421283"
                                },
                                {
                                    "series_id": "CES3133200082",
                                    "industry_code": "31332000",
                                    "industry_name": "Fabricated metal products",
                                    "value": "871298"
                                },
                                {
                                    "series_id": "CES3133200082",
                                    "industry_code": "31332000",
                                    "industry_name": "Fabricated metal products",
                                    "value": "871298"
                                },
                                {
                                    "series_id": "CES3133300057",
                                    "industry_code": "31333000",
                                    "industry_name": "Machinery",
                                    "value": "1251217"
                                },
                                {
                                    "series_id": "CES3133300057",
                                    "industry_code": "31333000",
                                    "industry_name": "Machinery",
                                    "value": "1251217"
                                },
                                {
                                    "series_id": "CES3133400057",
                                    "industry_code": "31334000",
                                    "industry_name": "Computer and electronic products",
                                    "value": "1489440"
                                },
                                {
                                    "series_id": "CES3133400057",
                                    "industry_code": "31334000",
                                    "industry_name": "Computer and electronic products",
                                    "value": "1489440"
                                },
                                {
                                    "series_id": "CES3133600057",
                                    "industry_code": "31336000",
                                    "industry_name": "Transportation equipment",
                                    "value": "2130760"
                                },
                                {
                                    "series_id": "CES3133600057",
                                    "industry_code": "31336000",
                                    "industry_name": "Transportation equipment",
                                    "value": "2130760"
                                },
                                {
                                    "series_id": "CES3133600082",
                                    "industry_code": "31336000",
                                    "industry_name": "Transportation equipment",
                                    "value": "1257764"
                                },
                                {
                                    "series_id": "CES3133600082",
                                    "industry_code": "31336000",
                                    "industry_name": "Transportation equipment",
                                    "value": "1257764"
                                },
                                {
                                    "series_id": "CES3133600157",
                                    "industry_code": "31336001",
                                    "industry_name": "NULL",
                                    "value": "1050677"
                                },
                                {
                                    "series_id": "CES3133600157",
                                    "industry_code": "31336001",
                                    "industry_name": "NULL",
                                    "value": "1050677"
                                },
                                {
                                    "series_id": "CES3133640057",
                                    "industry_code": "31336400",
                                    "industry_name": "Aerospace products and parts",
                                    "value": "879785"
                                },
                                {
                                    "series_id": "CES3133640057",
                                    "industry_code": "31336400",
                                    "industry_name": "Aerospace products and parts",
                                    "value": "879785"
                                },
                                {
                                    "series_id": "CES3200000057",
                                    "industry_code": "32000000",
                                    "industry_name": "Nondurable goods",
                                    "value": "4496035"
                                },
                                {
                                    "series_id": "CES3200000057",
                                    "industry_code": "32000000",
                                    "industry_name": "Nondurable goods",
                                    "value": "4496035"
                                },
                                {
                                    "series_id": "CES3200000082",
                                    "industry_code": "32000000",
                                    "industry_name": "Nondurable goods",
                                    "value": "2633628"
                                },
                                {
                                    "series_id": "CES3200000082",
                                    "industry_code": "32000000",
                                    "industry_name": "Nondurable goods",
                                    "value": "2633628"
                                },
                                {
                                    "series_id": "CES3231100057",
                                    "industry_code": "32311000",
                                    "industry_name": "Food manufacturing",
                                    "value": "1293730"
                                },
                                {
                                    "series_id": "CES3231100057",
                                    "industry_code": "32311000",
                                    "industry_name": "Food manufacturing",
                                    "value": "1293730"
                                },
                                {
                                    "series_id": "CES3231100082",
                                    "industry_code": "32311000",
                                    "industry_name": "Food manufacturing",
                                    "value": "851406"
                                },
                                {
                                    "series_id": "CES3231100082",
                                    "industry_code": "32311000",
                                    "industry_name": "Food manufacturing",
                                    "value": "851406"
                                },
                                {
                                    "series_id": "CES3232500057",
                                    "industry_code": "32325000",
                                    "industry_name": "Chemicals",
                                    "value": "1083956"
                                },
                                {
                                    "series_id": "CES3232500057",
                                    "industry_code": "32325000",
                                    "industry_name": "Chemicals",
                                    "value": "1083956"
                                },
                                {
                                    "series_id": "CES4000000056",
                                    "industry_code": "40000000",
                                    "industry_name": "Trade",
                                    "value": "939889"
                                },
                                {
                                    "series_id": "CES4000000056",
                                    "industry_code": "40000000",
                                    "industry_name": "Trade",
                                    "value": "939889"
                                },
                                {
                                    "series_id": "CES4000000057",
                                    "industry_code": "40000000",
                                    "industry_name": "Trade",
                                    "value": "21232093"
                                },
                                {
                                    "series_id": "CES4000000057",
                                    "industry_code": "40000000",
                                    "industry_name": "Trade",
                                    "value": "21232093"
                                },
                                {
                                    "series_id": "CES4000000082",
                                    "industry_code": "40000000",
                                    "industry_name": "Trade",
                                    "value": "14850661"
                                },
                                {
                                    "series_id": "CES4000000082",
                                    "industry_code": "40000000",
                                    "industry_name": "Trade",
                                    "value": "14850661"
                                },
                                {
                                    "series_id": "CES4142000057",
                                    "industry_code": "41420000",
                                    "industry_name": "Wholesale trade",
                                    "value": "6858602"
                                },
                                {
                                    "series_id": "CES4142000057",
                                    "industry_code": "41420000",
                                    "industry_name": "Wholesale trade",
                                    "value": "6858602"
                                },
                                {
                                    "series_id": "CES4142000082",
                                    "industry_code": "41420000",
                                    "industry_name": "Wholesale trade",
                                    "value": "4480134"
                                },
                                {
                                    "series_id": "CES4142000082",
                                    "industry_code": "41420000",
                                    "industry_name": "Wholesale trade",
                                    "value": "4480134"
                                },
                                {
                                    "series_id": "CES4142300057",
                                    "industry_code": "41423000",
                                    "industry_name": "Durable goods",
                                    "value": "3449034"
                                },
                                {
                                    "series_id": "CES4142300057",
                                    "industry_code": "41423000",
                                    "industry_name": "Durable goods",
                                    "value": "3449034"
                                },
                                {
                                    "series_id": "CES4142300082",
                                    "industry_code": "41423000",
                                    "industry_name": "Durable goods",
                                    "value": "2261006"
                                },
                                {
                                    "series_id": "CES4142300082",
                                    "industry_code": "41423000",
                                    "industry_name": "Durable goods",
                                    "value": "2261006"
                                },
                                {
                                    "series_id": "CES4142340057",
                                    "industry_code": "41423400",
                                    "industry_name": "Commercial equipment",
                                    "value": "915034"
                                },
                                {
                                    "series_id": "CES4142340057",
                                    "industry_code": "41423400",
                                    "industry_name": "Commercial equipment",
                                    "value": "915034"
                                },
                                {
                                    "series_id": "CES4142400057",
                                    "industry_code": "41424000",
                                    "industry_name": "Nondurable goods",
                                    "value": "2042100"
                                },
                                {
                                    "series_id": "CES4142400057",
                                    "industry_code": "41424000",
                                    "industry_name": "Nondurable goods",
                                    "value": "2042100"
                                },
                                {
                                    "series_id": "CES4142400082",
                                    "industry_code": "41424000",
                                    "industry_name": "Nondurable goods",
                                    "value": "1367413"
                                },
                                {
                                    "series_id": "CES4142400082",
                                    "industry_code": "41424000",
                                    "industry_name": "Nondurable goods",
                                    "value": "1367413"
                                },
                                {
                                    "series_id": "CES4142500057",
                                    "industry_code": "41425000",
                                    "industry_name": "Electronic markets and agents and brokers",
                                    "value": "1359605"
                                },
                                {
                                    "series_id": "CES4142500057",
                                    "industry_code": "41425000",
                                    "industry_name": "Electronic markets and agents and brokers",
                                    "value": "1359605"
                                },
                                {
                                    "series_id": "CES4142500082",
                                    "industry_code": "41425000",
                                    "industry_name": "Electronic markets and agents and brokers",
                                    "value": "855291"
                                },
                                {
                                    "series_id": "CES4142500082",
                                    "industry_code": "41425000",
                                    "industry_name": "Electronic markets and agents and brokers",
                                    "value": "855291"
                                },
                                {
                                    "series_id": "CES4142512057",
                                    "industry_code": "41425120",
                                    "industry_name": "Wholesale trade agents and brokers",
                                    "value": "1317589"
                                },
                                {
                                    "series_id": "CES4142512057",
                                    "industry_code": "41425120",
                                    "industry_name": "Wholesale trade agents and brokers",
                                    "value": "1317589"
                                },
                                {
                                    "series_id": "CES4142512082",
                                    "industry_code": "41425120",
                                    "industry_name": "Wholesale trade agents and brokers",
                                    "value": "831319"
                                },
                                {
                                    "series_id": "CES4142512082",
                                    "industry_code": "41425120",
                                    "industry_name": "Wholesale trade agents and brokers",
                                    "value": "831319"
                                },
                                {
                                    "series_id": "CES4200000057",
                                    "industry_code": "42000000",
                                    "industry_name": "Retail trade",
                                    "value": "8857570"
                                },
                                {
                                    "series_id": "CES4200000057",
                                    "industry_code": "42000000",
                                    "industry_name": "Retail trade",
                                    "value": "8857570"
                                },
                                {
                                    "series_id": "CES4200000082",
                                    "industry_code": "42000000",
                                    "industry_name": "Retail trade",
                                    "value": "6123554"
                                },
                                {
                                    "series_id": "CES4200000082",
                                    "industry_code": "42000000",
                                    "industry_name": "Retail trade",
                                    "value": "6123554"
                                },
                                {
                                    "series_id": "CES4244100057",
                                    "industry_code": "42441000",
                                    "industry_name": "Motor vehicle and parts dealers",
                                    "value": "1740340"
                                },
                                {
                                    "series_id": "CES4244100057",
                                    "industry_code": "42441000",
                                    "industry_name": "Motor vehicle and parts dealers",
                                    "value": "1740340"
                                },
                                {
                                    "series_id": "CES4244100082",
                                    "industry_code": "42441000",
                                    "industry_name": "Motor vehicle and parts dealers",
                                    "value": "1180297"
                                },
                                {
                                    "series_id": "CES4244100082",
                                    "industry_code": "42441000",
                                    "industry_name": "Motor vehicle and parts dealers",
                                    "value": "1180297"
                                },
                                {
                                    "series_id": "CES4244110057",
                                    "industry_code": "42441100",
                                    "industry_name": "Automobile dealers",
                                    "value": "1232818"
                                },
                                {
                                    "series_id": "CES4244110057",
                                    "industry_code": "42441100",
                                    "industry_name": "Automobile dealers",
                                    "value": "1232818"
                                },
                                {
                                    "series_id": "CES4244110082",
                                    "industry_code": "42441100",
                                    "industry_name": "Automobile dealers",
                                    "value": "839595"
                                },
                                {
                                    "series_id": "CES4244110082",
                                    "industry_code": "42441100",
                                    "industry_name": "Automobile dealers",
                                    "value": "839595"
                                },
                                {
                                    "series_id": "CES4244111057",
                                    "industry_code": "42441110",
                                    "industry_name": "New car dealers",
                                    "value": "1110063"
                                },
                                {
                                    "series_id": "CES4244111057",
                                    "industry_code": "42441110",
                                    "industry_name": "New car dealers",
                                    "value": "1110063"
                                },
                                {
                                    "series_id": "CES4244500057",
                                    "industry_code": "42445000",
                                    "industry_name": "Food and beverage stores",
                                    "value": "1352705"
                                },
                                {
                                    "series_id": "CES4244500057",
                                    "industry_code": "42445000",
                                    "industry_name": "Food and beverage stores",
                                    "value": "1352705"
                                },
                                {
                                    "series_id": "CES4244500082",
                                    "industry_code": "42445000",
                                    "industry_name": "Food and beverage stores",
                                    "value": "974710"
                                },
                                {
                                    "series_id": "CES4244500082",
                                    "industry_code": "42445000",
                                    "industry_name": "Food and beverage stores",
                                    "value": "974710"
                                },
                                {
                                    "series_id": "CES4244510057",
                                    "industry_code": "42445100",
                                    "industry_name": "Grocery stores",
                                    "value": "1180650"
                                },
                                {
                                    "series_id": "CES4244510057",
                                    "industry_code": "42445100",
                                    "industry_name": "Grocery stores",
                                    "value": "1180650"
                                },
                                {
                                    "series_id": "CES4244510082",
                                    "industry_code": "42445100",
                                    "industry_name": "Grocery stores",
                                    "value": "868430"
                                },
                                {
                                    "series_id": "CES4244510082",
                                    "industry_code": "42445100",
                                    "industry_name": "Grocery stores",
                                    "value": "868430"
                                },
                                {
                                    "series_id": "CES4244511057",
                                    "industry_code": "42445110",
                                    "industry_name": "Supermarkets and other grocery stores",
                                    "value": "1120814"
                                },
                                {
                                    "series_id": "CES4244511057",
                                    "industry_code": "42445110",
                                    "industry_name": "Supermarkets and other grocery stores",
                                    "value": "1120814"
                                },
                                {
                                    "series_id": "CES4244511082",
                                    "industry_code": "42445110",
                                    "industry_name": "Supermarkets and other grocery stores",
                                    "value": "821282"
                                },
                                {
                                    "series_id": "CES4244511082",
                                    "industry_code": "42445110",
                                    "industry_name": "Supermarkets and other grocery stores",
                                    "value": "821282"
                                },
                                {
                                    "series_id": "CES4245200057",
                                    "industry_code": "42452000",
                                    "industry_name": "General merchandise stores",
                                    "value": "1437264"
                                },
                                {
                                    "series_id": "CES4245200057",
                                    "industry_code": "42452000",
                                    "industry_name": "General merchandise stores",
                                    "value": "1437264"
                                },
                                {
                                    "series_id": "CES4245200082",
                                    "industry_code": "42452000",
                                    "industry_name": "General merchandise stores",
                                    "value": "1065807"
                                },
                                {
                                    "series_id": "CES4245200082",
                                    "industry_code": "42452000",
                                    "industry_name": "General merchandise stores",
                                    "value": "1065807"
                                },
                                {
                                    "series_id": "CES4300000057",
                                    "industry_code": "43000000",
                                    "industry_name": "Transportation and warehousing",
                                    "value": "4588906"
                                },
                                {
                                    "series_id": "CES4300000057",
                                    "industry_code": "43000000",
                                    "industry_name": "Transportation and warehousing",
                                    "value": "4588906"
                                },
                                {
                                    "series_id": "CES4300000082",
                                    "industry_code": "43000000",
                                    "industry_name": "Transportation and warehousing",
                                    "value": "3538683"
                                },
                                {
                                    "series_id": "CES4300000082",
                                    "industry_code": "43000000",
                                    "industry_name": "Transportation and warehousing",
                                    "value": "3538683"
                                },
                                {
                                    "series_id": "CES4348400057",
                                    "industry_code": "43484000",
                                    "industry_name": "Truck transportation",
                                    "value": "1392202"
                                },
                                {
                                    "series_id": "CES4348400057",
                                    "industry_code": "43484000",
                                    "industry_name": "Truck transportation",
                                    "value": "1392202"
                                },
                                {
                                    "series_id": "CES4348400082",
                                    "industry_code": "43484000",
                                    "industry_name": "Truck transportation",
                                    "value": "1131821"
                                },
                                {
                                    "series_id": "CES4348400082",
                                    "industry_code": "43484000",
                                    "industry_name": "Truck transportation",
                                    "value": "1131821"
                                },
                                {
                                    "series_id": "CES4348410057",
                                    "industry_code": "43484100",
                                    "industry_name": "General freight trucking",
                                    "value": "966602"
                                },
                                {
                                    "series_id": "CES4348410057",
                                    "industry_code": "43484100",
                                    "industry_name": "General freight trucking",
                                    "value": "966602"
                                },
                                {
                                    "series_id": "CES4422000057",
                                    "industry_code": "44220000",
                                    "industry_name": "Utilities",
                                    "value": "920941"
                                },
                                {
                                    "series_id": "CES4422000057",
                                    "industry_code": "44220000",
                                    "industry_name": "Utilities",
                                    "value": "920941"
                                },
                                {
                                    "series_id": "CES5000000057",
                                    "industry_code": "50000000",
                                    "industry_name": "Information",
                                    "value": "3751205"
                                },
                                {
                                    "series_id": "CES5000000057",
                                    "industry_code": "50000000",
                                    "industry_name": "Information",
                                    "value": "3751205"
                                },
                                {
                                    "series_id": "CES5000000082",
                                    "industry_code": "50000000",
                                    "industry_name": "Information",
                                    "value": "2416443"
                                },
                                {
                                    "series_id": "CES5000000082",
                                    "industry_code": "50000000",
                                    "industry_name": "Information",
                                    "value": "2416443"
                                },
                                {
                                    "series_id": "CES5051100057",
                                    "industry_code": "50511000",
                                    "industry_name": "Publishing industries",
                                    "value": "1183283"
                                },
                                {
                                    "series_id": "CES5051100057",
                                    "industry_code": "50511000",
                                    "industry_name": "Publishing industries",
                                    "value": "1183283"
                                },
                                {
                                    "series_id": "CES5051700057",
                                    "industry_code": "50517000",
                                    "industry_name": "Telecommunications",
                                    "value": "992441"
                                },
                                {
                                    "series_id": "CES5051700057",
                                    "industry_code": "50517000",
                                    "industry_name": "Telecommunications",
                                    "value": "992441"
                                },
                                {
                                    "series_id": "CES5500000057",
                                    "industry_code": "55000000",
                                    "industry_name": "Financial activities",
                                    "value": "10213192"
                                },
                                {
                                    "series_id": "CES5500000057",
                                    "industry_code": "55000000",
                                    "industry_name": "Financial activities",
                                    "value": "10213192"
                                },
                                {
                                    "series_id": "CES5500000082",
                                    "industry_code": "55000000",
                                    "industry_name": "Financial activities",
                                    "value": "6328968"
                                },
                                {
                                    "series_id": "CES5500000082",
                                    "industry_code": "55000000",
                                    "industry_name": "Financial activities",
                                    "value": "6328968"
                                },
                                {
                                    "series_id": "CES5552200057",
                                    "industry_code": "55522000",
                                    "industry_name": "Credit intermediation and related activities",
                                    "value": "3075310"
                                },
                                {
                                    "series_id": "CES5552200057",
                                    "industry_code": "55522000",
                                    "industry_name": "Credit intermediation and related activities",
                                    "value": "3075310"
                                },
                                {
                                    "series_id": "CES5552200082",
                                    "industry_code": "55522000",
                                    "industry_name": "Credit intermediation and related activities",
                                    "value": "1717912"
                                },
                                {
                                    "series_id": "CES5552200082",
                                    "industry_code": "55522000",
                                    "industry_name": "Credit intermediation and related activities",
                                    "value": "1717912"
                                },
                                {
                                    "series_id": "CES5552210057",
                                    "industry_code": "55522100",
                                    "industry_name": "Depository credit intermediation",
                                    "value": "1921539"
                                },
                                {
                                    "series_id": "CES5552210057",
                                    "industry_code": "55522100",
                                    "industry_name": "Depository credit intermediation",
                                    "value": "1921539"
                                },
                                {
                                    "series_id": "CES5552210082",
                                    "industry_code": "55522100",
                                    "industry_name": "Depository credit intermediation",
                                    "value": "971796"
                                },
                                {
                                    "series_id": "CES5552210082",
                                    "industry_code": "55522100",
                                    "industry_name": "Depository credit intermediation",
                                    "value": "971796"
                                },
                                {
                                    "series_id": "CES5552211057",
                                    "industry_code": "55522110",
                                    "industry_name": "Commercial banking",
                                    "value": "1533413"
                                },
                                {
                                    "series_id": "CES5552211057",
                                    "industry_code": "55522110",
                                    "industry_name": "Commercial banking",
                                    "value": "1533413"
                                },
                                {
                                    "series_id": "CES5552300057",
                                    "industry_code": "55523000",
                                    "industry_name": "NULL",
                                    "value": "1756545"
                                },
                                {
                                    "series_id": "CES5552300057",
                                    "industry_code": "55523000",
                                    "industry_name": "NULL",
                                    "value": "1756545"
                                },
                                {
                                    "series_id": "CES5552300082",
                                    "industry_code": "55523000",
                                    "industry_name": "NULL",
                                    "value": "1044224"
                                },
                                {
                                    "series_id": "CES5552300082",
                                    "industry_code": "55523000",
                                    "industry_name": "NULL",
                                    "value": "1044224"
                                },
                                {
                                    "series_id": "CES5552320057",
                                    "industry_code": "55523200",
                                    "industry_name": "NULL",
                                    "value": "852241"
                                },
                                {
                                    "series_id": "CES5552320057",
                                    "industry_code": "55523200",
                                    "industry_name": "NULL",
                                    "value": "852241"
                                },
                                {
                                    "series_id": "CES5552390057",
                                    "industry_code": "55523900",
                                    "industry_name": "Other financial investment activities",
                                    "value": "905217"
                                },
                                {
                                    "series_id": "CES5552390057",
                                    "industry_code": "55523900",
                                    "industry_name": "Other financial investment activities",
                                    "value": "905217"
                                },
                                {
                                    "series_id": "CES5552400057",
                                    "industry_code": "55524000",
                                    "industry_name": "Insurance carriers and related activities",
                                    "value": "3411895"
                                },
                                {
                                    "series_id": "CES5552400057",
                                    "industry_code": "55524000",
                                    "industry_name": "Insurance carriers and related activities",
                                    "value": "3411895"
                                },
                                {
                                    "series_id": "CES5552400082",
                                    "industry_code": "55524000",
                                    "industry_name": "Insurance carriers and related activities",
                                    "value": "2347328"
                                },
                                {
                                    "series_id": "CES5552400082",
                                    "industry_code": "55524000",
                                    "industry_name": "Insurance carriers and related activities",
                                    "value": "2347328"
                                },
                                {
                                    "series_id": "CES5552410057",
                                    "industry_code": "55524100",
                                    "industry_name": "Insurance carriers",
                                    "value": "2130379"
                                },
                                {
                                    "series_id": "CES5552410057",
                                    "industry_code": "55524100",
                                    "industry_name": "Insurance carriers",
                                    "value": "2130379"
                                },
                                {
                                    "series_id": "CES5552410082",
                                    "industry_code": "55524100",
                                    "industry_name": "Insurance carriers",
                                    "value": "1477799"
                                },
                                {
                                    "series_id": "CES5552410082",
                                    "industry_code": "55524100",
                                    "industry_name": "Insurance carriers",
                                    "value": "1477799"
                                },
                                {
                                    "series_id": "CES5552411057",
                                    "industry_code": "55524110",
                                    "industry_name": "Direct life and health insurance carriers",
                                    "value": "1169424"
                                },
                                {
                                    "series_id": "CES5552411057",
                                    "industry_code": "55524110",
                                    "industry_name": "Direct life and health insurance carriers",
                                    "value": "1169424"
                                },
                                {
                                    "series_id": "CES5552412057",
                                    "industry_code": "55524120",
                                    "industry_name": "Direct insurers",
                                    "value": "917557"
                                },
                                {
                                    "series_id": "CES5552412057",
                                    "industry_code": "55524120",
                                    "industry_name": "Direct insurers",
                                    "value": "917557"
                                },
                                {
                                    "series_id": "CES5552420057",
                                    "industry_code": "55524200",
                                    "industry_name": "Insurance agencies",
                                    "value": "1281029"
                                },
                                {
                                    "series_id": "CES5552420057",
                                    "industry_code": "55524200",
                                    "industry_name": "Insurance agencies",
                                    "value": "1281029"
                                },
                                {
                                    "series_id": "CES5552420082",
                                    "industry_code": "55524200",
                                    "industry_name": "Insurance agencies",
                                    "value": "872398"
                                },
                                {
                                    "series_id": "CES5552420082",
                                    "industry_code": "55524200",
                                    "industry_name": "Insurance agencies",
                                    "value": "872398"
                                },
                                {
                                    "series_id": "CES5552421057",
                                    "industry_code": "55524210",
                                    "industry_name": "Insurance agencies and brokerages",
                                    "value": "858730"
                                },
                                {
                                    "series_id": "CES5552421057",
                                    "industry_code": "55524210",
                                    "industry_name": "Insurance agencies and brokerages",
                                    "value": "858730"
                                },
                                {
                                    "series_id": "CES5553100057",
                                    "industry_code": "55531000",
                                    "industry_name": "Real estate",
                                    "value": "1417131"
                                },
                                {
                                    "series_id": "CES5553100057",
                                    "industry_code": "55531000",
                                    "industry_name": "Real estate",
                                    "value": "1417131"
                                },
                                {
                                    "series_id": "CES5553100082",
                                    "industry_code": "55531000",
                                    "industry_name": "Real estate",
                                    "value": "862987"
                                },
                                {
                                    "series_id": "CES5553100082",
                                    "industry_code": "55531000",
                                    "industry_name": "Real estate",
                                    "value": "862987"
                                },
                                {
                                    "series_id": "CES6000000057",
                                    "industry_code": "60000000",
                                    "industry_name": "Professional and business services",
                                    "value": "23113158"
                                },
                                {
                                    "series_id": "CES6000000057",
                                    "industry_code": "60000000",
                                    "industry_name": "Professional and business services",
                                    "value": "23113158"
                                },
                                {
                                    "series_id": "CES6000000082",
                                    "industry_code": "60000000",
                                    "industry_name": "Professional and business services",
                                    "value": "15251268"
                                },
                                {
                                    "series_id": "CES6000000082",
                                    "industry_code": "60000000",
                                    "industry_name": "Professional and business services",
                                    "value": "15251268"
                                },
                                {
                                    "series_id": "CES6054000057",
                                    "industry_code": "60540000",
                                    "industry_name": "Professional and technical services",
                                    "value": "13464691"
                                },
                                {
                                    "series_id": "CES6054000057",
                                    "industry_code": "60540000",
                                    "industry_name": "Professional and technical services",
                                    "value": "13464691"
                                },
                                {
                                    "series_id": "CES6054000082",
                                    "industry_code": "60540000",
                                    "industry_name": "Professional and technical services",
                                    "value": "8821026"
                                },
                                {
                                    "series_id": "CES6054000082",
                                    "industry_code": "60540000",
                                    "industry_name": "Professional and technical services",
                                    "value": "8821026"
                                },
                                {
                                    "series_id": "CES6054110057",
                                    "industry_code": "60541100",
                                    "industry_name": "Legal services",
                                    "value": "1666281"
                                },
                                {
                                    "series_id": "CES6054110057",
                                    "industry_code": "60541100",
                                    "industry_name": "Legal services",
                                    "value": "1666281"
                                },
                                {
                                    "series_id": "CES6054110082",
                                    "industry_code": "60541100",
                                    "industry_name": "Legal services",
                                    "value": "1058862"
                                },
                                {
                                    "series_id": "CES6054110082",
                                    "industry_code": "60541100",
                                    "industry_name": "Legal services",
                                    "value": "1058862"
                                },
                                {
                                    "series_id": "CES6054111057",
                                    "industry_code": "60541110",
                                    "industry_name": "Offices of lawyers",
                                    "value": "1588040"
                                },
                                {
                                    "series_id": "CES6054111057",
                                    "industry_code": "60541110",
                                    "industry_name": "Offices of lawyers",
                                    "value": "1588040"
                                },
                                {
                                    "series_id": "CES6054111082",
                                    "industry_code": "60541110",
                                    "industry_name": "Offices of lawyers",
                                    "value": "1004009"
                                },
                                {
                                    "series_id": "CES6054111082",
                                    "industry_code": "60541110",
                                    "industry_name": "Offices of lawyers",
                                    "value": "1004009"
                                },
                                {
                                    "series_id": "CES6054120057",
                                    "industry_code": "60541200",
                                    "industry_name": "Accounting and bookkeeping services",
                                    "value": "1116237"
                                },
                                {
                                    "series_id": "CES6054120057",
                                    "industry_code": "60541200",
                                    "industry_name": "Accounting and bookkeeping services",
                                    "value": "1116237"
                                },
                                {
                                    "series_id": "CES6054130057",
                                    "industry_code": "60541300",
                                    "industry_name": "Architectural and engineering services",
                                    "value": "2152162"
                                },
                                {
                                    "series_id": "CES6054130057",
                                    "industry_code": "60541300",
                                    "industry_name": "Architectural and engineering services",
                                    "value": "2152162"
                                },
                                {
                                    "series_id": "CES6054130082",
                                    "industry_code": "60541300",
                                    "industry_name": "Architectural and engineering services",
                                    "value": "1439445"
                                },
                                {
                                    "series_id": "CES6054130082",
                                    "industry_code": "60541300",
                                    "industry_name": "Architectural and engineering services",
                                    "value": "1439445"
                                },
                                {
                                    "series_id": "CES6054134057",
                                    "industry_code": "60541340",
                                    "industry_name": "NULL",
                                    "value": "1536969"
                                },
                                {
                                    "series_id": "CES6054134057",
                                    "industry_code": "60541340",
                                    "industry_name": "NULL",
                                    "value": "1536969"
                                },
                                {
                                    "series_id": "CES6054134082",
                                    "industry_code": "60541340",
                                    "industry_name": "NULL",
                                    "value": "1051499"
                                },
                                {
                                    "series_id": "CES6054134082",
                                    "industry_code": "60541340",
                                    "industry_name": "NULL",
                                    "value": "1051499"
                                },
                                {
                                    "series_id": "CES6054150057",
                                    "industry_code": "60541500",
                                    "industry_name": "Computer systems design and related services",
                                    "value": "3595409"
                                },
                                {
                                    "series_id": "CES6054150057",
                                    "industry_code": "60541500",
                                    "industry_name": "Computer systems design and related services",
                                    "value": "3595409"
                                },
                                {
                                    "series_id": "CES6054150082",
                                    "industry_code": "60541500",
                                    "industry_name": "Computer systems design and related services",
                                    "value": "2666568"
                                },
                                {
                                    "series_id": "CES6054150082",
                                    "industry_code": "60541500",
                                    "industry_name": "Computer systems design and related services",
                                    "value": "2666568"
                                },
                                {
                                    "series_id": "CES6054151157",
                                    "industry_code": "60541511",
                                    "industry_name": "Custom computer programming services",
                                    "value": "1596292"
                                },
                                {
                                    "series_id": "CES6054151157",
                                    "industry_code": "60541511",
                                    "industry_name": "Custom computer programming services",
                                    "value": "1596292"
                                },
                                {
                                    "series_id": "CES6054151182",
                                    "industry_code": "60541511",
                                    "industry_name": "Custom computer programming services",
                                    "value": "1173494"
                                },
                                {
                                    "series_id": "CES6054151182",
                                    "industry_code": "60541511",
                                    "industry_name": "Custom computer programming services",
                                    "value": "1173494"
                                },
                                {
                                    "series_id": "CES6054151257",
                                    "industry_code": "60541512",
                                    "industry_name": "Computer systems design services",
                                    "value": "1695613"
                                },
                                {
                                    "series_id": "CES6054151257",
                                    "industry_code": "60541512",
                                    "industry_name": "Computer systems design services",
                                    "value": "1695613"
                                },
                                {
                                    "series_id": "CES6054151282",
                                    "industry_code": "60541512",
                                    "industry_name": "Computer systems design services",
                                    "value": "1274481"
                                },
                                {
                                    "series_id": "CES6054151282",
                                    "industry_code": "60541512",
                                    "industry_name": "Computer systems design services",
                                    "value": "1274481"
                                },
                                {
                                    "series_id": "CES6054160057",
                                    "industry_code": "60541600",
                                    "industry_name": "Management and technical consulting services",
                                    "value": "2103707"
                                },
                                {
                                    "series_id": "CES6054160057",
                                    "industry_code": "60541600",
                                    "industry_name": "Management and technical consulting services",
                                    "value": "2103707"
                                },
                                {
                                    "series_id": "CES6054160082",
                                    "industry_code": "60541600",
                                    "industry_name": "Management and technical consulting services",
                                    "value": "1330587"
                                },
                                {
                                    "series_id": "CES6054160082",
                                    "industry_code": "60541600",
                                    "industry_name": "Management and technical consulting services",
                                    "value": "1330587"
                                },
                                {
                                    "series_id": "CES6054161057",
                                    "industry_code": "60541610",
                                    "industry_name": "Management consulting services",
                                    "value": "1711601"
                                },
                                {
                                    "series_id": "CES6054161057",
                                    "industry_code": "60541610",
                                    "industry_name": "Management consulting services",
                                    "value": "1711601"
                                },
                                {
                                    "series_id": "CES6054161082",
                                    "industry_code": "60541610",
                                    "industry_name": "Management consulting services",
                                    "value": "1053691"
                                },
                                {
                                    "series_id": "CES6054161082",
                                    "industry_code": "60541610",
                                    "industry_name": "Management consulting services",
                                    "value": "1053691"
                                },
                                {
                                    "series_id": "CES6054161157",
                                    "industry_code": "60541611",
                                    "industry_name": "Administrative management consulting services",
                                    "value": "955447"
                                },
                                {
                                    "series_id": "CES6054161157",
                                    "industry_code": "60541611",
                                    "industry_name": "Administrative management consulting services",
                                    "value": "955447"
                                },
                                {
                                    "series_id": "CES6054170057",
                                    "industry_code": "60541700",
                                    "industry_name": "Scientific research and development services",
                                    "value": "1265137"
                                },
                                {
                                    "series_id": "CES6054170057",
                                    "industry_code": "60541700",
                                    "industry_name": "Scientific research and development services",
                                    "value": "1265137"
                                },
                                {
                                    "series_id": "CES6054171057",
                                    "industry_code": "60541710",
                                    "industry_name": "Research and development in the physical",
                                    "value": "1188296"
                                },
                                {
                                    "series_id": "CES6054171057",
                                    "industry_code": "60541710",
                                    "industry_name": "Research and development in the physical",
                                    "value": "1188296"
                                },
                                {
                                    "series_id": "CES6054171257",
                                    "industry_code": "60541712",
                                    "industry_name": "Physical",
                                    "value": "860377"
                                },
                                {
                                    "series_id": "CES6054171257",
                                    "industry_code": "60541712",
                                    "industry_name": "Physical",
                                    "value": "860377"
                                },
                                {
                                    "series_id": "CES6055000057",
                                    "industry_code": "60550000",
                                    "industry_name": "Management of companies and enterprises",
                                    "value": "3428612"
                                },
                                {
                                    "series_id": "CES6055000057",
                                    "industry_code": "60550000",
                                    "industry_name": "Management of companies and enterprises",
                                    "value": "3428612"
                                },
                                {
                                    "series_id": "CES6055000082",
                                    "industry_code": "60550000",
                                    "industry_name": "Management of companies and enterprises",
                                    "value": "1566036"
                                },
                                {
                                    "series_id": "CES6055000082",
                                    "industry_code": "60550000",
                                    "industry_name": "Management of companies and enterprises",
                                    "value": "1566036"
                                },
                                {
                                    "series_id": "CES6055111457",
                                    "industry_code": "60551114",
                                    "industry_name": "Managing offices",
                                    "value": "3270688"
                                },
                                {
                                    "series_id": "CES6055111457",
                                    "industry_code": "60551114",
                                    "industry_name": "Managing offices",
                                    "value": "3270688"
                                },
                                {
                                    "series_id": "CES6055111482",
                                    "industry_code": "60551114",
                                    "industry_name": "Managing offices",
                                    "value": "1496334"
                                },
                                {
                                    "series_id": "CES6055111482",
                                    "industry_code": "60551114",
                                    "industry_name": "Managing offices",
                                    "value": "1496334"
                                },
                                {
                                    "series_id": "CES6056000057",
                                    "industry_code": "60560000",
                                    "industry_name": "Administrative and waste services",
                                    "value": "6272001"
                                },
                                {
                                    "series_id": "CES6056000057",
                                    "industry_code": "60560000",
                                    "industry_name": "Administrative and waste services",
                                    "value": "6272001"
                                },
                                {
                                    "series_id": "CES6056000082",
                                    "industry_code": "60560000",
                                    "industry_name": "Administrative and waste services",
                                    "value": "4886085"
                                },
                                {
                                    "series_id": "CES6056000082",
                                    "industry_code": "60560000",
                                    "industry_name": "Administrative and waste services",
                                    "value": "4886085"
                                },
                                {
                                    "series_id": "CES6056100057",
                                    "industry_code": "60561000",
                                    "industry_name": "Administrative and support services",
                                    "value": "5838373"
                                },
                                {
                                    "series_id": "CES6056100057",
                                    "industry_code": "60561000",
                                    "industry_name": "Administrative and support services",
                                    "value": "5838373"
                                },
                                {
                                    "series_id": "CES6056100082",
                                    "industry_code": "60561000",
                                    "industry_name": "Administrative and support services",
                                    "value": "4565569"
                                },
                                {
                                    "series_id": "CES6056100082",
                                    "industry_code": "60561000",
                                    "industry_name": "Administrative and support services",
                                    "value": "4565569"
                                },
                                {
                                    "series_id": "CES6056130057",
                                    "industry_code": "60561300",
                                    "industry_name": "Employment services",
                                    "value": "2255347"
                                },
                                {
                                    "series_id": "CES6056130057",
                                    "industry_code": "60561300",
                                    "industry_name": "Employment services",
                                    "value": "2255347"
                                },
                                {
                                    "series_id": "CES6056130082",
                                    "industry_code": "60561300",
                                    "industry_name": "Employment services",
                                    "value": "2013846"
                                },
                                {
                                    "series_id": "CES6056130082",
                                    "industry_code": "60561300",
                                    "industry_name": "Employment services",
                                    "value": "2013846"
                                },
                                {
                                    "series_id": "CES6056132057",
                                    "industry_code": "60561320",
                                    "industry_name": "Temporary help services",
                                    "value": "1723484"
                                },
                                {
                                    "series_id": "CES6056132057",
                                    "industry_code": "60561320",
                                    "industry_name": "Temporary help services",
                                    "value": "1723484"
                                },
                                {
                                    "series_id": "CES6056132082",
                                    "industry_code": "60561320",
                                    "industry_name": "Temporary help services",
                                    "value": "1598939"
                                },
                                {
                                    "series_id": "CES6056132082",
                                    "industry_code": "60561320",
                                    "industry_name": "Temporary help services",
                                    "value": "1598939"
                                },
                                {
                                    "series_id": "CES6056170057",
                                    "industry_code": "60561700",
                                    "industry_name": "Services to buildings and dwellings",
                                    "value": "1150182"
                                },
                                {
                                    "series_id": "CES6056170057",
                                    "industry_code": "60561700",
                                    "industry_name": "Services to buildings and dwellings",
                                    "value": "1150182"
                                },
                                {
                                    "series_id": "CES6056170082",
                                    "industry_code": "60561700",
                                    "industry_name": "Services to buildings and dwellings",
                                    "value": "846000"
                                },
                                {
                                    "series_id": "CES6056170082",
                                    "industry_code": "60561700",
                                    "industry_name": "Services to buildings and dwellings",
                                    "value": "846000"
                                },
                                {
                                    "series_id": "CES6500000057",
                                    "industry_code": "65000000",
                                    "industry_name": "Education and health services",
                                    "value": "19585920"
                                },
                                {
                                    "series_id": "CES6500000057",
                                    "industry_code": "65000000",
                                    "industry_name": "Education and health services",
                                    "value": "19585920"
                                },
                                {
                                    "series_id": "CES6500000082",
                                    "industry_code": "65000000",
                                    "industry_name": "Education and health services",
                                    "value": "14765156"
                                },
                                {
                                    "series_id": "CES6500000082",
                                    "industry_code": "65000000",
                                    "industry_name": "Education and health services",
                                    "value": "14765156"
                                },
                                {
                                    "series_id": "CES6562000057",
                                    "industry_code": "65620000",
                                    "industry_name": "Health care and social assistance",
                                    "value": "16718245"
                                },
                                {
                                    "series_id": "CES6562000057",
                                    "industry_code": "65620000",
                                    "industry_name": "Health care and social assistance",
                                    "value": "16718245"
                                },
                                {
                                    "series_id": "CES6562000082",
                                    "industry_code": "65620000",
                                    "industry_name": "Health care and social assistance",
                                    "value": "12762526"
                                },
                                {
                                    "series_id": "CES6562000082",
                                    "industry_code": "65620000",
                                    "industry_name": "Health care and social assistance",
                                    "value": "12762526"
                                },
                                {
                                    "series_id": "CES6562000157",
                                    "industry_code": "65620001",
                                    "industry_name": "NULL",
                                    "value": "14957970"
                                },
                                {
                                    "series_id": "CES6562000157",
                                    "industry_code": "65620001",
                                    "industry_name": "NULL",
                                    "value": "14957970"
                                },
                                {
                                    "series_id": "CES6562000182",
                                    "industry_code": "65620001",
                                    "industry_name": "NULL",
                                    "value": "11413008"
                                },
                                {
                                    "series_id": "CES6562000182",
                                    "industry_code": "65620001",
                                    "industry_name": "NULL",
                                    "value": "11413008"
                                },
                                {
                                    "series_id": "CES6562100057",
                                    "industry_code": "65621000",
                                    "industry_name": "Ambulatory health care services",
                                    "value": "7193566"
                                },
                                {
                                    "series_id": "CES6562100057",
                                    "industry_code": "65621000",
                                    "industry_name": "Ambulatory health care services",
                                    "value": "7193566"
                                },
                                {
                                    "series_id": "CES6562100082",
                                    "industry_code": "65621000",
                                    "industry_name": "Ambulatory health care services",
                                    "value": "4875906"
                                },
                                {
                                    "series_id": "CES6562100082",
                                    "industry_code": "65621000",
                                    "industry_name": "Ambulatory health care services",
                                    "value": "4875906"
                                },
                                {
                                    "series_id": "CES6562110057",
                                    "industry_code": "65621100",
                                    "industry_name": "Offices of physicians",
                                    "value": "3521877"
                                },
                                {
                                    "series_id": "CES6562110057",
                                    "industry_code": "65621100",
                                    "industry_name": "Offices of physicians",
                                    "value": "3521877"
                                },
                                {
                                    "series_id": "CES6562110082",
                                    "industry_code": "65621100",
                                    "industry_name": "Offices of physicians",
                                    "value": "2141331"
                                },
                                {
                                    "series_id": "CES6562110082",
                                    "industry_code": "65621100",
                                    "industry_name": "Offices of physicians",
                                    "value": "2141331"
                                },
                                {
                                    "series_id": "CES6562111157",
                                    "industry_code": "65621111",
                                    "industry_name": "Offices of physicians",
                                    "value": "3472162"
                                },
                                {
                                    "series_id": "CES6562111157",
                                    "industry_code": "65621111",
                                    "industry_name": "Offices of physicians",
                                    "value": "3472162"
                                },
                                {
                                    "series_id": "CES6562111182",
                                    "industry_code": "65621111",
                                    "industry_name": "Offices of physicians",
                                    "value": "2113086"
                                },
                                {
                                    "series_id": "CES6562111182",
                                    "industry_code": "65621111",
                                    "industry_name": "Offices of physicians",
                                    "value": "2113086"
                                },
                                {
                                    "series_id": "CES6562120057",
                                    "industry_code": "65621200",
                                    "industry_name": "Offices of dentists",
                                    "value": "842558"
                                },
                                {
                                    "series_id": "CES6562120057",
                                    "industry_code": "65621200",
                                    "industry_name": "Offices of dentists",
                                    "value": "842558"
                                },
                                {
                                    "series_id": "CES6562140057",
                                    "industry_code": "65621400",
                                    "industry_name": "Outpatient care centers",
                                    "value": "839455"
                                },
                                {
                                    "series_id": "CES6562140057",
                                    "industry_code": "65621400",
                                    "industry_name": "Outpatient care centers",
                                    "value": "839455"
                                },
                                {
                                    "series_id": "CES6562200057",
                                    "industry_code": "65622000",
                                    "industry_name": "Hospitals",
                                    "value": "5842779"
                                },
                                {
                                    "series_id": "CES6562200057",
                                    "industry_code": "65622000",
                                    "industry_name": "Hospitals",
                                    "value": "5842779"
                                },
                                {
                                    "series_id": "CES6562200082",
                                    "industry_code": "65622000",
                                    "industry_name": "Hospitals",
                                    "value": "5048432"
                                },
                                {
                                    "series_id": "CES6562200082",
                                    "industry_code": "65622000",
                                    "industry_name": "Hospitals",
                                    "value": "5048432"
                                },
                                {
                                    "series_id": "CES6562210057",
                                    "industry_code": "65622100",
                                    "industry_name": "General medical and surgical hospitals",
                                    "value": "5428714"
                                },
                                {
                                    "series_id": "CES6562210057",
                                    "industry_code": "65622100",
                                    "industry_name": "General medical and surgical hospitals",
                                    "value": "5428714"
                                },
                                {
                                    "series_id": "CES6562210082",
                                    "industry_code": "65622100",
                                    "industry_name": "General medical and surgical hospitals",
                                    "value": "4716914"
                                },
                                {
                                    "series_id": "CES6562210082",
                                    "industry_code": "65622100",
                                    "industry_name": "General medical and surgical hospitals",
                                    "value": "4716914"
                                },
                                {
                                    "series_id": "CES6562300057",
                                    "industry_code": "65623000",
                                    "industry_name": "Nursing and residential care facilities",
                                    "value": "1941241"
                                },
                                {
                                    "series_id": "CES6562300057",
                                    "industry_code": "65623000",
                                    "industry_name": "Nursing and residential care facilities",
                                    "value": "1941241"
                                },
                                {
                                    "series_id": "CES6562300082",
                                    "industry_code": "65623000",
                                    "industry_name": "Nursing and residential care facilities",
                                    "value": "1489277"
                                },
                                {
                                    "series_id": "CES6562300082",
                                    "industry_code": "65623000",
                                    "industry_name": "Nursing and residential care facilities",
                                    "value": "1489277"
                                },
                                {
                                    "series_id": "CES6562310057",
                                    "industry_code": "65623100",
                                    "industry_name": "Nursing care facilities",
                                    "value": "994994"
                                },
                                {
                                    "series_id": "CES6562310057",
                                    "industry_code": "65623100",
                                    "industry_name": "Nursing care facilities",
                                    "value": "994994"
                                },
                                {
                                    "series_id": "CES6562400057",
                                    "industry_code": "65624000",
                                    "industry_name": "Social assistance",
                                    "value": "1787502"
                                },
                                {
                                    "series_id": "CES6562400057",
                                    "industry_code": "65624000",
                                    "industry_name": "Social assistance",
                                    "value": "1787502"
                                },
                                {
                                    "series_id": "CES6562400082",
                                    "industry_code": "65624000",
                                    "industry_name": "Social assistance",
                                    "value": "1337022"
                                },
                                {
                                    "series_id": "CES6562400082",
                                    "industry_code": "65624000",
                                    "industry_name": "Social assistance",
                                    "value": "1337022"
                                },
                                {
                                    "series_id": "CES6562410057",
                                    "industry_code": "65624100",
                                    "industry_name": "Individual and family services",
                                    "value": "1095365"
                                },
                                {
                                    "series_id": "CES6562410057",
                                    "industry_code": "65624100",
                                    "industry_name": "Individual and family services",
                                    "value": "1095365"
                                },
                                {
                                    "series_id": "CES6562410082",
                                    "industry_code": "65624100",
                                    "industry_name": "Individual and family services",
                                    "value": "828771"
                                },
                                {
                                    "series_id": "CES6562410082",
                                    "industry_code": "65624100",
                                    "industry_name": "Individual and family services",
                                    "value": "828771"
                                },
                                {
                                    "series_id": "CES7000000057",
                                    "industry_code": "70000000",
                                    "industry_name": "Leisure and hospitality",
                                    "value": "6232054"
                                },
                                {
                                    "series_id": "CES7000000057",
                                    "industry_code": "70000000",
                                    "industry_name": "Leisure and hospitality",
                                    "value": "6232054"
                                },
                                {
                                    "series_id": "CES7000000082",
                                    "industry_code": "70000000",
                                    "industry_name": "Leisure and hospitality",
                                    "value": "4537173"
                                },
                                {
                                    "series_id": "CES7000000082",
                                    "industry_code": "70000000",
                                    "industry_name": "Leisure and hospitality",
                                    "value": "4537173"
                                },
                                {
                                    "series_id": "CES7071000057",
                                    "industry_code": "70710000",
                                    "industry_name": "Arts",
                                    "value": "1167355"
                                },
                                {
                                    "series_id": "CES7071000057",
                                    "industry_code": "70710000",
                                    "industry_name": "Arts",
                                    "value": "1167355"
                                },
                                {
                                    "series_id": "CES7072000057",
                                    "industry_code": "70720000",
                                    "industry_name": "Accommodation and food services",
                                    "value": "5078737"
                                },
                                {
                                    "series_id": "CES7072000057",
                                    "industry_code": "70720000",
                                    "industry_name": "Accommodation and food services",
                                    "value": "5078737"
                                },
                                {
                                    "series_id": "CES7072000082",
                                    "industry_code": "70720000",
                                    "industry_name": "Accommodation and food services",
                                    "value": "3802356"
                                },
                                {
                                    "series_id": "CES7072000082",
                                    "industry_code": "70720000",
                                    "industry_name": "Accommodation and food services",
                                    "value": "3802356"
                                },
                                {
                                    "series_id": "CES7072100057",
                                    "industry_code": "70721000",
                                    "industry_name": "Accommodation",
                                    "value": "1008168"
                                },
                                {
                                    "series_id": "CES7072100057",
                                    "industry_code": "70721000",
                                    "industry_name": "Accommodation",
                                    "value": "1008168"
                                },
                                {
                                    "series_id": "CES7072110057",
                                    "industry_code": "70721100",
                                    "industry_name": "Traveler accommodation",
                                    "value": "980738"
                                },
                                {
                                    "series_id": "CES7072110057",
                                    "industry_code": "70721100",
                                    "industry_name": "Traveler accommodation",
                                    "value": "980738"
                                },
                                {
                                    "series_id": "CES7072200057",
                                    "industry_code": "70722000",
                                    "industry_name": "Food services and drinking places",
                                    "value": "4058595"
                                },
                                {
                                    "series_id": "CES7072200057",
                                    "industry_code": "70722000",
                                    "industry_name": "Food services and drinking places",
                                    "value": "4058595"
                                },
                                {
                                    "series_id": "CES7072200082",
                                    "industry_code": "70722000",
                                    "industry_name": "Food services and drinking places",
                                    "value": "3085429"
                                },
                                {
                                    "series_id": "CES7072200082",
                                    "industry_code": "70722000",
                                    "industry_name": "Food services and drinking places",
                                    "value": "3085429"
                                },
                                {
                                    "series_id": "CES7072250057",
                                    "industry_code": "70722500",
                                    "industry_name": "Restaurants and other eating places",
                                    "value": "3617277"
                                },
                                {
                                    "series_id": "CES7072250057",
                                    "industry_code": "70722500",
                                    "industry_name": "Restaurants and other eating places",
                                    "value": "3617277"
                                },
                                {
                                    "series_id": "CES7072250082",
                                    "industry_code": "70722500",
                                    "industry_name": "Restaurants and other eating places",
                                    "value": "2768855"
                                },
                                {
                                    "series_id": "CES7072250082",
                                    "industry_code": "70722500",
                                    "industry_name": "Restaurants and other eating places",
                                    "value": "2768855"
                                },
                                {
                                    "series_id": "CES7072251157",
                                    "industry_code": "70722511",
                                    "industry_name": "Full-service restaurants",
                                    "value": "2105534"
                                },
                                {
                                    "series_id": "CES7072251157",
                                    "industry_code": "70722511",
                                    "industry_name": "Full-service restaurants",
                                    "value": "2105534"
                                },
                                {
                                    "series_id": "CES7072251182",
                                    "industry_code": "70722511",
                                    "industry_name": "Full-service restaurants",
                                    "value": "1626780"
                                },
                                {
                                    "series_id": "CES7072251182",
                                    "industry_code": "70722511",
                                    "industry_name": "Full-service restaurants",
                                    "value": "1626780"
                                },
                                {
                                    "series_id": "CES7072251357",
                                    "industry_code": "70722513",
                                    "industry_name": "Limited-service restaurants",
                                    "value": "1281353"
                                },
                                {
                                    "series_id": "CES7072251357",
                                    "industry_code": "70722513",
                                    "industry_name": "Limited-service restaurants",
                                    "value": "1281353"
                                },
                                {
                                    "series_id": "CES7072251382",
                                    "industry_code": "70722513",
                                    "industry_name": "Limited-service restaurants",
                                    "value": "969748"
                                },
                                {
                                    "series_id": "CES7072251382",
                                    "industry_code": "70722513",
                                    "industry_name": "Limited-service restaurants",
                                    "value": "969748"
                                },
                                {
                                    "series_id": "CES8000000057",
                                    "industry_code": "80000000",
                                    "industry_name": "Other services",
                                    "value": "4263141"
                                },
                                {
                                    "series_id": "CES8000000057",
                                    "industry_code": "80000000",
                                    "industry_name": "Other services",
                                    "value": "4263141"
                                },
                                {
                                    "series_id": "CES8000000082",
                                    "industry_code": "80000000",
                                    "industry_name": "Other services",
                                    "value": "2875314"
                                },
                                {
                                    "series_id": "CES8000000082",
                                    "industry_code": "80000000",
                                    "industry_name": "Other services",
                                    "value": "2875314"
                                },
                                {
                                    "series_id": "CES8081100057",
                                    "industry_code": "80811000",
                                    "industry_name": "Repair and maintenance",
                                    "value": "1051091"
                                },
                                {
                                    "series_id": "CES8081100057",
                                    "industry_code": "80811000",
                                    "industry_name": "Repair and maintenance",
                                    "value": "1051091"
                                },
                                {
                                    "series_id": "CES8081300057",
                                    "industry_code": "80813000",
                                    "industry_name": "Membership associations and organizations",
                                    "value": "2494120"
                                },
                                {
                                    "series_id": "CES8081300057",
                                    "industry_code": "80813000",
                                    "industry_name": "Membership associations and organizations",
                                    "value": "2494120"
                                },
                                {
                                    "series_id": "CES8081300082",
                                    "industry_code": "80813000",
                                    "industry_name": "Membership associations and organizations",
                                    "value": "1599916"
                                },
                                {
                                    "series_id": "CES8081300082",
                                    "industry_code": "80813000",
                                    "industry_name": "Membership associations and organizations",
                                    "value": "1599916"
                                },
                                {
                                    "series_id": "CEU0500000056",
                                    "industry_code": "5000000",
                                    "industry_name": "Total private",
                                    "value": "4165978"
                                },
                                {
                                    "series_id": "CEU0500000056",
                                    "industry_code": "5000000",
                                    "industry_name": "Total private",
                                    "value": "4165978"
                                },
                                {
                                    "series_id": "CEU0500000057",
                                    "industry_code": "5000000",
                                    "industry_name": "Total private",
                                    "value": "109731861"
                                },
                                {
                                    "series_id": "CEU0500000057",
                                    "industry_code": "5000000",
                                    "industry_name": "Total private",
                                    "value": "109731861"
                                },
                                {
                                    "series_id": "CEU0500000081",
                                    "industry_code": "5000000",
                                    "industry_name": "Total private",
                                    "value": "3335193"
                                },
                                {
                                    "series_id": "CEU0500000081",
                                    "industry_code": "5000000",
                                    "industry_name": "Total private",
                                    "value": "3335193"
                                },
                                {
                                    "series_id": "CEU0500000082",
                                    "industry_code": "5000000",
                                    "industry_name": "Total private",
                                    "value": "73474302"
                                },
                                {
                                    "series_id": "CEU0500000082",
                                    "industry_code": "5000000",
                                    "industry_name": "Total private",
                                    "value": "73474302"
                                },
                                {
                                    "series_id": "CEU0600000057",
                                    "industry_code": "6000000",
                                    "industry_name": "Goods-producing",
                                    "value": "21113749"
                                },
                                {
                                    "series_id": "CEU0600000057",
                                    "industry_code": "6000000",
                                    "industry_name": "Goods-producing",
                                    "value": "21113749"
                                },
                                {
                                    "series_id": "CEU0600000082",
                                    "industry_code": "6000000",
                                    "industry_name": "Goods-producing",
                                    "value": "12711945"
                                },
                                {
                                    "series_id": "CEU0600000082",
                                    "industry_code": "6000000",
                                    "industry_name": "Goods-producing",
                                    "value": "12711945"
                                },
                                {
                                    "series_id": "CEU0800000056",
                                    "industry_code": "8000000",
                                    "industry_name": "Private service-providing",
                                    "value": "3388741"
                                },
                                {
                                    "series_id": "CEU0800000056",
                                    "industry_code": "8000000",
                                    "industry_name": "Private service-providing",
                                    "value": "3388741"
                                },
                                {
                                    "series_id": "CEU0800000057",
                                    "industry_code": "8000000",
                                    "industry_name": "Private service-providing",
                                    "value": "88446140"
                                },
                                {
                                    "series_id": "CEU0800000057",
                                    "industry_code": "8000000",
                                    "industry_name": "Private service-providing",
                                    "value": "88446140"
                                },
                                {
                                    "series_id": "CEU0800000081",
                                    "industry_code": "8000000",
                                    "industry_name": "Private service-providing",
                                    "value": "2777879"
                                },
                                {
                                    "series_id": "CEU0800000081",
                                    "industry_code": "8000000",
                                    "industry_name": "Private service-providing",
                                    "value": "2777879"
                                },
                                {
                                    "series_id": "CEU0800000082",
                                    "industry_code": "8000000",
                                    "industry_name": "Private service-providing",
                                    "value": "60807771"
                                },
                                {
                                    "series_id": "CEU0800000082",
                                    "industry_code": "8000000",
                                    "industry_name": "Private service-providing",
                                    "value": "60807771"
                                },
                                {
                                    "series_id": "CEU1000000057",
                                    "industry_code": "10000000",
                                    "industry_name": "Mining and logging",
                                    "value": "973773"
                                },
                                {
                                    "series_id": "CEU1000000057",
                                    "industry_code": "10000000",
                                    "industry_name": "Mining and logging",
                                    "value": "973773"
                                },
                                {
                                    "series_id": "CEU1021000057",
                                    "industry_code": "10210000",
                                    "industry_name": "Mining",
                                    "value": "932874"
                                },
                                {
                                    "series_id": "CEU1021000057",
                                    "industry_code": "10210000",
                                    "industry_name": "Mining",
                                    "value": "932874"
                                },
                                {
                                    "series_id": "CEU2000000057",
                                    "industry_code": "20000000",
                                    "industry_name": "Construction",
                                    "value": "6925429"
                                },
                                {
                                    "series_id": "CEU2000000057",
                                    "industry_code": "20000000",
                                    "industry_name": "Construction",
                                    "value": "6925429"
                                },
                                {
                                    "series_id": "CEU2000000082",
                                    "industry_code": "20000000",
                                    "industry_name": "Construction",
                                    "value": "4724156"
                                },
                                {
                                    "series_id": "CEU2000000082",
                                    "industry_code": "20000000",
                                    "industry_name": "Construction",
                                    "value": "4724156"
                                },
                                {
                                    "series_id": "CEU2023600057",
                                    "industry_code": "20236000",
                                    "industry_name": "Construction of buildings",
                                    "value": "1692237"
                                },
                                {
                                    "series_id": "CEU2023600057",
                                    "industry_code": "20236000",
                                    "industry_name": "Construction of buildings",
                                    "value": "1692237"
                                },
                                {
                                    "series_id": "CEU2023600082",
                                    "industry_code": "20236000",
                                    "industry_name": "Construction of buildings",
                                    "value": "940800"
                                },
                                {
                                    "series_id": "CEU2023600082",
                                    "industry_code": "20236000",
                                    "industry_name": "Construction of buildings",
                                    "value": "940800"
                                },
                                {
                                    "series_id": "CEU2023620057",
                                    "industry_code": "20236200",
                                    "industry_name": "Nonresidential building",
                                    "value": "953792"
                                },
                                {
                                    "series_id": "CEU2023620057",
                                    "industry_code": "20236200",
                                    "industry_name": "Nonresidential building",
                                    "value": "953792"
                                },
                                {
                                    "series_id": "CEU2023700057",
                                    "industry_code": "20237000",
                                    "industry_name": "Heavy and civil engineering construction",
                                    "value": "1023452"
                                },
                                {
                                    "series_id": "CEU2023700057",
                                    "industry_code": "20237000",
                                    "industry_name": "Heavy and civil engineering construction",
                                    "value": "1023452"
                                },
                                {
                                    "series_id": "CEU2023800057",
                                    "industry_code": "20238000",
                                    "industry_name": "Specialty trade contractors",
                                    "value": "4210973"
                                },
                                {
                                    "series_id": "CEU2023800057",
                                    "industry_code": "20238000",
                                    "industry_name": "Specialty trade contractors",
                                    "value": "4210973"
                                },
                                {
                                    "series_id": "CEU2023800082",
                                    "industry_code": "20238000",
                                    "industry_name": "Specialty trade contractors",
                                    "value": "3062211"
                                },
                                {
                                    "series_id": "CEU2023800082",
                                    "industry_code": "20238000",
                                    "industry_name": "Specialty trade contractors",
                                    "value": "3062211"
                                },
                                {
                                    "series_id": "CEU2023820057",
                                    "industry_code": "20238200",
                                    "industry_name": "Building equipment contractors",
                                    "value": "2238858"
                                },
                                {
                                    "series_id": "CEU2023820057",
                                    "industry_code": "20238200",
                                    "industry_name": "Building equipment contractors",
                                    "value": "2238858"
                                },
                                {
                                    "series_id": "CEU2023820082",
                                    "industry_code": "20238200",
                                    "industry_name": "Building equipment contractors",
                                    "value": "1621266"
                                },
                                {
                                    "series_id": "CEU2023820082",
                                    "industry_code": "20238200",
                                    "industry_name": "Building equipment contractors",
                                    "value": "1621266"
                                },
                                {
                                    "series_id": "CEU2023821057",
                                    "industry_code": "20238210",
                                    "industry_name": "Electrical contractors",
                                    "value": "988806"
                                },
                                {
                                    "series_id": "CEU2023821057",
                                    "industry_code": "20238210",
                                    "industry_name": "Electrical contractors",
                                    "value": "988806"
                                },
                                {
                                    "series_id": "CEU2023822057",
                                    "industry_code": "20238220",
                                    "industry_name": "Plumbing and HVAC contractors",
                                    "value": "1082068"
                                },
                                {
                                    "series_id": "CEU2023822057",
                                    "industry_code": "20238220",
                                    "industry_name": "Plumbing and HVAC contractors",
                                    "value": "1082068"
                                },
                                {
                                    "series_id": "CEU3000000057",
                                    "industry_code": "30000000",
                                    "industry_name": "Manufacturing",
                                    "value": "13241229"
                                },
                                {
                                    "series_id": "CEU3000000057",
                                    "industry_code": "30000000",
                                    "industry_name": "Manufacturing",
                                    "value": "13241229"
                                },
                                {
                                    "series_id": "CEU3000000082",
                                    "industry_code": "30000000",
                                    "industry_name": "Manufacturing",
                                    "value": "7411960"
                                },
                                {
                                    "series_id": "CEU3000000082",
                                    "industry_code": "30000000",
                                    "industry_name": "Manufacturing",
                                    "value": "7411960"
                                },
                                {
                                    "series_id": "CEU3100000057",
                                    "industry_code": "31000000",
                                    "industry_name": "Durable goods",
                                    "value": "8758974"
                                },
                                {
                                    "series_id": "CEU3100000057",
                                    "industry_code": "31000000",
                                    "industry_name": "Durable goods",
                                    "value": "8758974"
                                },
                                {
                                    "series_id": "CEU3100000082",
                                    "industry_code": "31000000",
                                    "industry_name": "Durable goods",
                                    "value": "4808368"
                                },
                                {
                                    "series_id": "CEU3100000082",
                                    "industry_code": "31000000",
                                    "industry_name": "Durable goods",
                                    "value": "4808368"
                                },
                                {
                                    "series_id": "CEU3133200057",
                                    "industry_code": "31332000",
                                    "industry_name": "Fabricated metal products",
                                    "value": "1417807"
                                },
                                {
                                    "series_id": "CEU3133200057",
                                    "industry_code": "31332000",
                                    "industry_name": "Fabricated metal products",
                                    "value": "1417807"
                                },
                                {
                                    "series_id": "CEU3133200082",
                                    "industry_code": "31332000",
                                    "industry_name": "Fabricated metal products",
                                    "value": "867242"
                                },
                                {
                                    "series_id": "CEU3133200082",
                                    "industry_code": "31332000",
                                    "industry_name": "Fabricated metal products",
                                    "value": "867242"
                                },
                                {
                                    "series_id": "CEU3133300057",
                                    "industry_code": "31333000",
                                    "industry_name": "Machinery",
                                    "value": "1259875"
                                },
                                {
                                    "series_id": "CEU3133300057",
                                    "industry_code": "31333000",
                                    "industry_name": "Machinery",
                                    "value": "1259875"
                                },
                                {
                                    "series_id": "CEU3133400057",
                                    "industry_code": "31334000",
                                    "industry_name": "Computer and electronic products",
                                    "value": "1499453"
                                },
                                {
                                    "series_id": "CEU3133400057",
                                    "industry_code": "31334000",
                                    "industry_name": "Computer and electronic products",
                                    "value": "1499453"
                                },
                                {
                                    "series_id": "CEU3133600057",
                                    "industry_code": "31336000",
                                    "industry_name": "Transportation equipment",
                                    "value": "2137791"
                                },
                                {
                                    "series_id": "CEU3133600057",
                                    "industry_code": "31336000",
                                    "industry_name": "Transportation equipment",
                                    "value": "2137791"
                                },
                                {
                                    "series_id": "CEU3133600082",
                                    "industry_code": "31336000",
                                    "industry_name": "Transportation equipment",
                                    "value": "1242685"
                                },
                                {
                                    "series_id": "CEU3133600082",
                                    "industry_code": "31336000",
                                    "industry_name": "Transportation equipment",
                                    "value": "1242685"
                                },
                                {
                                    "series_id": "CEU3133600157",
                                    "industry_code": "31336001",
                                    "industry_name": "NULL",
                                    "value": "1053186"
                                },
                                {
                                    "series_id": "CEU3133600157",
                                    "industry_code": "31336001",
                                    "industry_name": "NULL",
                                    "value": "1053186"
                                },
                                {
                                    "series_id": "CEU3133640057",
                                    "industry_code": "31336400",
                                    "industry_name": "Aerospace products and parts",
                                    "value": "872986"
                                },
                                {
                                    "series_id": "CEU3133640057",
                                    "industry_code": "31336400",
                                    "industry_name": "Aerospace products and parts",
                                    "value": "872986"
                                },
                                {
                                    "series_id": "CEU3200000057",
                                    "industry_code": "32000000",
                                    "industry_name": "Nondurable goods",
                                    "value": "4468396"
                                },
                                {
                                    "series_id": "CEU3200000057",
                                    "industry_code": "32000000",
                                    "industry_name": "Nondurable goods",
                                    "value": "4468396"
                                },
                                {
                                    "series_id": "CEU3200000082",
                                    "industry_code": "32000000",
                                    "industry_name": "Nondurable goods",
                                    "value": "2605069"
                                },
                                {
                                    "series_id": "CEU3200000082",
                                    "industry_code": "32000000",
                                    "industry_name": "Nondurable goods",
                                    "value": "2605069"
                                },
                                {
                                    "series_id": "CEU3231100057",
                                    "industry_code": "32311000",
                                    "industry_name": "Food manufacturing",
                                    "value": "1275631"
                                },
                                {
                                    "series_id": "CEU3231100057",
                                    "industry_code": "32311000",
                                    "industry_name": "Food manufacturing",
                                    "value": "1275631"
                                },
                                {
                                    "series_id": "CEU3231100082",
                                    "industry_code": "32311000",
                                    "industry_name": "Food manufacturing",
                                    "value": "842201"
                                },
                                {
                                    "series_id": "CEU3231100082",
                                    "industry_code": "32311000",
                                    "industry_name": "Food manufacturing",
                                    "value": "842201"
                                },
                                {
                                    "series_id": "CEU3232500057",
                                    "industry_code": "32325000",
                                    "industry_name": "Chemicals",
                                    "value": "1086916"
                                },
                                {
                                    "series_id": "CEU3232500057",
                                    "industry_code": "32325000",
                                    "industry_name": "Chemicals",
                                    "value": "1086916"
                                },
                                {
                                    "series_id": "CEU4000000056",
                                    "industry_code": "40000000",
                                    "industry_name": "Trade",
                                    "value": "928918"
                                },
                                {
                                    "series_id": "CEU4000000056",
                                    "industry_code": "40000000",
                                    "industry_name": "Trade",
                                    "value": "928918"
                                },
                                {
                                    "series_id": "CEU4000000057",
                                    "industry_code": "40000000",
                                    "industry_name": "Trade",
                                    "value": "21207198"
                                },
                                {
                                    "series_id": "CEU4000000057",
                                    "industry_code": "40000000",
                                    "industry_name": "Trade",
                                    "value": "21207198"
                                },
                                {
                                    "series_id": "CEU4000000082",
                                    "industry_code": "40000000",
                                    "industry_name": "Trade",
                                    "value": "14732108"
                                },
                                {
                                    "series_id": "CEU4000000082",
                                    "industry_code": "40000000",
                                    "industry_name": "Trade",
                                    "value": "14732108"
                                },
                                {
                                    "series_id": "CEU4142000057",
                                    "industry_code": "41420000",
                                    "industry_name": "Wholesale trade",
                                    "value": "6930351"
                                },
                                {
                                    "series_id": "CEU4142000057",
                                    "industry_code": "41420000",
                                    "industry_name": "Wholesale trade",
                                    "value": "6930351"
                                },
                                {
                                    "series_id": "CEU4142000082",
                                    "industry_code": "41420000",
                                    "industry_name": "Wholesale trade",
                                    "value": "4506110"
                                },
                                {
                                    "series_id": "CEU4142000082",
                                    "industry_code": "41420000",
                                    "industry_name": "Wholesale trade",
                                    "value": "4506110"
                                },
                                {
                                    "series_id": "CEU4142300057",
                                    "industry_code": "41423000",
                                    "industry_name": "Durable goods",
                                    "value": "3494945"
                                },
                                {
                                    "series_id": "CEU4142300057",
                                    "industry_code": "41423000",
                                    "industry_name": "Durable goods",
                                    "value": "3494945"
                                },
                                {
                                    "series_id": "CEU4142300082",
                                    "industry_code": "41423000",
                                    "industry_name": "Durable goods",
                                    "value": "2283094"
                                },
                                {
                                    "series_id": "CEU4142300082",
                                    "industry_code": "41423000",
                                    "industry_name": "Durable goods",
                                    "value": "2283094"
                                },
                                {
                                    "series_id": "CEU4142340057",
                                    "industry_code": "41423400",
                                    "industry_name": "Commercial equipment",
                                    "value": "949056"
                                },
                                {
                                    "series_id": "CEU4142340057",
                                    "industry_code": "41423400",
                                    "industry_name": "Commercial equipment",
                                    "value": "949056"
                                },
                                {
                                    "series_id": "CEU4142400057",
                                    "industry_code": "41424000",
                                    "industry_name": "Nondurable goods",
                                    "value": "2044132"
                                },
                                {
                                    "series_id": "CEU4142400057",
                                    "industry_code": "41424000",
                                    "industry_name": "Nondurable goods",
                                    "value": "2044132"
                                },
                                {
                                    "series_id": "CEU4142400082",
                                    "industry_code": "41424000",
                                    "industry_name": "Nondurable goods",
                                    "value": "1348136"
                                },
                                {
                                    "series_id": "CEU4142400082",
                                    "industry_code": "41424000",
                                    "industry_name": "Nondurable goods",
                                    "value": "1348136"
                                },
                                {
                                    "series_id": "CEU4142500057",
                                    "industry_code": "41425000",
                                    "industry_name": "Electronic markets and agents and brokers",
                                    "value": "1389263"
                                },
                                {
                                    "series_id": "CEU4142500057",
                                    "industry_code": "41425000",
                                    "industry_name": "Electronic markets and agents and brokers",
                                    "value": "1389263"
                                },
                                {
                                    "series_id": "CEU4142500082",
                                    "industry_code": "41425000",
                                    "industry_name": "Electronic markets and agents and brokers",
                                    "value": "873578"
                                },
                                {
                                    "series_id": "CEU4142500082",
                                    "industry_code": "41425000",
                                    "industry_name": "Electronic markets and agents and brokers",
                                    "value": "873578"
                                },
                                {
                                    "series_id": "CEU4142512057",
                                    "industry_code": "41425120",
                                    "industry_name": "Wholesale trade agents and brokers",
                                    "value": "1347220"
                                },
                                {
                                    "series_id": "CEU4142512057",
                                    "industry_code": "41425120",
                                    "industry_name": "Wholesale trade agents and brokers",
                                    "value": "1347220"
                                },
                                {
                                    "series_id": "CEU4142512082",
                                    "industry_code": "41425120",
                                    "industry_name": "Wholesale trade agents and brokers",
                                    "value": "851551"
                                },
                                {
                                    "series_id": "CEU4142512082",
                                    "industry_code": "41425120",
                                    "industry_name": "Wholesale trade agents and brokers",
                                    "value": "851551"
                                },
                                {
                                    "series_id": "CEU4200000057",
                                    "industry_code": "42000000",
                                    "industry_name": "Retail trade",
                                    "value": "8761040"
                                },
                                {
                                    "series_id": "CEU4200000057",
                                    "industry_code": "42000000",
                                    "industry_name": "Retail trade",
                                    "value": "8761040"
                                },
                                {
                                    "series_id": "CEU4200000082",
                                    "industry_code": "42000000",
                                    "industry_name": "Retail trade",
                                    "value": "6060100"
                                },
                                {
                                    "series_id": "CEU4200000082",
                                    "industry_code": "42000000",
                                    "industry_name": "Retail trade",
                                    "value": "6060100"
                                },
                                {
                                    "series_id": "CEU4244100057",
                                    "industry_code": "42441000",
                                    "industry_name": "Motor vehicle and parts dealers",
                                    "value": "1724940"
                                },
                                {
                                    "series_id": "CEU4244100057",
                                    "industry_code": "42441000",
                                    "industry_name": "Motor vehicle and parts dealers",
                                    "value": "1724940"
                                },
                                {
                                    "series_id": "CEU4244100082",
                                    "industry_code": "42441000",
                                    "industry_name": "Motor vehicle and parts dealers",
                                    "value": "1163420"
                                },
                                {
                                    "series_id": "CEU4244100082",
                                    "industry_code": "42441000",
                                    "industry_name": "Motor vehicle and parts dealers",
                                    "value": "1163420"
                                },
                                {
                                    "series_id": "CEU4244110057",
                                    "industry_code": "42441100",
                                    "industry_name": "Automobile dealers",
                                    "value": "1239175"
                                },
                                {
                                    "series_id": "CEU4244110057",
                                    "industry_code": "42441100",
                                    "industry_name": "Automobile dealers",
                                    "value": "1239175"
                                },
                                {
                                    "series_id": "CEU4244110082",
                                    "industry_code": "42441100",
                                    "industry_name": "Automobile dealers",
                                    "value": "831131"
                                },
                                {
                                    "series_id": "CEU4244110082",
                                    "industry_code": "42441100",
                                    "industry_name": "Automobile dealers",
                                    "value": "831131"
                                },
                                {
                                    "series_id": "CEU4244111057",
                                    "industry_code": "42441110",
                                    "industry_name": "New car dealers",
                                    "value": "1119385"
                                },
                                {
                                    "series_id": "CEU4244111057",
                                    "industry_code": "42441110",
                                    "industry_name": "New car dealers",
                                    "value": "1119385"
                                },
                                {
                                    "series_id": "CEU4244500057",
                                    "industry_code": "42445000",
                                    "industry_name": "Food and beverage stores",
                                    "value": "1338097"
                                },
                                {
                                    "series_id": "CEU4244500057",
                                    "industry_code": "42445000",
                                    "industry_name": "Food and beverage stores",
                                    "value": "1338097"
                                },
                                {
                                    "series_id": "CEU4244500082",
                                    "industry_code": "42445000",
                                    "industry_name": "Food and beverage stores",
                                    "value": "963315"
                                },
                                {
                                    "series_id": "CEU4244500082",
                                    "industry_code": "42445000",
                                    "industry_name": "Food and beverage stores",
                                    "value": "963315"
                                },
                                {
                                    "series_id": "CEU4244510057",
                                    "industry_code": "42445100",
                                    "industry_name": "Grocery stores",
                                    "value": "1168906"
                                },
                                {
                                    "series_id": "CEU4244510057",
                                    "industry_code": "42445100",
                                    "industry_name": "Grocery stores",
                                    "value": "1168906"
                                },
                                {
                                    "series_id": "CEU4244510082",
                                    "industry_code": "42445100",
                                    "industry_name": "Grocery stores",
                                    "value": "861224"
                                },
                                {
                                    "series_id": "CEU4244510082",
                                    "industry_code": "42445100",
                                    "industry_name": "Grocery stores",
                                    "value": "861224"
                                },
                                {
                                    "series_id": "CEU4244511057",
                                    "industry_code": "42445110",
                                    "industry_name": "Supermarkets and other grocery stores",
                                    "value": "1110354"
                                },
                                {
                                    "series_id": "CEU4244511057",
                                    "industry_code": "42445110",
                                    "industry_name": "Supermarkets and other grocery stores",
                                    "value": "1110354"
                                },
                                {
                                    "series_id": "CEU4245200057",
                                    "industry_code": "42452000",
                                    "industry_name": "General merchandise stores",
                                    "value": "1376086"
                                },
                                {
                                    "series_id": "CEU4245200057",
                                    "industry_code": "42452000",
                                    "industry_name": "General merchandise stores",
                                    "value": "1376086"
                                },
                                {
                                    "series_id": "CEU4245200082",
                                    "industry_code": "42452000",
                                    "industry_name": "General merchandise stores",
                                    "value": "1049973"
                                },
                                {
                                    "series_id": "CEU4245200082",
                                    "industry_code": "42452000",
                                    "industry_name": "General merchandise stores",
                                    "value": "1049973"
                                },
                                {
                                    "series_id": "CEU4300000057",
                                    "industry_code": "43000000",
                                    "industry_name": "Transportation and warehousing",
                                    "value": "4575913"
                                },
                                {
                                    "series_id": "CEU4300000057",
                                    "industry_code": "43000000",
                                    "industry_name": "Transportation and warehousing",
                                    "value": "4575913"
                                },
                                {
                                    "series_id": "CEU4300000082",
                                    "industry_code": "43000000",
                                    "industry_name": "Transportation and warehousing",
                                    "value": "3495553"
                                },
                                {
                                    "series_id": "CEU4300000082",
                                    "industry_code": "43000000",
                                    "industry_name": "Transportation and warehousing",
                                    "value": "3495553"
                                },
                                {
                                    "series_id": "CEU4348400057",
                                    "industry_code": "43484000",
                                    "industry_name": "Truck transportation",
                                    "value": "1346733"
                                },
                                {
                                    "series_id": "CEU4348400057",
                                    "industry_code": "43484000",
                                    "industry_name": "Truck transportation",
                                    "value": "1346733"
                                },
                                {
                                    "series_id": "CEU4348400082",
                                    "industry_code": "43484000",
                                    "industry_name": "Truck transportation",
                                    "value": "1092427"
                                },
                                {
                                    "series_id": "CEU4348400082",
                                    "industry_code": "43484000",
                                    "industry_name": "Truck transportation",
                                    "value": "1092427"
                                },
                                {
                                    "series_id": "CEU4348410057",
                                    "industry_code": "43484100",
                                    "industry_name": "General freight trucking",
                                    "value": "952051"
                                },
                                {
                                    "series_id": "CEU4348410057",
                                    "industry_code": "43484100",
                                    "industry_name": "General freight trucking",
                                    "value": "952051"
                                },
                                {
                                    "series_id": "CEU4422000057",
                                    "industry_code": "44220000",
                                    "industry_name": "Utilities",
                                    "value": "919164"
                                },
                                {
                                    "series_id": "CEU4422000057",
                                    "industry_code": "44220000",
                                    "industry_name": "Utilities",
                                    "value": "919164"
                                },
                                {
                                    "series_id": "CEU5000000057",
                                    "industry_code": "50000000",
                                    "industry_name": "Information",
                                    "value": "3839933"
                                },
                                {
                                    "series_id": "CEU5000000057",
                                    "industry_code": "50000000",
                                    "industry_name": "Information",
                                    "value": "3839933"
                                },
                                {
                                    "series_id": "CEU5000000082",
                                    "industry_code": "50000000",
                                    "industry_name": "Information",
                                    "value": "2434992"
                                },
                                {
                                    "series_id": "CEU5000000082",
                                    "industry_code": "50000000",
                                    "industry_name": "Information",
                                    "value": "2434992"
                                },
                                {
                                    "series_id": "CEU5051100057",
                                    "industry_code": "50511000",
                                    "industry_name": "Publishing industries",
                                    "value": "1227512"
                                },
                                {
                                    "series_id": "CEU5051100057",
                                    "industry_code": "50511000",
                                    "industry_name": "Publishing industries",
                                    "value": "1227512"
                                },
                                {
                                    "series_id": "CEU5051120057",
                                    "industry_code": "50511200",
                                    "industry_name": "Software publishers",
                                    "value": "860100"
                                },
                                {
                                    "series_id": "CEU5051120057",
                                    "industry_code": "50511200",
                                    "industry_name": "Software publishers",
                                    "value": "860100"
                                },
                                {
                                    "series_id": "CEU5051700057",
                                    "industry_code": "50517000",
                                    "industry_name": "Telecommunications",
                                    "value": "1020155"
                                },
                                {
                                    "series_id": "CEU5051700057",
                                    "industry_code": "50517000",
                                    "industry_name": "Telecommunications",
                                    "value": "1020155"
                                },
                                {
                                    "series_id": "CEU5500000057",
                                    "industry_code": "55000000",
                                    "industry_name": "Financial activities",
                                    "value": "10456034"
                                },
                                {
                                    "series_id": "CEU5500000057",
                                    "industry_code": "55000000",
                                    "industry_name": "Financial activities",
                                    "value": "10456034"
                                },
                                {
                                    "series_id": "CEU5500000082",
                                    "industry_code": "55000000",
                                    "industry_name": "Financial activities",
                                    "value": "6467426"
                                },
                                {
                                    "series_id": "CEU5500000082",
                                    "industry_code": "55000000",
                                    "industry_name": "Financial activities",
                                    "value": "6467426"
                                },
                                {
                                    "series_id": "CEU5552200057",
                                    "industry_code": "55522000",
                                    "industry_name": "Credit intermediation and related activities",
                                    "value": "3149170"
                                },
                                {
                                    "series_id": "CEU5552200057",
                                    "industry_code": "55522000",
                                    "industry_name": "Credit intermediation and related activities",
                                    "value": "3149170"
                                },
                                {
                                    "series_id": "CEU5552200082",
                                    "industry_code": "55522000",
                                    "industry_name": "Credit intermediation and related activities",
                                    "value": "1767137"
                                },
                                {
                                    "series_id": "CEU5552200082",
                                    "industry_code": "55522000",
                                    "industry_name": "Credit intermediation and related activities",
                                    "value": "1767137"
                                },
                                {
                                    "series_id": "CEU5552210057",
                                    "industry_code": "55522100",
                                    "industry_name": "Depository credit intermediation",
                                    "value": "1979117"
                                },
                                {
                                    "series_id": "CEU5552210057",
                                    "industry_code": "55522100",
                                    "industry_name": "Depository credit intermediation",
                                    "value": "1979117"
                                },
                                {
                                    "series_id": "CEU5552210082",
                                    "industry_code": "55522100",
                                    "industry_name": "Depository credit intermediation",
                                    "value": "1004069"
                                },
                                {
                                    "series_id": "CEU5552210082",
                                    "industry_code": "55522100",
                                    "industry_name": "Depository credit intermediation",
                                    "value": "1004069"
                                },
                                {
                                    "series_id": "CEU5552211057",
                                    "industry_code": "55522110",
                                    "industry_name": "Commercial banking",
                                    "value": "1575662"
                                },
                                {
                                    "series_id": "CEU5552211057",
                                    "industry_code": "55522110",
                                    "industry_name": "Commercial banking",
                                    "value": "1575662"
                                },
                                {
                                    "series_id": "CEU5552300057",
                                    "industry_code": "55523000",
                                    "industry_name": "NULL",
                                    "value": "1818312"
                                },
                                {
                                    "series_id": "CEU5552300057",
                                    "industry_code": "55523000",
                                    "industry_name": "NULL",
                                    "value": "1818312"
                                },
                                {
                                    "series_id": "CEU5552300082",
                                    "industry_code": "55523000",
                                    "industry_name": "NULL",
                                    "value": "1087325"
                                },
                                {
                                    "series_id": "CEU5552300082",
                                    "industry_code": "55523000",
                                    "industry_name": "NULL",
                                    "value": "1087325"
                                },
                                {
                                    "series_id": "CEU5552320057",
                                    "industry_code": "55523200",
                                    "industry_name": "NULL",
                                    "value": "882519"
                                },
                                {
                                    "series_id": "CEU5552320057",
                                    "industry_code": "55523200",
                                    "industry_name": "NULL",
                                    "value": "882519"
                                },
                                {
                                    "series_id": "CEU5552390057",
                                    "industry_code": "55523900",
                                    "industry_name": "Other financial investment activities",
                                    "value": "937922"
                                },
                                {
                                    "series_id": "CEU5552390057",
                                    "industry_code": "55523900",
                                    "industry_name": "Other financial investment activities",
                                    "value": "937922"
                                },
                                {
                                    "series_id": "CEU5552400057",
                                    "industry_code": "55524000",
                                    "industry_name": "Insurance carriers and related activities",
                                    "value": "3532152"
                                },
                                {
                                    "series_id": "CEU5552400057",
                                    "industry_code": "55524000",
                                    "industry_name": "Insurance carriers and related activities",
                                    "value": "3532152"
                                },
                                {
                                    "series_id": "CEU5552400082",
                                    "industry_code": "55524000",
                                    "industry_name": "Insurance carriers and related activities",
                                    "value": "2408490"
                                },
                                {
                                    "series_id": "CEU5552400082",
                                    "industry_code": "55524000",
                                    "industry_name": "Insurance carriers and related activities",
                                    "value": "2408490"
                                },
                                {
                                    "series_id": "CEU5552410057",
                                    "industry_code": "55524100",
                                    "industry_name": "Insurance carriers",
                                    "value": "2215577"
                                },
                                {
                                    "series_id": "CEU5552410057",
                                    "industry_code": "55524100",
                                    "industry_name": "Insurance carriers",
                                    "value": "2215577"
                                },
                                {
                                    "series_id": "CEU5552410082",
                                    "industry_code": "55524100",
                                    "industry_name": "Insurance carriers",
                                    "value": "1509979"
                                },
                                {
                                    "series_id": "CEU5552410082",
                                    "industry_code": "55524100",
                                    "industry_name": "Insurance carriers",
                                    "value": "1509979"
                                },
                                {
                                    "series_id": "CEU5552411057",
                                    "industry_code": "55524110",
                                    "industry_name": "Direct life and health insurance carriers",
                                    "value": "1216763"
                                },
                                {
                                    "series_id": "CEU5552411057",
                                    "industry_code": "55524110",
                                    "industry_name": "Direct life and health insurance carriers",
                                    "value": "1216763"
                                },
                                {
                                    "series_id": "CEU5552412057",
                                    "industry_code": "55524120",
                                    "industry_name": "Direct insurers",
                                    "value": "941433"
                                },
                                {
                                    "series_id": "CEU5552412057",
                                    "industry_code": "55524120",
                                    "industry_name": "Direct insurers",
                                    "value": "941433"
                                },
                                {
                                    "series_id": "CEU5552420057",
                                    "industry_code": "55524200",
                                    "industry_name": "Insurance agencies",
                                    "value": "1315375"
                                },
                                {
                                    "series_id": "CEU5552420057",
                                    "industry_code": "55524200",
                                    "industry_name": "Insurance agencies",
                                    "value": "1315375"
                                },
                                {
                                    "series_id": "CEU5552420082",
                                    "industry_code": "55524200",
                                    "industry_name": "Insurance agencies",
                                    "value": "894878"
                                },
                                {
                                    "series_id": "CEU5552420082",
                                    "industry_code": "55524200",
                                    "industry_name": "Insurance agencies",
                                    "value": "894878"
                                },
                                {
                                    "series_id": "CEU5552421057",
                                    "industry_code": "55524210",
                                    "industry_name": "Insurance agencies and brokerages",
                                    "value": "878065"
                                },
                                {
                                    "series_id": "CEU5552421057",
                                    "industry_code": "55524210",
                                    "industry_name": "Insurance agencies and brokerages",
                                    "value": "878065"
                                },
                                {
                                    "series_id": "CEU5553100057",
                                    "industry_code": "55531000",
                                    "industry_name": "Real estate",
                                    "value": "1418712"
                                },
                                {
                                    "series_id": "CEU5553100057",
                                    "industry_code": "55531000",
                                    "industry_name": "Real estate",
                                    "value": "1418712"
                                },
                                {
                                    "series_id": "CEU5553100082",
                                    "industry_code": "55531000",
                                    "industry_name": "Real estate",
                                    "value": "865620"
                                },
                                {
                                    "series_id": "CEU5553100082",
                                    "industry_code": "55531000",
                                    "industry_name": "Real estate",
                                    "value": "865620"
                                },
                                {
                                    "series_id": "CEU6000000057",
                                    "industry_code": "60000000",
                                    "industry_name": "Professional and business services",
                                    "value": "23230608"
                                },
                                {
                                    "series_id": "CEU6000000057",
                                    "industry_code": "60000000",
                                    "industry_name": "Professional and business services",
                                    "value": "23230608"
                                },
                                {
                                    "series_id": "CEU6000000082",
                                    "industry_code": "60000000",
                                    "industry_name": "Professional and business services",
                                    "value": "15219807"
                                },
                                {
                                    "series_id": "CEU6000000082",
                                    "industry_code": "60000000",
                                    "industry_name": "Professional and business services",
                                    "value": "15219807"
                                },
                                {
                                    "series_id": "CEU6054000057",
                                    "industry_code": "60540000",
                                    "industry_name": "Professional and technical services",
                                    "value": "13718735"
                                },
                                {
                                    "series_id": "CEU6054000057",
                                    "industry_code": "60540000",
                                    "industry_name": "Professional and technical services",
                                    "value": "13718735"
                                },
                                {
                                    "series_id": "CEU6054000082",
                                    "industry_code": "60540000",
                                    "industry_name": "Professional and technical services",
                                    "value": "8976687"
                                },
                                {
                                    "series_id": "CEU6054000082",
                                    "industry_code": "60540000",
                                    "industry_name": "Professional and technical services",
                                    "value": "8976687"
                                },
                                {
                                    "series_id": "CEU6054110057",
                                    "industry_code": "60541100",
                                    "industry_name": "Legal services",
                                    "value": "1722541"
                                },
                                {
                                    "series_id": "CEU6054110057",
                                    "industry_code": "60541100",
                                    "industry_name": "Legal services",
                                    "value": "1722541"
                                },
                                {
                                    "series_id": "CEU6054110082",
                                    "industry_code": "60541100",
                                    "industry_name": "Legal services",
                                    "value": "1093898"
                                },
                                {
                                    "series_id": "CEU6054110082",
                                    "industry_code": "60541100",
                                    "industry_name": "Legal services",
                                    "value": "1093898"
                                },
                                {
                                    "series_id": "CEU6054111057",
                                    "industry_code": "60541110",
                                    "industry_name": "Offices of lawyers",
                                    "value": "1641024"
                                },
                                {
                                    "series_id": "CEU6054111057",
                                    "industry_code": "60541110",
                                    "industry_name": "Offices of lawyers",
                                    "value": "1641024"
                                },
                                {
                                    "series_id": "CEU6054111082",
                                    "industry_code": "60541110",
                                    "industry_name": "Offices of lawyers",
                                    "value": "1038464"
                                },
                                {
                                    "series_id": "CEU6054111082",
                                    "industry_code": "60541110",
                                    "industry_name": "Offices of lawyers",
                                    "value": "1038464"
                                },
                                {
                                    "series_id": "CEU6054120057",
                                    "industry_code": "60541200",
                                    "industry_name": "Accounting and bookkeeping services",
                                    "value": "1202203"
                                },
                                {
                                    "series_id": "CEU6054120057",
                                    "industry_code": "60541200",
                                    "industry_name": "Accounting and bookkeeping services",
                                    "value": "1202203"
                                },
                                {
                                    "series_id": "CEU6054130057",
                                    "industry_code": "60541300",
                                    "industry_name": "Architectural and engineering services",
                                    "value": "2146385"
                                },
                                {
                                    "series_id": "CEU6054130057",
                                    "industry_code": "60541300",
                                    "industry_name": "Architectural and engineering services",
                                    "value": "2146385"
                                },
                                {
                                    "series_id": "CEU6054130082",
                                    "industry_code": "60541300",
                                    "industry_name": "Architectural and engineering services",
                                    "value": "1422967"
                                },
                                {
                                    "series_id": "CEU6054130082",
                                    "industry_code": "60541300",
                                    "industry_name": "Architectural and engineering services",
                                    "value": "1422967"
                                },
                                {
                                    "series_id": "CEU6054134057",
                                    "industry_code": "60541340",
                                    "industry_name": "NULL",
                                    "value": "1537888"
                                },
                                {
                                    "series_id": "CEU6054134057",
                                    "industry_code": "60541340",
                                    "industry_name": "NULL",
                                    "value": "1537888"
                                },
                                {
                                    "series_id": "CEU6054134082",
                                    "industry_code": "60541340",
                                    "industry_name": "NULL",
                                    "value": "1042223"
                                },
                                {
                                    "series_id": "CEU6054134082",
                                    "industry_code": "60541340",
                                    "industry_name": "NULL",
                                    "value": "1042223"
                                },
                                {
                                    "series_id": "CEU6054150057",
                                    "industry_code": "60541500",
                                    "industry_name": "Computer systems design and related services",
                                    "value": "3676138"
                                },
                                {
                                    "series_id": "CEU6054150057",
                                    "industry_code": "60541500",
                                    "industry_name": "Computer systems design and related services",
                                    "value": "3676138"
                                },
                                {
                                    "series_id": "CEU6054150082",
                                    "industry_code": "60541500",
                                    "industry_name": "Computer systems design and related services",
                                    "value": "2725031"
                                },
                                {
                                    "series_id": "CEU6054150082",
                                    "industry_code": "60541500",
                                    "industry_name": "Computer systems design and related services",
                                    "value": "2725031"
                                },
                                {
                                    "series_id": "CEU6054151157",
                                    "industry_code": "60541511",
                                    "industry_name": "Custom computer programming services",
                                    "value": "1639255"
                                },
                                {
                                    "series_id": "CEU6054151157",
                                    "industry_code": "60541511",
                                    "industry_name": "Custom computer programming services",
                                    "value": "1639255"
                                },
                                {
                                    "series_id": "CEU6054151182",
                                    "industry_code": "60541511",
                                    "industry_name": "Custom computer programming services",
                                    "value": "1198283"
                                },
                                {
                                    "series_id": "CEU6054151182",
                                    "industry_code": "60541511",
                                    "industry_name": "Custom computer programming services",
                                    "value": "1198283"
                                },
                                {
                                    "series_id": "CEU6054151257",
                                    "industry_code": "60541512",
                                    "industry_name": "Computer systems design services",
                                    "value": "1738428"
                                },
                                {
                                    "series_id": "CEU6054151257",
                                    "industry_code": "60541512",
                                    "industry_name": "Computer systems design services",
                                    "value": "1738428"
                                },
                                {
                                    "series_id": "CEU6054151282",
                                    "industry_code": "60541512",
                                    "industry_name": "Computer systems design services",
                                    "value": "1309441"
                                },
                                {
                                    "series_id": "CEU6054151282",
                                    "industry_code": "60541512",
                                    "industry_name": "Computer systems design services",
                                    "value": "1309441"
                                },
                                {
                                    "series_id": "CEU6054160057",
                                    "industry_code": "60541600",
                                    "industry_name": "Management and technical consulting services",
                                    "value": "2123095"
                                },
                                {
                                    "series_id": "CEU6054160057",
                                    "industry_code": "60541600",
                                    "industry_name": "Management and technical consulting services",
                                    "value": "2123095"
                                },
                                {
                                    "series_id": "CEU6054160082",
                                    "industry_code": "60541600",
                                    "industry_name": "Management and technical consulting services",
                                    "value": "1336594"
                                },
                                {
                                    "series_id": "CEU6054160082",
                                    "industry_code": "60541600",
                                    "industry_name": "Management and technical consulting services",
                                    "value": "1336594"
                                },
                                {
                                    "series_id": "CEU6054161057",
                                    "industry_code": "60541610",
                                    "industry_name": "Management consulting services",
                                    "value": "1755386"
                                },
                                {
                                    "series_id": "CEU6054161057",
                                    "industry_code": "60541610",
                                    "industry_name": "Management consulting services",
                                    "value": "1755386"
                                },
                                {
                                    "series_id": "CEU6054161082",
                                    "industry_code": "60541610",
                                    "industry_name": "Management consulting services",
                                    "value": "1066602"
                                },
                                {
                                    "series_id": "CEU6054161082",
                                    "industry_code": "60541610",
                                    "industry_name": "Management consulting services",
                                    "value": "1066602"
                                },
                                {
                                    "series_id": "CEU6054161157",
                                    "industry_code": "60541611",
                                    "industry_name": "Administrative management consulting services",
                                    "value": "981156"
                                },
                                {
                                    "series_id": "CEU6054161157",
                                    "industry_code": "60541611",
                                    "industry_name": "Administrative management consulting services",
                                    "value": "981156"
                                },
                                {
                                    "series_id": "CEU6054170057",
                                    "industry_code": "60541700",
                                    "industry_name": "Scientific research and development services",
                                    "value": "1283264"
                                },
                                {
                                    "series_id": "CEU6054170057",
                                    "industry_code": "60541700",
                                    "industry_name": "Scientific research and development services",
                                    "value": "1283264"
                                },
                                {
                                    "series_id": "CEU6054171057",
                                    "industry_code": "60541710",
                                    "industry_name": "Research and development in the physical",
                                    "value": "1207983"
                                },
                                {
                                    "series_id": "CEU6054171057",
                                    "industry_code": "60541710",
                                    "industry_name": "Research and development in the physical",
                                    "value": "1207983"
                                },
                                {
                                    "series_id": "CEU6054171257",
                                    "industry_code": "60541712",
                                    "industry_name": "Physical",
                                    "value": "874882"
                                },
                                {
                                    "series_id": "CEU6054171257",
                                    "industry_code": "60541712",
                                    "industry_name": "Physical",
                                    "value": "874882"
                                },
                                {
                                    "series_id": "CEU6055000057",
                                    "industry_code": "60550000",
                                    "industry_name": "Management of companies and enterprises",
                                    "value": "3491614"
                                },
                                {
                                    "series_id": "CEU6055000057",
                                    "industry_code": "60550000",
                                    "industry_name": "Management of companies and enterprises",
                                    "value": "3491614"
                                },
                                {
                                    "series_id": "CEU6055000082",
                                    "industry_code": "60550000",
                                    "industry_name": "Management of companies and enterprises",
                                    "value": "1587677"
                                },
                                {
                                    "series_id": "CEU6055000082",
                                    "industry_code": "60550000",
                                    "industry_name": "Management of companies and enterprises",
                                    "value": "1587677"
                                },
                                {
                                    "series_id": "CEU6055111457",
                                    "industry_code": "60551114",
                                    "industry_name": "Managing offices",
                                    "value": "3329401"
                                },
                                {
                                    "series_id": "CEU6055111457",
                                    "industry_code": "60551114",
                                    "industry_name": "Managing offices",
                                    "value": "3329401"
                                },
                                {
                                    "series_id": "CEU6055111482",
                                    "industry_code": "60551114",
                                    "industry_name": "Managing offices",
                                    "value": "1517287"
                                },
                                {
                                    "series_id": "CEU6055111482",
                                    "industry_code": "60551114",
                                    "industry_name": "Managing offices",
                                    "value": "1517287"
                                },
                                {
                                    "series_id": "CEU6056000057",
                                    "industry_code": "60560000",
                                    "industry_name": "Administrative and waste services",
                                    "value": "6040399"
                                },
                                {
                                    "series_id": "CEU6056000057",
                                    "industry_code": "60560000",
                                    "industry_name": "Administrative and waste services",
                                    "value": "6040399"
                                },
                                {
                                    "series_id": "CEU6056000082",
                                    "industry_code": "60560000",
                                    "industry_name": "Administrative and waste services",
                                    "value": "4659531"
                                },
                                {
                                    "series_id": "CEU6056000082",
                                    "industry_code": "60560000",
                                    "industry_name": "Administrative and waste services",
                                    "value": "4659531"
                                },
                                {
                                    "series_id": "CEU6056100057",
                                    "industry_code": "60561000",
                                    "industry_name": "Administrative and support services",
                                    "value": "5597836"
                                },
                                {
                                    "series_id": "CEU6056100057",
                                    "industry_code": "60561000",
                                    "industry_name": "Administrative and support services",
                                    "value": "5597836"
                                },
                                {
                                    "series_id": "CEU6056100082",
                                    "industry_code": "60561000",
                                    "industry_name": "Administrative and support services",
                                    "value": "4357866"
                                },
                                {
                                    "series_id": "CEU6056100082",
                                    "industry_code": "60561000",
                                    "industry_name": "Administrative and support services",
                                    "value": "4357866"
                                },
                                {
                                    "series_id": "CEU6056130057",
                                    "industry_code": "60561300",
                                    "industry_name": "Employment services",
                                    "value": "2167910"
                                },
                                {
                                    "series_id": "CEU6056130057",
                                    "industry_code": "60561300",
                                    "industry_name": "Employment services",
                                    "value": "2167910"
                                },
                                {
                                    "series_id": "CEU6056130082",
                                    "industry_code": "60561300",
                                    "industry_name": "Employment services",
                                    "value": "1938059"
                                },
                                {
                                    "series_id": "CEU6056130082",
                                    "industry_code": "60561300",
                                    "industry_name": "Employment services",
                                    "value": "1938059"
                                },
                                {
                                    "series_id": "CEU6056132057",
                                    "industry_code": "60561320",
                                    "industry_name": "Temporary help services",
                                    "value": "1650527"
                                },
                                {
                                    "series_id": "CEU6056132057",
                                    "industry_code": "60561320",
                                    "industry_name": "Temporary help services",
                                    "value": "1650527"
                                },
                                {
                                    "series_id": "CEU6056132082",
                                    "industry_code": "60561320",
                                    "industry_name": "Temporary help services",
                                    "value": "1530782"
                                },
                                {
                                    "series_id": "CEU6056132082",
                                    "industry_code": "60561320",
                                    "industry_name": "Temporary help services",
                                    "value": "1530782"
                                },
                                {
                                    "series_id": "CEU6056170057",
                                    "industry_code": "60561700",
                                    "industry_name": "Services to buildings and dwellings",
                                    "value": "999862"
                                },
                                {
                                    "series_id": "CEU6056170057",
                                    "industry_code": "60561700",
                                    "industry_name": "Services to buildings and dwellings",
                                    "value": "999862"
                                },
                                {
                                    "series_id": "CEU6500000057",
                                    "industry_code": "65000000",
                                    "industry_name": "Education and health services",
                                    "value": "19616812"
                                },
                                {
                                    "series_id": "CEU6500000057",
                                    "industry_code": "65000000",
                                    "industry_name": "Education and health services",
                                    "value": "19616812"
                                },
                                {
                                    "series_id": "CEU6500000082",
                                    "industry_code": "65000000",
                                    "industry_name": "Education and health services",
                                    "value": "14816074"
                                },
                                {
                                    "series_id": "CEU6500000082",
                                    "industry_code": "65000000",
                                    "industry_name": "Education and health services",
                                    "value": "14816074"
                                },
                                {
                                    "series_id": "CEU6562000057",
                                    "industry_code": "65620000",
                                    "industry_name": "Health care and social assistance",
                                    "value": "16893809"
                                },
                                {
                                    "series_id": "CEU6562000057",
                                    "industry_code": "65620000",
                                    "industry_name": "Health care and social assistance",
                                    "value": "16893809"
                                },
                                {
                                    "series_id": "CEU6562000082",
                                    "industry_code": "65620000",
                                    "industry_name": "Health care and social assistance",
                                    "value": "12878462"
                                },
                                {
                                    "series_id": "CEU6562000082",
                                    "industry_code": "65620000",
                                    "industry_name": "Health care and social assistance",
                                    "value": "12878462"
                                },
                                {
                                    "series_id": "CEU6562000157",
                                    "industry_code": "65620001",
                                    "industry_name": "NULL",
                                    "value": "15094574"
                                },
                                {
                                    "series_id": "CEU6562000157",
                                    "industry_code": "65620001",
                                    "industry_name": "NULL",
                                    "value": "15094574"
                                },
                                {
                                    "series_id": "CEU6562000182",
                                    "industry_code": "65620001",
                                    "industry_name": "NULL",
                                    "value": "11537267"
                                },
                                {
                                    "series_id": "CEU6562000182",
                                    "industry_code": "65620001",
                                    "industry_name": "NULL",
                                    "value": "11537267"
                                },
                                {
                                    "series_id": "CEU6562100057",
                                    "industry_code": "65621000",
                                    "industry_name": "Ambulatory health care services",
                                    "value": "7203262"
                                },
                                {
                                    "series_id": "CEU6562100057",
                                    "industry_code": "65621000",
                                    "industry_name": "Ambulatory health care services",
                                    "value": "7203262"
                                },
                                {
                                    "series_id": "CEU6562100082",
                                    "industry_code": "65621000",
                                    "industry_name": "Ambulatory health care services",
                                    "value": "4907269"
                                },
                                {
                                    "series_id": "CEU6562100082",
                                    "industry_code": "65621000",
                                    "industry_name": "Ambulatory health care services",
                                    "value": "4907269"
                                },
                                {
                                    "series_id": "CEU6562110057",
                                    "industry_code": "65621100",
                                    "industry_name": "Offices of physicians",
                                    "value": "3513888"
                                },
                                {
                                    "series_id": "CEU6562110057",
                                    "industry_code": "65621100",
                                    "industry_name": "Offices of physicians",
                                    "value": "3513888"
                                },
                                {
                                    "series_id": "CEU6562110082",
                                    "industry_code": "65621100",
                                    "industry_name": "Offices of physicians",
                                    "value": "2149121"
                                },
                                {
                                    "series_id": "CEU6562110082",
                                    "industry_code": "65621100",
                                    "industry_name": "Offices of physicians",
                                    "value": "2149121"
                                },
                                {
                                    "series_id": "CEU6562111157",
                                    "industry_code": "65621111",
                                    "industry_name": "Offices of physicians",
                                    "value": "3465699"
                                },
                                {
                                    "series_id": "CEU6562111157",
                                    "industry_code": "65621111",
                                    "industry_name": "Offices of physicians",
                                    "value": "3465699"
                                },
                                {
                                    "series_id": "CEU6562111182",
                                    "industry_code": "65621111",
                                    "industry_name": "Offices of physicians",
                                    "value": "2121845"
                                },
                                {
                                    "series_id": "CEU6562111182",
                                    "industry_code": "65621111",
                                    "industry_name": "Offices of physicians",
                                    "value": "2121845"
                                },
                                {
                                    "series_id": "CEU6562120057",
                                    "industry_code": "65621200",
                                    "industry_name": "Offices of dentists",
                                    "value": "847345"
                                },
                                {
                                    "series_id": "CEU6562120057",
                                    "industry_code": "65621200",
                                    "industry_name": "Offices of dentists",
                                    "value": "847345"
                                },
                                {
                                    "series_id": "CEU6562140057",
                                    "industry_code": "65621400",
                                    "industry_name": "Outpatient care centers",
                                    "value": "848281"
                                },
                                {
                                    "series_id": "CEU6562140057",
                                    "industry_code": "65621400",
                                    "industry_name": "Outpatient care centers",
                                    "value": "848281"
                                },
                                {
                                    "series_id": "CEU6562200057",
                                    "industry_code": "65622000",
                                    "industry_name": "Hospitals",
                                    "value": "5923747"
                                },
                                {
                                    "series_id": "CEU6562200057",
                                    "industry_code": "65622000",
                                    "industry_name": "Hospitals",
                                    "value": "5923747"
                                },
                                {
                                    "series_id": "CEU6562200082",
                                    "industry_code": "65622000",
                                    "industry_name": "Hospitals",
                                    "value": "5105336"
                                },
                                {
                                    "series_id": "CEU6562200082",
                                    "industry_code": "65622000",
                                    "industry_name": "Hospitals",
                                    "value": "5105336"
                                },
                                {
                                    "series_id": "CEU6562210057",
                                    "industry_code": "65622100",
                                    "industry_name": "General medical and surgical hospitals",
                                    "value": "5505844"
                                },
                                {
                                    "series_id": "CEU6562210057",
                                    "industry_code": "65622100",
                                    "industry_name": "General medical and surgical hospitals",
                                    "value": "5505844"
                                },
                                {
                                    "series_id": "CEU6562210082",
                                    "industry_code": "65622100",
                                    "industry_name": "General medical and surgical hospitals",
                                    "value": "4773547"
                                },
                                {
                                    "series_id": "CEU6562210082",
                                    "industry_code": "65622100",
                                    "industry_name": "General medical and surgical hospitals",
                                    "value": "4773547"
                                },
                                {
                                    "series_id": "CEU6562300057",
                                    "industry_code": "65623000",
                                    "industry_name": "Nursing and residential care facilities",
                                    "value": "1981669"
                                },
                                {
                                    "series_id": "CEU6562300057",
                                    "industry_code": "65623000",
                                    "industry_name": "Nursing and residential care facilities",
                                    "value": "1981669"
                                },
                                {
                                    "series_id": "CEU6562300082",
                                    "industry_code": "65623000",
                                    "industry_name": "Nursing and residential care facilities",
                                    "value": "1525889"
                                },
                                {
                                    "series_id": "CEU6562300082",
                                    "industry_code": "65623000",
                                    "industry_name": "Nursing and residential care facilities",
                                    "value": "1525889"
                                },
                                {
                                    "series_id": "CEU6562310057",
                                    "industry_code": "65623100",
                                    "industry_name": "Nursing care facilities",
                                    "value": "1017723"
                                },
                                {
                                    "series_id": "CEU6562310057",
                                    "industry_code": "65623100",
                                    "industry_name": "Nursing care facilities",
                                    "value": "1017723"
                                },
                                {
                                    "series_id": "CEU6562400057",
                                    "industry_code": "65624000",
                                    "industry_name": "Social assistance",
                                    "value": "1811418"
                                },
                                {
                                    "series_id": "CEU6562400057",
                                    "industry_code": "65624000",
                                    "industry_name": "Social assistance",
                                    "value": "1811418"
                                },
                                {
                                    "series_id": "CEU6562400082",
                                    "industry_code": "65624000",
                                    "industry_name": "Social assistance",
                                    "value": "1357629"
                                },
                                {
                                    "series_id": "CEU6562400082",
                                    "industry_code": "65624000",
                                    "industry_name": "Social assistance",
                                    "value": "1357629"
                                },
                                {
                                    "series_id": "CEU6562410057",
                                    "industry_code": "65624100",
                                    "industry_name": "Individual and family services",
                                    "value": "1105190"
                                },
                                {
                                    "series_id": "CEU6562410057",
                                    "industry_code": "65624100",
                                    "industry_name": "Individual and family services",
                                    "value": "1105190"
                                },
                                {
                                    "series_id": "CEU6562410082",
                                    "industry_code": "65624100",
                                    "industry_name": "Individual and family services",
                                    "value": "838886"
                                },
                                {
                                    "series_id": "CEU6562410082",
                                    "industry_code": "65624100",
                                    "industry_name": "Individual and family services",
                                    "value": "838886"
                                },
                                {
                                    "series_id": "CEU7000000057",
                                    "industry_code": "70000000",
                                    "industry_name": "Leisure and hospitality",
                                    "value": "5920672"
                                },
                                {
                                    "series_id": "CEU7000000057",
                                    "industry_code": "70000000",
                                    "industry_name": "Leisure and hospitality",
                                    "value": "5920672"
                                },
                                {
                                    "series_id": "CEU7000000082",
                                    "industry_code": "70000000",
                                    "industry_name": "Leisure and hospitality",
                                    "value": "4224098"
                                },
                                {
                                    "series_id": "CEU7000000082",
                                    "industry_code": "70000000",
                                    "industry_name": "Leisure and hospitality",
                                    "value": "4224098"
                                },
                                {
                                    "series_id": "CEU7071000057",
                                    "industry_code": "70710000",
                                    "industry_name": "Arts",
                                    "value": "1074458"
                                },
                                {
                                    "series_id": "CEU7071000057",
                                    "industry_code": "70710000",
                                    "industry_name": "Arts",
                                    "value": "1074458"
                                },
                                {
                                    "series_id": "CEU7072000057",
                                    "industry_code": "70720000",
                                    "industry_name": "Accommodation and food services",
                                    "value": "4847577"
                                },
                                {
                                    "series_id": "CEU7072000057",
                                    "industry_code": "70720000",
                                    "industry_name": "Accommodation and food services",
                                    "value": "4847577"
                                },
                                {
                                    "series_id": "CEU7072000082",
                                    "industry_code": "70720000",
                                    "industry_name": "Accommodation and food services",
                                    "value": "3572648"
                                },
                                {
                                    "series_id": "CEU7072000082",
                                    "industry_code": "70720000",
                                    "industry_name": "Accommodation and food services",
                                    "value": "3572648"
                                },
                                {
                                    "series_id": "CEU7072100057",
                                    "industry_code": "70721000",
                                    "industry_name": "Accommodation",
                                    "value": "958129"
                                },
                                {
                                    "series_id": "CEU7072100057",
                                    "industry_code": "70721000",
                                    "industry_name": "Accommodation",
                                    "value": "958129"
                                },
                                {
                                    "series_id": "CEU7072110057",
                                    "industry_code": "70721100",
                                    "industry_name": "Traveler accommodation",
                                    "value": "938363"
                                },
                                {
                                    "series_id": "CEU7072110057",
                                    "industry_code": "70721100",
                                    "industry_name": "Traveler accommodation",
                                    "value": "938363"
                                },
                                {
                                    "series_id": "CEU7072200057",
                                    "industry_code": "70722000",
                                    "industry_name": "Food services and drinking places",
                                    "value": "3877793"
                                },
                                {
                                    "series_id": "CEU7072200057",
                                    "industry_code": "70722000",
                                    "industry_name": "Food services and drinking places",
                                    "value": "3877793"
                                },
                                {
                                    "series_id": "CEU7072200082",
                                    "industry_code": "70722000",
                                    "industry_name": "Food services and drinking places",
                                    "value": "2913295"
                                },
                                {
                                    "series_id": "CEU7072200082",
                                    "industry_code": "70722000",
                                    "industry_name": "Food services and drinking places",
                                    "value": "2913295"
                                },
                                {
                                    "series_id": "CEU7072250057",
                                    "industry_code": "70722500",
                                    "industry_name": "Restaurants and other eating places",
                                    "value": "3471778"
                                },
                                {
                                    "series_id": "CEU7072250057",
                                    "industry_code": "70722500",
                                    "industry_name": "Restaurants and other eating places",
                                    "value": "3471778"
                                },
                                {
                                    "series_id": "CEU7072250082",
                                    "industry_code": "70722500",
                                    "industry_name": "Restaurants and other eating places",
                                    "value": "2617225"
                                },
                                {
                                    "series_id": "CEU7072250082",
                                    "industry_code": "70722500",
                                    "industry_name": "Restaurants and other eating places",
                                    "value": "2617225"
                                },
                                {
                                    "series_id": "CEU7072251157",
                                    "industry_code": "70722511",
                                    "industry_name": "Full-service restaurants",
                                    "value": "2009900"
                                },
                                {
                                    "series_id": "CEU7072251157",
                                    "industry_code": "70722511",
                                    "industry_name": "Full-service restaurants",
                                    "value": "2009900"
                                },
                                {
                                    "series_id": "CEU7072251182",
                                    "industry_code": "70722511",
                                    "industry_name": "Full-service restaurants",
                                    "value": "1528888"
                                },
                                {
                                    "series_id": "CEU7072251182",
                                    "industry_code": "70722511",
                                    "industry_name": "Full-service restaurants",
                                    "value": "1528888"
                                },
                                {
                                    "series_id": "CEU7072251357",
                                    "industry_code": "70722513",
                                    "industry_name": "Limited-service restaurants",
                                    "value": "1237183"
                                },
                                {
                                    "series_id": "CEU7072251357",
                                    "industry_code": "70722513",
                                    "industry_name": "Limited-service restaurants",
                                    "value": "1237183"
                                },
                                {
                                    "series_id": "CEU7072251382",
                                    "industry_code": "70722513",
                                    "industry_name": "Limited-service restaurants",
                                    "value": "922041"
                                },
                                {
                                    "series_id": "CEU7072251382",
                                    "industry_code": "70722513",
                                    "industry_name": "Limited-service restaurants",
                                    "value": "922041"
                                },
                                {
                                    "series_id": "CEU8000000057",
                                    "industry_code": "80000000",
                                    "industry_name": "Other services",
                                    "value": "4254988"
                                },
                                {
                                    "series_id": "CEU8000000057",
                                    "industry_code": "80000000",
                                    "industry_name": "Other services",
                                    "value": "4254988"
                                },
                                {
                                    "series_id": "CEU8000000082",
                                    "industry_code": "80000000",
                                    "industry_name": "Other services",
                                    "value": "2836698"
                                },
                                {
                                    "series_id": "CEU8000000082",
                                    "industry_code": "80000000",
                                    "industry_name": "Other services",
                                    "value": "2836698"
                                },
                                {
                                    "series_id": "CEU8081100057",
                                    "industry_code": "80811000",
                                    "industry_name": "Repair and maintenance",
                                    "value": "1038855"
                                },
                                {
                                    "series_id": "CEU8081100057",
                                    "industry_code": "80811000",
                                    "industry_name": "Repair and maintenance",
                                    "value": "1038855"
                                },
                                {
                                    "series_id": "CEU8081300057",
                                    "industry_code": "80813000",
                                    "industry_name": "Membership associations and organizations",
                                    "value": "2507238"
                                },
                                {
                                    "series_id": "CEU8081300057",
                                    "industry_code": "80813000",
                                    "industry_name": "Membership associations and organizations",
                                    "value": "2507238"
                                },
                                {
                                    "series_id": "CEU8081300082",
                                    "industry_code": "80813000",
                                    "industry_name": "Membership associations and organizations",
                                    "value": "1594855"
                                },
                                {
                                    "series_id": "CEU8081300082",
                                    "industry_code": "80813000",
                                    "industry_name": "Membership associations and organizations",
                                    "value": "1594855"
                                }
                            ]
                        },
                        "text/html": "<table><tr><th>series_id</th><th>industry_code</th><th>industry_name</th><th>value</th></tr><tr><td>CES0500000056</td><td>5000000</td><td>Total private</td><td>4239112</td></tr><tr><td>CES0500000056</td><td>5000000</td><td>Total private</td><td>4239112</td></tr><tr><td>CES0500000057</td><td>5000000</td><td>Total private</td><td>110301694</td></tr><tr><td>CES0500000057</td><td>5000000</td><td>Total private</td><td>110301694</td></tr><tr><td>CES0500000081</td><td>5000000</td><td>Total private</td><td>3412651</td></tr><tr><td>CES0500000081</td><td>5000000</td><td>Total private</td><td>3412651</td></tr><tr><td>CES0500000082</td><td>5000000</td><td>Total private</td><td>74498171</td></tr><tr><td>CES0500000082</td><td>5000000</td><td>Total private</td><td>74498171</td></tr><tr><td>CES0600000057</td><td>6000000</td><td>Goods-producing</td><td>21779094</td></tr><tr><td>CES0600000057</td><td>6000000</td><td>Goods-producing</td><td>21779094</td></tr><tr><td>CES0600000082</td><td>6000000</td><td>Goods-producing</td><td>13426820</td></tr><tr><td>CES0600000082</td><td>6000000</td><td>Goods-producing</td><td>13426820</td></tr><tr><td>CES0800000056</td><td>8000000</td><td>Private service-providing</td><td>3432382</td></tr><tr><td>CES0800000056</td><td>8000000</td><td>Private service-providing</td><td>3432382</td></tr><tr><td>CES0800000057</td><td>8000000</td><td>Private service-providing</td><td>88280865</td></tr><tr><td>CES0800000057</td><td>8000000</td><td>Private service-providing</td><td>88280865</td></tr><tr><td>CES0800000081</td><td>8000000</td><td>Private service-providing</td><td>2818821</td></tr><tr><td>CES0800000081</td><td>8000000</td><td>Private service-providing</td><td>2818821</td></tr><tr><td>CES0800000082</td><td>8000000</td><td>Private service-providing</td><td>60914722</td></tr><tr><td>CES0800000082</td><td>8000000</td><td>Private service-providing</td><td>60914722</td></tr><tr><td>CES1000000057</td><td>10000000</td><td>Mining and logging</td><td>966707</td></tr><tr><td>CES1000000057</td><td>10000000</td><td>Mining and logging</td><td>966707</td></tr><tr><td>CES1021000057</td><td>10210000</td><td>Mining</td><td>927250</td></tr><tr><td>CES1021000057</td><td>10210000</td><td>Mining</td><td>927250</td></tr><tr><td>CES2000000057</td><td>20000000</td><td>Construction</td><td>7555007</td></tr><tr><td>CES2000000057</td><td>20000000</td><td>Construction</td><td>7555007</td></tr><tr><td>CES2000000082</td><td>20000000</td><td>Construction</td><td>5335274</td></tr><tr><td>CES2000000082</td><td>20000000</td><td>Construction</td><td>5335274</td></tr><tr><td>CES2023600057</td><td>20236000</td><td>Construction of buildings</td><td>1765016</td></tr><tr><td>CES2023600057</td><td>20236000</td><td>Construction of buildings</td><td>1765016</td></tr><tr><td>CES2023600082</td><td>20236000</td><td>Construction of buildings</td><td>1008035</td></tr><tr><td>CES2023600082</td><td>20236000</td><td>Construction of buildings</td><td>1008035</td></tr><tr><td>CES2023620057</td><td>20236200</td><td>Nonresidential building</td><td>990555</td></tr><tr><td>CES2023620057</td><td>20236200</td><td>Nonresidential building</td><td>990555</td></tr><tr><td>CES2023700057</td><td>20237000</td><td>Heavy and civil engineering construction</td><td>1221764</td></tr><tr><td>CES2023700057</td><td>20237000</td><td>Heavy and civil engineering construction</td><td>1221764</td></tr><tr><td>CES2023700082</td><td>20237000</td><td>Heavy and civil engineering construction</td><td>908374</td></tr><tr><td>CES2023700082</td><td>20237000</td><td>Heavy and civil engineering construction</td><td>908374</td></tr><tr><td>CES2023800057</td><td>20238000</td><td>Specialty trade contractors</td><td>4595075</td></tr><tr><td>CES2023800057</td><td>20238000</td><td>Specialty trade contractors</td><td>4595075</td></tr><tr><td>CES2023800082</td><td>20238000</td><td>Specialty trade contractors</td><td>3421902</td></tr><tr><td>CES2023800082</td><td>20238000</td><td>Specialty trade contractors</td><td>3421902</td></tr><tr><td>CES2023810057</td><td>20238100</td><td>Building foundation and exterior contractors</td><td>833625</td></tr><tr><td>CES2023810057</td><td>20238100</td><td>Building foundation and exterior contractors</td><td>833625</td></tr><tr><td>CES2023820057</td><td>20238200</td><td>Building equipment contractors</td><td>2326342</td></tr><tr><td>CES2023820057</td><td>20238200</td><td>Building equipment contractors</td><td>2326342</td></tr><tr><td>CES2023820082</td><td>20238200</td><td>Building equipment contractors</td><td>1696080</td></tr><tr><td>CES2023820082</td><td>20238200</td><td>Building equipment contractors</td><td>1696080</td></tr><tr><td>CES2023821057</td><td>20238210</td><td>Electrical contractors</td><td>1039534</td></tr><tr><td>CES2023821057</td><td>20238210</td><td>Electrical contractors</td><td>1039534</td></tr><tr><td>CES2023822057</td><td>20238220</td><td>Plumbing and HVAC contractors</td><td>1115270</td></tr><tr><td>CES2023822057</td><td>20238220</td><td>Plumbing and HVAC contractors</td><td>1115270</td></tr><tr><td>CES3000000057</td><td>30000000</td><td>Manufacturing</td><td>13282613</td></tr><tr><td>CES3000000057</td><td>30000000</td><td>Manufacturing</td><td>13282613</td></tr><tr><td>CES3000000082</td><td>30000000</td><td>Manufacturing</td><td>7491723</td></tr><tr><td>CES3000000082</td><td>30000000</td><td>Manufacturing</td><td>7491723</td></tr><tr><td>CES3100000057</td><td>31000000</td><td>Durable goods</td><td>8769944</td></tr><tr><td>CES3100000057</td><td>31000000</td><td>Durable goods</td><td>8769944</td></tr><tr><td>CES3100000082</td><td>31000000</td><td>Durable goods</td><td>4859716</td></tr><tr><td>CES3100000082</td><td>31000000</td><td>Durable goods</td><td>4859716</td></tr><tr><td>CES3133200057</td><td>31332000</td><td>Fabricated metal products</td><td>1421283</td></tr><tr><td>CES3133200057</td><td>31332000</td><td>Fabricated metal products</td><td>1421283</td></tr><tr><td>CES3133200082</td><td>31332000</td><td>Fabricated metal products</td><td>871298</td></tr><tr><td>CES3133200082</td><td>31332000</td><td>Fabricated metal products</td><td>871298</td></tr><tr><td>CES3133300057</td><td>31333000</td><td>Machinery</td><td>1251217</td></tr><tr><td>CES3133300057</td><td>31333000</td><td>Machinery</td><td>1251217</td></tr><tr><td>CES3133400057</td><td>31334000</td><td>Computer and electronic products</td><td>1489440</td></tr><tr><td>CES3133400057</td><td>31334000</td><td>Computer and electronic products</td><td>1489440</td></tr><tr><td>CES3133600057</td><td>31336000</td><td>Transportation equipment</td><td>2130760</td></tr><tr><td>CES3133600057</td><td>31336000</td><td>Transportation equipment</td><td>2130760</td></tr><tr><td>CES3133600082</td><td>31336000</td><td>Transportation equipment</td><td>1257764</td></tr><tr><td>CES3133600082</td><td>31336000</td><td>Transportation equipment</td><td>1257764</td></tr><tr><td>CES3133600157</td><td>31336001</td><td>NULL</td><td>1050677</td></tr><tr><td>CES3133600157</td><td>31336001</td><td>NULL</td><td>1050677</td></tr><tr><td>CES3133640057</td><td>31336400</td><td>Aerospace products and parts</td><td>879785</td></tr><tr><td>CES3133640057</td><td>31336400</td><td>Aerospace products and parts</td><td>879785</td></tr><tr><td>CES3200000057</td><td>32000000</td><td>Nondurable goods</td><td>4496035</td></tr><tr><td>CES3200000057</td><td>32000000</td><td>Nondurable goods</td><td>4496035</td></tr><tr><td>CES3200000082</td><td>32000000</td><td>Nondurable goods</td><td>2633628</td></tr><tr><td>CES3200000082</td><td>32000000</td><td>Nondurable goods</td><td>2633628</td></tr><tr><td>CES3231100057</td><td>32311000</td><td>Food manufacturing</td><td>1293730</td></tr><tr><td>CES3231100057</td><td>32311000</td><td>Food manufacturing</td><td>1293730</td></tr><tr><td>CES3231100082</td><td>32311000</td><td>Food manufacturing</td><td>851406</td></tr><tr><td>CES3231100082</td><td>32311000</td><td>Food manufacturing</td><td>851406</td></tr><tr><td>CES3232500057</td><td>32325000</td><td>Chemicals</td><td>1083956</td></tr><tr><td>CES3232500057</td><td>32325000</td><td>Chemicals</td><td>1083956</td></tr><tr><td>CES4000000056</td><td>40000000</td><td>Trade</td><td>939889</td></tr><tr><td>CES4000000056</td><td>40000000</td><td>Trade</td><td>939889</td></tr><tr><td>CES4000000057</td><td>40000000</td><td>Trade</td><td>21232093</td></tr><tr><td>CES4000000057</td><td>40000000</td><td>Trade</td><td>21232093</td></tr><tr><td>CES4000000082</td><td>40000000</td><td>Trade</td><td>14850661</td></tr><tr><td>CES4000000082</td><td>40000000</td><td>Trade</td><td>14850661</td></tr><tr><td>CES4142000057</td><td>41420000</td><td>Wholesale trade</td><td>6858602</td></tr><tr><td>CES4142000057</td><td>41420000</td><td>Wholesale trade</td><td>6858602</td></tr><tr><td>CES4142000082</td><td>41420000</td><td>Wholesale trade</td><td>4480134</td></tr><tr><td>CES4142000082</td><td>41420000</td><td>Wholesale trade</td><td>4480134</td></tr><tr><td>CES4142300057</td><td>41423000</td><td>Durable goods</td><td>3449034</td></tr><tr><td>CES4142300057</td><td>41423000</td><td>Durable goods</td><td>3449034</td></tr><tr><td>CES4142300082</td><td>41423000</td><td>Durable goods</td><td>2261006</td></tr><tr><td>CES4142300082</td><td>41423000</td><td>Durable goods</td><td>2261006</td></tr><tr><td>CES4142340057</td><td>41423400</td><td>Commercial equipment</td><td>915034</td></tr><tr><td>CES4142340057</td><td>41423400</td><td>Commercial equipment</td><td>915034</td></tr><tr><td>CES4142400057</td><td>41424000</td><td>Nondurable goods</td><td>2042100</td></tr><tr><td>CES4142400057</td><td>41424000</td><td>Nondurable goods</td><td>2042100</td></tr><tr><td>CES4142400082</td><td>41424000</td><td>Nondurable goods</td><td>1367413</td></tr><tr><td>CES4142400082</td><td>41424000</td><td>Nondurable goods</td><td>1367413</td></tr><tr><td>CES4142500057</td><td>41425000</td><td>Electronic markets and agents and brokers</td><td>1359605</td></tr><tr><td>CES4142500057</td><td>41425000</td><td>Electronic markets and agents and brokers</td><td>1359605</td></tr><tr><td>CES4142500082</td><td>41425000</td><td>Electronic markets and agents and brokers</td><td>855291</td></tr><tr><td>CES4142500082</td><td>41425000</td><td>Electronic markets and agents and brokers</td><td>855291</td></tr><tr><td>CES4142512057</td><td>41425120</td><td>Wholesale trade agents and brokers</td><td>1317589</td></tr><tr><td>CES4142512057</td><td>41425120</td><td>Wholesale trade agents and brokers</td><td>1317589</td></tr><tr><td>CES4142512082</td><td>41425120</td><td>Wholesale trade agents and brokers</td><td>831319</td></tr><tr><td>CES4142512082</td><td>41425120</td><td>Wholesale trade agents and brokers</td><td>831319</td></tr><tr><td>CES4200000057</td><td>42000000</td><td>Retail trade</td><td>8857570</td></tr><tr><td>CES4200000057</td><td>42000000</td><td>Retail trade</td><td>8857570</td></tr><tr><td>CES4200000082</td><td>42000000</td><td>Retail trade</td><td>6123554</td></tr><tr><td>CES4200000082</td><td>42000000</td><td>Retail trade</td><td>6123554</td></tr><tr><td>CES4244100057</td><td>42441000</td><td>Motor vehicle and parts dealers</td><td>1740340</td></tr><tr><td>CES4244100057</td><td>42441000</td><td>Motor vehicle and parts dealers</td><td>1740340</td></tr><tr><td>CES4244100082</td><td>42441000</td><td>Motor vehicle and parts dealers</td><td>1180297</td></tr><tr><td>CES4244100082</td><td>42441000</td><td>Motor vehicle and parts dealers</td><td>1180297</td></tr><tr><td>CES4244110057</td><td>42441100</td><td>Automobile dealers</td><td>1232818</td></tr><tr><td>CES4244110057</td><td>42441100</td><td>Automobile dealers</td><td>1232818</td></tr><tr><td>CES4244110082</td><td>42441100</td><td>Automobile dealers</td><td>839595</td></tr><tr><td>CES4244110082</td><td>42441100</td><td>Automobile dealers</td><td>839595</td></tr><tr><td>CES4244111057</td><td>42441110</td><td>New car dealers</td><td>1110063</td></tr><tr><td>CES4244111057</td><td>42441110</td><td>New car dealers</td><td>1110063</td></tr><tr><td>CES4244500057</td><td>42445000</td><td>Food and beverage stores</td><td>1352705</td></tr><tr><td>CES4244500057</td><td>42445000</td><td>Food and beverage stores</td><td>1352705</td></tr><tr><td>CES4244500082</td><td>42445000</td><td>Food and beverage stores</td><td>974710</td></tr><tr><td>CES4244500082</td><td>42445000</td><td>Food and beverage stores</td><td>974710</td></tr><tr><td>CES4244510057</td><td>42445100</td><td>Grocery stores</td><td>1180650</td></tr><tr><td>CES4244510057</td><td>42445100</td><td>Grocery stores</td><td>1180650</td></tr><tr><td>CES4244510082</td><td>42445100</td><td>Grocery stores</td><td>868430</td></tr><tr><td>CES4244510082</td><td>42445100</td><td>Grocery stores</td><td>868430</td></tr><tr><td>CES4244511057</td><td>42445110</td><td>Supermarkets and other grocery stores</td><td>1120814</td></tr><tr><td>CES4244511057</td><td>42445110</td><td>Supermarkets and other grocery stores</td><td>1120814</td></tr><tr><td>CES4244511082</td><td>42445110</td><td>Supermarkets and other grocery stores</td><td>821282</td></tr><tr><td>CES4244511082</td><td>42445110</td><td>Supermarkets and other grocery stores</td><td>821282</td></tr><tr><td>CES4245200057</td><td>42452000</td><td>General merchandise stores</td><td>1437264</td></tr><tr><td>CES4245200057</td><td>42452000</td><td>General merchandise stores</td><td>1437264</td></tr><tr><td>CES4245200082</td><td>42452000</td><td>General merchandise stores</td><td>1065807</td></tr><tr><td>CES4245200082</td><td>42452000</td><td>General merchandise stores</td><td>1065807</td></tr><tr><td>CES4300000057</td><td>43000000</td><td>Transportation and warehousing</td><td>4588906</td></tr><tr><td>CES4300000057</td><td>43000000</td><td>Transportation and warehousing</td><td>4588906</td></tr><tr><td>CES4300000082</td><td>43000000</td><td>Transportation and warehousing</td><td>3538683</td></tr><tr><td>CES4300000082</td><td>43000000</td><td>Transportation and warehousing</td><td>3538683</td></tr><tr><td>CES4348400057</td><td>43484000</td><td>Truck transportation</td><td>1392202</td></tr><tr><td>CES4348400057</td><td>43484000</td><td>Truck transportation</td><td>1392202</td></tr><tr><td>CES4348400082</td><td>43484000</td><td>Truck transportation</td><td>1131821</td></tr><tr><td>CES4348400082</td><td>43484000</td><td>Truck transportation</td><td>1131821</td></tr><tr><td>CES4348410057</td><td>43484100</td><td>General freight trucking</td><td>966602</td></tr><tr><td>CES4348410057</td><td>43484100</td><td>General freight trucking</td><td>966602</td></tr><tr><td>CES4422000057</td><td>44220000</td><td>Utilities</td><td>920941</td></tr><tr><td>CES4422000057</td><td>44220000</td><td>Utilities</td><td>920941</td></tr><tr><td>CES5000000057</td><td>50000000</td><td>Information</td><td>3751205</td></tr><tr><td>CES5000000057</td><td>50000000</td><td>Information</td><td>3751205</td></tr><tr><td>CES5000000082</td><td>50000000</td><td>Information</td><td>2416443</td></tr><tr><td>CES5000000082</td><td>50000000</td><td>Information</td><td>2416443</td></tr><tr><td>CES5051100057</td><td>50511000</td><td>Publishing industries</td><td>1183283</td></tr><tr><td>CES5051100057</td><td>50511000</td><td>Publishing industries</td><td>1183283</td></tr><tr><td>CES5051700057</td><td>50517000</td><td>Telecommunications</td><td>992441</td></tr><tr><td>CES5051700057</td><td>50517000</td><td>Telecommunications</td><td>992441</td></tr><tr><td>CES5500000057</td><td>55000000</td><td>Financial activities</td><td>10213192</td></tr><tr><td>CES5500000057</td><td>55000000</td><td>Financial activities</td><td>10213192</td></tr><tr><td>CES5500000082</td><td>55000000</td><td>Financial activities</td><td>6328968</td></tr><tr><td>CES5500000082</td><td>55000000</td><td>Financial activities</td><td>6328968</td></tr><tr><td>CES5552200057</td><td>55522000</td><td>Credit intermediation and related activities</td><td>3075310</td></tr><tr><td>CES5552200057</td><td>55522000</td><td>Credit intermediation and related activities</td><td>3075310</td></tr><tr><td>CES5552200082</td><td>55522000</td><td>Credit intermediation and related activities</td><td>1717912</td></tr><tr><td>CES5552200082</td><td>55522000</td><td>Credit intermediation and related activities</td><td>1717912</td></tr><tr><td>CES5552210057</td><td>55522100</td><td>Depository credit intermediation</td><td>1921539</td></tr><tr><td>CES5552210057</td><td>55522100</td><td>Depository credit intermediation</td><td>1921539</td></tr><tr><td>CES5552210082</td><td>55522100</td><td>Depository credit intermediation</td><td>971796</td></tr><tr><td>CES5552210082</td><td>55522100</td><td>Depository credit intermediation</td><td>971796</td></tr><tr><td>CES5552211057</td><td>55522110</td><td>Commercial banking</td><td>1533413</td></tr><tr><td>CES5552211057</td><td>55522110</td><td>Commercial banking</td><td>1533413</td></tr><tr><td>CES5552300057</td><td>55523000</td><td>NULL</td><td>1756545</td></tr><tr><td>CES5552300057</td><td>55523000</td><td>NULL</td><td>1756545</td></tr><tr><td>CES5552300082</td><td>55523000</td><td>NULL</td><td>1044224</td></tr><tr><td>CES5552300082</td><td>55523000</td><td>NULL</td><td>1044224</td></tr><tr><td>CES5552320057</td><td>55523200</td><td>NULL</td><td>852241</td></tr><tr><td>CES5552320057</td><td>55523200</td><td>NULL</td><td>852241</td></tr><tr><td>CES5552390057</td><td>55523900</td><td>Other financial investment activities</td><td>905217</td></tr><tr><td>CES5552390057</td><td>55523900</td><td>Other financial investment activities</td><td>905217</td></tr><tr><td>CES5552400057</td><td>55524000</td><td>Insurance carriers and related activities</td><td>3411895</td></tr><tr><td>CES5552400057</td><td>55524000</td><td>Insurance carriers and related activities</td><td>3411895</td></tr><tr><td>CES5552400082</td><td>55524000</td><td>Insurance carriers and related activities</td><td>2347328</td></tr><tr><td>CES5552400082</td><td>55524000</td><td>Insurance carriers and related activities</td><td>2347328</td></tr><tr><td>CES5552410057</td><td>55524100</td><td>Insurance carriers</td><td>2130379</td></tr><tr><td>CES5552410057</td><td>55524100</td><td>Insurance carriers</td><td>2130379</td></tr><tr><td>CES5552410082</td><td>55524100</td><td>Insurance carriers</td><td>1477799</td></tr><tr><td>CES5552410082</td><td>55524100</td><td>Insurance carriers</td><td>1477799</td></tr><tr><td>CES5552411057</td><td>55524110</td><td>Direct life and health insurance carriers</td><td>1169424</td></tr><tr><td>CES5552411057</td><td>55524110</td><td>Direct life and health insurance carriers</td><td>1169424</td></tr><tr><td>CES5552412057</td><td>55524120</td><td>Direct insurers</td><td>917557</td></tr><tr><td>CES5552412057</td><td>55524120</td><td>Direct insurers</td><td>917557</td></tr><tr><td>CES5552420057</td><td>55524200</td><td>Insurance agencies</td><td>1281029</td></tr><tr><td>CES5552420057</td><td>55524200</td><td>Insurance agencies</td><td>1281029</td></tr><tr><td>CES5552420082</td><td>55524200</td><td>Insurance agencies</td><td>872398</td></tr><tr><td>CES5552420082</td><td>55524200</td><td>Insurance agencies</td><td>872398</td></tr><tr><td>CES5552421057</td><td>55524210</td><td>Insurance agencies and brokerages</td><td>858730</td></tr><tr><td>CES5552421057</td><td>55524210</td><td>Insurance agencies and brokerages</td><td>858730</td></tr><tr><td>CES5553100057</td><td>55531000</td><td>Real estate</td><td>1417131</td></tr><tr><td>CES5553100057</td><td>55531000</td><td>Real estate</td><td>1417131</td></tr><tr><td>CES5553100082</td><td>55531000</td><td>Real estate</td><td>862987</td></tr><tr><td>CES5553100082</td><td>55531000</td><td>Real estate</td><td>862987</td></tr><tr><td>CES6000000057</td><td>60000000</td><td>Professional and business services</td><td>23113158</td></tr><tr><td>CES6000000057</td><td>60000000</td><td>Professional and business services</td><td>23113158</td></tr><tr><td>CES6000000082</td><td>60000000</td><td>Professional and business services</td><td>15251268</td></tr><tr><td>CES6000000082</td><td>60000000</td><td>Professional and business services</td><td>15251268</td></tr><tr><td>CES6054000057</td><td>60540000</td><td>Professional and technical services</td><td>13464691</td></tr><tr><td>CES6054000057</td><td>60540000</td><td>Professional and technical services</td><td>13464691</td></tr><tr><td>CES6054000082</td><td>60540000</td><td>Professional and technical services</td><td>8821026</td></tr><tr><td>CES6054000082</td><td>60540000</td><td>Professional and technical services</td><td>8821026</td></tr><tr><td>CES6054110057</td><td>60541100</td><td>Legal services</td><td>1666281</td></tr><tr><td>CES6054110057</td><td>60541100</td><td>Legal services</td><td>1666281</td></tr><tr><td>CES6054110082</td><td>60541100</td><td>Legal services</td><td>1058862</td></tr><tr><td>CES6054110082</td><td>60541100</td><td>Legal services</td><td>1058862</td></tr><tr><td>CES6054111057</td><td>60541110</td><td>Offices of lawyers</td><td>1588040</td></tr><tr><td>CES6054111057</td><td>60541110</td><td>Offices of lawyers</td><td>1588040</td></tr><tr><td>CES6054111082</td><td>60541110</td><td>Offices of lawyers</td><td>1004009</td></tr><tr><td>CES6054111082</td><td>60541110</td><td>Offices of lawyers</td><td>1004009</td></tr><tr><td>CES6054120057</td><td>60541200</td><td>Accounting and bookkeeping services</td><td>1116237</td></tr><tr><td>CES6054120057</td><td>60541200</td><td>Accounting and bookkeeping services</td><td>1116237</td></tr><tr><td>CES6054130057</td><td>60541300</td><td>Architectural and engineering services</td><td>2152162</td></tr><tr><td>CES6054130057</td><td>60541300</td><td>Architectural and engineering services</td><td>2152162</td></tr><tr><td>CES6054130082</td><td>60541300</td><td>Architectural and engineering services</td><td>1439445</td></tr><tr><td>CES6054130082</td><td>60541300</td><td>Architectural and engineering services</td><td>1439445</td></tr><tr><td>CES6054134057</td><td>60541340</td><td>NULL</td><td>1536969</td></tr><tr><td>CES6054134057</td><td>60541340</td><td>NULL</td><td>1536969</td></tr><tr><td>CES6054134082</td><td>60541340</td><td>NULL</td><td>1051499</td></tr><tr><td>CES6054134082</td><td>60541340</td><td>NULL</td><td>1051499</td></tr><tr><td>CES6054150057</td><td>60541500</td><td>Computer systems design and related services</td><td>3595409</td></tr><tr><td>CES6054150057</td><td>60541500</td><td>Computer systems design and related services</td><td>3595409</td></tr><tr><td>CES6054150082</td><td>60541500</td><td>Computer systems design and related services</td><td>2666568</td></tr><tr><td>CES6054150082</td><td>60541500</td><td>Computer systems design and related services</td><td>2666568</td></tr><tr><td>CES6054151157</td><td>60541511</td><td>Custom computer programming services</td><td>1596292</td></tr><tr><td>CES6054151157</td><td>60541511</td><td>Custom computer programming services</td><td>1596292</td></tr><tr><td>CES6054151182</td><td>60541511</td><td>Custom computer programming services</td><td>1173494</td></tr><tr><td>CES6054151182</td><td>60541511</td><td>Custom computer programming services</td><td>1173494</td></tr><tr><td>CES6054151257</td><td>60541512</td><td>Computer systems design services</td><td>1695613</td></tr><tr><td>CES6054151257</td><td>60541512</td><td>Computer systems design services</td><td>1695613</td></tr><tr><td>CES6054151282</td><td>60541512</td><td>Computer systems design services</td><td>1274481</td></tr><tr><td>CES6054151282</td><td>60541512</td><td>Computer systems design services</td><td>1274481</td></tr><tr><td>CES6054160057</td><td>60541600</td><td>Management and technical consulting services</td><td>2103707</td></tr><tr><td>CES6054160057</td><td>60541600</td><td>Management and technical consulting services</td><td>2103707</td></tr><tr><td>CES6054160082</td><td>60541600</td><td>Management and technical consulting services</td><td>1330587</td></tr><tr><td>CES6054160082</td><td>60541600</td><td>Management and technical consulting services</td><td>1330587</td></tr><tr><td>CES6054161057</td><td>60541610</td><td>Management consulting services</td><td>1711601</td></tr><tr><td>CES6054161057</td><td>60541610</td><td>Management consulting services</td><td>1711601</td></tr><tr><td>CES6054161082</td><td>60541610</td><td>Management consulting services</td><td>1053691</td></tr><tr><td>CES6054161082</td><td>60541610</td><td>Management consulting services</td><td>1053691</td></tr><tr><td>CES6054161157</td><td>60541611</td><td>Administrative management consulting services</td><td>955447</td></tr><tr><td>CES6054161157</td><td>60541611</td><td>Administrative management consulting services</td><td>955447</td></tr><tr><td>CES6054170057</td><td>60541700</td><td>Scientific research and development services</td><td>1265137</td></tr><tr><td>CES6054170057</td><td>60541700</td><td>Scientific research and development services</td><td>1265137</td></tr><tr><td>CES6054171057</td><td>60541710</td><td>Research and development in the physical</td><td>1188296</td></tr><tr><td>CES6054171057</td><td>60541710</td><td>Research and development in the physical</td><td>1188296</td></tr><tr><td>CES6054171257</td><td>60541712</td><td>Physical</td><td>860377</td></tr><tr><td>CES6054171257</td><td>60541712</td><td>Physical</td><td>860377</td></tr><tr><td>CES6055000057</td><td>60550000</td><td>Management of companies and enterprises</td><td>3428612</td></tr><tr><td>CES6055000057</td><td>60550000</td><td>Management of companies and enterprises</td><td>3428612</td></tr><tr><td>CES6055000082</td><td>60550000</td><td>Management of companies and enterprises</td><td>1566036</td></tr><tr><td>CES6055000082</td><td>60550000</td><td>Management of companies and enterprises</td><td>1566036</td></tr><tr><td>CES6055111457</td><td>60551114</td><td>Managing offices</td><td>3270688</td></tr><tr><td>CES6055111457</td><td>60551114</td><td>Managing offices</td><td>3270688</td></tr><tr><td>CES6055111482</td><td>60551114</td><td>Managing offices</td><td>1496334</td></tr><tr><td>CES6055111482</td><td>60551114</td><td>Managing offices</td><td>1496334</td></tr><tr><td>CES6056000057</td><td>60560000</td><td>Administrative and waste services</td><td>6272001</td></tr><tr><td>CES6056000057</td><td>60560000</td><td>Administrative and waste services</td><td>6272001</td></tr><tr><td>CES6056000082</td><td>60560000</td><td>Administrative and waste services</td><td>4886085</td></tr><tr><td>CES6056000082</td><td>60560000</td><td>Administrative and waste services</td><td>4886085</td></tr><tr><td>CES6056100057</td><td>60561000</td><td>Administrative and support services</td><td>5838373</td></tr><tr><td>CES6056100057</td><td>60561000</td><td>Administrative and support services</td><td>5838373</td></tr><tr><td>CES6056100082</td><td>60561000</td><td>Administrative and support services</td><td>4565569</td></tr><tr><td>CES6056100082</td><td>60561000</td><td>Administrative and support services</td><td>4565569</td></tr><tr><td>CES6056130057</td><td>60561300</td><td>Employment services</td><td>2255347</td></tr><tr><td>CES6056130057</td><td>60561300</td><td>Employment services</td><td>2255347</td></tr><tr><td>CES6056130082</td><td>60561300</td><td>Employment services</td><td>2013846</td></tr><tr><td>CES6056130082</td><td>60561300</td><td>Employment services</td><td>2013846</td></tr><tr><td>CES6056132057</td><td>60561320</td><td>Temporary help services</td><td>1723484</td></tr><tr><td>CES6056132057</td><td>60561320</td><td>Temporary help services</td><td>1723484</td></tr><tr><td>CES6056132082</td><td>60561320</td><td>Temporary help services</td><td>1598939</td></tr><tr><td>CES6056132082</td><td>60561320</td><td>Temporary help services</td><td>1598939</td></tr><tr><td>CES6056170057</td><td>60561700</td><td>Services to buildings and dwellings</td><td>1150182</td></tr><tr><td>CES6056170057</td><td>60561700</td><td>Services to buildings and dwellings</td><td>1150182</td></tr><tr><td>CES6056170082</td><td>60561700</td><td>Services to buildings and dwellings</td><td>846000</td></tr><tr><td>CES6056170082</td><td>60561700</td><td>Services to buildings and dwellings</td><td>846000</td></tr><tr><td>CES6500000057</td><td>65000000</td><td>Education and health services</td><td>19585920</td></tr><tr><td>CES6500000057</td><td>65000000</td><td>Education and health services</td><td>19585920</td></tr><tr><td>CES6500000082</td><td>65000000</td><td>Education and health services</td><td>14765156</td></tr><tr><td>CES6500000082</td><td>65000000</td><td>Education and health services</td><td>14765156</td></tr><tr><td>CES6562000057</td><td>65620000</td><td>Health care and social assistance</td><td>16718245</td></tr><tr><td>CES6562000057</td><td>65620000</td><td>Health care and social assistance</td><td>16718245</td></tr><tr><td>CES6562000082</td><td>65620000</td><td>Health care and social assistance</td><td>12762526</td></tr><tr><td>CES6562000082</td><td>65620000</td><td>Health care and social assistance</td><td>12762526</td></tr><tr><td>CES6562000157</td><td>65620001</td><td>NULL</td><td>14957970</td></tr><tr><td>CES6562000157</td><td>65620001</td><td>NULL</td><td>14957970</td></tr><tr><td>CES6562000182</td><td>65620001</td><td>NULL</td><td>11413008</td></tr><tr><td>CES6562000182</td><td>65620001</td><td>NULL</td><td>11413008</td></tr><tr><td>CES6562100057</td><td>65621000</td><td>Ambulatory health care services</td><td>7193566</td></tr><tr><td>CES6562100057</td><td>65621000</td><td>Ambulatory health care services</td><td>7193566</td></tr><tr><td>CES6562100082</td><td>65621000</td><td>Ambulatory health care services</td><td>4875906</td></tr><tr><td>CES6562100082</td><td>65621000</td><td>Ambulatory health care services</td><td>4875906</td></tr><tr><td>CES6562110057</td><td>65621100</td><td>Offices of physicians</td><td>3521877</td></tr><tr><td>CES6562110057</td><td>65621100</td><td>Offices of physicians</td><td>3521877</td></tr><tr><td>CES6562110082</td><td>65621100</td><td>Offices of physicians</td><td>2141331</td></tr><tr><td>CES6562110082</td><td>65621100</td><td>Offices of physicians</td><td>2141331</td></tr><tr><td>CES6562111157</td><td>65621111</td><td>Offices of physicians</td><td>3472162</td></tr><tr><td>CES6562111157</td><td>65621111</td><td>Offices of physicians</td><td>3472162</td></tr><tr><td>CES6562111182</td><td>65621111</td><td>Offices of physicians</td><td>2113086</td></tr><tr><td>CES6562111182</td><td>65621111</td><td>Offices of physicians</td><td>2113086</td></tr><tr><td>CES6562120057</td><td>65621200</td><td>Offices of dentists</td><td>842558</td></tr><tr><td>CES6562120057</td><td>65621200</td><td>Offices of dentists</td><td>842558</td></tr><tr><td>CES6562140057</td><td>65621400</td><td>Outpatient care centers</td><td>839455</td></tr><tr><td>CES6562140057</td><td>65621400</td><td>Outpatient care centers</td><td>839455</td></tr><tr><td>CES6562200057</td><td>65622000</td><td>Hospitals</td><td>5842779</td></tr><tr><td>CES6562200057</td><td>65622000</td><td>Hospitals</td><td>5842779</td></tr><tr><td>CES6562200082</td><td>65622000</td><td>Hospitals</td><td>5048432</td></tr><tr><td>CES6562200082</td><td>65622000</td><td>Hospitals</td><td>5048432</td></tr><tr><td>CES6562210057</td><td>65622100</td><td>General medical and surgical hospitals</td><td>5428714</td></tr><tr><td>CES6562210057</td><td>65622100</td><td>General medical and surgical hospitals</td><td>5428714</td></tr><tr><td>CES6562210082</td><td>65622100</td><td>General medical and surgical hospitals</td><td>4716914</td></tr><tr><td>CES6562210082</td><td>65622100</td><td>General medical and surgical hospitals</td><td>4716914</td></tr><tr><td>CES6562300057</td><td>65623000</td><td>Nursing and residential care facilities</td><td>1941241</td></tr><tr><td>CES6562300057</td><td>65623000</td><td>Nursing and residential care facilities</td><td>1941241</td></tr><tr><td>CES6562300082</td><td>65623000</td><td>Nursing and residential care facilities</td><td>1489277</td></tr><tr><td>CES6562300082</td><td>65623000</td><td>Nursing and residential care facilities</td><td>1489277</td></tr><tr><td>CES6562310057</td><td>65623100</td><td>Nursing care facilities</td><td>994994</td></tr><tr><td>CES6562310057</td><td>65623100</td><td>Nursing care facilities</td><td>994994</td></tr><tr><td>CES6562400057</td><td>65624000</td><td>Social assistance</td><td>1787502</td></tr><tr><td>CES6562400057</td><td>65624000</td><td>Social assistance</td><td>1787502</td></tr><tr><td>CES6562400082</td><td>65624000</td><td>Social assistance</td><td>1337022</td></tr><tr><td>CES6562400082</td><td>65624000</td><td>Social assistance</td><td>1337022</td></tr><tr><td>CES6562410057</td><td>65624100</td><td>Individual and family services</td><td>1095365</td></tr><tr><td>CES6562410057</td><td>65624100</td><td>Individual and family services</td><td>1095365</td></tr><tr><td>CES6562410082</td><td>65624100</td><td>Individual and family services</td><td>828771</td></tr><tr><td>CES6562410082</td><td>65624100</td><td>Individual and family services</td><td>828771</td></tr><tr><td>CES7000000057</td><td>70000000</td><td>Leisure and hospitality</td><td>6232054</td></tr><tr><td>CES7000000057</td><td>70000000</td><td>Leisure and hospitality</td><td>6232054</td></tr><tr><td>CES7000000082</td><td>70000000</td><td>Leisure and hospitality</td><td>4537173</td></tr><tr><td>CES7000000082</td><td>70000000</td><td>Leisure and hospitality</td><td>4537173</td></tr><tr><td>CES7071000057</td><td>70710000</td><td>Arts</td><td>1167355</td></tr><tr><td>CES7071000057</td><td>70710000</td><td>Arts</td><td>1167355</td></tr><tr><td>CES7072000057</td><td>70720000</td><td>Accommodation and food services</td><td>5078737</td></tr><tr><td>CES7072000057</td><td>70720000</td><td>Accommodation and food services</td><td>5078737</td></tr><tr><td>CES7072000082</td><td>70720000</td><td>Accommodation and food services</td><td>3802356</td></tr><tr><td>CES7072000082</td><td>70720000</td><td>Accommodation and food services</td><td>3802356</td></tr><tr><td>CES7072100057</td><td>70721000</td><td>Accommodation</td><td>1008168</td></tr><tr><td>CES7072100057</td><td>70721000</td><td>Accommodation</td><td>1008168</td></tr><tr><td>CES7072110057</td><td>70721100</td><td>Traveler accommodation</td><td>980738</td></tr><tr><td>CES7072110057</td><td>70721100</td><td>Traveler accommodation</td><td>980738</td></tr><tr><td>CES7072200057</td><td>70722000</td><td>Food services and drinking places</td><td>4058595</td></tr><tr><td>CES7072200057</td><td>70722000</td><td>Food services and drinking places</td><td>4058595</td></tr><tr><td>CES7072200082</td><td>70722000</td><td>Food services and drinking places</td><td>3085429</td></tr><tr><td>CES7072200082</td><td>70722000</td><td>Food services and drinking places</td><td>3085429</td></tr><tr><td>CES7072250057</td><td>70722500</td><td>Restaurants and other eating places</td><td>3617277</td></tr><tr><td>CES7072250057</td><td>70722500</td><td>Restaurants and other eating places</td><td>3617277</td></tr><tr><td>CES7072250082</td><td>70722500</td><td>Restaurants and other eating places</td><td>2768855</td></tr><tr><td>CES7072250082</td><td>70722500</td><td>Restaurants and other eating places</td><td>2768855</td></tr><tr><td>CES7072251157</td><td>70722511</td><td>Full-service restaurants</td><td>2105534</td></tr><tr><td>CES7072251157</td><td>70722511</td><td>Full-service restaurants</td><td>2105534</td></tr><tr><td>CES7072251182</td><td>70722511</td><td>Full-service restaurants</td><td>1626780</td></tr><tr><td>CES7072251182</td><td>70722511</td><td>Full-service restaurants</td><td>1626780</td></tr><tr><td>CES7072251357</td><td>70722513</td><td>Limited-service restaurants</td><td>1281353</td></tr><tr><td>CES7072251357</td><td>70722513</td><td>Limited-service restaurants</td><td>1281353</td></tr><tr><td>CES7072251382</td><td>70722513</td><td>Limited-service restaurants</td><td>969748</td></tr><tr><td>CES7072251382</td><td>70722513</td><td>Limited-service restaurants</td><td>969748</td></tr><tr><td>CES8000000057</td><td>80000000</td><td>Other services</td><td>4263141</td></tr><tr><td>CES8000000057</td><td>80000000</td><td>Other services</td><td>4263141</td></tr><tr><td>CES8000000082</td><td>80000000</td><td>Other services</td><td>2875314</td></tr><tr><td>CES8000000082</td><td>80000000</td><td>Other services</td><td>2875314</td></tr><tr><td>CES8081100057</td><td>80811000</td><td>Repair and maintenance</td><td>1051091</td></tr><tr><td>CES8081100057</td><td>80811000</td><td>Repair and maintenance</td><td>1051091</td></tr><tr><td>CES8081300057</td><td>80813000</td><td>Membership associations and organizations</td><td>2494120</td></tr><tr><td>CES8081300057</td><td>80813000</td><td>Membership associations and organizations</td><td>2494120</td></tr><tr><td>CES8081300082</td><td>80813000</td><td>Membership associations and organizations</td><td>1599916</td></tr><tr><td>CES8081300082</td><td>80813000</td><td>Membership associations and organizations</td><td>1599916</td></tr><tr><td>CEU0500000056</td><td>5000000</td><td>Total private</td><td>4165978</td></tr><tr><td>CEU0500000056</td><td>5000000</td><td>Total private</td><td>4165978</td></tr><tr><td>CEU0500000057</td><td>5000000</td><td>Total private</td><td>109731861</td></tr><tr><td>CEU0500000057</td><td>5000000</td><td>Total private</td><td>109731861</td></tr><tr><td>CEU0500000081</td><td>5000000</td><td>Total private</td><td>3335193</td></tr><tr><td>CEU0500000081</td><td>5000000</td><td>Total private</td><td>3335193</td></tr><tr><td>CEU0500000082</td><td>5000000</td><td>Total private</td><td>73474302</td></tr><tr><td>CEU0500000082</td><td>5000000</td><td>Total private</td><td>73474302</td></tr><tr><td>CEU0600000057</td><td>6000000</td><td>Goods-producing</td><td>21113749</td></tr><tr><td>CEU0600000057</td><td>6000000</td><td>Goods-producing</td><td>21113749</td></tr><tr><td>CEU0600000082</td><td>6000000</td><td>Goods-producing</td><td>12711945</td></tr><tr><td>CEU0600000082</td><td>6000000</td><td>Goods-producing</td><td>12711945</td></tr><tr><td>CEU0800000056</td><td>8000000</td><td>Private service-providing</td><td>3388741</td></tr><tr><td>CEU0800000056</td><td>8000000</td><td>Private service-providing</td><td>3388741</td></tr><tr><td>CEU0800000057</td><td>8000000</td><td>Private service-providing</td><td>88446140</td></tr><tr><td>CEU0800000057</td><td>8000000</td><td>Private service-providing</td><td>88446140</td></tr><tr><td>CEU0800000081</td><td>8000000</td><td>Private service-providing</td><td>2777879</td></tr><tr><td>CEU0800000081</td><td>8000000</td><td>Private service-providing</td><td>2777879</td></tr><tr><td>CEU0800000082</td><td>8000000</td><td>Private service-providing</td><td>60807771</td></tr><tr><td>CEU0800000082</td><td>8000000</td><td>Private service-providing</td><td>60807771</td></tr><tr><td>CEU1000000057</td><td>10000000</td><td>Mining and logging</td><td>973773</td></tr><tr><td>CEU1000000057</td><td>10000000</td><td>Mining and logging</td><td>973773</td></tr><tr><td>CEU1021000057</td><td>10210000</td><td>Mining</td><td>932874</td></tr><tr><td>CEU1021000057</td><td>10210000</td><td>Mining</td><td>932874</td></tr><tr><td>CEU2000000057</td><td>20000000</td><td>Construction</td><td>6925429</td></tr><tr><td>CEU2000000057</td><td>20000000</td><td>Construction</td><td>6925429</td></tr><tr><td>CEU2000000082</td><td>20000000</td><td>Construction</td><td>4724156</td></tr><tr><td>CEU2000000082</td><td>20000000</td><td>Construction</td><td>4724156</td></tr><tr><td>CEU2023600057</td><td>20236000</td><td>Construction of buildings</td><td>1692237</td></tr><tr><td>CEU2023600057</td><td>20236000</td><td>Construction of buildings</td><td>1692237</td></tr><tr><td>CEU2023600082</td><td>20236000</td><td>Construction of buildings</td><td>940800</td></tr><tr><td>CEU2023600082</td><td>20236000</td><td>Construction of buildings</td><td>940800</td></tr><tr><td>CEU2023620057</td><td>20236200</td><td>Nonresidential building</td><td>953792</td></tr><tr><td>CEU2023620057</td><td>20236200</td><td>Nonresidential building</td><td>953792</td></tr><tr><td>CEU2023700057</td><td>20237000</td><td>Heavy and civil engineering construction</td><td>1023452</td></tr><tr><td>CEU2023700057</td><td>20237000</td><td>Heavy and civil engineering construction</td><td>1023452</td></tr><tr><td>CEU2023800057</td><td>20238000</td><td>Specialty trade contractors</td><td>4210973</td></tr><tr><td>CEU2023800057</td><td>20238000</td><td>Specialty trade contractors</td><td>4210973</td></tr><tr><td>CEU2023800082</td><td>20238000</td><td>Specialty trade contractors</td><td>3062211</td></tr><tr><td>CEU2023800082</td><td>20238000</td><td>Specialty trade contractors</td><td>3062211</td></tr><tr><td>CEU2023820057</td><td>20238200</td><td>Building equipment contractors</td><td>2238858</td></tr><tr><td>CEU2023820057</td><td>20238200</td><td>Building equipment contractors</td><td>2238858</td></tr><tr><td>CEU2023820082</td><td>20238200</td><td>Building equipment contractors</td><td>1621266</td></tr><tr><td>CEU2023820082</td><td>20238200</td><td>Building equipment contractors</td><td>1621266</td></tr><tr><td>CEU2023821057</td><td>20238210</td><td>Electrical contractors</td><td>988806</td></tr><tr><td>CEU2023821057</td><td>20238210</td><td>Electrical contractors</td><td>988806</td></tr><tr><td>CEU2023822057</td><td>20238220</td><td>Plumbing and HVAC contractors</td><td>1082068</td></tr><tr><td>CEU2023822057</td><td>20238220</td><td>Plumbing and HVAC contractors</td><td>1082068</td></tr><tr><td>CEU3000000057</td><td>30000000</td><td>Manufacturing</td><td>13241229</td></tr><tr><td>CEU3000000057</td><td>30000000</td><td>Manufacturing</td><td>13241229</td></tr><tr><td>CEU3000000082</td><td>30000000</td><td>Manufacturing</td><td>7411960</td></tr><tr><td>CEU3000000082</td><td>30000000</td><td>Manufacturing</td><td>7411960</td></tr><tr><td>CEU3100000057</td><td>31000000</td><td>Durable goods</td><td>8758974</td></tr><tr><td>CEU3100000057</td><td>31000000</td><td>Durable goods</td><td>8758974</td></tr><tr><td>CEU3100000082</td><td>31000000</td><td>Durable goods</td><td>4808368</td></tr><tr><td>CEU3100000082</td><td>31000000</td><td>Durable goods</td><td>4808368</td></tr><tr><td>CEU3133200057</td><td>31332000</td><td>Fabricated metal products</td><td>1417807</td></tr><tr><td>CEU3133200057</td><td>31332000</td><td>Fabricated metal products</td><td>1417807</td></tr><tr><td>CEU3133200082</td><td>31332000</td><td>Fabricated metal products</td><td>867242</td></tr><tr><td>CEU3133200082</td><td>31332000</td><td>Fabricated metal products</td><td>867242</td></tr><tr><td>CEU3133300057</td><td>31333000</td><td>Machinery</td><td>1259875</td></tr><tr><td>CEU3133300057</td><td>31333000</td><td>Machinery</td><td>1259875</td></tr><tr><td>CEU3133400057</td><td>31334000</td><td>Computer and electronic products</td><td>1499453</td></tr><tr><td>CEU3133400057</td><td>31334000</td><td>Computer and electronic products</td><td>1499453</td></tr><tr><td>CEU3133600057</td><td>31336000</td><td>Transportation equipment</td><td>2137791</td></tr><tr><td>CEU3133600057</td><td>31336000</td><td>Transportation equipment</td><td>2137791</td></tr><tr><td>CEU3133600082</td><td>31336000</td><td>Transportation equipment</td><td>1242685</td></tr><tr><td>CEU3133600082</td><td>31336000</td><td>Transportation equipment</td><td>1242685</td></tr><tr><td>CEU3133600157</td><td>31336001</td><td>NULL</td><td>1053186</td></tr><tr><td>CEU3133600157</td><td>31336001</td><td>NULL</td><td>1053186</td></tr><tr><td>CEU3133640057</td><td>31336400</td><td>Aerospace products and parts</td><td>872986</td></tr><tr><td>CEU3133640057</td><td>31336400</td><td>Aerospace products and parts</td><td>872986</td></tr><tr><td>CEU3200000057</td><td>32000000</td><td>Nondurable goods</td><td>4468396</td></tr><tr><td>CEU3200000057</td><td>32000000</td><td>Nondurable goods</td><td>4468396</td></tr><tr><td>CEU3200000082</td><td>32000000</td><td>Nondurable goods</td><td>2605069</td></tr><tr><td>CEU3200000082</td><td>32000000</td><td>Nondurable goods</td><td>2605069</td></tr><tr><td>CEU3231100057</td><td>32311000</td><td>Food manufacturing</td><td>1275631</td></tr><tr><td>CEU3231100057</td><td>32311000</td><td>Food manufacturing</td><td>1275631</td></tr><tr><td>CEU3231100082</td><td>32311000</td><td>Food manufacturing</td><td>842201</td></tr><tr><td>CEU3231100082</td><td>32311000</td><td>Food manufacturing</td><td>842201</td></tr><tr><td>CEU3232500057</td><td>32325000</td><td>Chemicals</td><td>1086916</td></tr><tr><td>CEU3232500057</td><td>32325000</td><td>Chemicals</td><td>1086916</td></tr><tr><td>CEU4000000056</td><td>40000000</td><td>Trade</td><td>928918</td></tr><tr><td>CEU4000000056</td><td>40000000</td><td>Trade</td><td>928918</td></tr><tr><td>CEU4000000057</td><td>40000000</td><td>Trade</td><td>21207198</td></tr><tr><td>CEU4000000057</td><td>40000000</td><td>Trade</td><td>21207198</td></tr><tr><td>CEU4000000082</td><td>40000000</td><td>Trade</td><td>14732108</td></tr><tr><td>CEU4000000082</td><td>40000000</td><td>Trade</td><td>14732108</td></tr><tr><td>CEU4142000057</td><td>41420000</td><td>Wholesale trade</td><td>6930351</td></tr><tr><td>CEU4142000057</td><td>41420000</td><td>Wholesale trade</td><td>6930351</td></tr><tr><td>CEU4142000082</td><td>41420000</td><td>Wholesale trade</td><td>4506110</td></tr><tr><td>CEU4142000082</td><td>41420000</td><td>Wholesale trade</td><td>4506110</td></tr><tr><td>CEU4142300057</td><td>41423000</td><td>Durable goods</td><td>3494945</td></tr><tr><td>CEU4142300057</td><td>41423000</td><td>Durable goods</td><td>3494945</td></tr><tr><td>CEU4142300082</td><td>41423000</td><td>Durable goods</td><td>2283094</td></tr><tr><td>CEU4142300082</td><td>41423000</td><td>Durable goods</td><td>2283094</td></tr><tr><td>CEU4142340057</td><td>41423400</td><td>Commercial equipment</td><td>949056</td></tr><tr><td>CEU4142340057</td><td>41423400</td><td>Commercial equipment</td><td>949056</td></tr><tr><td>CEU4142400057</td><td>41424000</td><td>Nondurable goods</td><td>2044132</td></tr><tr><td>CEU4142400057</td><td>41424000</td><td>Nondurable goods</td><td>2044132</td></tr><tr><td>CEU4142400082</td><td>41424000</td><td>Nondurable goods</td><td>1348136</td></tr><tr><td>CEU4142400082</td><td>41424000</td><td>Nondurable goods</td><td>1348136</td></tr><tr><td>CEU4142500057</td><td>41425000</td><td>Electronic markets and agents and brokers</td><td>1389263</td></tr><tr><td>CEU4142500057</td><td>41425000</td><td>Electronic markets and agents and brokers</td><td>1389263</td></tr><tr><td>CEU4142500082</td><td>41425000</td><td>Electronic markets and agents and brokers</td><td>873578</td></tr><tr><td>CEU4142500082</td><td>41425000</td><td>Electronic markets and agents and brokers</td><td>873578</td></tr><tr><td>CEU4142512057</td><td>41425120</td><td>Wholesale trade agents and brokers</td><td>1347220</td></tr><tr><td>CEU4142512057</td><td>41425120</td><td>Wholesale trade agents and brokers</td><td>1347220</td></tr><tr><td>CEU4142512082</td><td>41425120</td><td>Wholesale trade agents and brokers</td><td>851551</td></tr><tr><td>CEU4142512082</td><td>41425120</td><td>Wholesale trade agents and brokers</td><td>851551</td></tr><tr><td>CEU4200000057</td><td>42000000</td><td>Retail trade</td><td>8761040</td></tr><tr><td>CEU4200000057</td><td>42000000</td><td>Retail trade</td><td>8761040</td></tr><tr><td>CEU4200000082</td><td>42000000</td><td>Retail trade</td><td>6060100</td></tr><tr><td>CEU4200000082</td><td>42000000</td><td>Retail trade</td><td>6060100</td></tr><tr><td>CEU4244100057</td><td>42441000</td><td>Motor vehicle and parts dealers</td><td>1724940</td></tr><tr><td>CEU4244100057</td><td>42441000</td><td>Motor vehicle and parts dealers</td><td>1724940</td></tr><tr><td>CEU4244100082</td><td>42441000</td><td>Motor vehicle and parts dealers</td><td>1163420</td></tr><tr><td>CEU4244100082</td><td>42441000</td><td>Motor vehicle and parts dealers</td><td>1163420</td></tr><tr><td>CEU4244110057</td><td>42441100</td><td>Automobile dealers</td><td>1239175</td></tr><tr><td>CEU4244110057</td><td>42441100</td><td>Automobile dealers</td><td>1239175</td></tr><tr><td>CEU4244110082</td><td>42441100</td><td>Automobile dealers</td><td>831131</td></tr><tr><td>CEU4244110082</td><td>42441100</td><td>Automobile dealers</td><td>831131</td></tr><tr><td>CEU4244111057</td><td>42441110</td><td>New car dealers</td><td>1119385</td></tr><tr><td>CEU4244111057</td><td>42441110</td><td>New car dealers</td><td>1119385</td></tr><tr><td>CEU4244500057</td><td>42445000</td><td>Food and beverage stores</td><td>1338097</td></tr><tr><td>CEU4244500057</td><td>42445000</td><td>Food and beverage stores</td><td>1338097</td></tr><tr><td>CEU4244500082</td><td>42445000</td><td>Food and beverage stores</td><td>963315</td></tr><tr><td>CEU4244500082</td><td>42445000</td><td>Food and beverage stores</td><td>963315</td></tr><tr><td>CEU4244510057</td><td>42445100</td><td>Grocery stores</td><td>1168906</td></tr><tr><td>CEU4244510057</td><td>42445100</td><td>Grocery stores</td><td>1168906</td></tr><tr><td>CEU4244510082</td><td>42445100</td><td>Grocery stores</td><td>861224</td></tr><tr><td>CEU4244510082</td><td>42445100</td><td>Grocery stores</td><td>861224</td></tr><tr><td>CEU4244511057</td><td>42445110</td><td>Supermarkets and other grocery stores</td><td>1110354</td></tr><tr><td>CEU4244511057</td><td>42445110</td><td>Supermarkets and other grocery stores</td><td>1110354</td></tr><tr><td>CEU4245200057</td><td>42452000</td><td>General merchandise stores</td><td>1376086</td></tr><tr><td>CEU4245200057</td><td>42452000</td><td>General merchandise stores</td><td>1376086</td></tr><tr><td>CEU4245200082</td><td>42452000</td><td>General merchandise stores</td><td>1049973</td></tr><tr><td>CEU4245200082</td><td>42452000</td><td>General merchandise stores</td><td>1049973</td></tr><tr><td>CEU4300000057</td><td>43000000</td><td>Transportation and warehousing</td><td>4575913</td></tr><tr><td>CEU4300000057</td><td>43000000</td><td>Transportation and warehousing</td><td>4575913</td></tr><tr><td>CEU4300000082</td><td>43000000</td><td>Transportation and warehousing</td><td>3495553</td></tr><tr><td>CEU4300000082</td><td>43000000</td><td>Transportation and warehousing</td><td>3495553</td></tr><tr><td>CEU4348400057</td><td>43484000</td><td>Truck transportation</td><td>1346733</td></tr><tr><td>CEU4348400057</td><td>43484000</td><td>Truck transportation</td><td>1346733</td></tr><tr><td>CEU4348400082</td><td>43484000</td><td>Truck transportation</td><td>1092427</td></tr><tr><td>CEU4348400082</td><td>43484000</td><td>Truck transportation</td><td>1092427</td></tr><tr><td>CEU4348410057</td><td>43484100</td><td>General freight trucking</td><td>952051</td></tr><tr><td>CEU4348410057</td><td>43484100</td><td>General freight trucking</td><td>952051</td></tr><tr><td>CEU4422000057</td><td>44220000</td><td>Utilities</td><td>919164</td></tr><tr><td>CEU4422000057</td><td>44220000</td><td>Utilities</td><td>919164</td></tr><tr><td>CEU5000000057</td><td>50000000</td><td>Information</td><td>3839933</td></tr><tr><td>CEU5000000057</td><td>50000000</td><td>Information</td><td>3839933</td></tr><tr><td>CEU5000000082</td><td>50000000</td><td>Information</td><td>2434992</td></tr><tr><td>CEU5000000082</td><td>50000000</td><td>Information</td><td>2434992</td></tr><tr><td>CEU5051100057</td><td>50511000</td><td>Publishing industries</td><td>1227512</td></tr><tr><td>CEU5051100057</td><td>50511000</td><td>Publishing industries</td><td>1227512</td></tr><tr><td>CEU5051120057</td><td>50511200</td><td>Software publishers</td><td>860100</td></tr><tr><td>CEU5051120057</td><td>50511200</td><td>Software publishers</td><td>860100</td></tr><tr><td>CEU5051700057</td><td>50517000</td><td>Telecommunications</td><td>1020155</td></tr><tr><td>CEU5051700057</td><td>50517000</td><td>Telecommunications</td><td>1020155</td></tr><tr><td>CEU5500000057</td><td>55000000</td><td>Financial activities</td><td>10456034</td></tr><tr><td>CEU5500000057</td><td>55000000</td><td>Financial activities</td><td>10456034</td></tr><tr><td>CEU5500000082</td><td>55000000</td><td>Financial activities</td><td>6467426</td></tr><tr><td>CEU5500000082</td><td>55000000</td><td>Financial activities</td><td>6467426</td></tr><tr><td>CEU5552200057</td><td>55522000</td><td>Credit intermediation and related activities</td><td>3149170</td></tr><tr><td>CEU5552200057</td><td>55522000</td><td>Credit intermediation and related activities</td><td>3149170</td></tr><tr><td>CEU5552200082</td><td>55522000</td><td>Credit intermediation and related activities</td><td>1767137</td></tr><tr><td>CEU5552200082</td><td>55522000</td><td>Credit intermediation and related activities</td><td>1767137</td></tr><tr><td>CEU5552210057</td><td>55522100</td><td>Depository credit intermediation</td><td>1979117</td></tr><tr><td>CEU5552210057</td><td>55522100</td><td>Depository credit intermediation</td><td>1979117</td></tr><tr><td>CEU5552210082</td><td>55522100</td><td>Depository credit intermediation</td><td>1004069</td></tr><tr><td>CEU5552210082</td><td>55522100</td><td>Depository credit intermediation</td><td>1004069</td></tr><tr><td>CEU5552211057</td><td>55522110</td><td>Commercial banking</td><td>1575662</td></tr><tr><td>CEU5552211057</td><td>55522110</td><td>Commercial banking</td><td>1575662</td></tr><tr><td>CEU5552300057</td><td>55523000</td><td>NULL</td><td>1818312</td></tr><tr><td>CEU5552300057</td><td>55523000</td><td>NULL</td><td>1818312</td></tr><tr><td>CEU5552300082</td><td>55523000</td><td>NULL</td><td>1087325</td></tr><tr><td>CEU5552300082</td><td>55523000</td><td>NULL</td><td>1087325</td></tr><tr><td>CEU5552320057</td><td>55523200</td><td>NULL</td><td>882519</td></tr><tr><td>CEU5552320057</td><td>55523200</td><td>NULL</td><td>882519</td></tr><tr><td>CEU5552390057</td><td>55523900</td><td>Other financial investment activities</td><td>937922</td></tr><tr><td>CEU5552390057</td><td>55523900</td><td>Other financial investment activities</td><td>937922</td></tr><tr><td>CEU5552400057</td><td>55524000</td><td>Insurance carriers and related activities</td><td>3532152</td></tr><tr><td>CEU5552400057</td><td>55524000</td><td>Insurance carriers and related activities</td><td>3532152</td></tr><tr><td>CEU5552400082</td><td>55524000</td><td>Insurance carriers and related activities</td><td>2408490</td></tr><tr><td>CEU5552400082</td><td>55524000</td><td>Insurance carriers and related activities</td><td>2408490</td></tr><tr><td>CEU5552410057</td><td>55524100</td><td>Insurance carriers</td><td>2215577</td></tr><tr><td>CEU5552410057</td><td>55524100</td><td>Insurance carriers</td><td>2215577</td></tr><tr><td>CEU5552410082</td><td>55524100</td><td>Insurance carriers</td><td>1509979</td></tr><tr><td>CEU5552410082</td><td>55524100</td><td>Insurance carriers</td><td>1509979</td></tr><tr><td>CEU5552411057</td><td>55524110</td><td>Direct life and health insurance carriers</td><td>1216763</td></tr><tr><td>CEU5552411057</td><td>55524110</td><td>Direct life and health insurance carriers</td><td>1216763</td></tr><tr><td>CEU5552412057</td><td>55524120</td><td>Direct insurers</td><td>941433</td></tr><tr><td>CEU5552412057</td><td>55524120</td><td>Direct insurers</td><td>941433</td></tr><tr><td>CEU5552420057</td><td>55524200</td><td>Insurance agencies</td><td>1315375</td></tr><tr><td>CEU5552420057</td><td>55524200</td><td>Insurance agencies</td><td>1315375</td></tr><tr><td>CEU5552420082</td><td>55524200</td><td>Insurance agencies</td><td>894878</td></tr><tr><td>CEU5552420082</td><td>55524200</td><td>Insurance agencies</td><td>894878</td></tr><tr><td>CEU5552421057</td><td>55524210</td><td>Insurance agencies and brokerages</td><td>878065</td></tr><tr><td>CEU5552421057</td><td>55524210</td><td>Insurance agencies and brokerages</td><td>878065</td></tr><tr><td>CEU5553100057</td><td>55531000</td><td>Real estate</td><td>1418712</td></tr><tr><td>CEU5553100057</td><td>55531000</td><td>Real estate</td><td>1418712</td></tr><tr><td>CEU5553100082</td><td>55531000</td><td>Real estate</td><td>865620</td></tr><tr><td>CEU5553100082</td><td>55531000</td><td>Real estate</td><td>865620</td></tr><tr><td>CEU6000000057</td><td>60000000</td><td>Professional and business services</td><td>23230608</td></tr><tr><td>CEU6000000057</td><td>60000000</td><td>Professional and business services</td><td>23230608</td></tr><tr><td>CEU6000000082</td><td>60000000</td><td>Professional and business services</td><td>15219807</td></tr><tr><td>CEU6000000082</td><td>60000000</td><td>Professional and business services</td><td>15219807</td></tr><tr><td>CEU6054000057</td><td>60540000</td><td>Professional and technical services</td><td>13718735</td></tr><tr><td>CEU6054000057</td><td>60540000</td><td>Professional and technical services</td><td>13718735</td></tr><tr><td>CEU6054000082</td><td>60540000</td><td>Professional and technical services</td><td>8976687</td></tr><tr><td>CEU6054000082</td><td>60540000</td><td>Professional and technical services</td><td>8976687</td></tr><tr><td>CEU6054110057</td><td>60541100</td><td>Legal services</td><td>1722541</td></tr><tr><td>CEU6054110057</td><td>60541100</td><td>Legal services</td><td>1722541</td></tr><tr><td>CEU6054110082</td><td>60541100</td><td>Legal services</td><td>1093898</td></tr><tr><td>CEU6054110082</td><td>60541100</td><td>Legal services</td><td>1093898</td></tr><tr><td>CEU6054111057</td><td>60541110</td><td>Offices of lawyers</td><td>1641024</td></tr><tr><td>CEU6054111057</td><td>60541110</td><td>Offices of lawyers</td><td>1641024</td></tr><tr><td>CEU6054111082</td><td>60541110</td><td>Offices of lawyers</td><td>1038464</td></tr><tr><td>CEU6054111082</td><td>60541110</td><td>Offices of lawyers</td><td>1038464</td></tr><tr><td>CEU6054120057</td><td>60541200</td><td>Accounting and bookkeeping services</td><td>1202203</td></tr><tr><td>CEU6054120057</td><td>60541200</td><td>Accounting and bookkeeping services</td><td>1202203</td></tr><tr><td>CEU6054130057</td><td>60541300</td><td>Architectural and engineering services</td><td>2146385</td></tr><tr><td>CEU6054130057</td><td>60541300</td><td>Architectural and engineering services</td><td>2146385</td></tr><tr><td>CEU6054130082</td><td>60541300</td><td>Architectural and engineering services</td><td>1422967</td></tr><tr><td>CEU6054130082</td><td>60541300</td><td>Architectural and engineering services</td><td>1422967</td></tr><tr><td>CEU6054134057</td><td>60541340</td><td>NULL</td><td>1537888</td></tr><tr><td>CEU6054134057</td><td>60541340</td><td>NULL</td><td>1537888</td></tr><tr><td>CEU6054134082</td><td>60541340</td><td>NULL</td><td>1042223</td></tr><tr><td>CEU6054134082</td><td>60541340</td><td>NULL</td><td>1042223</td></tr><tr><td>CEU6054150057</td><td>60541500</td><td>Computer systems design and related services</td><td>3676138</td></tr><tr><td>CEU6054150057</td><td>60541500</td><td>Computer systems design and related services</td><td>3676138</td></tr><tr><td>CEU6054150082</td><td>60541500</td><td>Computer systems design and related services</td><td>2725031</td></tr><tr><td>CEU6054150082</td><td>60541500</td><td>Computer systems design and related services</td><td>2725031</td></tr><tr><td>CEU6054151157</td><td>60541511</td><td>Custom computer programming services</td><td>1639255</td></tr><tr><td>CEU6054151157</td><td>60541511</td><td>Custom computer programming services</td><td>1639255</td></tr><tr><td>CEU6054151182</td><td>60541511</td><td>Custom computer programming services</td><td>1198283</td></tr><tr><td>CEU6054151182</td><td>60541511</td><td>Custom computer programming services</td><td>1198283</td></tr><tr><td>CEU6054151257</td><td>60541512</td><td>Computer systems design services</td><td>1738428</td></tr><tr><td>CEU6054151257</td><td>60541512</td><td>Computer systems design services</td><td>1738428</td></tr><tr><td>CEU6054151282</td><td>60541512</td><td>Computer systems design services</td><td>1309441</td></tr><tr><td>CEU6054151282</td><td>60541512</td><td>Computer systems design services</td><td>1309441</td></tr><tr><td>CEU6054160057</td><td>60541600</td><td>Management and technical consulting services</td><td>2123095</td></tr><tr><td>CEU6054160057</td><td>60541600</td><td>Management and technical consulting services</td><td>2123095</td></tr><tr><td>CEU6054160082</td><td>60541600</td><td>Management and technical consulting services</td><td>1336594</td></tr><tr><td>CEU6054160082</td><td>60541600</td><td>Management and technical consulting services</td><td>1336594</td></tr><tr><td>CEU6054161057</td><td>60541610</td><td>Management consulting services</td><td>1755386</td></tr><tr><td>CEU6054161057</td><td>60541610</td><td>Management consulting services</td><td>1755386</td></tr><tr><td>CEU6054161082</td><td>60541610</td><td>Management consulting services</td><td>1066602</td></tr><tr><td>CEU6054161082</td><td>60541610</td><td>Management consulting services</td><td>1066602</td></tr><tr><td>CEU6054161157</td><td>60541611</td><td>Administrative management consulting services</td><td>981156</td></tr><tr><td>CEU6054161157</td><td>60541611</td><td>Administrative management consulting services</td><td>981156</td></tr><tr><td>CEU6054170057</td><td>60541700</td><td>Scientific research and development services</td><td>1283264</td></tr><tr><td>CEU6054170057</td><td>60541700</td><td>Scientific research and development services</td><td>1283264</td></tr><tr><td>CEU6054171057</td><td>60541710</td><td>Research and development in the physical</td><td>1207983</td></tr><tr><td>CEU6054171057</td><td>60541710</td><td>Research and development in the physical</td><td>1207983</td></tr><tr><td>CEU6054171257</td><td>60541712</td><td>Physical</td><td>874882</td></tr><tr><td>CEU6054171257</td><td>60541712</td><td>Physical</td><td>874882</td></tr><tr><td>CEU6055000057</td><td>60550000</td><td>Management of companies and enterprises</td><td>3491614</td></tr><tr><td>CEU6055000057</td><td>60550000</td><td>Management of companies and enterprises</td><td>3491614</td></tr><tr><td>CEU6055000082</td><td>60550000</td><td>Management of companies and enterprises</td><td>1587677</td></tr><tr><td>CEU6055000082</td><td>60550000</td><td>Management of companies and enterprises</td><td>1587677</td></tr><tr><td>CEU6055111457</td><td>60551114</td><td>Managing offices</td><td>3329401</td></tr><tr><td>CEU6055111457</td><td>60551114</td><td>Managing offices</td><td>3329401</td></tr><tr><td>CEU6055111482</td><td>60551114</td><td>Managing offices</td><td>1517287</td></tr><tr><td>CEU6055111482</td><td>60551114</td><td>Managing offices</td><td>1517287</td></tr><tr><td>CEU6056000057</td><td>60560000</td><td>Administrative and waste services</td><td>6040399</td></tr><tr><td>CEU6056000057</td><td>60560000</td><td>Administrative and waste services</td><td>6040399</td></tr><tr><td>CEU6056000082</td><td>60560000</td><td>Administrative and waste services</td><td>4659531</td></tr><tr><td>CEU6056000082</td><td>60560000</td><td>Administrative and waste services</td><td>4659531</td></tr><tr><td>CEU6056100057</td><td>60561000</td><td>Administrative and support services</td><td>5597836</td></tr><tr><td>CEU6056100057</td><td>60561000</td><td>Administrative and support services</td><td>5597836</td></tr><tr><td>CEU6056100082</td><td>60561000</td><td>Administrative and support services</td><td>4357866</td></tr><tr><td>CEU6056100082</td><td>60561000</td><td>Administrative and support services</td><td>4357866</td></tr><tr><td>CEU6056130057</td><td>60561300</td><td>Employment services</td><td>2167910</td></tr><tr><td>CEU6056130057</td><td>60561300</td><td>Employment services</td><td>2167910</td></tr><tr><td>CEU6056130082</td><td>60561300</td><td>Employment services</td><td>1938059</td></tr><tr><td>CEU6056130082</td><td>60561300</td><td>Employment services</td><td>1938059</td></tr><tr><td>CEU6056132057</td><td>60561320</td><td>Temporary help services</td><td>1650527</td></tr><tr><td>CEU6056132057</td><td>60561320</td><td>Temporary help services</td><td>1650527</td></tr><tr><td>CEU6056132082</td><td>60561320</td><td>Temporary help services</td><td>1530782</td></tr><tr><td>CEU6056132082</td><td>60561320</td><td>Temporary help services</td><td>1530782</td></tr><tr><td>CEU6056170057</td><td>60561700</td><td>Services to buildings and dwellings</td><td>999862</td></tr><tr><td>CEU6056170057</td><td>60561700</td><td>Services to buildings and dwellings</td><td>999862</td></tr><tr><td>CEU6500000057</td><td>65000000</td><td>Education and health services</td><td>19616812</td></tr><tr><td>CEU6500000057</td><td>65000000</td><td>Education and health services</td><td>19616812</td></tr><tr><td>CEU6500000082</td><td>65000000</td><td>Education and health services</td><td>14816074</td></tr><tr><td>CEU6500000082</td><td>65000000</td><td>Education and health services</td><td>14816074</td></tr><tr><td>CEU6562000057</td><td>65620000</td><td>Health care and social assistance</td><td>16893809</td></tr><tr><td>CEU6562000057</td><td>65620000</td><td>Health care and social assistance</td><td>16893809</td></tr><tr><td>CEU6562000082</td><td>65620000</td><td>Health care and social assistance</td><td>12878462</td></tr><tr><td>CEU6562000082</td><td>65620000</td><td>Health care and social assistance</td><td>12878462</td></tr><tr><td>CEU6562000157</td><td>65620001</td><td>NULL</td><td>15094574</td></tr><tr><td>CEU6562000157</td><td>65620001</td><td>NULL</td><td>15094574</td></tr><tr><td>CEU6562000182</td><td>65620001</td><td>NULL</td><td>11537267</td></tr><tr><td>CEU6562000182</td><td>65620001</td><td>NULL</td><td>11537267</td></tr><tr><td>CEU6562100057</td><td>65621000</td><td>Ambulatory health care services</td><td>7203262</td></tr><tr><td>CEU6562100057</td><td>65621000</td><td>Ambulatory health care services</td><td>7203262</td></tr><tr><td>CEU6562100082</td><td>65621000</td><td>Ambulatory health care services</td><td>4907269</td></tr><tr><td>CEU6562100082</td><td>65621000</td><td>Ambulatory health care services</td><td>4907269</td></tr><tr><td>CEU6562110057</td><td>65621100</td><td>Offices of physicians</td><td>3513888</td></tr><tr><td>CEU6562110057</td><td>65621100</td><td>Offices of physicians</td><td>3513888</td></tr><tr><td>CEU6562110082</td><td>65621100</td><td>Offices of physicians</td><td>2149121</td></tr><tr><td>CEU6562110082</td><td>65621100</td><td>Offices of physicians</td><td>2149121</td></tr><tr><td>CEU6562111157</td><td>65621111</td><td>Offices of physicians</td><td>3465699</td></tr><tr><td>CEU6562111157</td><td>65621111</td><td>Offices of physicians</td><td>3465699</td></tr><tr><td>CEU6562111182</td><td>65621111</td><td>Offices of physicians</td><td>2121845</td></tr><tr><td>CEU6562111182</td><td>65621111</td><td>Offices of physicians</td><td>2121845</td></tr><tr><td>CEU6562120057</td><td>65621200</td><td>Offices of dentists</td><td>847345</td></tr><tr><td>CEU6562120057</td><td>65621200</td><td>Offices of dentists</td><td>847345</td></tr><tr><td>CEU6562140057</td><td>65621400</td><td>Outpatient care centers</td><td>848281</td></tr><tr><td>CEU6562140057</td><td>65621400</td><td>Outpatient care centers</td><td>848281</td></tr><tr><td>CEU6562200057</td><td>65622000</td><td>Hospitals</td><td>5923747</td></tr><tr><td>CEU6562200057</td><td>65622000</td><td>Hospitals</td><td>5923747</td></tr><tr><td>CEU6562200082</td><td>65622000</td><td>Hospitals</td><td>5105336</td></tr><tr><td>CEU6562200082</td><td>65622000</td><td>Hospitals</td><td>5105336</td></tr><tr><td>CEU6562210057</td><td>65622100</td><td>General medical and surgical hospitals</td><td>5505844</td></tr><tr><td>CEU6562210057</td><td>65622100</td><td>General medical and surgical hospitals</td><td>5505844</td></tr><tr><td>CEU6562210082</td><td>65622100</td><td>General medical and surgical hospitals</td><td>4773547</td></tr><tr><td>CEU6562210082</td><td>65622100</td><td>General medical and surgical hospitals</td><td>4773547</td></tr><tr><td>CEU6562300057</td><td>65623000</td><td>Nursing and residential care facilities</td><td>1981669</td></tr><tr><td>CEU6562300057</td><td>65623000</td><td>Nursing and residential care facilities</td><td>1981669</td></tr><tr><td>CEU6562300082</td><td>65623000</td><td>Nursing and residential care facilities</td><td>1525889</td></tr><tr><td>CEU6562300082</td><td>65623000</td><td>Nursing and residential care facilities</td><td>1525889</td></tr><tr><td>CEU6562310057</td><td>65623100</td><td>Nursing care facilities</td><td>1017723</td></tr><tr><td>CEU6562310057</td><td>65623100</td><td>Nursing care facilities</td><td>1017723</td></tr><tr><td>CEU6562400057</td><td>65624000</td><td>Social assistance</td><td>1811418</td></tr><tr><td>CEU6562400057</td><td>65624000</td><td>Social assistance</td><td>1811418</td></tr><tr><td>CEU6562400082</td><td>65624000</td><td>Social assistance</td><td>1357629</td></tr><tr><td>CEU6562400082</td><td>65624000</td><td>Social assistance</td><td>1357629</td></tr><tr><td>CEU6562410057</td><td>65624100</td><td>Individual and family services</td><td>1105190</td></tr><tr><td>CEU6562410057</td><td>65624100</td><td>Individual and family services</td><td>1105190</td></tr><tr><td>CEU6562410082</td><td>65624100</td><td>Individual and family services</td><td>838886</td></tr><tr><td>CEU6562410082</td><td>65624100</td><td>Individual and family services</td><td>838886</td></tr><tr><td>CEU7000000057</td><td>70000000</td><td>Leisure and hospitality</td><td>5920672</td></tr><tr><td>CEU7000000057</td><td>70000000</td><td>Leisure and hospitality</td><td>5920672</td></tr><tr><td>CEU7000000082</td><td>70000000</td><td>Leisure and hospitality</td><td>4224098</td></tr><tr><td>CEU7000000082</td><td>70000000</td><td>Leisure and hospitality</td><td>4224098</td></tr><tr><td>CEU7071000057</td><td>70710000</td><td>Arts</td><td>1074458</td></tr><tr><td>CEU7071000057</td><td>70710000</td><td>Arts</td><td>1074458</td></tr><tr><td>CEU7072000057</td><td>70720000</td><td>Accommodation and food services</td><td>4847577</td></tr><tr><td>CEU7072000057</td><td>70720000</td><td>Accommodation and food services</td><td>4847577</td></tr><tr><td>CEU7072000082</td><td>70720000</td><td>Accommodation and food services</td><td>3572648</td></tr><tr><td>CEU7072000082</td><td>70720000</td><td>Accommodation and food services</td><td>3572648</td></tr><tr><td>CEU7072100057</td><td>70721000</td><td>Accommodation</td><td>958129</td></tr><tr><td>CEU7072100057</td><td>70721000</td><td>Accommodation</td><td>958129</td></tr><tr><td>CEU7072110057</td><td>70721100</td><td>Traveler accommodation</td><td>938363</td></tr><tr><td>CEU7072110057</td><td>70721100</td><td>Traveler accommodation</td><td>938363</td></tr><tr><td>CEU7072200057</td><td>70722000</td><td>Food services and drinking places</td><td>3877793</td></tr><tr><td>CEU7072200057</td><td>70722000</td><td>Food services and drinking places</td><td>3877793</td></tr><tr><td>CEU7072200082</td><td>70722000</td><td>Food services and drinking places</td><td>2913295</td></tr><tr><td>CEU7072200082</td><td>70722000</td><td>Food services and drinking places</td><td>2913295</td></tr><tr><td>CEU7072250057</td><td>70722500</td><td>Restaurants and other eating places</td><td>3471778</td></tr><tr><td>CEU7072250057</td><td>70722500</td><td>Restaurants and other eating places</td><td>3471778</td></tr><tr><td>CEU7072250082</td><td>70722500</td><td>Restaurants and other eating places</td><td>2617225</td></tr><tr><td>CEU7072250082</td><td>70722500</td><td>Restaurants and other eating places</td><td>2617225</td></tr><tr><td>CEU7072251157</td><td>70722511</td><td>Full-service restaurants</td><td>2009900</td></tr><tr><td>CEU7072251157</td><td>70722511</td><td>Full-service restaurants</td><td>2009900</td></tr><tr><td>CEU7072251182</td><td>70722511</td><td>Full-service restaurants</td><td>1528888</td></tr><tr><td>CEU7072251182</td><td>70722511</td><td>Full-service restaurants</td><td>1528888</td></tr><tr><td>CEU7072251357</td><td>70722513</td><td>Limited-service restaurants</td><td>1237183</td></tr><tr><td>CEU7072251357</td><td>70722513</td><td>Limited-service restaurants</td><td>1237183</td></tr><tr><td>CEU7072251382</td><td>70722513</td><td>Limited-service restaurants</td><td>922041</td></tr><tr><td>CEU7072251382</td><td>70722513</td><td>Limited-service restaurants</td><td>922041</td></tr><tr><td>CEU8000000057</td><td>80000000</td><td>Other services</td><td>4254988</td></tr><tr><td>CEU8000000057</td><td>80000000</td><td>Other services</td><td>4254988</td></tr><tr><td>CEU8000000082</td><td>80000000</td><td>Other services</td><td>2836698</td></tr><tr><td>CEU8000000082</td><td>80000000</td><td>Other services</td><td>2836698</td></tr><tr><td>CEU8081100057</td><td>80811000</td><td>Repair and maintenance</td><td>1038855</td></tr><tr><td>CEU8081100057</td><td>80811000</td><td>Repair and maintenance</td><td>1038855</td></tr><tr><td>CEU8081300057</td><td>80813000</td><td>Membership associations and organizations</td><td>2507238</td></tr><tr><td>CEU8081300057</td><td>80813000</td><td>Membership associations and organizations</td><td>2507238</td></tr><tr><td>CEU8081300082</td><td>80813000</td><td>Membership associations and organizations</td><td>1594855</td></tr><tr><td>CEU8081300082</td><td>80813000</td><td>Membership associations and organizations</td><td>1594855</td></tr></table>"
                    },
                    "metadata": {}
                }
            ],
            "execution_count": 22
        },
        {
            "cell_type": "markdown",
            "source": [
                "2. <span style=\"background-color: rgb(255, 255, 255); font-size: 10pt; white-space: pre-wrap; color: rgb(102, 102, 102); font-family: Arvo, serif;\">Create a Union table comparing average weekly earnings&nbsp; of production and nonsupervisory employees between annual_16 and january_17 using the data type 30.&nbsp; Round to the nearest penny.&nbsp; You should have a column for the average earnings and a column for the year, and the period.</span>"
            ],
            "metadata": {
                "azdata_cell_guid": "1bb0ed09-4b02-4132-910e-5903697628af"
            },
            "attachments": {}
        },
        {
            "cell_type": "code",
            "source": [
                "--Looking at all the average weekly earnings between 2016 and Jan. 2017\n",
                "-- USE LaborStatisticsDB\n",
                "\n",
                "-- SELECT ROUND(value,2) AS 'Avg. Earnings', year, period\n",
                "-- FROM   dbo.annual_2016\n",
                "-- WHERE series_id IN (SELECT series_id FROM dbo.series WHERE data_type_code = 30)\n",
                "-- UNION\n",
                "-- SELECT ROUND(value,2), year, period\n",
                "-- FROM   dbo.january_2017\n",
                "-- WHERE series_id IN (SELECT series_id FROM dbo.series WHERE data_type_code = 30)\n",
                "-- ORDER BY 'Avg. Earnings' DESC\n",
                "\n",
                "--Taking the average of the averages to summarize:\n",
                "USE LaborStatisticsDB\n",
                "\n",
                "SELECT AVG(value), year, period\n",
                "FROM dbo.annual_2016 AS a\n",
                "INNER JOIN dbo.series AS s\n",
                "ON a.series_id = s.series_id\n",
                "WHERE s.data_type_code = 30\n",
                "GROUP BY year, period\n",
                "UNION\n",
                "SELECT AVG(value), year, period\n",
                "FROM dbo.january_2017 as j\n",
                "INNER JOIN dbo.series AS s\n",
                "ON j.series_id = s.series_id\n",
                "WHERE s.data_type_code = 30\n",
                "GROUP BY year, period"
            ],
            "metadata": {
                "azdata_cell_guid": "0841b6d6-9af2-41ba-8e28-dc40d08bd061",
                "language": "sql"
            },
            "outputs": [
                {
                    "output_type": "display_data",
                    "data": {
                        "text/html": "(2 rows affected)"
                    },
                    "metadata": {}
                },
                {
                    "output_type": "display_data",
                    "data": {
                        "text/html": "Total execution time: 00:00:00.123"
                    },
                    "metadata": {}
                },
                {
                    "output_type": "execute_result",
                    "metadata": {},
                    "execution_count": 2,
                    "data": {
                        "application/vnd.dataresource+json": {
                            "schema": {
                                "fields": [
                                    {
                                        "name": "(No column name)"
                                    },
                                    {
                                        "name": "year"
                                    },
                                    {
                                        "name": "period"
                                    }
                                ]
                            },
                            "data": [
                                {
                                    "(No column name)": "797.1962613430123",
                                    "year": "2016",
                                    "period": "M13"
                                },
                                {
                                    "(No column name)": "808.5303811252254",
                                    "year": "2017",
                                    "period": "M01"
                                }
                            ]
                        },
                        "text/html": [
                            "<table>",
                            "<tr><th>(No column name)</th><th>year</th><th>period</th></tr>",
                            "<tr><td>797.1962613430123</td><td>2016</td><td>M13</td></tr>",
                            "<tr><td>808.5303811252254</td><td>2017</td><td>M01</td></tr>",
                            "</table>"
                        ]
                    }
                }
            ],
            "execution_count": 2
        },
        {
            "cell_type": "markdown",
            "source": [
                "## <span style=\"font-size:12pt;font-family:Montserrat, sans-serif;color:rgb(53, 74, 95);background-color:rgb(255, 255, 255);font-weight:700;vertical-align:baseline;white-space:pre-wrap;\">Summarize Your Results</span>\n",
                "\n",
                "<span style=\"font-size:10pt;font-family:Arvo, serif;color:rgb(102, 102, 102);background-color:rgb(255, 255, 255);vertical-align:baseline;white-space:pre-wrap;\">With what you know now about the </span> <span style=\"background-color:rgb(255, 255, 255);color:rgb(102, 102, 102);font-family:&quot;Times New Roman&quot;;font-size:13.3333px;white-space:pre-wrap;\">Bureau of Labor Statistics (BLS) Current Employment Survey (CES) results and working with the</span> <span style=\"color:rgb(102, 102, 102);white-space:pre-wrap;font-family:&quot;Times New Roman&quot;;font-size:13.3333px;\">Labor Statistics Database</span><span style=\"background-color:rgb(255, 255, 255);color:rgb(102, 102, 102);font-family:Arvo, serif;font-size:10pt;white-space:pre-wrap;\">, answer the following questions. Note that while this is subjective, you should include relevant data to back up your opinion.</span>\n",
                "\n",
                "1. <span style=\"background-color:rgb(255, 255, 255);font-size:10pt;white-space:pre-wrap;color:rgb(102, 102, 102);font-family:Arvo, serif;\">During which time period did production and nonsupervisory employees fare better?</span>"
            ],
            "metadata": {
                "azdata_cell_guid": "780f65a6-b9e7-4f24-9132-293c47f559e8"
            },
            "attachments": {}
        },
        {
            "cell_type": "markdown",
            "source": [
                "According to the above table looking at average weekly earnings, production and nonsupervisory employess fared best during period M01 (January) in the year 2017 when average weekly earnings were the highest."
            ],
            "metadata": {
                "azdata_cell_guid": "f11f1fb2-f7d1-41e5-bc9c-84087d7cfc93"
            },
            "attachments": {}
        },
        {
            "cell_type": "markdown",
            "source": [
                "2. <span style=\"background-color: rgb(255, 255, 255); font-size: 10pt; white-space: pre-wrap; color: rgb(102, 102, 102); font-family: Arvo, serif;\">In which industries did production and nonsupervisory employees fare better?</span>"
            ],
            "metadata": {
                "azdata_cell_guid": "f606e5e5-f6f1-4070-bbfa-e31617b43e56"
            },
            "attachments": {}
        },
        {
            "cell_type": "markdown",
            "source": [
                "Production and nonspervisory employess fare better in private industies."
            ],
            "metadata": {
                "azdata_cell_guid": "94e18f5d-b87b-4ba6-b1fd-bde035dafc04"
            },
            "attachments": {}
        },
        {
            "cell_type": "markdown",
            "source": [
                "3. <span style=\"font-size: 10pt; font-family: Arvo, serif; color: rgb(102, 102, 102); background-color: rgb(255, 255, 255); font-variant-numeric: normal; font-variant-east-asian: normal; vertical-align: baseline; white-space: pre-wrap;\">Now that you have explored the datasets, is there any data or information that you wish you had in this analysis?</span>"
            ],
            "metadata": {
                "azdata_cell_guid": "101e4449-601a-46c6-b217-23f3339cfa76"
            },
            "attachments": {}
        },
        {
            "cell_type": "markdown",
            "source": [
                "I would have found it helpful to be able to differentiate earnings in the total private industry with a varable or table that listed the different types of 'private\" industies (i.e., healthcare, tech, etc.). I also wish that I had a data dictornary or documant that better defines the definitions of the id codes (series, data type), specficaly understanding the differeces between these ideas and how they inform the 'value' variable."
            ],
            "metadata": {
                "azdata_cell_guid": "d07e9180-f5e0-49b4-b395-2c6c8a5f8aac"
            },
            "attachments": {}
        }
    ]
}