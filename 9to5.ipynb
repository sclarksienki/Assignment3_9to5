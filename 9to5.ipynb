{
    "metadata": {
        "kernelspec": {
            "name": "SQL",
            "display_name": "SQL",
            "language": "sql"
        },
        "language_info": {
            "name": "sql",
            "version": ""
        },
        "extensions": {
            "azuredatastudio": {
                "version": 1,
                "views": []
            }
        }
    },
    "nbformat_minor": 2,
    "nbformat": 4,
    "cells": [
        {
            "cell_type": "markdown",
            "source": [
                "# <span style=\"font-size:20pt;font-family:Montserrat, sans-serif;color:rgb(92, 148, 206);background-color:rgb(255, 255, 255);font-weight:700;vertical-align:baseline;white-space:pre-wrap;\">Graded Assignment 3: 9 to 5</span>\n",
                "\n",
                "<span style=\"font-size:10pt;font-family:&quot;Times New Roman&quot;;color:rgb(102, 102, 102);background-color:rgb(255, 255, 255);vertical-align:baseline;white-space:pre-wrap;\">Time to show off your SQL skills! For each question, copy the SQL query you used and make note of the answer.</span>\n",
                "\n",
                "## <span style=\"font-size:12pt;font-family:Montserrat, sans-serif;color:rgb(53, 74, 95);background-color:rgb(255, 255, 255);font-weight:700;vertical-align:baseline;white-space:pre-wrap;\">The Dataset</span>\n",
                "\n",
                "<span style=\"font-size:10pt;font-family:&quot;Times New Roman&quot;;color:rgb(102, 102, 102);background-color:rgb(255, 255, 255);vertical-align:baseline;white-space:pre-wrap;\">For this assignment, you will be using the Bureau of Labor Statistics (BLS) Current Employment Survey (CES) results which can be found on</span> [<span style=\"font-size:10pt;font-family:&quot;Times New Roman&quot;;color:rgb(17, 85, 204);background-color:rgb(255, 255, 255);vertical-align:baseline;white-space:pre-wrap;\">Kaggle</span>](https://www.kaggle.com/bls/employment)<span style=\"font-size:10pt;font-family:&quot;Times New Roman&quot;;color:rgb(102, 102, 102);background-color:rgb(255, 255, 255);vertical-align:baseline;white-space:pre-wrap;\">.</span>\n",
                "\n",
                "## <span style=\"font-size:12pt;font-family:Montserrat, sans-serif;color:rgb(53, 74, 95);background-color:rgb(255, 255, 255);font-weight:700;vertical-align:baseline;white-space:pre-wrap;\">Business Issue</span>\n",
                "\n",
                "<span style=\"font-size:10pt;font-family:&quot;Times New Roman&quot;;color:rgb(102, 102, 102);background-color:rgb(255, 255, 255);vertical-align:baseline;white-space:pre-wrap;\">You are working for the Bureau of Labor Statistics with the United States government and have been approached by your boss with an important meeting request. You have been asked by your supervisor to meet with Dolly Parton whose nonprofit is looking to shed light on the state of employment in the United States. As part of the 9 to 5 project, their research is focused on production and nonsupervisory employees and how those employees fare compared to all employees in the United States. While the data the BLS collects from the CES is publicly available, Dolly Parton and her colleagues need your assistance navigating the thousands of rows in each table in LaborStatisticsDB.</span>\n",
                "\n",
                "## <span style=\"font-size:12pt;font-family:Montserrat, sans-serif;color:rgb(53, 74, 95);background-color:rgb(255, 255, 255);font-weight:700;vertical-align:baseline;white-space:pre-wrap;\">About the Dataset</span>\n",
                "\n",
                "<span style=\"font-size:10pt;font-family:&quot;Times New Roman&quot;;color:rgb(102, 102, 102);background-color:rgb(255, 255, 255);vertical-align:baseline;white-space:pre-wrap;\">This dataset comes directly from the Bureau of Labor Statistics’ Current Employment Survey (CES). Here are some things you need to know:</span>\n",
                "\n",
                "1. <span style=\"font-size:10pt;background-color:rgb(255, 255, 255);vertical-align:baseline;white-space:pre-wrap;\">The industry table contains an NAICS code. This is different from the industry code. NAICS stands for North American Industry Classification System.</span>\n",
                "    \n",
                "2. <span style=\"font-size:10pt;background-color:rgb(255, 255, 255);vertical-align:baseline;white-space:pre-wrap;\">Series ID is composed of multiple different codes. CES stands for Current Employment Survey, the name of the survey which collected the data. The industry code as specified by the BLS and the data type code as specified in the datatype table.</span>\n",
                "    \n",
                "\n",
                "## <span style=\"font-size:12pt;font-family:Montserrat, sans-serif;color:rgb(53, 74, 95);background-color:rgb(255, 255, 255);font-weight:700;vertical-align:baseline;white-space:pre-wrap;\">Set Up</span>\n",
                "\n",
                "<span style=\"font-size:10pt;font-family:&quot;Times New Roman&quot;;color:rgb(102, 102, 102);background-color:rgb(255, 255, 255);vertical-align:baseline;white-space:pre-wrap;\">To connect to the database, use the same connection info used during the SQL lessons.&nbsp;</span> \n",
                "\n",
                "<span style=\"font-size:10pt;font-family:&quot;Times New Roman&quot;;color:rgb(102, 102, 102);background-color:rgb(255, 255, 255);vertical-align:baseline;white-space:pre-wrap;\">For the assignment, we will be using the LaborStatisticsDB database.</span>\n",
                "\n",
                "## <span style=\"font-size:12pt;font-family:Montserrat, sans-serif;color:rgb(53, 74, 95);background-color:rgb(255, 255, 255);font-weight:700;vertical-align:baseline;white-space:pre-wrap;\">Database Exploration</span>\n",
                "\n",
                "<span style=\"font-size:10pt;font-family:&quot;Times New Roman&quot;;color:rgb(102, 102, 102);background-color:rgb(255, 255, 255);vertical-align:baseline;white-space:pre-wrap;\">To start with, let’s get to know the database further.</span>\n",
                "\n",
                "1. <span style=\"background-color:rgb(255, 255, 255);color:rgb(102, 102, 102);font-family:&quot;Times New Roman&quot;;font-size:10pt;white-space:pre-wrap;\">Use this space to make note of each table in the database, the columns within each table, each column’s data type, and how the tables are connected. You can write this down or draw a diagram. Whatever method helps you get an understanding of what is going on with LaborStatisticsDB.</span>\n",
                "2. <span style=\"background-color:rgb(255, 255, 255);color:rgb(102, 102, 102);font-family:&quot;Times New Roman&quot;;font-size:10pt;white-space:pre-wrap;\">Tables:</span>\n",
                "1. <span style=\"background-color:rgb(255, 255, 255);color:rgb(102, 102, 102);font-family:&quot;Times New Roman&quot;;font-size:10pt;white-space:pre-wrap;\">annual_2016 (id, series_id, year, period, value, footnote_codes, original_file)</span>\n",
                "2. <span style=\"background-color:rgb(255, 255, 255);color:rgb(102, 102, 102);font-family:&quot;Times New Roman&quot;;font-size:10pt;white-space:pre-wrap;\">datatype (data_type_code, data_type_text)</span>\n",
                "3. <span style=\"background-color:rgb(255, 255, 255);color:rgb(102, 102, 102);font-family:&quot;Times New Roman&quot;;font-size:10pt;white-space:pre-wrap;\">footnote (footnote_code, footnote_text)</span>\n",
                "4. <span style=\"background-color:rgb(255, 255, 255);color:rgb(102, 102, 102);font-family:&quot;Times New Roman&quot;;font-size:10pt;white-space:pre-wrap;\">industry (id, industry_code, naics_code, publishing_status, industry_name, display_name, selectable, sort_sequence)</span>\n",
                "5. <span style=\"background-color:rgb(255, 255, 255);color:rgb(102, 102, 102);font-family:&quot;Times New Roman&quot;;font-size:10pt;white-space:pre-wrap;\">january_2017 (id, series_id, year, period, value, footnote_codes, original_file)</span>\n",
                "6. <span style=\"background-color:rgb(255, 255, 255);color:rgb(102, 102, 102);font-family:&quot;Times New Roman&quot;;font-size:10pt;white-space:pre-wrap;\">period (period_code, month_abbr, month)</span>\n",
                "7. <span style=\"background-color:rgb(255, 255, 255);color:rgb(102, 102, 102);font-family:&quot;Times New Roman&quot;;font-size:10pt;white-space:pre-wrap;\">seasonal (industry_code, seasonal_text)</span>\n",
                "8. <span style=\"background-color:rgb(255, 255, 255);color:rgb(102, 102, 102);font-family:&quot;Times New Roman&quot;;font-size:10pt;white-space:pre-wrap;\">series (series_id, supersector_code, industry_code, data_type_code, seasonal, series_title)</span>\n",
                "9. <span style=\"background-color:rgb(255, 255, 255);color:rgb(102, 102, 102);font-family:&quot;Times New Roman&quot;;font-size:10pt;white-space:pre-wrap;\">supersector (super_sector_code, supersector_name)</span>"
            ],
            "metadata": {
                "azdata_cell_guid": "28ea70c5-f0be-4197-b6c0-ade22886a708"
            },
            "attachments": {}
        },
        {
            "cell_type": "markdown",
            "source": [
                "To add a photo, diagram or document to your file, drop the file into the folder that holds this notebook.  Use the the link button to the right of the  \\</\\> symbol in the gray part of this cell, the link is just the name of your file."
            ],
            "metadata": {
                "azdata_cell_guid": "aeae906c-752c-49d3-b482-3ed6a4f54b6e"
            },
            "attachments": {}
        },
        {
            "cell_type": "code",
            "source": [
                ""
            ],
            "metadata": {
                "azdata_cell_guid": "dbf3633e-8503-49e6-b128-cf010d1558cf",
                "language": "sql"
            },
            "outputs": [],
            "execution_count": null
        },
        {
            "cell_type": "markdown",
            "source": [
                "2. <span style=\"background-color: rgb(255, 255, 255); color: rgb(102, 102, 102); font-family: Arvo, serif; font-size: 10pt; white-space: pre-wrap;\">What is the datatype for women employees? <b>10</b></span>"
            ],
            "metadata": {
                "azdata_cell_guid": "01b111b7-baf1-4617-88bc-cd442826c9c9"
            },
            "attachments": {}
        },
        {
            "cell_type": "code",
            "source": [
                "SELECT TOP 1 data_type_code, data_type_text\n",
                "FROM LaborStatisticsDB.dbo.datatype\n",
                "WHERE data_type_text LIKE '%WOMEN%'"
            ],
            "metadata": {
                "azdata_cell_guid": "02fa547c-0bb7-4a40-81c2-f5c05154df04",
                "language": "sql",
                "tags": []
            },
            "outputs": [
                {
                    "output_type": "display_data",
                    "data": {
                        "text/html": "(1 row affected)"
                    },
                    "metadata": {}
                },
                {
                    "output_type": "display_data",
                    "data": {
                        "text/html": "Total execution time: 00:00:00.033"
                    },
                    "metadata": {}
                },
                {
                    "output_type": "execute_result",
                    "metadata": {},
                    "execution_count": 4,
                    "data": {
                        "application/vnd.dataresource+json": {
                            "schema": {
                                "fields": [
                                    {
                                        "name": "data_type_code"
                                    },
                                    {
                                        "name": "data_type_text"
                                    }
                                ]
                            },
                            "data": [
                                {
                                    "data_type_code": "10",
                                    "data_type_text": "WOMEN EMPLOYEES"
                                }
                            ]
                        },
                        "text/html": [
                            "<table>",
                            "<tr><th>data_type_code</th><th>data_type_text</th></tr>",
                            "<tr><td>10</td><td>WOMEN EMPLOYEES</td></tr>",
                            "</table>"
                        ]
                    }
                }
            ],
            "execution_count": 4
        },
        {
            "cell_type": "markdown",
            "source": [
                "3. <span style=\"background-color: rgb(255, 255, 255); font-size: 10pt; white-space: pre-wrap; color: rgb(102, 102, 102); font-family: Arvo, serif;\">What is the series id for&nbsp; women employees in the commercial banking industry in the financial activities supersector? </span>  <span style=\"font-size: 13.3333px; white-space: pre-wrap;\"><b>CES5552211010</b></span>"
            ],
            "metadata": {
                "azdata_cell_guid": "325f85cc-9545-47b3-b975-3aab6278e4ea"
            },
            "attachments": {}
        },
        {
            "cell_type": "code",
            "source": [
                "SELECT TOP 1 industry_code, industry_name\n",
                "FROM LaborStatisticsDB.dbo.industry\n",
                "WHERE industry_name LIKE '%commercial banking%'"
            ],
            "metadata": {
                "language": "sql",
                "azdata_cell_guid": "08584b36-a895-408b-a2d0-c82d8b03481c",
                "tags": []
            },
            "outputs": [
                {
                    "output_type": "display_data",
                    "data": {
                        "text/html": "(1 row affected)"
                    },
                    "metadata": {}
                },
                {
                    "output_type": "display_data",
                    "data": {
                        "text/html": "Total execution time: 00:00:00.035"
                    },
                    "metadata": {}
                },
                {
                    "output_type": "execute_result",
                    "metadata": {},
                    "execution_count": 5,
                    "data": {
                        "application/vnd.dataresource+json": {
                            "schema": {
                                "fields": [
                                    {
                                        "name": "industry_code"
                                    },
                                    {
                                        "name": "industry_name"
                                    }
                                ]
                            },
                            "data": [
                                {
                                    "industry_code": "55522110",
                                    "industry_name": "Commercial banking"
                                }
                            ]
                        },
                        "text/html": [
                            "<table>",
                            "<tr><th>industry_code</th><th>industry_name</th></tr>",
                            "<tr><td>55522110</td><td>Commercial banking</td></tr>",
                            "</table>"
                        ]
                    }
                }
            ],
            "execution_count": 5
        },
        {
            "cell_type": "code",
            "source": [
                "SELECT TOP 1 supersector_code, supersector_name\n",
                "FROM LaborStatisticsDB.dbo.supersector\n",
                "WHERE supersector_name LIKE '%financial%'"
            ],
            "metadata": {
                "language": "sql",
                "azdata_cell_guid": "d5b4cda2-e527-4b6d-8185-0d3f04fd613b",
                "tags": []
            },
            "outputs": [
                {
                    "output_type": "display_data",
                    "data": {
                        "text/html": "(1 row affected)"
                    },
                    "metadata": {}
                },
                {
                    "output_type": "display_data",
                    "data": {
                        "text/html": "Total execution time: 00:00:00.032"
                    },
                    "metadata": {}
                },
                {
                    "output_type": "execute_result",
                    "metadata": {},
                    "execution_count": 8,
                    "data": {
                        "application/vnd.dataresource+json": {
                            "schema": {
                                "fields": [
                                    {
                                        "name": "supersector_code"
                                    },
                                    {
                                        "name": "supersector_name"
                                    }
                                ]
                            },
                            "data": [
                                {
                                    "supersector_code": "55",
                                    "supersector_name": "Financial activities"
                                }
                            ]
                        },
                        "text/html": [
                            "<table>",
                            "<tr><th>supersector_code</th><th>supersector_name</th></tr>",
                            "<tr><td>55</td><td>Financial activities</td></tr>",
                            "</table>"
                        ]
                    }
                }
            ],
            "execution_count": 8
        },
        {
            "cell_type": "code",
            "source": [
                "SELECT TOP 1 series_id, data_type_code, industry_code, supersector_code\n",
                "FROM LaborStatisticsDB.dbo.series\n",
                "WHERE data_type_code = 10 \n",
                "AND industry_code = 55522110 \n",
                "AND supersector_code = 55"
            ],
            "metadata": {
                "azdata_cell_guid": "1315af1f-45f8-457d-8bbe-8e9f46303fca",
                "language": "sql",
                "tags": []
            },
            "outputs": [
                {
                    "output_type": "display_data",
                    "data": {
                        "text/html": "(1 row affected)"
                    },
                    "metadata": {}
                },
                {
                    "output_type": "display_data",
                    "data": {
                        "text/html": "Total execution time: 00:00:00.034"
                    },
                    "metadata": {}
                },
                {
                    "output_type": "execute_result",
                    "metadata": {},
                    "execution_count": 10,
                    "data": {
                        "application/vnd.dataresource+json": {
                            "schema": {
                                "fields": [
                                    {
                                        "name": "series_id"
                                    },
                                    {
                                        "name": "data_type_code"
                                    },
                                    {
                                        "name": "industry_code"
                                    },
                                    {
                                        "name": "supersector_code"
                                    }
                                ]
                            },
                            "data": [
                                {
                                    "series_id": "CES5552211010",
                                    "data_type_code": "10",
                                    "industry_code": "55522110",
                                    "supersector_code": "55"
                                }
                            ]
                        },
                        "text/html": [
                            "<table>",
                            "<tr><th>series_id</th><th>data_type_code</th><th>industry_code</th><th>supersector_code</th></tr>",
                            "<tr><td>CES5552211010</td><td>10</td><td>55522110</td><td>55</td></tr>",
                            "</table>"
                        ]
                    }
                }
            ],
            "execution_count": 10
        },
        {
            "cell_type": "markdown",
            "source": [
                "## <span style=\"font-size: 12pt; font-family: Montserrat, sans-serif; color: rgb(53, 74, 95); background-color: rgb(255, 255, 255); font-weight: 700; font-variant-numeric: normal; font-variant-east-asian: normal; vertical-align: baseline; white-space: pre-wrap;\">Join in on the Fun</span>\n",
                "\n",
                "<span style=\"font-size: 10pt; font-family: Arvo, serif; color: rgb(102, 102, 102); background-color: rgb(255, 255, 255); font-variant-numeric: normal; font-variant-east-asian: normal; vertical-align: baseline; white-space: pre-wrap;\">Time to start joining! You can choose the type of join you use, just make sure to make a&nbsp; note!</span>\n",
                "\n",
                "1. <span style=\"background-color: rgb(255, 255, 255); font-size: 10pt; white-space: pre-wrap; color: rgb(102, 102, 102); font-family: Arvo, serif;\">Join&nbsp; annual_2016 with series on series_id. We only want the data in the annual_2016 table to be included in the result.</span>"
            ],
            "metadata": {
                "azdata_cell_guid": "ec1dfc63-ad41-4349-8c26-1d326ace8c6c"
            },
            "attachments": {}
        },
        {
            "cell_type": "code",
            "source": [
                "SELECT TOP 10 *\n",
                "FROM LaborStatisticsDB.dbo.annual_2016 AS a\n",
                "LEFT JOIN LaborStatisticsDB.dbo.series AS s\n",
                "ON a.series_id = s.series_id"
            ],
            "metadata": {
                "azdata_cell_guid": "cf90f0b4-c482-4fbb-ac17-d2244881caab",
                "language": "sql"
            },
            "outputs": [
                {
                    "output_type": "display_data",
                    "data": {
                        "text/html": "(10 rows affected)"
                    },
                    "metadata": {}
                },
                {
                    "output_type": "display_data",
                    "data": {
                        "text/html": "Total execution time: 00:00:00.176"
                    },
                    "metadata": {}
                },
                {
                    "output_type": "execute_result",
                    "metadata": {},
                    "execution_count": 11,
                    "data": {
                        "application/vnd.dataresource+json": {
                            "schema": {
                                "fields": [
                                    {
                                        "name": "id"
                                    },
                                    {
                                        "name": "series_id"
                                    },
                                    {
                                        "name": "year"
                                    },
                                    {
                                        "name": "period"
                                    },
                                    {
                                        "name": "value"
                                    },
                                    {
                                        "name": "footnote_codes"
                                    },
                                    {
                                        "name": "original_file"
                                    },
                                    {
                                        "name": "series_id"
                                    },
                                    {
                                        "name": "supersector_code"
                                    },
                                    {
                                        "name": "industry_code"
                                    },
                                    {
                                        "name": "data_type_code"
                                    },
                                    {
                                        "name": "seasonal"
                                    },
                                    {
                                        "name": "series_title"
                                    }
                                ]
                            },
                            "data": [
                                {
                                    "id": "0",
                                    "series_id": "CEU5500000007",
                                    "year": "2016",
                                    "period": "M13",
                                    "value": "36.9",
                                    "footnote_codes": "NULL",
                                    "original_file": "ce.data.55c.FinancialActivities.ProductionEmployeeHoursAndEarnings.csv",
                                    "supersector_code": "55",
                                    "industry_code": "55000000",
                                    "data_type_code": "7",
                                    "seasonal": "U",
                                    "series_title": "Average weekly hours of production and nonsupervisory employees"
                                },
                                {
                                    "id": "1",
                                    "series_id": "CEU5500000008",
                                    "year": "2016",
                                    "period": "M13",
                                    "value": "26.11",
                                    "footnote_codes": "NULL",
                                    "original_file": "ce.data.55c.FinancialActivities.ProductionEmployeeHoursAndEarnings.csv",
                                    "supersector_code": "55",
                                    "industry_code": "55000000",
                                    "data_type_code": "8",
                                    "seasonal": "U",
                                    "series_title": "Average hourly earnings of production and nonsupervisory employees"
                                },
                                {
                                    "id": "2",
                                    "series_id": "CEU5500000030",
                                    "year": "2016",
                                    "period": "M13",
                                    "value": "962.73",
                                    "footnote_codes": "NULL",
                                    "original_file": "ce.data.55c.FinancialActivities.ProductionEmployeeHoursAndEarnings.csv",
                                    "supersector_code": "55",
                                    "industry_code": "55000000",
                                    "data_type_code": "30",
                                    "seasonal": "U",
                                    "series_title": "Average weekly earnings of production and nonsupervisory employees"
                                },
                                {
                                    "id": "3",
                                    "series_id": "CEU5500000031",
                                    "year": "2016",
                                    "period": "M13",
                                    "value": "411.29",
                                    "footnote_codes": "NULL",
                                    "original_file": "ce.data.55c.FinancialActivities.ProductionEmployeeHoursAndEarnings.csv",
                                    "supersector_code": "55",
                                    "industry_code": "55000000",
                                    "data_type_code": "31",
                                    "seasonal": "U",
                                    "series_title": "Average weekly earnings of production and nonsupervisory employees"
                                },
                                {
                                    "id": "4",
                                    "series_id": "CEU5500000032",
                                    "year": "2016",
                                    "period": "M13",
                                    "value": "11.15",
                                    "footnote_codes": "NULL",
                                    "original_file": "ce.data.55c.FinancialActivities.ProductionEmployeeHoursAndEarnings.csv",
                                    "supersector_code": "55",
                                    "industry_code": "55000000",
                                    "data_type_code": "32",
                                    "seasonal": "U",
                                    "series_title": "Average hourly earnings of production and nonsupervisory employees"
                                },
                                {
                                    "id": "5",
                                    "series_id": "CEU5500000034",
                                    "year": "2016",
                                    "period": "M13",
                                    "value": "111.6",
                                    "footnote_codes": "NULL",
                                    "original_file": "ce.data.55c.FinancialActivities.ProductionEmployeeHoursAndEarnings.csv",
                                    "supersector_code": "55",
                                    "industry_code": "55000000",
                                    "data_type_code": "34",
                                    "seasonal": "U",
                                    "series_title": "Indexes of aggregate weekly hours of production and nonsupervisory employees"
                                },
                                {
                                    "id": "6",
                                    "series_id": "CEU5500000035",
                                    "year": "2016",
                                    "period": "M13",
                                    "value": "179.2",
                                    "footnote_codes": "NULL",
                                    "original_file": "ce.data.55c.FinancialActivities.ProductionEmployeeHoursAndEarnings.csv",
                                    "supersector_code": "55",
                                    "industry_code": "55000000",
                                    "data_type_code": "35",
                                    "seasonal": "U",
                                    "series_title": "Indexes of aggregate weekly payrolls of production and nonsupervisory employees"
                                },
                                {
                                    "id": "7",
                                    "series_id": "CEU5500000081",
                                    "year": "2016",
                                    "period": "M13",
                                    "value": "236997",
                                    "footnote_codes": "NULL",
                                    "original_file": "ce.data.55c.FinancialActivities.ProductionEmployeeHoursAndEarnings.csv",
                                    "supersector_code": "55",
                                    "industry_code": "55000000",
                                    "data_type_code": "81",
                                    "seasonal": "U",
                                    "series_title": "Aggregate weekly hours of production and nonsupervisory employees"
                                },
                                {
                                    "id": "8",
                                    "series_id": "CEU5500000082",
                                    "year": "2016",
                                    "period": "M13",
                                    "value": "6189003",
                                    "footnote_codes": "NULL",
                                    "original_file": "ce.data.55c.FinancialActivities.ProductionEmployeeHoursAndEarnings.csv",
                                    "supersector_code": "55",
                                    "industry_code": "55000000",
                                    "data_type_code": "82",
                                    "seasonal": "U",
                                    "series_title": "Aggregate weekly payrolls of production and nonsupervisory employees"
                                },
                                {
                                    "id": "9",
                                    "series_id": "CEU5552200007",
                                    "year": "2016",
                                    "period": "M13",
                                    "value": "37.3",
                                    "footnote_codes": "NULL",
                                    "original_file": "ce.data.55c.FinancialActivities.ProductionEmployeeHoursAndEarnings.csv",
                                    "supersector_code": "55",
                                    "industry_code": "55522000",
                                    "data_type_code": "7",
                                    "seasonal": "U",
                                    "series_title": "Average weekly hours of production and nonsupervisory employees"
                                }
                            ]
                        },
                        "text/html": [
                            "<table>",
                            "<tr><th>id</th><th>series_id</th><th>year</th><th>period</th><th>value</th><th>footnote_codes</th><th>original_file</th><th>series_id</th><th>supersector_code</th><th>industry_code</th><th>data_type_code</th><th>seasonal</th><th>series_title</th></tr>",
                            "<tr><td>0</td><td>CEU5500000007</td><td>2016</td><td>M13</td><td>36.9</td><td>NULL</td><td>ce.data.55c.FinancialActivities.ProductionEmployeeHoursAndEarnings.csv</td><td>CEU5500000007</td><td>55</td><td>55000000</td><td>7</td><td>U</td><td>Average weekly hours of production and nonsupervisory employees</td></tr>",
                            "<tr><td>1</td><td>CEU5500000008</td><td>2016</td><td>M13</td><td>26.11</td><td>NULL</td><td>ce.data.55c.FinancialActivities.ProductionEmployeeHoursAndEarnings.csv</td><td>CEU5500000008</td><td>55</td><td>55000000</td><td>8</td><td>U</td><td>Average hourly earnings of production and nonsupervisory employees</td></tr>",
                            "<tr><td>2</td><td>CEU5500000030</td><td>2016</td><td>M13</td><td>962.73</td><td>NULL</td><td>ce.data.55c.FinancialActivities.ProductionEmployeeHoursAndEarnings.csv</td><td>CEU5500000030</td><td>55</td><td>55000000</td><td>30</td><td>U</td><td>Average weekly earnings of production and nonsupervisory employees</td></tr>",
                            "<tr><td>3</td><td>CEU5500000031</td><td>2016</td><td>M13</td><td>411.29</td><td>NULL</td><td>ce.data.55c.FinancialActivities.ProductionEmployeeHoursAndEarnings.csv</td><td>CEU5500000031</td><td>55</td><td>55000000</td><td>31</td><td>U</td><td>Average weekly earnings of production and nonsupervisory employees</td></tr>",
                            "<tr><td>4</td><td>CEU5500000032</td><td>2016</td><td>M13</td><td>11.15</td><td>NULL</td><td>ce.data.55c.FinancialActivities.ProductionEmployeeHoursAndEarnings.csv</td><td>CEU5500000032</td><td>55</td><td>55000000</td><td>32</td><td>U</td><td>Average hourly earnings of production and nonsupervisory employees</td></tr>",
                            "<tr><td>5</td><td>CEU5500000034</td><td>2016</td><td>M13</td><td>111.6</td><td>NULL</td><td>ce.data.55c.FinancialActivities.ProductionEmployeeHoursAndEarnings.csv</td><td>CEU5500000034</td><td>55</td><td>55000000</td><td>34</td><td>U</td><td>Indexes of aggregate weekly hours of production and nonsupervisory employees</td></tr>",
                            "<tr><td>6</td><td>CEU5500000035</td><td>2016</td><td>M13</td><td>179.2</td><td>NULL</td><td>ce.data.55c.FinancialActivities.ProductionEmployeeHoursAndEarnings.csv</td><td>CEU5500000035</td><td>55</td><td>55000000</td><td>35</td><td>U</td><td>Indexes of aggregate weekly payrolls of production and nonsupervisory employees</td></tr>",
                            "<tr><td>7</td><td>CEU5500000081</td><td>2016</td><td>M13</td><td>236997</td><td>NULL</td><td>ce.data.55c.FinancialActivities.ProductionEmployeeHoursAndEarnings.csv</td><td>CEU5500000081</td><td>55</td><td>55000000</td><td>81</td><td>U</td><td>Aggregate weekly hours of production and nonsupervisory employees</td></tr>",
                            "<tr><td>8</td><td>CEU5500000082</td><td>2016</td><td>M13</td><td>6189003</td><td>NULL</td><td>ce.data.55c.FinancialActivities.ProductionEmployeeHoursAndEarnings.csv</td><td>CEU5500000082</td><td>55</td><td>55000000</td><td>82</td><td>U</td><td>Aggregate weekly payrolls of production and nonsupervisory employees</td></tr>",
                            "<tr><td>9</td><td>CEU5552200007</td><td>2016</td><td>M13</td><td>37.3</td><td>NULL</td><td>ce.data.55c.FinancialActivities.ProductionEmployeeHoursAndEarnings.csv</td><td>CEU5552200007</td><td>55</td><td>55522000</td><td>7</td><td>U</td><td>Average weekly hours of production and nonsupervisory employees</td></tr>",
                            "</table>"
                        ]
                    }
                }
            ],
            "execution_count": 11
        },
        {
            "cell_type": "markdown",
            "source": [
                "2. <span style=\"background-color: rgb(255, 255, 255); font-size: 10pt; white-space: pre-wrap; color: rgb(102, 102, 102); font-family: Arvo, serif;\">Join series and datatype on data_type_code</span>"
            ],
            "metadata": {
                "azdata_cell_guid": "710b59ae-224b-4f9d-b1a4-4a6b89048bbb"
            },
            "attachments": {}
        },
        {
            "cell_type": "code",
            "source": [
                "SELECT TOP 10 *\n",
                "FROM LaborStatisticsDB.dbo.series AS s\n",
                "INNER JOIN LaborStatisticsDB.dbo.datatype AS d\n",
                "ON s.data_type_code = d.data_type_code"
            ],
            "metadata": {
                "azdata_cell_guid": "fca61371-c9b5-4823-a4b4-34c1279ece3e",
                "language": "sql",
                "tags": []
            },
            "outputs": [
                {
                    "output_type": "display_data",
                    "data": {
                        "text/html": "(10 rows affected)"
                    },
                    "metadata": {}
                },
                {
                    "output_type": "display_data",
                    "data": {
                        "text/html": "Total execution time: 00:00:00.037"
                    },
                    "metadata": {}
                },
                {
                    "output_type": "execute_result",
                    "metadata": {},
                    "execution_count": 12,
                    "data": {
                        "application/vnd.dataresource+json": {
                            "schema": {
                                "fields": [
                                    {
                                        "name": "series_id"
                                    },
                                    {
                                        "name": "supersector_code"
                                    },
                                    {
                                        "name": "industry_code"
                                    },
                                    {
                                        "name": "data_type_code"
                                    },
                                    {
                                        "name": "seasonal"
                                    },
                                    {
                                        "name": "series_title"
                                    },
                                    {
                                        "name": "data_type_code"
                                    },
                                    {
                                        "name": "data_type_text"
                                    }
                                ]
                            },
                            "data": [
                                {
                                    "series_id": "CES0000000001",
                                    "supersector_code": "0",
                                    "industry_code": "00000000",
                                    "data_type_code": "1",
                                    "seasonal": "S",
                                    "series_title": "All employees",
                                    "data_type_text": "ALL EMPLOYEES"
                                },
                                {
                                    "series_id": "CES0000000010",
                                    "supersector_code": "0",
                                    "industry_code": "00000000",
                                    "data_type_code": "10",
                                    "seasonal": "S",
                                    "series_title": "Women employees",
                                    "data_type_text": "WOMEN EMPLOYEES"
                                },
                                {
                                    "series_id": "CES0000000025",
                                    "supersector_code": "0",
                                    "industry_code": "00000000",
                                    "data_type_code": "25",
                                    "seasonal": "S",
                                    "series_title": "All employees",
                                    "data_type_text": "ALL EMPLOYEES"
                                },
                                {
                                    "series_id": "CES0000000026",
                                    "supersector_code": "0",
                                    "industry_code": "00000000",
                                    "data_type_code": "26",
                                    "seasonal": "S",
                                    "series_title": "All employees",
                                    "data_type_text": "ALL EMPLOYEES"
                                },
                                {
                                    "series_id": "CES0500000001",
                                    "supersector_code": "5",
                                    "industry_code": "05000000",
                                    "data_type_code": "1",
                                    "seasonal": "S",
                                    "series_title": "All employees",
                                    "data_type_text": "ALL EMPLOYEES"
                                },
                                {
                                    "series_id": "CES0500000002",
                                    "supersector_code": "5",
                                    "industry_code": "05000000",
                                    "data_type_code": "2",
                                    "seasonal": "S",
                                    "series_title": "Average weekly hours of all employees",
                                    "data_type_text": "AVERAGE WEEKLY HOURS OF ALL EMPLOYEES"
                                },
                                {
                                    "series_id": "CES0500000003",
                                    "supersector_code": "5",
                                    "industry_code": "05000000",
                                    "data_type_code": "3",
                                    "seasonal": "S",
                                    "series_title": "Average hourly earnings of all employees",
                                    "data_type_text": "AVERAGE HOURLY EARNINGS OF ALL EMPLOYEES"
                                },
                                {
                                    "series_id": "CES0500000006",
                                    "supersector_code": "5",
                                    "industry_code": "05000000",
                                    "data_type_code": "6",
                                    "seasonal": "S",
                                    "series_title": "Production and nonsupervisory employees",
                                    "data_type_text": "PRODUCTION AND NONSUPERVISORY EMPLOYEES"
                                },
                                {
                                    "series_id": "CES0500000007",
                                    "supersector_code": "5",
                                    "industry_code": "05000000",
                                    "data_type_code": "7",
                                    "seasonal": "S",
                                    "series_title": "Average weekly hours of production and nonsupervisory employees",
                                    "data_type_text": "AVERAGE WEEKLY HOURS OF PRODUCTION AND NONSUPERVISORY EMPLOYEES"
                                },
                                {
                                    "series_id": "CES0500000008",
                                    "supersector_code": "5",
                                    "industry_code": "05000000",
                                    "data_type_code": "8",
                                    "seasonal": "S",
                                    "series_title": "Average hourly earnings of production and nonsupervisory employees",
                                    "data_type_text": "AVERAGE HOURLY EARNINGS OF PRODUCTION AND NONSUPERVISORY EMPLOYEES"
                                }
                            ]
                        },
                        "text/html": [
                            "<table>",
                            "<tr><th>series_id</th><th>supersector_code</th><th>industry_code</th><th>data_type_code</th><th>seasonal</th><th>series_title</th><th>data_type_code</th><th>data_type_text</th></tr>",
                            "<tr><td>CES0000000001</td><td>0</td><td>00000000</td><td>1</td><td>S</td><td>All employees</td><td>1</td><td>ALL EMPLOYEES</td></tr>",
                            "<tr><td>CES0000000010</td><td>0</td><td>00000000</td><td>10</td><td>S</td><td>Women employees</td><td>10</td><td>WOMEN EMPLOYEES</td></tr>",
                            "<tr><td>CES0000000025</td><td>0</td><td>00000000</td><td>25</td><td>S</td><td>All employees</td><td>25</td><td>ALL EMPLOYEES</td></tr>",
                            "<tr><td>CES0000000026</td><td>0</td><td>00000000</td><td>26</td><td>S</td><td>All employees</td><td>26</td><td>ALL EMPLOYEES</td></tr>",
                            "<tr><td>CES0500000001</td><td>5</td><td>05000000</td><td>1</td><td>S</td><td>All employees</td><td>1</td><td>ALL EMPLOYEES</td></tr>",
                            "<tr><td>CES0500000002</td><td>5</td><td>05000000</td><td>2</td><td>S</td><td>Average weekly hours of all employees</td><td>2</td><td>AVERAGE WEEKLY HOURS OF ALL EMPLOYEES</td></tr>",
                            "<tr><td>CES0500000003</td><td>5</td><td>05000000</td><td>3</td><td>S</td><td>Average hourly earnings of all employees</td><td>3</td><td>AVERAGE HOURLY EARNINGS OF ALL EMPLOYEES</td></tr>",
                            "<tr><td>CES0500000006</td><td>5</td><td>05000000</td><td>6</td><td>S</td><td>Production and nonsupervisory employees</td><td>6</td><td>PRODUCTION AND NONSUPERVISORY EMPLOYEES</td></tr>",
                            "<tr><td>CES0500000007</td><td>5</td><td>05000000</td><td>7</td><td>S</td><td>Average weekly hours of production and nonsupervisory employees</td><td>7</td><td>AVERAGE WEEKLY HOURS OF PRODUCTION AND NONSUPERVISORY EMPLOYEES</td></tr>",
                            "<tr><td>CES0500000008</td><td>5</td><td>05000000</td><td>8</td><td>S</td><td>Average hourly earnings of production and nonsupervisory employees</td><td>8</td><td>AVERAGE HOURLY EARNINGS OF PRODUCTION AND NONSUPERVISORY EMPLOYEES</td></tr>",
                            "</table>"
                        ]
                    }
                }
            ],
            "execution_count": 12
        },
        {
            "cell_type": "markdown",
            "source": [
                "3. <span style=\"background-color: rgb(255, 255, 255); font-size: 10pt; white-space: pre-wrap; color: rgb(102, 102, 102); font-family: Arvo, serif;\">Join series and industry on industry_code</span>"
            ],
            "metadata": {
                "azdata_cell_guid": "78ac8ba4-2a6a-426f-af30-6b56d9d09054"
            },
            "attachments": {}
        },
        {
            "cell_type": "code",
            "source": [
                "SELECT TOP 10 *\n",
                "FROM LaborStatisticsDB.dbo.series AS s\n",
                "INNER JOIN LaborStatisticsDB.dbo.industry AS i\n",
                "ON s.industry_code = i.industry_code"
            ],
            "metadata": {
                "azdata_cell_guid": "ac022766-e280-4d95-8362-1f2b18773662",
                "language": "sql"
            },
            "outputs": [
                {
                    "output_type": "display_data",
                    "data": {
                        "text/html": "(10 rows affected)"
                    },
                    "metadata": {}
                },
                {
                    "output_type": "display_data",
                    "data": {
                        "text/html": "Total execution time: 00:00:00.050"
                    },
                    "metadata": {}
                },
                {
                    "output_type": "execute_result",
                    "metadata": {},
                    "execution_count": 13,
                    "data": {
                        "application/vnd.dataresource+json": {
                            "schema": {
                                "fields": [
                                    {
                                        "name": "series_id"
                                    },
                                    {
                                        "name": "supersector_code"
                                    },
                                    {
                                        "name": "industry_code"
                                    },
                                    {
                                        "name": "data_type_code"
                                    },
                                    {
                                        "name": "seasonal"
                                    },
                                    {
                                        "name": "series_title"
                                    },
                                    {
                                        "name": "id"
                                    },
                                    {
                                        "name": "industry_code"
                                    },
                                    {
                                        "name": "naics_code"
                                    },
                                    {
                                        "name": "publishing_status"
                                    },
                                    {
                                        "name": "industry_name"
                                    },
                                    {
                                        "name": "display_level"
                                    },
                                    {
                                        "name": "selectable"
                                    },
                                    {
                                        "name": "sort_sequence"
                                    }
                                ]
                            },
                            "data": [
                                {
                                    "series_id": "CES0000000001",
                                    "supersector_code": "0",
                                    "industry_code": "0",
                                    "data_type_code": "1",
                                    "seasonal": "S",
                                    "series_title": "All employees",
                                    "id": "0",
                                    "naics_code": "-",
                                    "publishing_status": "B",
                                    "industry_name": "Total nonfarm",
                                    "display_level": "0",
                                    "selectable": "T",
                                    "sort_sequence": "1"
                                },
                                {
                                    "series_id": "CES0000000010",
                                    "supersector_code": "0",
                                    "industry_code": "0",
                                    "data_type_code": "10",
                                    "seasonal": "S",
                                    "series_title": "Women employees",
                                    "id": "0",
                                    "naics_code": "-",
                                    "publishing_status": "B",
                                    "industry_name": "Total nonfarm",
                                    "display_level": "0",
                                    "selectable": "T",
                                    "sort_sequence": "1"
                                },
                                {
                                    "series_id": "CES0000000025",
                                    "supersector_code": "0",
                                    "industry_code": "0",
                                    "data_type_code": "25",
                                    "seasonal": "S",
                                    "series_title": "All employees",
                                    "id": "0",
                                    "naics_code": "-",
                                    "publishing_status": "B",
                                    "industry_name": "Total nonfarm",
                                    "display_level": "0",
                                    "selectable": "T",
                                    "sort_sequence": "1"
                                },
                                {
                                    "series_id": "CES0000000026",
                                    "supersector_code": "0",
                                    "industry_code": "0",
                                    "data_type_code": "26",
                                    "seasonal": "S",
                                    "series_title": "All employees",
                                    "id": "0",
                                    "naics_code": "-",
                                    "publishing_status": "B",
                                    "industry_name": "Total nonfarm",
                                    "display_level": "0",
                                    "selectable": "T",
                                    "sort_sequence": "1"
                                },
                                {
                                    "series_id": "CES0500000001",
                                    "supersector_code": "5",
                                    "industry_code": "5000000",
                                    "data_type_code": "1",
                                    "seasonal": "S",
                                    "series_title": "All employees",
                                    "id": "1",
                                    "naics_code": "-",
                                    "publishing_status": "A",
                                    "industry_name": "Total private",
                                    "display_level": "1",
                                    "selectable": "T",
                                    "sort_sequence": "2"
                                },
                                {
                                    "series_id": "CES0500000002",
                                    "supersector_code": "5",
                                    "industry_code": "5000000",
                                    "data_type_code": "2",
                                    "seasonal": "S",
                                    "series_title": "Average weekly hours of all employees",
                                    "id": "1",
                                    "naics_code": "-",
                                    "publishing_status": "A",
                                    "industry_name": "Total private",
                                    "display_level": "1",
                                    "selectable": "T",
                                    "sort_sequence": "2"
                                },
                                {
                                    "series_id": "CES0500000003",
                                    "supersector_code": "5",
                                    "industry_code": "5000000",
                                    "data_type_code": "3",
                                    "seasonal": "S",
                                    "series_title": "Average hourly earnings of all employees",
                                    "id": "1",
                                    "naics_code": "-",
                                    "publishing_status": "A",
                                    "industry_name": "Total private",
                                    "display_level": "1",
                                    "selectable": "T",
                                    "sort_sequence": "2"
                                },
                                {
                                    "series_id": "CES0500000006",
                                    "supersector_code": "5",
                                    "industry_code": "5000000",
                                    "data_type_code": "6",
                                    "seasonal": "S",
                                    "series_title": "Production and nonsupervisory employees",
                                    "id": "1",
                                    "naics_code": "-",
                                    "publishing_status": "A",
                                    "industry_name": "Total private",
                                    "display_level": "1",
                                    "selectable": "T",
                                    "sort_sequence": "2"
                                },
                                {
                                    "series_id": "CES0500000007",
                                    "supersector_code": "5",
                                    "industry_code": "5000000",
                                    "data_type_code": "7",
                                    "seasonal": "S",
                                    "series_title": "Average weekly hours of production and nonsupervisory employees",
                                    "id": "1",
                                    "naics_code": "-",
                                    "publishing_status": "A",
                                    "industry_name": "Total private",
                                    "display_level": "1",
                                    "selectable": "T",
                                    "sort_sequence": "2"
                                },
                                {
                                    "series_id": "CES0500000008",
                                    "supersector_code": "5",
                                    "industry_code": "5000000",
                                    "data_type_code": "8",
                                    "seasonal": "S",
                                    "series_title": "Average hourly earnings of production and nonsupervisory employees",
                                    "id": "1",
                                    "naics_code": "-",
                                    "publishing_status": "A",
                                    "industry_name": "Total private",
                                    "display_level": "1",
                                    "selectable": "T",
                                    "sort_sequence": "2"
                                }
                            ]
                        },
                        "text/html": [
                            "<table>",
                            "<tr><th>series_id</th><th>supersector_code</th><th>industry_code</th><th>data_type_code</th><th>seasonal</th><th>series_title</th><th>id</th><th>industry_code</th><th>naics_code</th><th>publishing_status</th><th>industry_name</th><th>display_level</th><th>selectable</th><th>sort_sequence</th></tr>",
                            "<tr><td>CES0000000001</td><td>0</td><td>00000000</td><td>1</td><td>S</td><td>All employees</td><td>0</td><td>0</td><td>-</td><td>B</td><td>Total nonfarm</td><td>0</td><td>T</td><td>1</td></tr>",
                            "<tr><td>CES0000000010</td><td>0</td><td>00000000</td><td>10</td><td>S</td><td>Women employees</td><td>0</td><td>0</td><td>-</td><td>B</td><td>Total nonfarm</td><td>0</td><td>T</td><td>1</td></tr>",
                            "<tr><td>CES0000000025</td><td>0</td><td>00000000</td><td>25</td><td>S</td><td>All employees</td><td>0</td><td>0</td><td>-</td><td>B</td><td>Total nonfarm</td><td>0</td><td>T</td><td>1</td></tr>",
                            "<tr><td>CES0000000026</td><td>0</td><td>00000000</td><td>26</td><td>S</td><td>All employees</td><td>0</td><td>0</td><td>-</td><td>B</td><td>Total nonfarm</td><td>0</td><td>T</td><td>1</td></tr>",
                            "<tr><td>CES0500000001</td><td>5</td><td>05000000</td><td>1</td><td>S</td><td>All employees</td><td>1</td><td>5000000</td><td>-</td><td>A</td><td>Total private</td><td>1</td><td>T</td><td>2</td></tr>",
                            "<tr><td>CES0500000002</td><td>5</td><td>05000000</td><td>2</td><td>S</td><td>Average weekly hours of all employees</td><td>1</td><td>5000000</td><td>-</td><td>A</td><td>Total private</td><td>1</td><td>T</td><td>2</td></tr>",
                            "<tr><td>CES0500000003</td><td>5</td><td>05000000</td><td>3</td><td>S</td><td>Average hourly earnings of all employees</td><td>1</td><td>5000000</td><td>-</td><td>A</td><td>Total private</td><td>1</td><td>T</td><td>2</td></tr>",
                            "<tr><td>CES0500000006</td><td>5</td><td>05000000</td><td>6</td><td>S</td><td>Production and nonsupervisory employees</td><td>1</td><td>5000000</td><td>-</td><td>A</td><td>Total private</td><td>1</td><td>T</td><td>2</td></tr>",
                            "<tr><td>CES0500000007</td><td>5</td><td>05000000</td><td>7</td><td>S</td><td>Average weekly hours of production and nonsupervisory employees</td><td>1</td><td>5000000</td><td>-</td><td>A</td><td>Total private</td><td>1</td><td>T</td><td>2</td></tr>",
                            "<tr><td>CES0500000008</td><td>5</td><td>05000000</td><td>8</td><td>S</td><td>Average hourly earnings of production and nonsupervisory employees</td><td>1</td><td>5000000</td><td>-</td><td>A</td><td>Total private</td><td>1</td><td>T</td><td>2</td></tr>",
                            "</table>"
                        ]
                    }
                }
            ],
            "execution_count": 13
        },
        {
            "cell_type": "markdown",
            "source": [
                "## <span style=\"font-size: 12pt; font-family: Montserrat, sans-serif; color: rgb(53, 74, 95); background-color: rgb(255, 255, 255); font-weight: 700; font-variant-numeric: normal; font-variant-east-asian: normal; vertical-align: baseline; white-space: pre-wrap;\">Aggregate Your Friends and Code some SQL</span>\n",
                "\n",
                "<span style=\"font-size: 10pt; font-family: Arvo, serif; color: rgb(102, 102, 102); background-color: rgb(255, 255, 255); font-variant-numeric: normal; font-variant-east-asian: normal; vertical-align: baseline; white-space: pre-wrap;\">Put together the following:</span>\n",
                "\n",
                "1. <span style=\"background-color: rgb(255, 255, 255); font-size: 10pt; white-space: pre-wrap; color: rgb(102, 102, 102); font-family: Arvo, serif;\">How many employees were reported in 2016 in all industries? Round to the nearest whole number.&nbsp; No chopping people into little bits, please.</span>"
            ],
            "metadata": {
                "azdata_cell_guid": "f4290cc1-f824-4586-8850-59d926bf4460"
            },
            "attachments": {}
        },
        {
            "cell_type": "code",
            "source": [
                "SELECT COUNT(a.id) as 'Employess Reported in 2016'\n",
                "FROM LaborStatisticsDB.dbo.annual_2016 AS a"
            ],
            "metadata": {
                "azdata_cell_guid": "25099068-a629-4eb5-afca-ed3748c40605",
                "language": "sql",
                "tags": []
            },
            "outputs": [
                {
                    "output_type": "display_data",
                    "data": {
                        "text/html": "(1 row affected)"
                    },
                    "metadata": {}
                },
                {
                    "output_type": "display_data",
                    "data": {
                        "text/html": "Total execution time: 00:00:00.035"
                    },
                    "metadata": {}
                },
                {
                    "output_type": "execute_result",
                    "metadata": {},
                    "execution_count": 16,
                    "data": {
                        "application/vnd.dataresource+json": {
                            "schema": {
                                "fields": [
                                    {
                                        "name": "Employess Reported in 2016"
                                    }
                                ]
                            },
                            "data": [
                                {
                                    "Employess Reported in 2016": "29042"
                                }
                            ]
                        },
                        "text/html": [
                            "<table>",
                            "<tr><th>Employess Reported in 2016</th></tr>",
                            "<tr><td>29042</td></tr>",
                            "</table>"
                        ]
                    }
                }
            ],
            "execution_count": 16
        },
        {
            "cell_type": "markdown",
            "source": [
                "2. <span style=\"background-color: rgb(255, 255, 255); font-size: 10pt; white-space: pre-wrap; color: rgb(102, 102, 102); font-family: Arvo, serif;\">How many women employees were reported in 2016 in all industries? Round to the nearest whole number.&nbsp;</span>"
            ],
            "metadata": {
                "azdata_cell_guid": "6358fab4-b933-4646-bef1-4be66dcd4317"
            },
            "attachments": {}
        },
        {
            "cell_type": "code",
            "source": [
                "SELECT TOP 30 COUNT(series_id) AS 'Series ID Total', data_type_code, series_title\n",
                "FROM LaborStatisticsDB.dbo.series\n",
                "WHERE data_type_code = 10 \n",
                "GROUP BY data_type_code, series_title"
            ],
            "metadata": {
                "language": "sql",
                "azdata_cell_guid": "cf93ffcb-beb5-4150-b327-b5ca9be76b4e",
                "tags": []
            },
            "outputs": [
                {
                    "output_type": "display_data",
                    "data": {
                        "text/html": "(1 row affected)"
                    },
                    "metadata": {}
                },
                {
                    "output_type": "display_data",
                    "data": {
                        "text/html": "Total execution time: 00:00:00.039"
                    },
                    "metadata": {}
                },
                {
                    "output_type": "execute_result",
                    "metadata": {},
                    "execution_count": 41,
                    "data": {
                        "application/vnd.dataresource+json": {
                            "schema": {
                                "fields": [
                                    {
                                        "name": "Series ID Total"
                                    },
                                    {
                                        "name": "data_type_code"
                                    },
                                    {
                                        "name": "series_title"
                                    }
                                ]
                            },
                            "data": [
                                {
                                    "Series ID Total": "1372",
                                    "data_type_code": "10",
                                    "series_title": "Women employees"
                                }
                            ]
                        },
                        "text/html": [
                            "<table>",
                            "<tr><th>Series ID Total</th><th>data_type_code</th><th>series_title</th></tr>",
                            "<tr><td>1372</td><td>10</td><td>Women employees</td></tr>",
                            "</table>"
                        ]
                    }
                }
            ],
            "execution_count": 41
        },
        {
            "cell_type": "code",
            "source": [
                "SELECT COUNT(a.id) AS 'Female Employess Reported in 2016', s.data_type_code, s.series_title\n",
                "FROM LaborStatisticsDB.dbo.annual_2016 AS a\n",
                "INNER JOIN LaborStatisticsDB.dbo.series AS s\n",
                "ON a.series_id = s.series_id\n",
                "WHERE s.data_type_code=10\n",
                "GROUP BY s.data_type_code, s.series_title"
            ],
            "metadata": {
                "azdata_cell_guid": "fbb72ea2-bcb7-4fae-b1b4-984248c05cd7",
                "language": "sql",
                "tags": []
            },
            "outputs": [
                {
                    "output_type": "display_data",
                    "data": {
                        "text/html": "(1 row affected)"
                    },
                    "metadata": {}
                },
                {
                    "output_type": "display_data",
                    "data": {
                        "text/html": "Total execution time: 00:00:00.051"
                    },
                    "metadata": {}
                },
                {
                    "output_type": "execute_result",
                    "metadata": {},
                    "execution_count": 42,
                    "data": {
                        "application/vnd.dataresource+json": {
                            "schema": {
                                "fields": [
                                    {
                                        "name": "Female Employess Reported in 2016"
                                    },
                                    {
                                        "name": "data_type_code"
                                    },
                                    {
                                        "name": "series_title"
                                    }
                                ]
                            },
                            "data": [
                                {
                                    "Female Employess Reported in 2016": "1372",
                                    "data_type_code": "10",
                                    "series_title": "Women employees"
                                }
                            ]
                        },
                        "text/html": [
                            "<table>",
                            "<tr><th>Female Employess Reported in 2016</th><th>data_type_code</th><th>series_title</th></tr>",
                            "<tr><td>1372</td><td>10</td><td>Women employees</td></tr>",
                            "</table>"
                        ]
                    }
                }
            ],
            "execution_count": 42
        },
        {
            "cell_type": "markdown",
            "source": [
                "3. <span style=\"background-color: rgb(255, 255, 255); font-size: 10pt; white-space: pre-wrap; color: rgb(102, 102, 102); font-family: Arvo, serif;\">How many production/nonsupervisory employees were reported in 2016? Round to the nearest whole number.&nbsp;</span>"
            ],
            "metadata": {
                "azdata_cell_guid": "246ea683-2075-4337-878d-fbfdd49b2dd7"
            },
            "attachments": {}
        },
        {
            "cell_type": "code",
            "source": [
                "SELECT TOP 1 data_type_code, data_type_text\n",
                "FROM LaborStatisticsDB.dbo.datatype\n",
                "WHERE data_type_text LIKE '%production%'"
            ],
            "metadata": {
                "azdata_cell_guid": "110f2591-069b-4bbe-87c7-2bcf76c3d36f",
                "language": "sql"
            },
            "outputs": [
                {
                    "output_type": "display_data",
                    "data": {
                        "text/html": "(1 row affected)"
                    },
                    "metadata": {}
                },
                {
                    "output_type": "display_data",
                    "data": {
                        "text/html": "Total execution time: 00:00:00.034"
                    },
                    "metadata": {}
                },
                {
                    "output_type": "execute_result",
                    "metadata": {},
                    "execution_count": 46,
                    "data": {
                        "application/vnd.dataresource+json": {
                            "schema": {
                                "fields": [
                                    {
                                        "name": "data_type_code"
                                    },
                                    {
                                        "name": "data_type_text"
                                    }
                                ]
                            },
                            "data": [
                                {
                                    "data_type_code": "6",
                                    "data_type_text": "PRODUCTION AND NONSUPERVISORY EMPLOYEES"
                                }
                            ]
                        },
                        "text/html": [
                            "<table>",
                            "<tr><th>data_type_code</th><th>data_type_text</th></tr>",
                            "<tr><td>6</td><td>PRODUCTION AND NONSUPERVISORY EMPLOYEES</td></tr>",
                            "</table>"
                        ]
                    }
                }
            ],
            "execution_count": 46
        },
        {
            "cell_type": "code",
            "source": [
                "SELECT COUNT(a.id) AS 'Production/Nonsupervisory Employees  Reported in 2016', s.data_type_code, s.series_title\n",
                "FROM LaborStatisticsDB.dbo.annual_2016 AS a\n",
                "INNER JOIN LaborStatisticsDB.dbo.series AS s\n",
                "ON a.series_id = s.series_id\n",
                "WHERE s.data_type_code=6\n",
                "GROUP BY s.data_type_code, s.series_title"
            ],
            "metadata": {
                "language": "sql",
                "azdata_cell_guid": "5b09e86e-f8dd-4fe1-acd6-b144c4653d27"
            },
            "outputs": [
                {
                    "output_type": "display_data",
                    "data": {
                        "text/html": "(1 row affected)"
                    },
                    "metadata": {}
                },
                {
                    "output_type": "display_data",
                    "data": {
                        "text/html": "Total execution time: 00:00:00.102"
                    },
                    "metadata": {}
                },
                {
                    "output_type": "execute_result",
                    "metadata": {},
                    "execution_count": 47,
                    "data": {
                        "application/vnd.dataresource+json": {
                            "schema": {
                                "fields": [
                                    {
                                        "name": "Production/Nonsupervisory Employees  Reported in 2016"
                                    },
                                    {
                                        "name": "data_type_code"
                                    },
                                    {
                                        "name": "series_title"
                                    }
                                ]
                            },
                            "data": [
                                {
                                    "Production/Nonsupervisory Employees  Reported in 2016": "1102",
                                    "data_type_code": "6",
                                    "series_title": "Production and nonsupervisory employees"
                                }
                            ]
                        },
                        "text/html": [
                            "<table>",
                            "<tr><th>Production/Nonsupervisory Employees  Reported in 2016</th><th>data_type_code</th><th>series_title</th></tr>",
                            "<tr><td>1102</td><td>6</td><td>Production and nonsupervisory employees</td></tr>",
                            "</table>"
                        ]
                    }
                }
            ],
            "execution_count": 47
        },
        {
            "cell_type": "markdown",
            "source": [
                "4. <span style=\"background-color: rgb(255, 255, 255); font-size: 10pt; white-space: pre-wrap; color: rgb(102, 102, 102); font-family: Arvo, serif;\">In January 2017, what is the average weekly hours worked by production and nonsupervisory employees across all industries?</span>"
            ],
            "metadata": {
                "azdata_cell_guid": "9caa7f57-e39d-4b7a-b705-25f8fe29d60b"
            },
            "attachments": {}
        },
        {
            "cell_type": "code",
            "source": [
                "SELECT s.data_type_code, s.series_title, ROUND(AVG(j.value),2) as 'Avg. Weekly Hours'\n",
                "FROM LaborStatisticsDB.dbo.january_2017 as j\n",
                "INNER JOIN LaborStatisticsDB.dbo.series as s\n",
                "ON j.series_id = s.series_id\n",
                "WHERE s.data_type_code=7\n",
                "--7 is AVERAGE WEEKLY HOURS OF PRODUCTION AND NONSUPERVISORY EMPLOYEES\n",
                "GROUP BY s.data_type_code, s.series_title"
            ],
            "metadata": {
                "azdata_cell_guid": "9f07fa8a-4217-439a-a9cd-831240d4bc9e",
                "language": "sql",
                "tags": []
            },
            "outputs": [
                {
                    "output_type": "display_data",
                    "data": {
                        "text/html": "(1 row affected)"
                    },
                    "metadata": {}
                },
                {
                    "output_type": "display_data",
                    "data": {
                        "text/html": "Total execution time: 00:00:00.066"
                    },
                    "metadata": {}
                },
                {
                    "output_type": "execute_result",
                    "metadata": {},
                    "execution_count": 63,
                    "data": {
                        "application/vnd.dataresource+json": {
                            "schema": {
                                "fields": [
                                    {
                                        "name": "data_type_code"
                                    },
                                    {
                                        "name": "series_title"
                                    },
                                    {
                                        "name": "Avg. Weekly Hours"
                                    }
                                ]
                            },
                            "data": [
                                {
                                    "data_type_code": "7",
                                    "series_title": "Average weekly hours of production and nonsupervisory employees",
                                    "Avg. Weekly Hours": "36.06"
                                }
                            ]
                        },
                        "text/html": [
                            "<table>",
                            "<tr><th>data_type_code</th><th>series_title</th><th>Avg. Weekly Hours</th></tr>",
                            "<tr><td>7</td><td>Average weekly hours of production and nonsupervisory employees</td><td>36.06</td></tr>",
                            "</table>"
                        ]
                    }
                }
            ],
            "execution_count": 63
        },
        {
            "cell_type": "markdown",
            "source": [
                "5. <span style=\"background-color: rgb(255, 255, 255); font-size: 10pt; white-space: pre-wrap; color: rgb(102, 102, 102); font-family: Arvo, serif;\">What is the total weekly payroll for production and nonsupervisory employees across all industries in January 2017? Round to the nearest penny, please.</span>"
            ],
            "metadata": {
                "azdata_cell_guid": "9c48ff2e-a6eb-4f02-8df2-988e219fbc00"
            },
            "attachments": {}
        },
        {
            "cell_type": "code",
            "source": [
                "SELECT s.data_type_code, s.series_title, ROUND(AVG(j.value*40),2) as 'Total Weekly Payroll'\n",
                "FROM LaborStatisticsDB.dbo.january_2017 as j\n",
                "INNER JOIN LaborStatisticsDB.dbo.series as s\n",
                "ON j.series_id = s.series_id\n",
                "WHERE s.data_type_code=8\n",
                "--8 is AVERAGE HOURLY EARNINGS OF PRODUCTION AND NONSUPERVISORY EMPLOYEES\n",
                "GROUP BY s.data_type_code, s.series_title"
            ],
            "metadata": {
                "azdata_cell_guid": "c565641b-f1fa-4dbb-9320-24adfda97ca5",
                "language": "sql"
            },
            "outputs": [
                {
                    "output_type": "display_data",
                    "data": {
                        "text/html": "(1 row affected)"
                    },
                    "metadata": {}
                },
                {
                    "output_type": "display_data",
                    "data": {
                        "text/html": "Total execution time: 00:00:00.070"
                    },
                    "metadata": {}
                },
                {
                    "output_type": "execute_result",
                    "metadata": {},
                    "execution_count": 65,
                    "data": {
                        "application/vnd.dataresource+json": {
                            "schema": {
                                "fields": [
                                    {
                                        "name": "data_type_code"
                                    },
                                    {
                                        "name": "series_title"
                                    },
                                    {
                                        "name": "Avg. Weekly Hours"
                                    }
                                ]
                            },
                            "data": [
                                {
                                    "data_type_code": "8",
                                    "series_title": "Average hourly earnings of production and nonsupervisory employees",
                                    "Avg. Weekly Hours": "878.5"
                                }
                            ]
                        },
                        "text/html": [
                            "<table>",
                            "<tr><th>data_type_code</th><th>series_title</th><th>Avg. Weekly Hours</th></tr>",
                            "<tr><td>8</td><td>Average hourly earnings of production and nonsupervisory employees</td><td>878.5</td></tr>",
                            "</table>"
                        ]
                    }
                }
            ],
            "execution_count": 65
        },
        {
            "cell_type": "markdown",
            "source": [
                "6. <span style=\"background-color: rgb(255, 255, 255); font-size: 10pt; white-space: pre-wrap; color: rgb(102, 102, 102); font-family: Arvo, serif;\">In January 2017, which industry was the average weekly hours worked by production and nonsupervisory employees the highest? Which industry was the lowest?</span>\n",
                "\n",
                "<span style=\"font-size: 13.3333px; white-space: pre-wrap;\">ANSWER: Highest = Coal Mining, Lowest = Fitness and recreational sports centers</span>"
            ],
            "metadata": {
                "azdata_cell_guid": "862fd406-4fff-49bb-9d2b-232275a06405"
            },
            "attachments": {}
        },
        {
            "cell_type": "code",
            "source": [
                "SELECT TOP 1 s.data_type_code, s.series_title, s.industry_code, j.value as 'Avg. Weekly Hours'\n",
                "FROM LaborStatisticsDB.dbo.january_2017 as j\n",
                "INNER JOIN LaborStatisticsDB.dbo.series as s\n",
                "ON j.series_id = s.series_id\n",
                "WHERE s.data_type_code=2\n",
                "--2 is AVERAGE WEEKLY HOURS OF ALL EMPLOYEES\n",
                "GROUP BY s.data_type_code, s.series_title,  s.industry_code, j.value\n",
                "ORDER BY j.value DESC"
            ],
            "metadata": {
                "azdata_cell_guid": "01e11050-5f2f-4d22-92e0-2b3024b80a5f",
                "language": "sql"
            },
            "outputs": [
                {
                    "output_type": "display_data",
                    "data": {
                        "text/html": "(1 row affected)"
                    },
                    "metadata": {}
                },
                {
                    "output_type": "display_data",
                    "data": {
                        "text/html": "Total execution time: 00:00:00.083"
                    },
                    "metadata": {}
                },
                {
                    "output_type": "execute_result",
                    "metadata": {},
                    "execution_count": 70,
                    "data": {
                        "application/vnd.dataresource+json": {
                            "schema": {
                                "fields": [
                                    {
                                        "name": "data_type_code"
                                    },
                                    {
                                        "name": "series_title"
                                    },
                                    {
                                        "name": "industry_code"
                                    },
                                    {
                                        "name": "Avg. Weekly Hours"
                                    }
                                ]
                            },
                            "data": [
                                {
                                    "data_type_code": "2",
                                    "series_title": "Average weekly hours of all employees",
                                    "industry_code": "10212100",
                                    "Avg. Weekly Hours": "47.2"
                                }
                            ]
                        },
                        "text/html": [
                            "<table>",
                            "<tr><th>data_type_code</th><th>series_title</th><th>industry_code</th><th>Avg. Weekly Hours</th></tr>",
                            "<tr><td>2</td><td>Average weekly hours of all employees</td><td>10212100</td><td>47.2</td></tr>",
                            "</table>"
                        ]
                    }
                }
            ],
            "execution_count": 70
        },
        {
            "cell_type": "code",
            "source": [
                "SELECT TOP 1 industry_code, industry_name\n",
                "FROM LaborStatisticsDB.dbo.industry\n",
                "WHERE industry_code = 10212100"
            ],
            "metadata": {
                "language": "sql",
                "azdata_cell_guid": "725a9541-cb19-45c5-bf2a-c6f22f08b764"
            },
            "outputs": [
                {
                    "output_type": "display_data",
                    "data": {
                        "text/html": "(1 row affected)"
                    },
                    "metadata": {}
                },
                {
                    "output_type": "display_data",
                    "data": {
                        "text/html": "Total execution time: 00:00:00.034"
                    },
                    "metadata": {}
                },
                {
                    "output_type": "execute_result",
                    "metadata": {},
                    "execution_count": 72,
                    "data": {
                        "application/vnd.dataresource+json": {
                            "schema": {
                                "fields": [
                                    {
                                        "name": "industry_code"
                                    },
                                    {
                                        "name": "industry_name"
                                    }
                                ]
                            },
                            "data": [
                                {
                                    "industry_code": "10212100",
                                    "industry_name": "Coal mining"
                                }
                            ]
                        },
                        "text/html": [
                            "<table>",
                            "<tr><th>industry_code</th><th>industry_name</th></tr>",
                            "<tr><td>10212100</td><td>Coal mining</td></tr>",
                            "</table>"
                        ]
                    }
                }
            ],
            "execution_count": 72
        },
        {
            "cell_type": "code",
            "source": [
                "SELECT TOP 1 s.data_type_code, s.series_title, s.industry_code, j.value as 'Avg. Weekly Hours'\n",
                "FROM LaborStatisticsDB.dbo.january_2017 as j\n",
                "INNER JOIN LaborStatisticsDB.dbo.series as s\n",
                "ON j.series_id = s.series_id\n",
                "WHERE s.data_type_code=2\n",
                "--2 is AVERAGE WEEKLY HOURS OF ALL EMPLOYEES\n",
                "GROUP BY s.data_type_code, s.series_title,  s.industry_code, j.value\n",
                "ORDER BY j.value ASC"
            ],
            "metadata": {
                "language": "sql",
                "azdata_cell_guid": "3a6b37f2-fd7a-4463-92c1-e2b6531e8d2c"
            },
            "outputs": [
                {
                    "output_type": "display_data",
                    "data": {
                        "text/html": "(1 row affected)"
                    },
                    "metadata": {}
                },
                {
                    "output_type": "display_data",
                    "data": {
                        "text/html": "Total execution time: 00:00:00.069"
                    },
                    "metadata": {}
                },
                {
                    "output_type": "execute_result",
                    "metadata": {},
                    "execution_count": 71,
                    "data": {
                        "application/vnd.dataresource+json": {
                            "schema": {
                                "fields": [
                                    {
                                        "name": "data_type_code"
                                    },
                                    {
                                        "name": "series_title"
                                    },
                                    {
                                        "name": "industry_code"
                                    },
                                    {
                                        "name": "Avg. Weekly Hours"
                                    }
                                ]
                            },
                            "data": [
                                {
                                    "data_type_code": "2",
                                    "series_title": "Average weekly hours of all employees",
                                    "industry_code": "70713940",
                                    "Avg. Weekly Hours": "18.2"
                                }
                            ]
                        },
                        "text/html": [
                            "<table>",
                            "<tr><th>data_type_code</th><th>series_title</th><th>industry_code</th><th>Avg. Weekly Hours</th></tr>",
                            "<tr><td>2</td><td>Average weekly hours of all employees</td><td>70713940</td><td>18.2</td></tr>",
                            "</table>"
                        ]
                    }
                }
            ],
            "execution_count": 71
        },
        {
            "cell_type": "code",
            "source": [
                "SELECT TOP 1 industry_code, industry_name\n",
                "FROM LaborStatisticsDB.dbo.industry\n",
                "WHERE industry_code = 70713940"
            ],
            "metadata": {
                "language": "sql",
                "azdata_cell_guid": "bb6d58f0-bb80-4f0d-9871-86dd75e35a80"
            },
            "outputs": [
                {
                    "output_type": "display_data",
                    "data": {
                        "text/html": "(1 row affected)"
                    },
                    "metadata": {}
                },
                {
                    "output_type": "display_data",
                    "data": {
                        "text/html": "Total execution time: 00:00:00.033"
                    },
                    "metadata": {}
                },
                {
                    "output_type": "execute_result",
                    "metadata": {},
                    "execution_count": 73,
                    "data": {
                        "application/vnd.dataresource+json": {
                            "schema": {
                                "fields": [
                                    {
                                        "name": "industry_code"
                                    },
                                    {
                                        "name": "industry_name"
                                    }
                                ]
                            },
                            "data": [
                                {
                                    "industry_code": "70713940",
                                    "industry_name": "Fitness and recreational sports centers"
                                }
                            ]
                        },
                        "text/html": [
                            "<table>",
                            "<tr><th>industry_code</th><th>industry_name</th></tr>",
                            "<tr><td>70713940</td><td>Fitness and recreational sports centers</td></tr>",
                            "</table>"
                        ]
                    }
                }
            ],
            "execution_count": 73
        },
        {
            "cell_type": "markdown",
            "source": [
                "7. <span style=\"background-color: rgb(255, 255, 255); font-size: 10pt; white-space: pre-wrap; color: rgb(102, 102, 102); font-family: Arvo, serif;\">In January 2021, which industry was the total weekly payroll for production and nonsupervisory employees the highest? Which industry was the lowest?</span>\n",
                "\n",
                "<span style=\"font-size: 13.3333px; white-space: pre-wrap;\">ANSWER: Highest = Reinsurance Carriers, Lowest = Cafeterias</span>"
            ],
            "metadata": {
                "azdata_cell_guid": "a53f4113-60c6-46d1-b9a3-34610c61d4f9"
            },
            "attachments": {}
        },
        {
            "cell_type": "code",
            "source": [
                "SELECT TOP 1 s.data_type_code, s.series_title, s.industry_code, (j.value*40) as 'Total Weekly Earrings'\n",
                "FROM LaborStatisticsDB.dbo.january_2017 as j\n",
                "INNER JOIN LaborStatisticsDB.dbo.series as s\n",
                "ON j.series_id = s.series_id\n",
                "WHERE s.data_type_code=3\n",
                "--3 is AVERAGE HOURLY EARNINGS OF ALL EMPLOYEES\n",
                "GROUP BY s.data_type_code, s.series_title,  s.industry_code, j.value\n",
                "ORDER BY j.value DESC"
            ],
            "metadata": {
                "azdata_cell_guid": "583695e6-7438-4e03-8970-1fe0c677a793",
                "language": "sql"
            },
            "outputs": [
                {
                    "output_type": "display_data",
                    "data": {
                        "text/html": "(1 row affected)"
                    },
                    "metadata": {}
                },
                {
                    "output_type": "display_data",
                    "data": {
                        "text/html": "Total execution time: 00:00:00.078"
                    },
                    "metadata": {}
                },
                {
                    "output_type": "execute_result",
                    "metadata": {},
                    "execution_count": 74,
                    "data": {
                        "application/vnd.dataresource+json": {
                            "schema": {
                                "fields": [
                                    {
                                        "name": "data_type_code"
                                    },
                                    {
                                        "name": "series_title"
                                    },
                                    {
                                        "name": "industry_code"
                                    },
                                    {
                                        "name": "Total Weekly Earrings"
                                    }
                                ]
                            },
                            "data": [
                                {
                                    "data_type_code": "3",
                                    "series_title": "Average hourly earnings of all employees",
                                    "industry_code": "55524130",
                                    "Total Weekly Earrings": "2342.8"
                                }
                            ]
                        },
                        "text/html": [
                            "<table>",
                            "<tr><th>data_type_code</th><th>series_title</th><th>industry_code</th><th>Total Weekly Earrings</th></tr>",
                            "<tr><td>3</td><td>Average hourly earnings of all employees</td><td>55524130</td><td>2342.8</td></tr>",
                            "</table>"
                        ]
                    }
                }
            ],
            "execution_count": 74
        },
        {
            "cell_type": "code",
            "source": [
                "SELECT TOP 1 industry_code, industry_name\n",
                "FROM LaborStatisticsDB.dbo.industry\n",
                "WHERE industry_code = 55524130"
            ],
            "metadata": {
                "language": "sql",
                "azdata_cell_guid": "7a4cb6ad-b190-4f28-8cb6-3cc614020a5b"
            },
            "outputs": [
                {
                    "output_type": "display_data",
                    "data": {
                        "text/html": "(1 row affected)"
                    },
                    "metadata": {}
                },
                {
                    "output_type": "display_data",
                    "data": {
                        "text/html": "Total execution time: 00:00:00.039"
                    },
                    "metadata": {}
                },
                {
                    "output_type": "execute_result",
                    "metadata": {},
                    "execution_count": 75,
                    "data": {
                        "application/vnd.dataresource+json": {
                            "schema": {
                                "fields": [
                                    {
                                        "name": "industry_code"
                                    },
                                    {
                                        "name": "industry_name"
                                    }
                                ]
                            },
                            "data": [
                                {
                                    "industry_code": "55524130",
                                    "industry_name": "Reinsurance carriers"
                                }
                            ]
                        },
                        "text/html": [
                            "<table>",
                            "<tr><th>industry_code</th><th>industry_name</th></tr>",
                            "<tr><td>55524130</td><td>Reinsurance carriers</td></tr>",
                            "</table>"
                        ]
                    }
                }
            ],
            "execution_count": 75
        },
        {
            "cell_type": "code",
            "source": [
                "SELECT TOP 1 s.data_type_code, s.series_title, s.industry_code, (j.value*40) as 'Total Weekly Earrings'\n",
                "FROM LaborStatisticsDB.dbo.january_2017 as j\n",
                "INNER JOIN LaborStatisticsDB.dbo.series as s\n",
                "ON j.series_id = s.series_id\n",
                "WHERE s.data_type_code=3\n",
                "--3 is AVERAGE HOURLY EARNINGS OF ALL EMPLOYEES\n",
                "GROUP BY s.data_type_code, s.series_title,  s.industry_code, j.value\n",
                "ORDER BY j.value ASC"
            ],
            "metadata": {
                "language": "sql",
                "azdata_cell_guid": "7dbf11c5-773c-4d8d-8787-01aeb544f642"
            },
            "outputs": [
                {
                    "output_type": "display_data",
                    "data": {
                        "text/html": "(1 row affected)"
                    },
                    "metadata": {}
                },
                {
                    "output_type": "display_data",
                    "data": {
                        "text/html": "Total execution time: 00:00:00.066"
                    },
                    "metadata": {}
                },
                {
                    "output_type": "execute_result",
                    "metadata": {},
                    "execution_count": 76,
                    "data": {
                        "application/vnd.dataresource+json": {
                            "schema": {
                                "fields": [
                                    {
                                        "name": "data_type_code"
                                    },
                                    {
                                        "name": "series_title"
                                    },
                                    {
                                        "name": "industry_code"
                                    },
                                    {
                                        "name": "Total Weekly Earrings"
                                    }
                                ]
                            },
                            "data": [
                                {
                                    "data_type_code": "3",
                                    "series_title": "Average hourly earnings of all employees",
                                    "industry_code": "70722514",
                                    "Total Weekly Earrings": "450"
                                }
                            ]
                        },
                        "text/html": [
                            "<table>",
                            "<tr><th>data_type_code</th><th>series_title</th><th>industry_code</th><th>Total Weekly Earrings</th></tr>",
                            "<tr><td>3</td><td>Average hourly earnings of all employees</td><td>70722514</td><td>450</td></tr>",
                            "</table>"
                        ]
                    }
                }
            ],
            "execution_count": 76
        },
        {
            "cell_type": "code",
            "source": [
                "SELECT TOP 1 industry_code, industry_name\n",
                "FROM LaborStatisticsDB.dbo.industry\n",
                "WHERE industry_code = 70722514"
            ],
            "metadata": {
                "language": "sql",
                "azdata_cell_guid": "eb24b471-f36a-4392-b952-6734f27688d8"
            },
            "outputs": [
                {
                    "output_type": "display_data",
                    "data": {
                        "text/html": "(1 row affected)"
                    },
                    "metadata": {}
                },
                {
                    "output_type": "display_data",
                    "data": {
                        "text/html": "Total execution time: 00:00:00.034"
                    },
                    "metadata": {}
                },
                {
                    "output_type": "execute_result",
                    "metadata": {},
                    "execution_count": 78,
                    "data": {
                        "application/vnd.dataresource+json": {
                            "schema": {
                                "fields": [
                                    {
                                        "name": "industry_code"
                                    },
                                    {
                                        "name": "industry_name"
                                    }
                                ]
                            },
                            "data": [
                                {
                                    "industry_code": "70722514",
                                    "industry_name": "Cafeterias"
                                }
                            ]
                        },
                        "text/html": [
                            "<table>",
                            "<tr><th>industry_code</th><th>industry_name</th></tr>",
                            "<tr><td>70722514</td><td>Cafeterias</td></tr>",
                            "</table>"
                        ]
                    }
                }
            ],
            "execution_count": 78
        },
        {
            "cell_type": "markdown",
            "source": [
                "## <span style=\"font-size: 12pt; font-family: Montserrat, sans-serif; color: rgb(53, 74, 95); background-color: rgb(255, 255, 255); font-weight: 700; font-variant-numeric: normal; font-variant-east-asian: normal; vertical-align: baseline; white-space: pre-wrap;\">Subqueries, Unions, Derived Tables, Oh My!</span>\n",
                "\n",
                "1. <span style=\"background-color: rgb(255, 255, 255); font-size: 10pt; white-space: pre-wrap; color: rgb(102, 102, 102); font-family: Arvo, serif;\">Write a query that returns the series_id, industry_code, industry_name, and value from the january_2017 table but only if that value is greater than the average value for annual_2016 of data_type_code 82.</span>"
            ],
            "metadata": {
                "azdata_cell_guid": "e98ec195-5399-4718-83ef-54fb954662a5"
            },
            "attachments": {}
        },
        {
            "cell_type": "code",
            "source": [
                "SELECT j.series_id, i.industry_code, i.industry_name, j.value \n",
                "FROM  LaborStatisticsDB.dbo.january_2017 AS j\n",
                "INNER JOIN  LaborStatisticsDB.dbo.industry AS i\n",
                "ON j.id = i.id\n",
                "WHERE value > (SELECT AVG(value) FROM LaborStatisticsDB.dbo.january_2017)"
            ],
            "metadata": {
                "azdata_cell_guid": "7c85f70b-528f-4cbd-bd8e-a6efab1c18df",
                "language": "sql"
            },
            "outputs": [
                {
                    "output_type": "display_data",
                    "data": {
                        "text/html": "(71 rows affected)"
                    },
                    "metadata": {}
                },
                {
                    "output_type": "display_data",
                    "data": {
                        "text/html": "Total execution time: 00:00:00.050"
                    },
                    "metadata": {}
                },
                {
                    "output_type": "execute_result",
                    "metadata": {},
                    "execution_count": 81,
                    "data": {
                        "application/vnd.dataresource+json": {
                            "schema": {
                                "fields": [
                                    {
                                        "name": "series_id"
                                    },
                                    {
                                        "name": "industry_code"
                                    },
                                    {
                                        "name": "industry_name"
                                    },
                                    {
                                        "name": "value"
                                    }
                                ]
                            },
                            "data": [
                                {
                                    "series_id": "CES5500000081",
                                    "industry_code": "10210000",
                                    "industry_name": "Mining",
                                    "value": "240920"
                                },
                                {
                                    "series_id": "CES5500000082",
                                    "industry_code": "10211000",
                                    "industry_name": "Oil and gas extraction",
                                    "value": "6328968"
                                },
                                {
                                    "series_id": "CES5552200082",
                                    "industry_code": "10212319",
                                    "industry_name": "NULL",
                                    "value": "1717912"
                                },
                                {
                                    "series_id": "CES5552210082",
                                    "industry_code": "20236115",
                                    "industry_name": "New single-family general contractors",
                                    "value": "971796"
                                },
                                {
                                    "series_id": "CES5552211082",
                                    "industry_code": "20237110",
                                    "industry_name": "Water and sewer system construction",
                                    "value": "740634"
                                },
                                {
                                    "series_id": "CES5552219082",
                                    "industry_code": "20238170",
                                    "industry_name": "Siding contractors",
                                    "value": "158344"
                                },
                                {
                                    "series_id": "CES5552220082",
                                    "industry_code": "20238301",
                                    "industry_name": "Residential building finishing contractors",
                                    "value": "499427"
                                },
                                {
                                    "series_id": "CES5552229282",
                                    "industry_code": "31321212",
                                    "industry_name": "NULL",
                                    "value": "234640"
                                },
                                {
                                    "series_id": "CES5552230082",
                                    "industry_code": "31327100",
                                    "industry_name": "Clay products and refractories",
                                    "value": "236531"
                                },
                                {
                                    "series_id": "CES5552232082",
                                    "industry_code": "31331100",
                                    "industry_name": "Iron and steel mills and ferroalloy production",
                                    "value": "118224"
                                },
                                {
                                    "series_id": "CES5552300082",
                                    "industry_code": "31332100",
                                    "industry_name": "Forging and stamping",
                                    "value": "1044224"
                                },
                                {
                                    "series_id": "CES5552312082",
                                    "industry_code": "31332323",
                                    "industry_name": "Ornamental and architectural metal work",
                                    "value": "300715"
                                },
                                {
                                    "series_id": "CES5552320082",
                                    "industry_code": "31332812",
                                    "industry_name": "NULL",
                                    "value": "536728"
                                },
                                {
                                    "series_id": "CES5552390082",
                                    "industry_code": "31333000",
                                    "industry_name": "Machinery",
                                    "value": "509013"
                                },
                                {
                                    "series_id": "CES5552392082",
                                    "industry_code": "31333415",
                                    "industry_name": "AC",
                                    "value": "221354"
                                },
                                {
                                    "series_id": "CES5552393082",
                                    "industry_code": "31333920",
                                    "industry_name": "Material handling equipment",
                                    "value": "192094"
                                },
                                {
                                    "series_id": "CES5552400081",
                                    "industry_code": "31334220",
                                    "industry_name": "Broadcast and wireless communications equipment",
                                    "value": "81335"
                                },
                                {
                                    "series_id": "CES5552400082",
                                    "industry_code": "31334400",
                                    "industry_name": "Semiconductors and electronic components",
                                    "value": "2347328"
                                },
                                {
                                    "series_id": "CES5552410082",
                                    "industry_code": "31334515",
                                    "industry_name": "Electricity and signal testing instruments",
                                    "value": "1477799"
                                },
                                {
                                    "series_id": "CES5552411082",
                                    "industry_code": "31335314",
                                    "industry_name": "NULL",
                                    "value": "760905"
                                },
                                {
                                    "series_id": "CES5552412082",
                                    "industry_code": "31336111",
                                    "industry_name": "Automobiles",
                                    "value": "683445"
                                },
                                {
                                    "series_id": "CES5552420082",
                                    "industry_code": "31336413",
                                    "industry_name": "Other aircraft parts and equipment",
                                    "value": "872398"
                                },
                                {
                                    "series_id": "CES5552421082",
                                    "industry_code": "31337120",
                                    "industry_name": "Other household and institutional furniture",
                                    "value": "583035"
                                },
                                {
                                    "series_id": "CES5552429082",
                                    "industry_code": "31339000",
                                    "industry_name": "Miscellaneous durable goods manufacturing",
                                    "value": "289426"
                                },
                                {
                                    "series_id": "CES5552429282",
                                    "industry_code": "31339990",
                                    "industry_name": "NULL",
                                    "value": "156594"
                                },
                                {
                                    "series_id": "CES5553100082",
                                    "industry_code": "32311400",
                                    "industry_name": "Fruit and vegetable preserving and specialty",
                                    "value": "862987"
                                },
                                {
                                    "series_id": "CES5553110082",
                                    "industry_code": "32311613",
                                    "industry_name": "NULL",
                                    "value": "290168"
                                },
                                {
                                    "series_id": "CES5553111082",
                                    "industry_code": "32311910",
                                    "industry_name": "Snack food",
                                    "value": "175663"
                                },
                                {
                                    "series_id": "CES5553112082",
                                    "industry_code": "32314900",
                                    "industry_name": "Other textile product mills",
                                    "value": "81524"
                                },
                                {
                                    "series_id": "CES5553120082",
                                    "industry_code": "32322100",
                                    "industry_name": "Pulp",
                                    "value": "165883"
                                },
                                {
                                    "series_id": "CES5553130082",
                                    "industry_code": "32323000",
                                    "industry_name": "Printing and related support activities",
                                    "value": "406456"
                                },
                                {
                                    "series_id": "CES5553131082",
                                    "industry_code": "32325100",
                                    "industry_name": "Basic chemicals",
                                    "value": "336343"
                                },
                                {
                                    "series_id": "CES5553131182",
                                    "industry_code": "32325414",
                                    "industry_name": "NULL",
                                    "value": "227293"
                                },
                                {
                                    "series_id": "CES5553131282",
                                    "industry_code": "32326110",
                                    "industry_name": "Plastics packaging materials",
                                    "value": "109556"
                                },
                                {
                                    "series_id": "CES5553200082",
                                    "industry_code": "32329000",
                                    "industry_name": "NULL",
                                    "value": "306172"
                                },
                                {
                                    "series_id": "CES5553240082",
                                    "industry_code": "41423690",
                                    "industry_name": "NULL",
                                    "value": "113348"
                                },
                                {
                                    "series_id": "CEU5500000081",
                                    "industry_code": "41424480",
                                    "industry_name": "Fruits and vegetables",
                                    "value": "243686"
                                },
                                {
                                    "series_id": "CEU5500000082",
                                    "industry_code": "41424500",
                                    "industry_name": "Farm product raw materials",
                                    "value": "6467426"
                                },
                                {
                                    "series_id": "CEU5552200082",
                                    "industry_code": "41424920",
                                    "industry_name": "Books and periodicals",
                                    "value": "1767137"
                                },
                                {
                                    "series_id": "CEU5552210082",
                                    "industry_code": "42441110",
                                    "industry_name": "New car dealers",
                                    "value": "1004069"
                                },
                                {
                                    "series_id": "CEU5552211082",
                                    "industry_code": "42442100",
                                    "industry_name": "Furniture stores",
                                    "value": "771223"
                                },
                                {
                                    "series_id": "CEU5552219082",
                                    "industry_code": "42445110",
                                    "industry_name": "Supermarkets and other grocery stores",
                                    "value": "160959"
                                },
                                {
                                    "series_id": "CEU5552220082",
                                    "industry_code": "42446120",
                                    "industry_name": "Cosmetic and beauty supply stores",
                                    "value": "516071"
                                },
                                {
                                    "series_id": "CEU5552229282",
                                    "industry_code": "42451000",
                                    "industry_name": "Sporting goods",
                                    "value": "248400"
                                },
                                {
                                    "series_id": "CEU5552230082",
                                    "industry_code": "42452111",
                                    "industry_name": "Department stores",
                                    "value": "246637"
                                },
                                {
                                    "series_id": "CEU5552232082",
                                    "industry_code": "42453220",
                                    "industry_name": "Gift",
                                    "value": "121140"
                                },
                                {
                                    "series_id": "CEU5552300082",
                                    "industry_code": "42454113",
                                    "industry_name": "Mail-order houses",
                                    "value": "1087325"
                                },
                                {
                                    "series_id": "CEU5552312082",
                                    "industry_code": "43482000",
                                    "industry_name": "Rail transportation",
                                    "value": "309096"
                                },
                                {
                                    "series_id": "CEU5552320082",
                                    "industry_code": "43484210",
                                    "industry_name": "Used household and office goods moving",
                                    "value": "560047"
                                },
                                {
                                    "series_id": "CEU5552390082",
                                    "industry_code": "43485900",
                                    "industry_name": "Other ground passenger transportation",
                                    "value": "526887"
                                },
                                {
                                    "series_id": "CEU5552392082",
                                    "industry_code": "43488400",
                                    "industry_name": "Support activities for road transportation",
                                    "value": "228421"
                                },
                                {
                                    "series_id": "CEU5552393082",
                                    "industry_code": "43493120",
                                    "industry_name": "Refrigerated warehousing and storage",
                                    "value": "198865"
                                },
                                {
                                    "series_id": "CEU5552400081",
                                    "industry_code": "44221121",
                                    "industry_name": "Electric bulk power transmission and control",
                                    "value": "82624"
                                },
                                {
                                    "series_id": "CEU5552400082",
                                    "industry_code": "44221122",
                                    "industry_name": "Electric power distribution",
                                    "value": "2408490"
                                },
                                {
                                    "series_id": "CEU5552410082",
                                    "industry_code": "50511190",
                                    "industry_name": "NULL",
                                    "value": "1509979"
                                },
                                {
                                    "series_id": "CEU5552411082",
                                    "industry_code": "50515200",
                                    "industry_name": "Cable and other subscription programming",
                                    "value": "782455"
                                },
                                {
                                    "series_id": "CEU5552412082",
                                    "industry_code": "50519190",
                                    "industry_name": "NULL",
                                    "value": "692782"
                                },
                                {
                                    "series_id": "CEU5552420082",
                                    "industry_code": "55522320",
                                    "industry_name": "Financial transaction processing and clearing",
                                    "value": "894878"
                                },
                                {
                                    "series_id": "CEU5552421082",
                                    "industry_code": "55523990",
                                    "industry_name": "All other financial investment activities",
                                    "value": "599011"
                                },
                                {
                                    "series_id": "CEU5552429082",
                                    "industry_code": "55524130",
                                    "industry_name": "Reinsurance carriers",
                                    "value": "296613"
                                },
                                {
                                    "series_id": "CEU5552429282",
                                    "industry_code": "55531100",
                                    "industry_name": "Lessors of real estate",
                                    "value": "162870"
                                },
                                {
                                    "series_id": "CEU5553100082",
                                    "industry_code": "55531312",
                                    "industry_name": "Nonresidential property managers",
                                    "value": "865620"
                                },
                                {
                                    "series_id": "CEU5553110082",
                                    "industry_code": "55532290",
                                    "industry_name": "NULL",
                                    "value": "288038"
                                },
                                {
                                    "series_id": "CEU5553111082",
                                    "industry_code": "60541100",
                                    "industry_name": "Legal services",
                                    "value": "175180"
                                },
                                {
                                    "series_id": "CEU5553120082",
                                    "industry_code": "60541500",
                                    "industry_name": "Computer systems design and related services",
                                    "value": "165834"
                                },
                                {
                                    "series_id": "CEU5553130082",
                                    "industry_code": "60541613",
                                    "industry_name": "Marketing consulting services",
                                    "value": "411336"
                                },
                                {
                                    "series_id": "CEU5553131082",
                                    "industry_code": "60541720",
                                    "industry_name": "Social science and humanities research",
                                    "value": "340939"
                                },
                                {
                                    "series_id": "CEU5553131182",
                                    "industry_code": "60541910",
                                    "industry_name": "Marketing research and public opinion polling",
                                    "value": "228519"
                                },
                                {
                                    "series_id": "CEU5553131282",
                                    "industry_code": "60561100",
                                    "industry_name": "Office administrative services",
                                    "value": "112528"
                                },
                                {
                                    "series_id": "CEU5553200082",
                                    "industry_code": "60561410",
                                    "industry_name": "Document preparation services",
                                    "value": "293971"
                                },
                                {
                                    "series_id": "CEU5553240082",
                                    "industry_code": "60562000",
                                    "industry_name": "Waste management and remediation services",
                                    "value": "112000"
                                }
                            ]
                        },
                        "text/html": [
                            "<table>",
                            "<tr><th>series_id</th><th>industry_code</th><th>industry_name</th><th>value</th></tr>",
                            "<tr><td>CES5500000081</td><td>10210000</td><td>Mining</td><td>240920</td></tr>",
                            "<tr><td>CES5500000082</td><td>10211000</td><td>Oil and gas extraction</td><td>6328968</td></tr>",
                            "<tr><td>CES5552200082</td><td>10212319</td><td>NULL</td><td>1717912</td></tr>",
                            "<tr><td>CES5552210082</td><td>20236115</td><td>New single-family general contractors</td><td>971796</td></tr>",
                            "<tr><td>CES5552211082</td><td>20237110</td><td>Water and sewer system construction</td><td>740634</td></tr>",
                            "<tr><td>CES5552219082</td><td>20238170</td><td>Siding contractors</td><td>158344</td></tr>",
                            "<tr><td>CES5552220082</td><td>20238301</td><td>Residential building finishing contractors</td><td>499427</td></tr>",
                            "<tr><td>CES5552229282</td><td>31321212</td><td>NULL</td><td>234640</td></tr>",
                            "<tr><td>CES5552230082</td><td>31327100</td><td>Clay products and refractories</td><td>236531</td></tr>",
                            "<tr><td>CES5552232082</td><td>31331100</td><td>Iron and steel mills and ferroalloy production</td><td>118224</td></tr>",
                            "<tr><td>CES5552300082</td><td>31332100</td><td>Forging and stamping</td><td>1044224</td></tr>",
                            "<tr><td>CES5552312082</td><td>31332323</td><td>Ornamental and architectural metal work</td><td>300715</td></tr>",
                            "<tr><td>CES5552320082</td><td>31332812</td><td>NULL</td><td>536728</td></tr>",
                            "<tr><td>CES5552390082</td><td>31333000</td><td>Machinery</td><td>509013</td></tr>",
                            "<tr><td>CES5552392082</td><td>31333415</td><td>AC</td><td>221354</td></tr>",
                            "<tr><td>CES5552393082</td><td>31333920</td><td>Material handling equipment</td><td>192094</td></tr>",
                            "<tr><td>CES5552400081</td><td>31334220</td><td>Broadcast and wireless communications equipment</td><td>81335</td></tr>",
                            "<tr><td>CES5552400082</td><td>31334400</td><td>Semiconductors and electronic components</td><td>2347328</td></tr>",
                            "<tr><td>CES5552410082</td><td>31334515</td><td>Electricity and signal testing instruments</td><td>1477799</td></tr>",
                            "<tr><td>CES5552411082</td><td>31335314</td><td>NULL</td><td>760905</td></tr>",
                            "<tr><td>CES5552412082</td><td>31336111</td><td>Automobiles</td><td>683445</td></tr>",
                            "<tr><td>CES5552420082</td><td>31336413</td><td>Other aircraft parts and equipment</td><td>872398</td></tr>",
                            "<tr><td>CES5552421082</td><td>31337120</td><td>Other household and institutional furniture</td><td>583035</td></tr>",
                            "<tr><td>CES5552429082</td><td>31339000</td><td>Miscellaneous durable goods manufacturing</td><td>289426</td></tr>",
                            "<tr><td>CES5552429282</td><td>31339990</td><td>NULL</td><td>156594</td></tr>",
                            "<tr><td>CES5553100082</td><td>32311400</td><td>Fruit and vegetable preserving and specialty</td><td>862987</td></tr>",
                            "<tr><td>CES5553110082</td><td>32311613</td><td>NULL</td><td>290168</td></tr>",
                            "<tr><td>CES5553111082</td><td>32311910</td><td>Snack food</td><td>175663</td></tr>",
                            "<tr><td>CES5553112082</td><td>32314900</td><td>Other textile product mills</td><td>81524</td></tr>",
                            "<tr><td>CES5553120082</td><td>32322100</td><td>Pulp</td><td>165883</td></tr>",
                            "<tr><td>CES5553130082</td><td>32323000</td><td>Printing and related support activities</td><td>406456</td></tr>",
                            "<tr><td>CES5553131082</td><td>32325100</td><td>Basic chemicals</td><td>336343</td></tr>",
                            "<tr><td>CES5553131182</td><td>32325414</td><td>NULL</td><td>227293</td></tr>",
                            "<tr><td>CES5553131282</td><td>32326110</td><td>Plastics packaging materials</td><td>109556</td></tr>",
                            "<tr><td>CES5553200082</td><td>32329000</td><td>NULL</td><td>306172</td></tr>",
                            "<tr><td>CES5553240082</td><td>41423690</td><td>NULL</td><td>113348</td></tr>",
                            "<tr><td>CEU5500000081</td><td>41424480</td><td>Fruits and vegetables</td><td>243686</td></tr>",
                            "<tr><td>CEU5500000082</td><td>41424500</td><td>Farm product raw materials</td><td>6467426</td></tr>",
                            "<tr><td>CEU5552200082</td><td>41424920</td><td>Books and periodicals</td><td>1767137</td></tr>",
                            "<tr><td>CEU5552210082</td><td>42441110</td><td>New car dealers</td><td>1004069</td></tr>",
                            "<tr><td>CEU5552211082</td><td>42442100</td><td>Furniture stores</td><td>771223</td></tr>",
                            "<tr><td>CEU5552219082</td><td>42445110</td><td>Supermarkets and other grocery stores</td><td>160959</td></tr>",
                            "<tr><td>CEU5552220082</td><td>42446120</td><td>Cosmetic and beauty supply stores</td><td>516071</td></tr>",
                            "<tr><td>CEU5552229282</td><td>42451000</td><td>Sporting goods</td><td>248400</td></tr>",
                            "<tr><td>CEU5552230082</td><td>42452111</td><td>Department stores</td><td>246637</td></tr>",
                            "<tr><td>CEU5552232082</td><td>42453220</td><td>Gift</td><td>121140</td></tr>",
                            "<tr><td>CEU5552300082</td><td>42454113</td><td>Mail-order houses</td><td>1087325</td></tr>",
                            "<tr><td>CEU5552312082</td><td>43482000</td><td>Rail transportation</td><td>309096</td></tr>",
                            "<tr><td>CEU5552320082</td><td>43484210</td><td>Used household and office goods moving</td><td>560047</td></tr>",
                            "<tr><td>CEU5552390082</td><td>43485900</td><td>Other ground passenger transportation</td><td>526887</td></tr>",
                            "<tr><td>CEU5552392082</td><td>43488400</td><td>Support activities for road transportation</td><td>228421</td></tr>",
                            "<tr><td>CEU5552393082</td><td>43493120</td><td>Refrigerated warehousing and storage</td><td>198865</td></tr>",
                            "<tr><td>CEU5552400081</td><td>44221121</td><td>Electric bulk power transmission and control</td><td>82624</td></tr>",
                            "<tr><td>CEU5552400082</td><td>44221122</td><td>Electric power distribution</td><td>2408490</td></tr>",
                            "<tr><td>CEU5552410082</td><td>50511190</td><td>NULL</td><td>1509979</td></tr>",
                            "<tr><td>CEU5552411082</td><td>50515200</td><td>Cable and other subscription programming</td><td>782455</td></tr>",
                            "<tr><td>CEU5552412082</td><td>50519190</td><td>NULL</td><td>692782</td></tr>",
                            "<tr><td>CEU5552420082</td><td>55522320</td><td>Financial transaction processing and clearing</td><td>894878</td></tr>",
                            "<tr><td>CEU5552421082</td><td>55523990</td><td>All other financial investment activities</td><td>599011</td></tr>",
                            "<tr><td>CEU5552429082</td><td>55524130</td><td>Reinsurance carriers</td><td>296613</td></tr>",
                            "<tr><td>CEU5552429282</td><td>55531100</td><td>Lessors of real estate</td><td>162870</td></tr>",
                            "<tr><td>CEU5553100082</td><td>55531312</td><td>Nonresidential property managers</td><td>865620</td></tr>",
                            "<tr><td>CEU5553110082</td><td>55532290</td><td>NULL</td><td>288038</td></tr>",
                            "<tr><td>CEU5553111082</td><td>60541100</td><td>Legal services</td><td>175180</td></tr>",
                            "<tr><td>CEU5553120082</td><td>60541500</td><td>Computer systems design and related services</td><td>165834</td></tr>",
                            "<tr><td>CEU5553130082</td><td>60541613</td><td>Marketing consulting services</td><td>411336</td></tr>",
                            "<tr><td>CEU5553131082</td><td>60541720</td><td>Social science and humanities research</td><td>340939</td></tr>",
                            "<tr><td>CEU5553131182</td><td>60541910</td><td>Marketing research and public opinion polling</td><td>228519</td></tr>",
                            "<tr><td>CEU5553131282</td><td>60561100</td><td>Office administrative services</td><td>112528</td></tr>",
                            "<tr><td>CEU5553200082</td><td>60561410</td><td>Document preparation services</td><td>293971</td></tr>",
                            "<tr><td>CEU5553240082</td><td>60562000</td><td>Waste management and remediation services</td><td>112000</td></tr>",
                            "</table>"
                        ]
                    }
                }
            ],
            "execution_count": 81
        },
        {
            "cell_type": "code",
            "source": [
                "SELECT TOP 10 series_title FROM LaborStatisticsDB.dbo.series\n",
                "GROUP BY series_title"
            ],
            "metadata": {
                "language": "sql",
                "azdata_cell_guid": "a99b7ffe-f5df-44d7-a0cf-854878b93e30"
            },
            "outputs": [
                {
                    "output_type": "display_data",
                    "data": {
                        "text/html": "(10 rows affected)"
                    },
                    "metadata": {}
                },
                {
                    "output_type": "display_data",
                    "data": {
                        "text/html": "Total execution time: 00:00:00.034"
                    },
                    "metadata": {}
                },
                {
                    "output_type": "execute_result",
                    "metadata": {},
                    "execution_count": 86,
                    "data": {
                        "application/vnd.dataresource+json": {
                            "schema": {
                                "fields": [
                                    {
                                        "name": "series_title"
                                    }
                                ]
                            },
                            "data": [
                                {
                                    "series_title": "All employees"
                                },
                                {
                                    "series_title": "Women employees"
                                },
                                {
                                    "series_title": "Average weekly hours of all employees"
                                },
                                {
                                    "series_title": "Average hourly earnings of all employees"
                                },
                                {
                                    "series_title": "Production and nonsupervisory employees"
                                },
                                {
                                    "series_title": "Average weekly hours of production and nonsupervisory employees"
                                },
                                {
                                    "series_title": "Average hourly earnings of production and nonsupervisory employees"
                                },
                                {
                                    "series_title": "Average weekly earnings of all employees"
                                },
                                {
                                    "series_title": "Indexes of aggregate weekly hours of all employees"
                                },
                                {
                                    "series_title": "Indexes of aggregate weekly payrolls of all employees"
                                }
                            ]
                        },
                        "text/html": [
                            "<table>",
                            "<tr><th>series_title</th></tr>",
                            "<tr><td>All employees</td></tr>",
                            "<tr><td>Women employees</td></tr>",
                            "<tr><td>Average weekly hours of all employees</td></tr>",
                            "<tr><td>Average hourly earnings of all employees</td></tr>",
                            "<tr><td>Production and nonsupervisory employees</td></tr>",
                            "<tr><td>Average weekly hours of production and nonsupervisory employees</td></tr>",
                            "<tr><td>Average hourly earnings of production and nonsupervisory employees</td></tr>",
                            "<tr><td>Average weekly earnings of all employees</td></tr>",
                            "<tr><td>Indexes of aggregate weekly hours of all employees</td></tr>",
                            "<tr><td>Indexes of aggregate weekly payrolls of all employees</td></tr>",
                            "</table>"
                        ]
                    }
                }
            ],
            "execution_count": 86
        },
        {
            "cell_type": "code",
            "source": [
                "SELECT TOP 10 data_type_text FROM LaborStatisticsDB.dbo.datatype\n",
                "GROUP BY data_type_text"
            ],
            "metadata": {
                "language": "sql",
                "azdata_cell_guid": "5ccbd44b-073f-46bc-a576-9bc234fc6ac3",
                "tags": [
                    "hide_input"
                ]
            },
            "outputs": [
                {
                    "output_type": "display_data",
                    "data": {
                        "text/html": "(10 rows affected)"
                    },
                    "metadata": {}
                },
                {
                    "output_type": "display_data",
                    "data": {
                        "text/html": "Total execution time: 00:00:00.034"
                    },
                    "metadata": {}
                },
                {
                    "output_type": "execute_result",
                    "metadata": {},
                    "execution_count": 87,
                    "data": {
                        "application/vnd.dataresource+json": {
                            "schema": {
                                "fields": [
                                    {
                                        "name": "data_type_text"
                                    }
                                ]
                            },
                            "data": [
                                {
                                    "data_type_text": "12-MONTH CONFIDENCE INTERVAL"
                                },
                                {
                                    "data_type_text": "1-MONTH CONFIDENCE INTERVAL"
                                },
                                {
                                    "data_type_text": "3-MONTH CONFIDENCE INTERVAL"
                                },
                                {
                                    "data_type_text": "6-MONTH CONFIDENCE INTERVAL"
                                },
                                {
                                    "data_type_text": "AGGREGATE WEEKLY HOURS OF ALL EMPLOYEES"
                                },
                                {
                                    "data_type_text": "AGGREGATE WEEKLY HOURS OF PRODUCTION AND NONSUPERVISORY EMPLOYEES"
                                },
                                {
                                    "data_type_text": "AGGREGATE WEEKLY OVERTIME HOURS OF ALL EMPLOYEES"
                                },
                                {
                                    "data_type_text": "AGGREGATE WEEKLY OVERTIME HOURS OF PRODUCTION AND NONSUPERVISORY EMPLOYEES"
                                },
                                {
                                    "data_type_text": "AGGREGATE WEEKLY PAYROLLS OF ALL EMPLOYEES"
                                },
                                {
                                    "data_type_text": "AGGREGATE WEEKLY PAYROLLS OF PRODUCTION AND NONSUPERVISORY EMPLOYEES"
                                }
                            ]
                        },
                        "text/html": [
                            "<table>",
                            "<tr><th>data_type_text</th></tr>",
                            "<tr><td>12-MONTH CONFIDENCE INTERVAL</td></tr>",
                            "<tr><td>1-MONTH CONFIDENCE INTERVAL</td></tr>",
                            "<tr><td>3-MONTH CONFIDENCE INTERVAL</td></tr>",
                            "<tr><td>6-MONTH CONFIDENCE INTERVAL</td></tr>",
                            "<tr><td>AGGREGATE WEEKLY HOURS OF ALL EMPLOYEES</td></tr>",
                            "<tr><td>AGGREGATE WEEKLY HOURS OF PRODUCTION AND NONSUPERVISORY EMPLOYEES</td></tr>",
                            "<tr><td>AGGREGATE WEEKLY OVERTIME HOURS OF ALL EMPLOYEES</td></tr>",
                            "<tr><td>AGGREGATE WEEKLY OVERTIME HOURS OF PRODUCTION AND NONSUPERVISORY EMPLOYEES</td></tr>",
                            "<tr><td>AGGREGATE WEEKLY PAYROLLS OF ALL EMPLOYEES</td></tr>",
                            "<tr><td>AGGREGATE WEEKLY PAYROLLS OF PRODUCTION AND NONSUPERVISORY EMPLOYEES</td></tr>",
                            "</table>"
                        ]
                    }
                }
            ],
            "execution_count": 87
        },
        {
            "cell_type": "markdown",
            "source": [
                "2. <span style=\"background-color: rgb(255, 255, 255); font-size: 10pt; white-space: pre-wrap; color: rgb(102, 102, 102); font-family: Arvo, serif;\">Create a Union table comparing average weekly earnings&nbsp; of production and nonsupervisory employees between annual_16 and january_17 using the data type 30.&nbsp; Round to the nearest penny.&nbsp; You should have a column for the average earnings and a column for the year, and the period.</span>"
            ],
            "metadata": {
                "azdata_cell_guid": "1bb0ed09-4b02-4132-910e-5903697628af"
            },
            "attachments": {}
        },
        {
            "cell_type": "code",
            "source": [
                ""
            ],
            "metadata": {
                "azdata_cell_guid": "0841b6d6-9af2-41ba-8e28-dc40d08bd061",
                "language": "sql"
            },
            "outputs": [],
            "execution_count": null
        },
        {
            "cell_type": "markdown",
            "source": [
                "## <span style=\"font-size:12pt;font-family:Montserrat, sans-serif;color:rgb(53, 74, 95);background-color:rgb(255, 255, 255);font-weight:700;vertical-align:baseline;white-space:pre-wrap;\">Summarize Your Results</span>\n",
                "\n",
                "<span style=\"font-size:10pt;font-family:Arvo, serif;color:rgb(102, 102, 102);background-color:rgb(255, 255, 255);vertical-align:baseline;white-space:pre-wrap;\">With what you know now about the </span> <span style=\"background-color:rgb(255, 255, 255);color:rgb(102, 102, 102);font-family:&quot;Times New Roman&quot;;font-size:13.3333px;white-space:pre-wrap;\">Bureau of Labor Statistics (BLS) Current Employment Survey (CES) results and working with the</span> <span style=\"color:rgb(102, 102, 102);white-space:pre-wrap;font-family:&quot;Times New Roman&quot;;font-size:13.3333px;\">Labor Statistics Database</span><span style=\"background-color:rgb(255, 255, 255);color:rgb(102, 102, 102);font-family:Arvo, serif;font-size:10pt;white-space:pre-wrap;\">, answer the following questions. Note that while this is subjective, you should include relevant data to back up your opinion.</span>\n",
                "\n",
                "1. <span style=\"background-color:rgb(255, 255, 255);font-size:10pt;white-space:pre-wrap;color:rgb(102, 102, 102);font-family:Arvo, serif;\">During which time period did production and nonsupervisory employees fare better?</span>"
            ],
            "metadata": {
                "azdata_cell_guid": "780f65a6-b9e7-4f24-9132-293c47f559e8"
            },
            "attachments": {}
        },
        {
            "cell_type": "markdown",
            "source": [
                "Double click here to add your answer"
            ],
            "metadata": {
                "azdata_cell_guid": "f11f1fb2-f7d1-41e5-bc9c-84087d7cfc93"
            },
            "attachments": {}
        },
        {
            "cell_type": "markdown",
            "source": [
                "2. <span style=\"background-color: rgb(255, 255, 255); font-size: 10pt; white-space: pre-wrap; color: rgb(102, 102, 102); font-family: Arvo, serif;\">In which industries did production and nonsupervisory employees fare better?</span>"
            ],
            "metadata": {
                "azdata_cell_guid": "f606e5e5-f6f1-4070-bbfa-e31617b43e56"
            },
            "attachments": {}
        },
        {
            "cell_type": "markdown",
            "source": [
                "Double click here to add your answer."
            ],
            "metadata": {
                "azdata_cell_guid": "94e18f5d-b87b-4ba6-b1fd-bde035dafc04"
            },
            "attachments": {}
        },
        {
            "cell_type": "markdown",
            "source": [
                "3. <span style=\"font-size: 10pt; font-family: Arvo, serif; color: rgb(102, 102, 102); background-color: rgb(255, 255, 255); font-variant-numeric: normal; font-variant-east-asian: normal; vertical-align: baseline; white-space: pre-wrap;\">Now that you have explored the datasets, is there any data or information that you wish you had in this analysis?</span>"
            ],
            "metadata": {
                "azdata_cell_guid": "101e4449-601a-46c6-b217-23f3339cfa76"
            },
            "attachments": {}
        },
        {
            "cell_type": "markdown",
            "source": [
                "Double click here to add your answer."
            ],
            "metadata": {
                "azdata_cell_guid": "d07e9180-f5e0-49b4-b395-2c6c8a5f8aac"
            },
            "attachments": {}
        }
    ]
}